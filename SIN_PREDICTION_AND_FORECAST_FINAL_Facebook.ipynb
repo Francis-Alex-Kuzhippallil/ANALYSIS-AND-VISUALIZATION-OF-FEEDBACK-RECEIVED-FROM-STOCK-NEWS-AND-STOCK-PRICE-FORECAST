{
  "nbformat": 4,
  "nbformat_minor": 0,
  "metadata": {
    "colab": {
      "name": "SIN PREDICTION AND FORECAST FINAL Facebook.ipynb",
      "provenance": [],
      "collapsed_sections": []
    },
    "kernelspec": {
      "name": "python3",
      "display_name": "Python 3"
    },
    "language_info": {
      "name": "python"
    }
  },
  "cells": [
    {
      "cell_type": "markdown",
      "metadata": {
        "id": "6gc2-uucf-9J"
      },
      "source": [
        "**IMPORTING LIBRARIES**"
      ]
    },
    {
      "cell_type": "code",
      "metadata": {
        "id": "y-W0UUeRf5lI"
      },
      "source": [
        "import numpy as np\n",
        "import pandas as pd\n",
        "import datetime\n",
        "\n",
        "%matplotlib inline\n",
        "import matplotlib.pyplot as plt\n",
        "import seaborn as sns\n",
        "plt.style.use('seaborn-darkgrid')\n",
        "plt.rc('figure', figsize=(16,10))\n",
        "plt.rc('lines', markersize=4)\n",
        "import pandas_datareader as web"
      ],
      "execution_count": 1,
      "outputs": []
    },
    {
      "cell_type": "markdown",
      "metadata": {
        "id": "80qDjskhgUX_"
      },
      "source": [
        "**READING DATA FROM YAHOO FINANCE SOURCE**"
      ]
    },
    {
      "cell_type": "code",
      "metadata": {
        "colab": {
          "base_uri": "https://localhost:8080/",
          "height": 450
        },
        "id": "v7WrYMIGgPmb",
        "outputId": "8d99cd47-79a9-45ef-d007-729bca91b97d"
      },
      "source": [
        "data=web.DataReader('FB',data_source='yahoo',start='2012-01-01',end='2021-05-15')\n",
        "data\n"
      ],
      "execution_count": 2,
      "outputs": [
        {
          "output_type": "execute_result",
          "data": {
            "text/html": [
              "<div>\n",
              "<style scoped>\n",
              "    .dataframe tbody tr th:only-of-type {\n",
              "        vertical-align: middle;\n",
              "    }\n",
              "\n",
              "    .dataframe tbody tr th {\n",
              "        vertical-align: top;\n",
              "    }\n",
              "\n",
              "    .dataframe thead th {\n",
              "        text-align: right;\n",
              "    }\n",
              "</style>\n",
              "<table border=\"1\" class=\"dataframe\">\n",
              "  <thead>\n",
              "    <tr style=\"text-align: right;\">\n",
              "      <th></th>\n",
              "      <th>High</th>\n",
              "      <th>Low</th>\n",
              "      <th>Open</th>\n",
              "      <th>Close</th>\n",
              "      <th>Volume</th>\n",
              "      <th>Adj Close</th>\n",
              "    </tr>\n",
              "    <tr>\n",
              "      <th>Date</th>\n",
              "      <th></th>\n",
              "      <th></th>\n",
              "      <th></th>\n",
              "      <th></th>\n",
              "      <th></th>\n",
              "      <th></th>\n",
              "    </tr>\n",
              "  </thead>\n",
              "  <tbody>\n",
              "    <tr>\n",
              "      <th>2012-05-18</th>\n",
              "      <td>45.000000</td>\n",
              "      <td>38.000000</td>\n",
              "      <td>42.049999</td>\n",
              "      <td>38.230000</td>\n",
              "      <td>573576400</td>\n",
              "      <td>38.230000</td>\n",
              "    </tr>\n",
              "    <tr>\n",
              "      <th>2012-05-21</th>\n",
              "      <td>36.660000</td>\n",
              "      <td>33.000000</td>\n",
              "      <td>36.529999</td>\n",
              "      <td>34.029999</td>\n",
              "      <td>168192700</td>\n",
              "      <td>34.029999</td>\n",
              "    </tr>\n",
              "    <tr>\n",
              "      <th>2012-05-22</th>\n",
              "      <td>33.590000</td>\n",
              "      <td>30.940001</td>\n",
              "      <td>32.610001</td>\n",
              "      <td>31.000000</td>\n",
              "      <td>101786600</td>\n",
              "      <td>31.000000</td>\n",
              "    </tr>\n",
              "    <tr>\n",
              "      <th>2012-05-23</th>\n",
              "      <td>32.500000</td>\n",
              "      <td>31.360001</td>\n",
              "      <td>31.370001</td>\n",
              "      <td>32.000000</td>\n",
              "      <td>73600000</td>\n",
              "      <td>32.000000</td>\n",
              "    </tr>\n",
              "    <tr>\n",
              "      <th>2012-05-24</th>\n",
              "      <td>33.209999</td>\n",
              "      <td>31.770000</td>\n",
              "      <td>32.950001</td>\n",
              "      <td>33.029999</td>\n",
              "      <td>50237200</td>\n",
              "      <td>33.029999</td>\n",
              "    </tr>\n",
              "    <tr>\n",
              "      <th>...</th>\n",
              "      <td>...</td>\n",
              "      <td>...</td>\n",
              "      <td>...</td>\n",
              "      <td>...</td>\n",
              "      <td>...</td>\n",
              "      <td>...</td>\n",
              "    </tr>\n",
              "    <tr>\n",
              "      <th>2021-05-10</th>\n",
              "      <td>314.579987</td>\n",
              "      <td>304.829987</td>\n",
              "      <td>314.350006</td>\n",
              "      <td>305.970001</td>\n",
              "      <td>24239200</td>\n",
              "      <td>305.970001</td>\n",
              "    </tr>\n",
              "    <tr>\n",
              "      <th>2021-05-11</th>\n",
              "      <td>306.839996</td>\n",
              "      <td>299.690002</td>\n",
              "      <td>300.750000</td>\n",
              "      <td>306.529999</td>\n",
              "      <td>18920100</td>\n",
              "      <td>306.529999</td>\n",
              "    </tr>\n",
              "    <tr>\n",
              "      <th>2021-05-12</th>\n",
              "      <td>304.959991</td>\n",
              "      <td>298.190002</td>\n",
              "      <td>301.130005</td>\n",
              "      <td>302.549988</td>\n",
              "      <td>24645500</td>\n",
              "      <td>302.549988</td>\n",
              "    </tr>\n",
              "    <tr>\n",
              "      <th>2021-05-13</th>\n",
              "      <td>308.859985</td>\n",
              "      <td>302.769989</td>\n",
              "      <td>306.079987</td>\n",
              "      <td>305.260010</td>\n",
              "      <td>18068800</td>\n",
              "      <td>305.260010</td>\n",
              "    </tr>\n",
              "    <tr>\n",
              "      <th>2021-05-14</th>\n",
              "      <td>313.621796</td>\n",
              "      <td>309.079987</td>\n",
              "      <td>309.540009</td>\n",
              "      <td>312.700012</td>\n",
              "      <td>8016993</td>\n",
              "      <td>312.700012</td>\n",
              "    </tr>\n",
              "  </tbody>\n",
              "</table>\n",
              "<p>2262 rows × 6 columns</p>\n",
              "</div>"
            ],
            "text/plain": [
              "                  High         Low  ...     Volume   Adj Close\n",
              "Date                                ...                       \n",
              "2012-05-18   45.000000   38.000000  ...  573576400   38.230000\n",
              "2012-05-21   36.660000   33.000000  ...  168192700   34.029999\n",
              "2012-05-22   33.590000   30.940001  ...  101786600   31.000000\n",
              "2012-05-23   32.500000   31.360001  ...   73600000   32.000000\n",
              "2012-05-24   33.209999   31.770000  ...   50237200   33.029999\n",
              "...                ...         ...  ...        ...         ...\n",
              "2021-05-10  314.579987  304.829987  ...   24239200  305.970001\n",
              "2021-05-11  306.839996  299.690002  ...   18920100  306.529999\n",
              "2021-05-12  304.959991  298.190002  ...   24645500  302.549988\n",
              "2021-05-13  308.859985  302.769989  ...   18068800  305.260010\n",
              "2021-05-14  313.621796  309.079987  ...    8016993  312.700012\n",
              "\n",
              "[2262 rows x 6 columns]"
            ]
          },
          "metadata": {
            "tags": []
          },
          "execution_count": 2
        }
      ]
    },
    {
      "cell_type": "markdown",
      "metadata": {
        "id": "qKHfkD56gqgW"
      },
      "source": [
        "**STATISTICAL DESCRIPTION OF DATA**"
      ]
    },
    {
      "cell_type": "code",
      "metadata": {
        "colab": {
          "base_uri": "https://localhost:8080/"
        },
        "id": "_mHPDfETgoif",
        "outputId": "845c25e7-8fd2-4c23-86d7-3eb43e887afb"
      },
      "source": [
        "data.info()"
      ],
      "execution_count": 3,
      "outputs": [
        {
          "output_type": "stream",
          "text": [
            "<class 'pandas.core.frame.DataFrame'>\n",
            "DatetimeIndex: 2262 entries, 2012-05-18 to 2021-05-14\n",
            "Data columns (total 6 columns):\n",
            " #   Column     Non-Null Count  Dtype  \n",
            "---  ------     --------------  -----  \n",
            " 0   High       2262 non-null   float64\n",
            " 1   Low        2262 non-null   float64\n",
            " 2   Open       2262 non-null   float64\n",
            " 3   Close      2262 non-null   float64\n",
            " 4   Volume     2262 non-null   int64  \n",
            " 5   Adj Close  2262 non-null   float64\n",
            "dtypes: float64(5), int64(1)\n",
            "memory usage: 123.7 KB\n"
          ],
          "name": "stdout"
        }
      ]
    },
    {
      "cell_type": "code",
      "metadata": {
        "colab": {
          "base_uri": "https://localhost:8080/",
          "height": 297
        },
        "id": "PiSCbrAnhAdh",
        "outputId": "69445613-d291-491b-e3ba-2fcdbb7b0f41"
      },
      "source": [
        "data.describe()"
      ],
      "execution_count": 4,
      "outputs": [
        {
          "output_type": "execute_result",
          "data": {
            "text/html": [
              "<div>\n",
              "<style scoped>\n",
              "    .dataframe tbody tr th:only-of-type {\n",
              "        vertical-align: middle;\n",
              "    }\n",
              "\n",
              "    .dataframe tbody tr th {\n",
              "        vertical-align: top;\n",
              "    }\n",
              "\n",
              "    .dataframe thead th {\n",
              "        text-align: right;\n",
              "    }\n",
              "</style>\n",
              "<table border=\"1\" class=\"dataframe\">\n",
              "  <thead>\n",
              "    <tr style=\"text-align: right;\">\n",
              "      <th></th>\n",
              "      <th>High</th>\n",
              "      <th>Low</th>\n",
              "      <th>Open</th>\n",
              "      <th>Close</th>\n",
              "      <th>Volume</th>\n",
              "      <th>Adj Close</th>\n",
              "    </tr>\n",
              "  </thead>\n",
              "  <tbody>\n",
              "    <tr>\n",
              "      <th>count</th>\n",
              "      <td>2262.000000</td>\n",
              "      <td>2262.000000</td>\n",
              "      <td>2262.000000</td>\n",
              "      <td>2262.000000</td>\n",
              "      <td>2.262000e+03</td>\n",
              "      <td>2262.000000</td>\n",
              "    </tr>\n",
              "    <tr>\n",
              "      <th>mean</th>\n",
              "      <td>132.122154</td>\n",
              "      <td>129.001388</td>\n",
              "      <td>130.579655</td>\n",
              "      <td>130.608727</td>\n",
              "      <td>3.165358e+07</td>\n",
              "      <td>130.608727</td>\n",
              "    </tr>\n",
              "    <tr>\n",
              "      <th>std</th>\n",
              "      <td>74.726152</td>\n",
              "      <td>72.923375</td>\n",
              "      <td>73.812884</td>\n",
              "      <td>73.844592</td>\n",
              "      <td>2.813507e+07</td>\n",
              "      <td>73.844592</td>\n",
              "    </tr>\n",
              "    <tr>\n",
              "      <th>min</th>\n",
              "      <td>18.270000</td>\n",
              "      <td>17.549999</td>\n",
              "      <td>18.080000</td>\n",
              "      <td>17.730000</td>\n",
              "      <td>5.913100e+06</td>\n",
              "      <td>17.730000</td>\n",
              "    </tr>\n",
              "    <tr>\n",
              "      <th>25%</th>\n",
              "      <td>74.567501</td>\n",
              "      <td>73.062498</td>\n",
              "      <td>74.000000</td>\n",
              "      <td>73.754999</td>\n",
              "      <td>1.614525e+07</td>\n",
              "      <td>73.754999</td>\n",
              "    </tr>\n",
              "    <tr>\n",
              "      <th>50%</th>\n",
              "      <td>128.334999</td>\n",
              "      <td>125.820000</td>\n",
              "      <td>126.759998</td>\n",
              "      <td>126.830002</td>\n",
              "      <td>2.304425e+07</td>\n",
              "      <td>126.830002</td>\n",
              "    </tr>\n",
              "    <tr>\n",
              "      <th>75%</th>\n",
              "      <td>181.985004</td>\n",
              "      <td>178.770000</td>\n",
              "      <td>180.507496</td>\n",
              "      <td>180.437496</td>\n",
              "      <td>3.684325e+07</td>\n",
              "      <td>180.437496</td>\n",
              "    </tr>\n",
              "    <tr>\n",
              "      <th>max</th>\n",
              "      <td>331.809998</td>\n",
              "      <td>324.500000</td>\n",
              "      <td>330.119995</td>\n",
              "      <td>329.510010</td>\n",
              "      <td>5.735764e+08</td>\n",
              "      <td>329.510010</td>\n",
              "    </tr>\n",
              "  </tbody>\n",
              "</table>\n",
              "</div>"
            ],
            "text/plain": [
              "              High          Low  ...        Volume    Adj Close\n",
              "count  2262.000000  2262.000000  ...  2.262000e+03  2262.000000\n",
              "mean    132.122154   129.001388  ...  3.165358e+07   130.608727\n",
              "std      74.726152    72.923375  ...  2.813507e+07    73.844592\n",
              "min      18.270000    17.549999  ...  5.913100e+06    17.730000\n",
              "25%      74.567501    73.062498  ...  1.614525e+07    73.754999\n",
              "50%     128.334999   125.820000  ...  2.304425e+07   126.830002\n",
              "75%     181.985004   178.770000  ...  3.684325e+07   180.437496\n",
              "max     331.809998   324.500000  ...  5.735764e+08   329.510010\n",
              "\n",
              "[8 rows x 6 columns]"
            ]
          },
          "metadata": {
            "tags": []
          },
          "execution_count": 4
        }
      ]
    },
    {
      "cell_type": "code",
      "metadata": {
        "colab": {
          "base_uri": "https://localhost:8080/"
        },
        "id": "SvkqOyaohEXo",
        "outputId": "045c7bf5-870f-406a-b30f-7dc26e18799c"
      },
      "source": [
        "data.columns"
      ],
      "execution_count": 5,
      "outputs": [
        {
          "output_type": "execute_result",
          "data": {
            "text/plain": [
              "Index(['High', 'Low', 'Open', 'Close', 'Volume', 'Adj Close'], dtype='object')"
            ]
          },
          "metadata": {
            "tags": []
          },
          "execution_count": 5
        }
      ]
    },
    {
      "cell_type": "code",
      "metadata": {
        "colab": {
          "base_uri": "https://localhost:8080/",
          "height": 235
        },
        "id": "49LQc1u00VXO",
        "outputId": "9d0e6cac-1535-4456-80df-e3c0ec2014ed"
      },
      "source": [
        "data.corr()"
      ],
      "execution_count": 6,
      "outputs": [
        {
          "output_type": "execute_result",
          "data": {
            "text/html": [
              "<div>\n",
              "<style scoped>\n",
              "    .dataframe tbody tr th:only-of-type {\n",
              "        vertical-align: middle;\n",
              "    }\n",
              "\n",
              "    .dataframe tbody tr th {\n",
              "        vertical-align: top;\n",
              "    }\n",
              "\n",
              "    .dataframe thead th {\n",
              "        text-align: right;\n",
              "    }\n",
              "</style>\n",
              "<table border=\"1\" class=\"dataframe\">\n",
              "  <thead>\n",
              "    <tr style=\"text-align: right;\">\n",
              "      <th></th>\n",
              "      <th>High</th>\n",
              "      <th>Low</th>\n",
              "      <th>Open</th>\n",
              "      <th>Close</th>\n",
              "      <th>Volume</th>\n",
              "      <th>Adj Close</th>\n",
              "    </tr>\n",
              "  </thead>\n",
              "  <tbody>\n",
              "    <tr>\n",
              "      <th>High</th>\n",
              "      <td>1.000000</td>\n",
              "      <td>0.999648</td>\n",
              "      <td>0.999765</td>\n",
              "      <td>0.999736</td>\n",
              "      <td>-0.423055</td>\n",
              "      <td>0.999736</td>\n",
              "    </tr>\n",
              "    <tr>\n",
              "      <th>Low</th>\n",
              "      <td>0.999648</td>\n",
              "      <td>1.000000</td>\n",
              "      <td>0.999725</td>\n",
              "      <td>0.999766</td>\n",
              "      <td>-0.432842</td>\n",
              "      <td>0.999766</td>\n",
              "    </tr>\n",
              "    <tr>\n",
              "      <th>Open</th>\n",
              "      <td>0.999765</td>\n",
              "      <td>0.999725</td>\n",
              "      <td>1.000000</td>\n",
              "      <td>0.999500</td>\n",
              "      <td>-0.427529</td>\n",
              "      <td>0.999500</td>\n",
              "    </tr>\n",
              "    <tr>\n",
              "      <th>Close</th>\n",
              "      <td>0.999736</td>\n",
              "      <td>0.999766</td>\n",
              "      <td>0.999500</td>\n",
              "      <td>1.000000</td>\n",
              "      <td>-0.428279</td>\n",
              "      <td>1.000000</td>\n",
              "    </tr>\n",
              "    <tr>\n",
              "      <th>Volume</th>\n",
              "      <td>-0.423055</td>\n",
              "      <td>-0.432842</td>\n",
              "      <td>-0.427529</td>\n",
              "      <td>-0.428279</td>\n",
              "      <td>1.000000</td>\n",
              "      <td>-0.428279</td>\n",
              "    </tr>\n",
              "    <tr>\n",
              "      <th>Adj Close</th>\n",
              "      <td>0.999736</td>\n",
              "      <td>0.999766</td>\n",
              "      <td>0.999500</td>\n",
              "      <td>1.000000</td>\n",
              "      <td>-0.428279</td>\n",
              "      <td>1.000000</td>\n",
              "    </tr>\n",
              "  </tbody>\n",
              "</table>\n",
              "</div>"
            ],
            "text/plain": [
              "               High       Low      Open     Close    Volume  Adj Close\n",
              "High       1.000000  0.999648  0.999765  0.999736 -0.423055   0.999736\n",
              "Low        0.999648  1.000000  0.999725  0.999766 -0.432842   0.999766\n",
              "Open       0.999765  0.999725  1.000000  0.999500 -0.427529   0.999500\n",
              "Close      0.999736  0.999766  0.999500  1.000000 -0.428279   1.000000\n",
              "Volume    -0.423055 -0.432842 -0.427529 -0.428279  1.000000  -0.428279\n",
              "Adj Close  0.999736  0.999766  0.999500  1.000000 -0.428279   1.000000"
            ]
          },
          "metadata": {
            "tags": []
          },
          "execution_count": 6
        }
      ]
    },
    {
      "cell_type": "markdown",
      "metadata": {
        "id": "gqgwcpX2Qxqi"
      },
      "source": [
        "Overall, the adjusted closing price will give you a better idea of the overall value of the stock and help you make informed decisions about buying and selling, while the closing stock price will tell you the exact cash value of a share of stock at the end of the trading day."
      ]
    },
    {
      "cell_type": "code",
      "metadata": {
        "id": "pUetWTGIhIvx"
      },
      "source": [
        "df = pd.DataFrame(data, columns=['Adj Close'])\n",
        "df = df.reset_index()"
      ],
      "execution_count": 7,
      "outputs": []
    },
    {
      "cell_type": "code",
      "metadata": {
        "colab": {
          "base_uri": "https://localhost:8080/",
          "height": 204
        },
        "id": "j2YskMM0iClG",
        "outputId": "b1d99f13-7de1-4d0f-c3bc-933aed547891"
      },
      "source": [
        "df.head()"
      ],
      "execution_count": 8,
      "outputs": [
        {
          "output_type": "execute_result",
          "data": {
            "text/html": [
              "<div>\n",
              "<style scoped>\n",
              "    .dataframe tbody tr th:only-of-type {\n",
              "        vertical-align: middle;\n",
              "    }\n",
              "\n",
              "    .dataframe tbody tr th {\n",
              "        vertical-align: top;\n",
              "    }\n",
              "\n",
              "    .dataframe thead th {\n",
              "        text-align: right;\n",
              "    }\n",
              "</style>\n",
              "<table border=\"1\" class=\"dataframe\">\n",
              "  <thead>\n",
              "    <tr style=\"text-align: right;\">\n",
              "      <th></th>\n",
              "      <th>Date</th>\n",
              "      <th>Adj Close</th>\n",
              "    </tr>\n",
              "  </thead>\n",
              "  <tbody>\n",
              "    <tr>\n",
              "      <th>0</th>\n",
              "      <td>2012-05-18</td>\n",
              "      <td>38.230000</td>\n",
              "    </tr>\n",
              "    <tr>\n",
              "      <th>1</th>\n",
              "      <td>2012-05-21</td>\n",
              "      <td>34.029999</td>\n",
              "    </tr>\n",
              "    <tr>\n",
              "      <th>2</th>\n",
              "      <td>2012-05-22</td>\n",
              "      <td>31.000000</td>\n",
              "    </tr>\n",
              "    <tr>\n",
              "      <th>3</th>\n",
              "      <td>2012-05-23</td>\n",
              "      <td>32.000000</td>\n",
              "    </tr>\n",
              "    <tr>\n",
              "      <th>4</th>\n",
              "      <td>2012-05-24</td>\n",
              "      <td>33.029999</td>\n",
              "    </tr>\n",
              "  </tbody>\n",
              "</table>\n",
              "</div>"
            ],
            "text/plain": [
              "        Date  Adj Close\n",
              "0 2012-05-18  38.230000\n",
              "1 2012-05-21  34.029999\n",
              "2 2012-05-22  31.000000\n",
              "3 2012-05-23  32.000000\n",
              "4 2012-05-24  33.029999"
            ]
          },
          "metadata": {
            "tags": []
          },
          "execution_count": 8
        }
      ]
    },
    {
      "cell_type": "code",
      "metadata": {
        "colab": {
          "base_uri": "https://localhost:8080/"
        },
        "id": "DoLPyygziF8_",
        "outputId": "2b86dbb7-27ee-4829-ee19-a6071adc9242"
      },
      "source": [
        "df.info()"
      ],
      "execution_count": 9,
      "outputs": [
        {
          "output_type": "stream",
          "text": [
            "<class 'pandas.core.frame.DataFrame'>\n",
            "RangeIndex: 2262 entries, 0 to 2261\n",
            "Data columns (total 2 columns):\n",
            " #   Column     Non-Null Count  Dtype         \n",
            "---  ------     --------------  -----         \n",
            " 0   Date       2262 non-null   datetime64[ns]\n",
            " 1   Adj Close  2262 non-null   float64       \n",
            "dtypes: datetime64[ns](1), float64(1)\n",
            "memory usage: 35.5 KB\n"
          ],
          "name": "stdout"
        }
      ]
    },
    {
      "cell_type": "code",
      "metadata": {
        "colab": {
          "base_uri": "https://localhost:8080/"
        },
        "id": "-k8CwYEKiJu6",
        "outputId": "195e6008-9741-4dbd-8639-9775d9dc5343"
      },
      "source": [
        "df.isna().values.any()"
      ],
      "execution_count": 10,
      "outputs": [
        {
          "output_type": "execute_result",
          "data": {
            "text/plain": [
              "False"
            ]
          },
          "metadata": {
            "tags": []
          },
          "execution_count": 10
        }
      ]
    },
    {
      "cell_type": "markdown",
      "metadata": {
        "id": "0QaArmZHiQZr"
      },
      "source": [
        "**VISUALIZATION OF DATA**"
      ]
    },
    {
      "cell_type": "markdown",
      "metadata": {
        "id": "-aktQX7JiUxi"
      },
      "source": [
        "1. Box Plot"
      ]
    },
    {
      "cell_type": "code",
      "metadata": {
        "colab": {
          "base_uri": "https://localhost:8080/",
          "height": 425
        },
        "id": "2bkZfuQ3iMcD",
        "outputId": "00f208a5-0040-4be6-dda0-751d3cf7769a"
      },
      "source": [
        "import seaborn as sns\n",
        "plt.figure(figsize=(20,7))\n",
        "boxplot = data.boxplot(column=['High', 'Low', 'Open','Close','Adj Close'])"
      ],
      "execution_count": 11,
      "outputs": [
        {
          "output_type": "display_data",
          "data": {
            "image/png": "[encoded data removed]",
            "text/plain": [
              "<Figure size 1440x504 with 1 Axes>"
            ]
          },
          "metadata": {
            "tags": [],
            "needs_background": "light"
          }
        }
      ]
    },
    {
      "cell_type": "code",
      "metadata": {
        "colab": {
          "base_uri": "https://localhost:8080/",
          "height": 293
        },
        "id": "z-A-fGAn_Vo4",
        "outputId": "02005da5-8443-4df3-c39a-4d3d1060739c"
      },
      "source": [
        "d = pd.DataFrame(data)\n",
        "import seaborn as sns\n",
        "sns.boxplot(x=d['Volume'])"
      ],
      "execution_count": 12,
      "outputs": [
        {
          "output_type": "execute_result",
          "data": {
            "text/plain": [
              "<matplotlib.axes._subplots.AxesSubplot at 0x7fb3224bed50>"
            ]
          },
          "metadata": {
            "tags": []
          },
          "execution_count": 12
        },
        {
          "output_type": "display_data",
          "data": {
            "image/png": "[encoded data removed]",
            "text/plain": [
              "<Figure size 432x288 with 1 Axes>"
            ]
          },
          "metadata": {
            "tags": [],
            "needs_background": "light"
          }
        }
      ]
    },
    {
      "cell_type": "markdown",
      "metadata": {
        "id": "0PLu3eDE_Z-g"
      },
      "source": [
        "This shows that the volume column contains lot of outlier values which might affect the results of prediction. Hence we remove the volume column itself as part of outlier elimination."
      ]
    },
    {
      "cell_type": "markdown",
      "metadata": {
        "id": "DBez9akgi9jG"
      },
      "source": [
        "2. Visualization of Adjusted Close Price vs Data"
      ]
    },
    {
      "cell_type": "code",
      "metadata": {
        "colab": {
          "base_uri": "https://localhost:8080/",
          "height": 286
        },
        "id": "WUwHqrTIjIbz",
        "outputId": "469406fd-7a8b-4393-f398-424019be028f"
      },
      "source": [
        "import matplotlib.dates as mdates\n",
        "\n",
        "years = mdates.YearLocator() # Get every year\n",
        "yearsFmt = mdates.DateFormatter('%Y') # Set year format\n",
        "\n",
        "# Create subplots to plot graph and control axes\n",
        "fig, ax = plt.subplots()\n",
        "ax.plot(df['Date'], df['Adj Close'])\n",
        "\n",
        "# Format the ticks\n",
        "ax.xaxis.set_major_locator(years)\n",
        "ax.xaxis.set_major_formatter(yearsFmt)\n",
        "\n",
        "# Set figure title\n",
        "plt.title('Adjusted Close Stock Price History [2012 - 2021] For Facebook Data', fontsize=16)\n",
        "# Set x label\n",
        "plt.xlabel('Date', fontsize=14)\n",
        "# Set y label\n",
        "plt.ylabel('Adjusted Closing Stock Price in $', fontsize=14)\n",
        "\n",
        "# Rotate and align the x labels\n",
        "fig.autofmt_xdate()\n",
        "\n",
        "# Show plot\n",
        "plt.show()"
      ],
      "execution_count": 13,
      "outputs": [
        {
          "output_type": "display_data",
          "data": {
            "image/png": "[encoded data removed]",
            "text/plain": [
              "<Figure size 432x288 with 1 Axes>"
            ]
          },
          "metadata": {
            "tags": [],
            "needs_background": "light"
          }
        }
      ]
    },
    {
      "cell_type": "markdown",
      "metadata": {
        "id": "CYllwPwZ0gdy"
      },
      "source": [
        "3. CORRELATION BETWEEN VARIABLES"
      ]
    },
    {
      "cell_type": "code",
      "metadata": {
        "colab": {
          "base_uri": "https://localhost:8080/",
          "height": 1000
        },
        "id": "7qwWpY7y0gEA",
        "outputId": "5427ee7f-fae7-4f73-9c55-711e021129b9"
      },
      "source": [
        "correlation=data.corr()\n",
        "\n",
        "plt.figure(figsize=(25, 25))\n",
        "sns.heatmap(correlation, cbar = True,  square = True, annot=True, fmt= '.2f',annot_kws={'size': 15},\n",
        "           cmap= 'coolwarm')\n",
        "plt.title('Correlation between features')"
      ],
      "execution_count": 14,
      "outputs": [
        {
          "output_type": "execute_result",
          "data": {
            "text/plain": [
              "Text(0.5, 1.0, 'Correlation between features')"
            ]
          },
          "metadata": {
            "tags": []
          },
          "execution_count": 14
        },
        {
          "output_type": "display_data",
          "data": {
            "image/png": "[encoded data removed]",
            "text/plain": [
              "<Figure size 1800x1800 with 2 Axes>"
            ]
          },
          "metadata": {
            "tags": [],
            "needs_background": "light"
          }
        }
      ]
    },
    {
      "cell_type": "markdown",
      "metadata": {
        "id": "upNIfn8wk6sA"
      },
      "source": [
        "**PREDICTING THE ACCURACY OF PREDICTION OF STOCK PRICES USING ML AND DEEP LEARNING**"
      ]
    },
    {
      "cell_type": "markdown",
      "metadata": {
        "id": "ch94e_aKlIFq"
      },
      "source": [
        "1. PREDICTION USING LINEAR REGRESSION"
      ]
    },
    {
      "cell_type": "code",
      "metadata": {
        "colab": {
          "base_uri": "https://localhost:8080/"
        },
        "id": "PNQDax24kz7A",
        "outputId": "9d950164-72cc-4fbc-b020-2d26c1920293"
      },
      "source": [
        "from sklearn.model_selection import train_test_split\n",
        "train, test = train_test_split(df, test_size=0.20)\n",
        "from sklearn.linear_model import LinearRegression\n",
        "X_train = np.array(train.index).reshape(-1, 1)\n",
        "y_train = train['Adj Close']\n",
        "model = LinearRegression()\n",
        "# Fit linear model using the train data set\n",
        "model.fit(X_train, y_train)\n"
      ],
      "execution_count": 15,
      "outputs": [
        {
          "output_type": "execute_result",
          "data": {
            "text/plain": [
              "LinearRegression(copy_X=True, fit_intercept=True, n_jobs=None, normalize=False)"
            ]
          },
          "metadata": {
            "tags": []
          },
          "execution_count": 15
        }
      ]
    },
    {
      "cell_type": "code",
      "metadata": {
        "colab": {
          "base_uri": "https://localhost:8080/"
        },
        "id": "HBOT9PPMmAY9",
        "outputId": "e0907475-24fa-4d7a-87df-c7fa2d40e9e0"
      },
      "source": [
        "print('Slope: ', np.asscalar(np.squeeze(model.coef_)))\n",
        "# The Intercept\n",
        "print('Intercept: ', model.intercept_)"
      ],
      "execution_count": 16,
      "outputs": [
        {
          "output_type": "stream",
          "text": [
            "Slope:  0.10812155165179342\n",
            "Intercept:  8.032043381358704\n"
          ],
          "name": "stdout"
        },
        {
          "output_type": "stream",
          "text": [
            "/usr/local/lib/python3.7/dist-packages/ipykernel_launcher.py:1: DeprecationWarning: np.asscalar(a) is deprecated since NumPy v1.16, use a.item() instead\n",
            "  \"\"\"Entry point for launching an IPython kernel.\n"
          ],
          "name": "stderr"
        }
      ]
    },
    {
      "cell_type": "code",
      "metadata": {
        "colab": {
          "base_uri": "https://localhost:8080/",
          "height": 617
        },
        "id": "lt-M7CN1mDkS",
        "outputId": "52dbcabb-e15d-4d4b-bcce-94017c521f79"
      },
      "source": [
        "plt.figure(1, figsize=(16,10))\n",
        "plt.title('Linear Regression | Price vs Time')\n",
        "plt.scatter(X_train, y_train, edgecolor='w', label='Actual Price')\n",
        "plt.plot(X_train, model.predict(X_train), color='r', label='Predicted Price')\n",
        "plt.xlabel('Integer Date')\n",
        "plt.ylabel('Stock Price')\n",
        "plt.legend()\n",
        "plt.show()"
      ],
      "execution_count": 17,
      "outputs": [
        {
          "output_type": "display_data",
          "data": {
            "image/png": "[encoded data removed]",
            "text/plain": [
              "<Figure size 1152x720 with 1 Axes>"
            ]
          },
          "metadata": {
            "tags": [],
            "needs_background": "light"
          }
        }
      ]
    },
    {
      "cell_type": "code",
      "metadata": {
        "colab": {
          "base_uri": "https://localhost:8080/"
        },
        "id": "Pn0a6qF9mJ6M",
        "outputId": "f1dff4cd-6c66-4b9a-ec27-49831686df5a"
      },
      "source": [
        "X_test = np.array(test.index).reshape(-1, 1)\n",
        "y_test = test['Adj Close']\n",
        "y_pred = model.predict(X_test)\n",
        "dfr=pd.DataFrame({'Actual Price':y_test,'Predicted Price':y_pred})\n",
        "print(dfr)"
      ],
      "execution_count": 18,
      "outputs": [
        {
          "output_type": "stream",
          "text": [
            "      Actual Price  Predicted Price\n",
            "1458    183.710007       165.673266\n",
            "1895    201.639999       212.922384\n",
            "702      80.010002        83.933373\n",
            "300      36.799999        40.468509\n",
            "1113    130.000000       128.371330\n",
            "...            ...              ...\n",
            "51       20.879999        13.546243\n",
            "1270    153.119995       145.346414\n",
            "2136    275.079987       238.979678\n",
            "2183    274.500000       244.061391\n",
            "854      94.260002       100.367848\n",
            "\n",
            "[453 rows x 2 columns]\n"
          ],
          "name": "stdout"
        }
      ]
    },
    {
      "cell_type": "markdown",
      "metadata": {
        "id": "q-0ka_QCmZKO"
      },
      "source": [
        "1.1 Calculating the accuracy of the prediction"
      ]
    },
    {
      "cell_type": "code",
      "metadata": {
        "colab": {
          "base_uri": "https://localhost:8080/"
        },
        "id": "71s3aPxhmWqs",
        "outputId": "278ad269-4887-4a98-a89d-790823388cbd"
      },
      "source": [
        "from sklearn import metrics\n",
        "import math\n",
        "rmse_linear=math.sqrt(metrics.mean_squared_error(y_test,y_pred))\n",
        "accuracy_linear=model.score(X_test,y_test)\n",
        "\n",
        "print(\"Root mean square error= \",rmse_linear)\n",
        "print(\"Accuracy Score= \",accuracy_linear*100)"
      ],
      "execution_count": 19,
      "outputs": [
        {
          "output_type": "stream",
          "text": [
            "Root mean square error=  20.38945674714466\n",
            "Accuracy Score=  93.2917785084951\n"
          ],
          "name": "stdout"
        }
      ]
    },
    {
      "cell_type": "markdown",
      "metadata": {
        "id": "I_LI1izjm7pP"
      },
      "source": [
        "1.2 Graphichal prediction "
      ]
    },
    {
      "cell_type": "code",
      "metadata": {
        "colab": {
          "base_uri": "https://localhost:8080/",
          "height": 454
        },
        "id": "wgr_Wuqtm7Af",
        "outputId": "4cac8259-2e40-4ad7-ac61-b3425cbf0859"
      },
      "source": [
        "graph=dfr.head(20)\n",
        "graph.plot(kind='bar',figsize=(20,7))"
      ],
      "execution_count": 20,
      "outputs": [
        {
          "output_type": "execute_result",
          "data": {
            "text/plain": [
              "<matplotlib.axes._subplots.AxesSubplot at 0x7fb3140c39d0>"
            ]
          },
          "metadata": {
            "tags": []
          },
          "execution_count": 20
        },
        {
          "output_type": "display_data",
          "data": {
            "image/png": "[encoded data removed]",
            "text/plain": [
              "<Figure size 1440x504 with 1 Axes>"
            ]
          },
          "metadata": {
            "tags": [],
            "needs_background": "light"
          }
        }
      ]
    },
    {
      "cell_type": "markdown",
      "metadata": {
        "id": "aBVX6UxenbLb"
      },
      "source": [
        "2.PREDICTION USING KNN"
      ]
    },
    {
      "cell_type": "code",
      "metadata": {
        "colab": {
          "base_uri": "https://localhost:8080/"
        },
        "id": "JL4ATZldnf5Z",
        "outputId": "b6e62c0d-a9ea-477b-9797-35e8e40c678a"
      },
      "source": [
        "from sklearn.model_selection import train_test_split\n",
        "from sklearn.neighbors import KNeighborsRegressor\n",
        "train, test = train_test_split(df, test_size=0.20)\n",
        "X_train = np.array(train.index).reshape(-1, 1)\n",
        "y_train = train['Adj Close']\n",
        "model = KNeighborsRegressor()\n",
        "model.fit(X_train, y_train)\n"
      ],
      "execution_count": 21,
      "outputs": [
        {
          "output_type": "execute_result",
          "data": {
            "text/plain": [
              "KNeighborsRegressor(algorithm='auto', leaf_size=30, metric='minkowski',\n",
              "                    metric_params=None, n_jobs=None, n_neighbors=5, p=2,\n",
              "                    weights='uniform')"
            ]
          },
          "metadata": {
            "tags": []
          },
          "execution_count": 21
        }
      ]
    },
    {
      "cell_type": "code",
      "metadata": {
        "colab": {
          "base_uri": "https://localhost:8080/"
        },
        "id": "WCcVshvuoZMn",
        "outputId": "f5a5c42c-b058-459a-f0c8-ba6ec594a03f"
      },
      "source": [
        "X_test = np.array(test.index).reshape(-1, 1)\n",
        "y_test = test['Adj Close']\n",
        "y_pred = model.predict(X_test)\n",
        "dfr=pd.DataFrame({'Actual Price':y_test,'Predicted Price':y_pred})\n",
        "print(dfr)"
      ],
      "execution_count": 22,
      "outputs": [
        {
          "output_type": "stream",
          "text": [
            "      Actual Price  Predicted Price\n",
            "697      78.970001        79.553999\n",
            "2190    267.079987       266.458002\n",
            "951     109.949997       107.756000\n",
            "868     101.970001       104.509999\n",
            "1494    173.589996       171.188004\n",
            "...            ...              ...\n",
            "1334    173.210007       171.748001\n",
            "1253    150.330002       149.067999\n",
            "180      28.650000        28.510000\n",
            "1074    123.889999       124.784001\n",
            "2137    276.950012       275.589996\n",
            "\n",
            "[453 rows x 2 columns]\n"
          ],
          "name": "stdout"
        }
      ]
    },
    {
      "cell_type": "markdown",
      "metadata": {
        "id": "rMGv7E7AokfQ"
      },
      "source": [
        "2.1 Calculating the Accuracy"
      ]
    },
    {
      "cell_type": "code",
      "metadata": {
        "colab": {
          "base_uri": "https://localhost:8080/"
        },
        "id": "WRKJ9xCdoiab",
        "outputId": "03a20368-28bf-4f13-dbf4-ed644b35e485"
      },
      "source": [
        "from sklearn import metrics\n",
        "import math\n",
        "rmse_knn=math.sqrt(metrics.mean_squared_error(y_test,y_pred))\n",
        "accuracy_knn=model.score(X_test,y_test) #Accuracy Score\n",
        "\n",
        "print(\"Root mean square error= \",rmse_knn)\n",
        "print(\"Accurcy Score= \",accuracy_knn*100)"
      ],
      "execution_count": 23,
      "outputs": [
        {
          "output_type": "stream",
          "text": [
            "Root mean square error=  3.123346256033217\n",
            "Accurcy Score=  99.80564089943387\n"
          ],
          "name": "stdout"
        }
      ]
    },
    {
      "cell_type": "markdown",
      "metadata": {
        "id": "_GK4UrZmpG44"
      },
      "source": [
        "2.2 Graphical Representation"
      ]
    },
    {
      "cell_type": "code",
      "metadata": {
        "colab": {
          "base_uri": "https://localhost:8080/",
          "height": 454
        },
        "id": "dJaXm6fopGSh",
        "outputId": "d9a4108a-5fa2-41ed-93ce-a9bfad62771e"
      },
      "source": [
        "graph=dfr.head(20)\n",
        "graph.plot(kind='bar',figsize=(20,7))"
      ],
      "execution_count": 24,
      "outputs": [
        {
          "output_type": "execute_result",
          "data": {
            "text/plain": [
              "<matplotlib.axes._subplots.AxesSubplot at 0x7fb311cad490>"
            ]
          },
          "metadata": {
            "tags": []
          },
          "execution_count": 24
        },
        {
          "output_type": "display_data",
          "data": {
            "image/png": "[encoded data removed]",
            "text/plain": [
              "<Figure size 1440x504 with 1 Axes>"
            ]
          },
          "metadata": {
            "tags": [],
            "needs_background": "light"
          }
        }
      ]
    },
    {
      "cell_type": "markdown",
      "metadata": {
        "id": "bBW-3UXcpvQ2"
      },
      "source": [
        "3.PREDICTION USING DECISION TREE REGRESSOR"
      ]
    },
    {
      "cell_type": "code",
      "metadata": {
        "colab": {
          "base_uri": "https://localhost:8080/"
        },
        "id": "weGIDEeFppmO",
        "outputId": "01ba6afe-21b2-49b8-c6cb-addc57a22d7c"
      },
      "source": [
        "from sklearn.model_selection import train_test_split\n",
        "from sklearn.tree import DecisionTreeRegressor\n",
        "train, test = train_test_split(df, test_size=0.20)\n",
        "X_train = np.array(train.index).reshape(-1, 1)\n",
        "y_train = train['Adj Close']\n",
        "model =DecisionTreeRegressor ()\n",
        "model.fit(X_train, y_train)"
      ],
      "execution_count": 25,
      "outputs": [
        {
          "output_type": "execute_result",
          "data": {
            "text/plain": [
              "DecisionTreeRegressor(ccp_alpha=0.0, criterion='mse', max_depth=None,\n",
              "                      max_features=None, max_leaf_nodes=None,\n",
              "                      min_impurity_decrease=0.0, min_impurity_split=None,\n",
              "                      min_samples_leaf=1, min_samples_split=2,\n",
              "                      min_weight_fraction_leaf=0.0, presort='deprecated',\n",
              "                      random_state=None, splitter='best')"
            ]
          },
          "metadata": {
            "tags": []
          },
          "execution_count": 25
        }
      ]
    },
    {
      "cell_type": "code",
      "metadata": {
        "colab": {
          "base_uri": "https://localhost:8080/"
        },
        "id": "U1-zlzD6r3BC",
        "outputId": "438b5979-b009-47b4-cd09-e303d1cdbe07"
      },
      "source": [
        "X_test = np.array(test.index).reshape(-1, 1)\n",
        "y_test = test['Adj Close']\n",
        "y_pred = model.predict(X_test)\n",
        "dfr=pd.DataFrame({'Actual Price':y_test,'Predicted Price':y_pred})\n",
        "print(dfr)"
      ],
      "execution_count": 26,
      "outputs": [
        {
          "output_type": "stream",
          "text": [
            "      Actual Price  Predicted Price\n",
            "2119    267.559998       261.399994\n",
            "1508    183.759995       183.199997\n",
            "31       31.200001        30.770000\n",
            "697      78.970001        80.410004\n",
            "1373    182.660004       180.059998\n",
            "...            ...              ...\n",
            "2250    329.510010       307.100006\n",
            "1154    119.239998       119.870003\n",
            "1190    134.190002       134.139999\n",
            "687      76.230003        75.190002\n",
            "2252    322.579987       325.079987\n",
            "\n",
            "[453 rows x 2 columns]\n"
          ],
          "name": "stdout"
        }
      ]
    },
    {
      "cell_type": "markdown",
      "metadata": {
        "id": "IyIRX5k6r-dZ"
      },
      "source": [
        "3.1 Calculating the Accuracy"
      ]
    },
    {
      "cell_type": "code",
      "metadata": {
        "colab": {
          "base_uri": "https://localhost:8080/"
        },
        "id": "IgFlk9FSr72D",
        "outputId": "9ad99595-22dd-4fe5-aaee-5dc3d8a3aef8"
      },
      "source": [
        "from sklearn import metrics\n",
        "import math\n",
        "rmse_dt=math.sqrt(metrics.mean_squared_error(y_test,y_pred))\n",
        "accuracy_dt=model.score(X_test,y_test) #Accuracy Score\n",
        "\n",
        "print(\"Root mean square error= \",rmse_dt)\n",
        "print(\"Accurcy Score= \",accuracy_dt*100)"
      ],
      "execution_count": 27,
      "outputs": [
        {
          "output_type": "stream",
          "text": [
            "Root mean square error=  3.1479336012627432\n",
            "Accurcy Score=  99.80817507453601\n"
          ],
          "name": "stdout"
        }
      ]
    },
    {
      "cell_type": "markdown",
      "metadata": {
        "id": "bxBoGDMHsJfe"
      },
      "source": [
        "3.2 Graphical Representation"
      ]
    },
    {
      "cell_type": "code",
      "metadata": {
        "colab": {
          "base_uri": "https://localhost:8080/",
          "height": 454
        },
        "id": "EMM_aXUssIuf",
        "outputId": "515d0522-ff82-4cab-d0e6-f55df31743c2"
      },
      "source": [
        "graph=dfr.head(20)\n",
        "graph.plot(kind='bar',figsize=(20,7))"
      ],
      "execution_count": 28,
      "outputs": [
        {
          "output_type": "execute_result",
          "data": {
            "text/plain": [
              "<matplotlib.axes._subplots.AxesSubplot at 0x7fb31172b810>"
            ]
          },
          "metadata": {
            "tags": []
          },
          "execution_count": 28
        },
        {
          "output_type": "display_data",
          "data": {
            "image/png": "[encoded data removed]",
            "text/plain": [
              "<Figure size 1440x504 with 1 Axes>"
            ]
          },
          "metadata": {
            "tags": [],
            "needs_background": "light"
          }
        }
      ]
    },
    {
      "cell_type": "markdown",
      "metadata": {
        "id": "ePgP-uv8sXt6"
      },
      "source": [
        "4.PREDICTION USING LASSO"
      ]
    },
    {
      "cell_type": "code",
      "metadata": {
        "colab": {
          "base_uri": "https://localhost:8080/"
        },
        "id": "I5g-gNsJsXMn",
        "outputId": "75e05566-c2cc-435c-cdaa-0950d7d3d2e3"
      },
      "source": [
        "from sklearn.model_selection import train_test_split\n",
        "train, test = train_test_split(df, test_size=0.20)\n",
        "from sklearn.linear_model import Lasso\n",
        "X_train = np.array(train.index).reshape(-1, 1)\n",
        "y_train = train['Adj Close']\n",
        "model = Lasso()\n",
        "# Fit linear model using the train data set\n",
        "model.fit(X_train, y_train)"
      ],
      "execution_count": 29,
      "outputs": [
        {
          "output_type": "execute_result",
          "data": {
            "text/plain": [
              "Lasso(alpha=1.0, copy_X=True, fit_intercept=True, max_iter=1000,\n",
              "      normalize=False, positive=False, precompute=False, random_state=None,\n",
              "      selection='cyclic', tol=0.0001, warm_start=False)"
            ]
          },
          "metadata": {
            "tags": []
          },
          "execution_count": 29
        }
      ]
    },
    {
      "cell_type": "code",
      "metadata": {
        "colab": {
          "base_uri": "https://localhost:8080/"
        },
        "id": "27EKOBFatMMK",
        "outputId": "3ce64e12-9111-4b48-c355-33b427ef961d"
      },
      "source": [
        "X_test = np.array(test.index).reshape(-1, 1)\n",
        "y_test = test['Adj Close']\n",
        "y_pred = model.predict(X_test)\n",
        "dfr=pd.DataFrame({'Actual Price':y_test,'Predicted Price':y_pred})\n",
        "print(dfr)"
      ],
      "execution_count": 30,
      "outputs": [
        {
          "output_type": "stream",
          "text": [
            "      Actual Price  Predicted Price\n",
            "47       26.850000        12.734359\n",
            "667      76.279999        80.035954\n",
            "971     114.099998       113.035446\n",
            "115      21.180000        20.115824\n",
            "1370    177.880005       156.347279\n",
            "...            ...              ...\n",
            "720      81.669998        85.789155\n",
            "1748    192.529999       197.379542\n",
            "1356    172.500000       154.827565\n",
            "369      49.119999        47.687768\n",
            "387      46.730000        49.641685\n",
            "\n",
            "[453 rows x 2 columns]\n"
          ],
          "name": "stdout"
        }
      ]
    },
    {
      "cell_type": "markdown",
      "metadata": {
        "id": "xtyjIqpTtSSk"
      },
      "source": [
        "4.1 Calculating the Accuracy"
      ]
    },
    {
      "cell_type": "code",
      "metadata": {
        "colab": {
          "base_uri": "https://localhost:8080/"
        },
        "id": "9ClH2QzNtRts",
        "outputId": "6b1b4560-c75a-42ea-c21d-49e558e3f5c9"
      },
      "source": [
        "from sklearn import metrics\n",
        "import math\n",
        "rmse_lasso=math.sqrt(metrics.mean_squared_error(y_test,y_pred))\n",
        "accuracy_lasso=model.score(X_test,y_test) #Accuracy Score\n",
        "\n",
        "print(\"Root mean square error= \",rmse_lasso)\n",
        "print(\"Accurcy Score= \",accuracy_lasso*100)"
      ],
      "execution_count": 31,
      "outputs": [
        {
          "output_type": "stream",
          "text": [
            "Root mean square error=  18.497097587106566\n",
            "Accurcy Score=  94.28965609316482\n"
          ],
          "name": "stdout"
        }
      ]
    },
    {
      "cell_type": "markdown",
      "metadata": {
        "id": "YMY-VUe3txTo"
      },
      "source": [
        "4.2 Graphical Representation"
      ]
    },
    {
      "cell_type": "code",
      "metadata": {
        "colab": {
          "base_uri": "https://localhost:8080/",
          "height": 454
        },
        "id": "M2z5DspatgGN",
        "outputId": "028640ea-3200-4cc1-af74-b7e85ea9c1da"
      },
      "source": [
        "graph=dfr.head(20)\n",
        "graph.plot(kind='bar',figsize=(20,7))"
      ],
      "execution_count": 32,
      "outputs": [
        {
          "output_type": "execute_result",
          "data": {
            "text/plain": [
              "<matplotlib.axes._subplots.AxesSubplot at 0x7fb31275bb50>"
            ]
          },
          "metadata": {
            "tags": []
          },
          "execution_count": 32
        },
        {
          "output_type": "display_data",
          "data": {
            "image/png": "[encoded data removed]",
            "text/plain": [
              "<Figure size 1440x504 with 1 Axes>"
            ]
          },
          "metadata": {
            "tags": [],
            "needs_background": "light"
          }
        }
      ]
    },
    {
      "cell_type": "markdown",
      "metadata": {
        "id": "G3sCGf8pt6VG"
      },
      "source": [
        "5. PREDICTION USING ELASTIC NET"
      ]
    },
    {
      "cell_type": "code",
      "metadata": {
        "colab": {
          "base_uri": "https://localhost:8080/"
        },
        "id": "3abwUc1Mt91j",
        "outputId": "fff427f4-49b4-4c4c-b387-6de6ac9ae251"
      },
      "source": [
        "from sklearn.model_selection import train_test_split\n",
        "train, test = train_test_split(df, test_size=0.20)\n",
        "from sklearn.linear_model import ElasticNet\n",
        "X_train = np.array(train.index).reshape(-1, 1)\n",
        "y_train = train['Adj Close']\n",
        "model = ElasticNet()\n",
        "# Fit linear model using the train data set\n",
        "model.fit(X_train, y_train)"
      ],
      "execution_count": 33,
      "outputs": [
        {
          "output_type": "execute_result",
          "data": {
            "text/plain": [
              "ElasticNet(alpha=1.0, copy_X=True, fit_intercept=True, l1_ratio=0.5,\n",
              "           max_iter=1000, normalize=False, positive=False, precompute=False,\n",
              "           random_state=None, selection='cyclic', tol=0.0001, warm_start=False)"
            ]
          },
          "metadata": {
            "tags": []
          },
          "execution_count": 33
        }
      ]
    },
    {
      "cell_type": "code",
      "metadata": {
        "colab": {
          "base_uri": "https://localhost:8080/"
        },
        "id": "lauxW9jOuGnU",
        "outputId": "2dcd2a9e-1cc1-48ed-d4a5-28be002b433f"
      },
      "source": [
        "X_test = np.array(test.index).reshape(-1, 1)\n",
        "y_test = test['Adj Close']\n",
        "y_pred = model.predict(X_test)\n",
        "dfr=pd.DataFrame({'Actual Price':y_test,'Predicted Price':y_pred})\n",
        "print(dfr)"
      ],
      "execution_count": 34,
      "outputs": [
        {
          "output_type": "stream",
          "text": [
            "      Actual Price  Predicted Price\n",
            "1648    139.630005       187.596977\n",
            "1120    130.990005       129.686348\n",
            "1616    154.050003       184.087242\n",
            "919      98.370003       107.640825\n",
            "310      36.650002        40.846180\n",
            "...            ...              ...\n",
            "192      27.389999        27.904032\n",
            "2153    283.399994       242.984983\n",
            "669      75.180000        80.221020\n",
            "2104    261.790009       237.610701\n",
            "1104    128.990005       127.931481\n",
            "\n",
            "[453 rows x 2 columns]\n"
          ],
          "name": "stdout"
        }
      ]
    },
    {
      "cell_type": "markdown",
      "metadata": {
        "id": "yJ5GeHtSuNyY"
      },
      "source": [
        "5.1 Calculating the Accuracy"
      ]
    },
    {
      "cell_type": "code",
      "metadata": {
        "colab": {
          "base_uri": "https://localhost:8080/"
        },
        "id": "l8sqSLX2uLQH",
        "outputId": "f3fed535-a7be-462e-e27d-64801fe06afe"
      },
      "source": [
        "from sklearn import metrics\n",
        "import math\n",
        "rmse_el=math.sqrt(metrics.mean_squared_error(y_test,y_pred))\n",
        "accuracy_el=model.score(X_test,y_test) #Accuracy Score\n",
        "\n",
        "print(\"Root mean square error= \",rmse_el)\n",
        "print(\"Accurcy Score= \",accuracy_el*100)"
      ],
      "execution_count": 35,
      "outputs": [
        {
          "output_type": "stream",
          "text": [
            "Root mean square error=  17.918819800373004\n",
            "Accurcy Score=  93.58445286830039\n"
          ],
          "name": "stdout"
        }
      ]
    },
    {
      "cell_type": "markdown",
      "metadata": {
        "id": "dncqo1d-udEe"
      },
      "source": [
        "5.2 Graphical Representation"
      ]
    },
    {
      "cell_type": "code",
      "metadata": {
        "colab": {
          "base_uri": "https://localhost:8080/",
          "height": 454
        },
        "id": "xT74q7R5uZ0j",
        "outputId": "c9466c0a-5b1c-4b2c-c75c-43fe9d51861e"
      },
      "source": [
        "graph=dfr.head(20)\n",
        "graph.plot(kind='bar',figsize=(20,7))"
      ],
      "execution_count": 36,
      "outputs": [
        {
          "output_type": "execute_result",
          "data": {
            "text/plain": [
              "<matplotlib.axes._subplots.AxesSubplot at 0x7fb310a11550>"
            ]
          },
          "metadata": {
            "tags": []
          },
          "execution_count": 36
        },
        {
          "output_type": "display_data",
          "data": {
            "image/png": "[encoded data removed]",
            "text/plain": [
              "<Figure size 1440x504 with 1 Axes>"
            ]
          },
          "metadata": {
            "tags": [],
            "needs_background": "light"
          }
        }
      ]
    },
    {
      "cell_type": "markdown",
      "metadata": {
        "id": "mxVuOTU0u6fN"
      },
      "source": [
        "6. PREDICTION USING LSTM STACKED ESTIMATOR"
      ]
    },
    {
      "cell_type": "code",
      "metadata": {
        "id": "_Sfcr3KTuj1S"
      },
      "source": [
        "df1=data.reset_index()['Adj Close']"
      ],
      "execution_count": 37,
      "outputs": []
    },
    {
      "cell_type": "code",
      "metadata": {
        "id": "Y-kcpxO-vdcq"
      },
      "source": [
        "from sklearn.preprocessing import MinMaxScaler\n",
        "scaler=MinMaxScaler(feature_range=(0,1))\n",
        "df1=scaler.fit_transform(np.array(df1).reshape(-1,1))"
      ],
      "execution_count": 38,
      "outputs": []
    },
    {
      "cell_type": "code",
      "metadata": {
        "id": "uC9s3Unfvivi"
      },
      "source": [
        "training_size=int(len(df1)*0.65)\n",
        "test_size=len(df1)-training_size\n",
        "train_data,test_data=df1[0:training_size:],df1[training_size:len(df1),:1]"
      ],
      "execution_count": 39,
      "outputs": []
    },
    {
      "cell_type": "code",
      "metadata": {
        "id": "rVwCS5nCvl5d"
      },
      "source": [
        "import numpy\n",
        "\n",
        "def create_dataset(dataset,time_step=1):\n",
        "  dataX,dataY=[],[]\n",
        "  for i in range(len(dataset)-time_step-1):\n",
        "    a=dataset[i:(i+time_step),0]\n",
        "    dataX.append(a)\n",
        "    dataY.append(dataset[i+time_step,0])\n",
        "  return numpy.array(dataX),numpy.array(dataY)"
      ],
      "execution_count": 40,
      "outputs": []
    },
    {
      "cell_type": "code",
      "metadata": {
        "id": "woyIMvBNvo8B"
      },
      "source": [
        " time_step=100\n",
        " X_train,y_train=create_dataset(train_data,time_step)\n",
        " X_test,ytest=create_dataset(train_data,time_step)"
      ],
      "execution_count": 41,
      "outputs": []
    },
    {
      "cell_type": "code",
      "metadata": {
        "colab": {
          "base_uri": "https://localhost:8080/"
        },
        "id": "tIeI4YEWvrU-",
        "outputId": "19cb205c-de41-43f8-ca33-114c90f359a1"
      },
      "source": [
        "print(X_train)"
      ],
      "execution_count": 42,
      "outputs": [
        {
          "output_type": "stream",
          "text": [
            "[[0.06575149 0.05228045 0.04256206 ... 0.0101995  0.00856373 0.00801847]\n",
            " [0.05228045 0.04256206 0.04576945 ... 0.00856373 0.00801847 0.00612611]\n",
            " [0.04256206 0.04576945 0.04907306 ... 0.00801847 0.00612611 0.00647893]\n",
            " ...\n",
            " [0.49246263 0.49416255 0.49031369 ... 0.5339021  0.53284366 0.53678873]\n",
            " [0.49416255 0.49031369 0.49040991 ... 0.53284366 0.53678873 0.49660014]\n",
            " [0.49031369 0.49040991 0.51366348 ... 0.53678873 0.49660014 0.48245554]]\n"
          ],
          "name": "stdout"
        }
      ]
    },
    {
      "cell_type": "code",
      "metadata": {
        "id": "OpCqSHkKvt4H"
      },
      "source": [
        "X_train =X_train.reshape(X_train.shape[0],X_train.shape[1],1)\n",
        "X_test =X_test.reshape(X_test.shape[0],X_test.shape[1],1)"
      ],
      "execution_count": 43,
      "outputs": []
    },
    {
      "cell_type": "code",
      "metadata": {
        "id": "ejlgyQWovwp_"
      },
      "source": [
        "from tensorflow.keras.models import Sequential\n",
        "from tensorflow.keras.layers import Dense\n",
        "from tensorflow.keras.layers import LSTM"
      ],
      "execution_count": 44,
      "outputs": []
    },
    {
      "cell_type": "code",
      "metadata": {
        "id": "rH3mHgLxvzUm"
      },
      "source": [
        "model=Sequential()\n",
        "model.add(LSTM(50,return_sequences=True,input_shape=(100,1)))\n",
        "model.add(LSTM(50,return_sequences=True))\n",
        "model.add(LSTM(50))\n",
        "model.add(Dense(1))\n",
        "model.compile(loss='mean_squared_error',optimizer='adam')"
      ],
      "execution_count": 45,
      "outputs": []
    },
    {
      "cell_type": "code",
      "metadata": {
        "colab": {
          "base_uri": "https://localhost:8080/"
        },
        "id": "eHL_d3bKv2iK",
        "outputId": "38ba41b3-22d4-49be-ea6e-f2ff26a322f9"
      },
      "source": [
        "model.summary()"
      ],
      "execution_count": 46,
      "outputs": [
        {
          "output_type": "stream",
          "text": [
            "Model: \"sequential\"\n",
            "_________________________________________________________________\n",
            "Layer (type)                 Output Shape              Param #   \n",
            "=================================================================\n",
            "lstm (LSTM)                  (None, 100, 50)           10400     \n",
            "_________________________________________________________________\n",
            "lstm_1 (LSTM)                (None, 100, 50)           20200     \n",
            "_________________________________________________________________\n",
            "lstm_2 (LSTM)                (None, 50)                20200     \n",
            "_________________________________________________________________\n",
            "dense (Dense)                (None, 1)                 51        \n",
            "=================================================================\n",
            "Total params: 50,851\n",
            "Trainable params: 50,851\n",
            "Non-trainable params: 0\n",
            "_________________________________________________________________\n"
          ],
          "name": "stdout"
        }
      ]
    },
    {
      "cell_type": "code",
      "metadata": {
        "colab": {
          "base_uri": "https://localhost:8080/"
        },
        "id": "jKXs-XTBv5Ev",
        "outputId": "f04d361c-e981-4e5c-d2ea-5450116e345f"
      },
      "source": [
        "model.fit(X_train,y_train,validation_data=(X_test,ytest),epochs=100,batch_size=64,verbose=1)"
      ],
      "execution_count": 47,
      "outputs": [
        {
          "output_type": "stream",
          "text": [
            "Epoch 1/100\n",
            "22/22 [==============================] - 9s 232ms/step - loss: 0.0332 - val_loss: 0.0023\n",
            "Epoch 2/100\n",
            "22/22 [==============================] - 4s 178ms/step - loss: 0.0014 - val_loss: 2.6784e-04\n",
            "Epoch 3/100\n",
            "22/22 [==============================] - 4s 183ms/step - loss: 3.0556e-04 - val_loss: 1.7868e-04\n",
            "Epoch 4/100\n",
            "22/22 [==============================] - 4s 182ms/step - loss: 1.6655e-04 - val_loss: 1.5245e-04\n",
            "Epoch 5/100\n",
            "22/22 [==============================] - 4s 191ms/step - loss: 1.5008e-04 - val_loss: 1.5183e-04\n",
            "Epoch 6/100\n",
            "22/22 [==============================] - 4s 190ms/step - loss: 1.6013e-04 - val_loss: 1.5777e-04\n",
            "Epoch 7/100\n",
            "22/22 [==============================] - 4s 192ms/step - loss: 1.5937e-04 - val_loss: 1.6054e-04\n",
            "Epoch 8/100\n",
            "22/22 [==============================] - 4s 195ms/step - loss: 1.4861e-04 - val_loss: 1.4825e-04\n",
            "Epoch 9/100\n",
            "22/22 [==============================] - 4s 193ms/step - loss: 1.4581e-04 - val_loss: 1.5418e-04\n",
            "Epoch 10/100\n",
            "22/22 [==============================] - 4s 190ms/step - loss: 1.5319e-04 - val_loss: 1.8268e-04\n",
            "Epoch 11/100\n",
            "22/22 [==============================] - 4s 191ms/step - loss: 1.6187e-04 - val_loss: 1.6074e-04\n",
            "Epoch 12/100\n",
            "22/22 [==============================] - 4s 195ms/step - loss: 1.6382e-04 - val_loss: 1.4678e-04\n",
            "Epoch 13/100\n",
            "22/22 [==============================] - 4s 197ms/step - loss: 1.5176e-04 - val_loss: 1.4869e-04\n",
            "Epoch 14/100\n",
            "22/22 [==============================] - 4s 195ms/step - loss: 1.5007e-04 - val_loss: 1.4772e-04\n",
            "Epoch 15/100\n",
            "22/22 [==============================] - 4s 191ms/step - loss: 1.5568e-04 - val_loss: 1.4583e-04\n",
            "Epoch 16/100\n",
            "22/22 [==============================] - 4s 192ms/step - loss: 1.4555e-04 - val_loss: 1.4846e-04\n",
            "Epoch 17/100\n",
            "22/22 [==============================] - 4s 192ms/step - loss: 1.4515e-04 - val_loss: 1.4637e-04\n",
            "Epoch 18/100\n",
            "22/22 [==============================] - 4s 195ms/step - loss: 1.4598e-04 - val_loss: 1.4864e-04\n",
            "Epoch 19/100\n",
            "22/22 [==============================] - 4s 190ms/step - loss: 1.4922e-04 - val_loss: 1.3866e-04\n",
            "Epoch 20/100\n",
            "22/22 [==============================] - 4s 187ms/step - loss: 1.4514e-04 - val_loss: 1.3733e-04\n",
            "Epoch 21/100\n",
            "22/22 [==============================] - 4s 184ms/step - loss: 1.4095e-04 - val_loss: 1.5501e-04\n",
            "Epoch 22/100\n",
            "22/22 [==============================] - 4s 183ms/step - loss: 1.5025e-04 - val_loss: 1.5141e-04\n",
            "Epoch 23/100\n",
            "22/22 [==============================] - 4s 184ms/step - loss: 1.3729e-04 - val_loss: 1.5960e-04\n",
            "Epoch 24/100\n",
            "22/22 [==============================] - 4s 185ms/step - loss: 1.4029e-04 - val_loss: 1.6063e-04\n",
            "Epoch 25/100\n",
            "22/22 [==============================] - 4s 184ms/step - loss: 1.5483e-04 - val_loss: 1.3545e-04\n",
            "Epoch 26/100\n",
            "22/22 [==============================] - 4s 187ms/step - loss: 1.5555e-04 - val_loss: 1.3263e-04\n",
            "Epoch 27/100\n",
            "22/22 [==============================] - 4s 184ms/step - loss: 1.3324e-04 - val_loss: 1.3192e-04\n",
            "Epoch 28/100\n",
            "22/22 [==============================] - 4s 184ms/step - loss: 1.4547e-04 - val_loss: 1.3054e-04\n",
            "Epoch 29/100\n",
            "22/22 [==============================] - 4s 183ms/step - loss: 1.4989e-04 - val_loss: 1.3923e-04\n",
            "Epoch 30/100\n",
            "22/22 [==============================] - 4s 182ms/step - loss: 1.4099e-04 - val_loss: 1.4815e-04\n",
            "Epoch 31/100\n",
            "22/22 [==============================] - 4s 186ms/step - loss: 1.4911e-04 - val_loss: 1.2754e-04\n",
            "Epoch 32/100\n",
            "22/22 [==============================] - 4s 186ms/step - loss: 1.2337e-04 - val_loss: 1.5510e-04\n",
            "Epoch 33/100\n",
            "22/22 [==============================] - 4s 185ms/step - loss: 1.3200e-04 - val_loss: 1.3527e-04\n",
            "Epoch 34/100\n",
            "22/22 [==============================] - 4s 187ms/step - loss: 1.2296e-04 - val_loss: 1.2433e-04\n",
            "Epoch 35/100\n",
            "22/22 [==============================] - 4s 185ms/step - loss: 1.2732e-04 - val_loss: 1.3585e-04\n",
            "Epoch 36/100\n",
            "22/22 [==============================] - 4s 186ms/step - loss: 1.3897e-04 - val_loss: 2.1310e-04\n",
            "Epoch 37/100\n",
            "22/22 [==============================] - 4s 187ms/step - loss: 1.8386e-04 - val_loss: 1.2531e-04\n",
            "Epoch 38/100\n",
            "22/22 [==============================] - 4s 186ms/step - loss: 1.2470e-04 - val_loss: 1.2765e-04\n",
            "Epoch 39/100\n",
            "22/22 [==============================] - 4s 190ms/step - loss: 1.3104e-04 - val_loss: 1.2021e-04\n",
            "Epoch 40/100\n",
            "22/22 [==============================] - 4s 192ms/step - loss: 1.1904e-04 - val_loss: 1.2401e-04\n",
            "Epoch 41/100\n",
            "22/22 [==============================] - 4s 188ms/step - loss: 1.3086e-04 - val_loss: 1.1646e-04\n",
            "Epoch 42/100\n",
            "22/22 [==============================] - 4s 188ms/step - loss: 1.1728e-04 - val_loss: 1.1873e-04\n",
            "Epoch 43/100\n",
            "22/22 [==============================] - 4s 186ms/step - loss: 1.3116e-04 - val_loss: 1.4605e-04\n",
            "Epoch 44/100\n",
            "22/22 [==============================] - 4s 186ms/step - loss: 1.3810e-04 - val_loss: 1.2252e-04\n",
            "Epoch 45/100\n",
            "22/22 [==============================] - 4s 187ms/step - loss: 1.2971e-04 - val_loss: 1.1396e-04\n",
            "Epoch 46/100\n",
            "22/22 [==============================] - 4s 187ms/step - loss: 1.1535e-04 - val_loss: 1.7065e-04\n",
            "Epoch 47/100\n",
            "22/22 [==============================] - 4s 186ms/step - loss: 1.3660e-04 - val_loss: 1.1122e-04\n",
            "Epoch 48/100\n",
            "22/22 [==============================] - 4s 186ms/step - loss: 1.6135e-04 - val_loss: 1.1268e-04\n",
            "Epoch 49/100\n",
            "22/22 [==============================] - 4s 187ms/step - loss: 1.2016e-04 - val_loss: 1.1029e-04\n",
            "Epoch 50/100\n",
            "22/22 [==============================] - 4s 187ms/step - loss: 1.1417e-04 - val_loss: 1.8898e-04\n",
            "Epoch 51/100\n",
            "22/22 [==============================] - 4s 189ms/step - loss: 1.3594e-04 - val_loss: 1.2151e-04\n",
            "Epoch 52/100\n",
            "22/22 [==============================] - 4s 189ms/step - loss: 1.2510e-04 - val_loss: 1.0896e-04\n",
            "Epoch 53/100\n",
            "22/22 [==============================] - 4s 191ms/step - loss: 1.1681e-04 - val_loss: 1.1870e-04\n",
            "Epoch 54/100\n",
            "22/22 [==============================] - 4s 189ms/step - loss: 1.2520e-04 - val_loss: 1.2482e-04\n",
            "Epoch 55/100\n",
            "22/22 [==============================] - 4s 195ms/step - loss: 1.3205e-04 - val_loss: 1.8714e-04\n",
            "Epoch 56/100\n",
            "22/22 [==============================] - 4s 195ms/step - loss: 1.5444e-04 - val_loss: 1.3502e-04\n",
            "Epoch 57/100\n",
            "22/22 [==============================] - 4s 192ms/step - loss: 1.1471e-04 - val_loss: 1.0608e-04\n",
            "Epoch 58/100\n",
            "22/22 [==============================] - 4s 192ms/step - loss: 1.1751e-04 - val_loss: 1.2224e-04\n",
            "Epoch 59/100\n",
            "22/22 [==============================] - 4s 193ms/step - loss: 1.1404e-04 - val_loss: 1.4579e-04\n",
            "Epoch 60/100\n",
            "22/22 [==============================] - 4s 190ms/step - loss: 1.2555e-04 - val_loss: 1.3196e-04\n",
            "Epoch 61/100\n",
            "22/22 [==============================] - 4s 191ms/step - loss: 1.2153e-04 - val_loss: 1.1724e-04\n",
            "Epoch 62/100\n",
            "22/22 [==============================] - 4s 192ms/step - loss: 1.0840e-04 - val_loss: 1.2431e-04\n",
            "Epoch 63/100\n",
            "22/22 [==============================] - 4s 189ms/step - loss: 1.1712e-04 - val_loss: 1.8443e-04\n",
            "Epoch 64/100\n",
            "22/22 [==============================] - 4s 194ms/step - loss: 1.5394e-04 - val_loss: 1.2979e-04\n",
            "Epoch 65/100\n",
            "22/22 [==============================] - 4s 194ms/step - loss: 1.0977e-04 - val_loss: 1.2933e-04\n",
            "Epoch 66/100\n",
            "22/22 [==============================] - 4s 194ms/step - loss: 1.0540e-04 - val_loss: 1.0044e-04\n",
            "Epoch 67/100\n",
            "22/22 [==============================] - 4s 193ms/step - loss: 1.0734e-04 - val_loss: 1.1347e-04\n",
            "Epoch 68/100\n",
            "22/22 [==============================] - 4s 193ms/step - loss: 1.0939e-04 - val_loss: 2.1478e-04\n",
            "Epoch 69/100\n",
            "22/22 [==============================] - 4s 193ms/step - loss: 1.4257e-04 - val_loss: 1.1898e-04\n",
            "Epoch 70/100\n",
            "22/22 [==============================] - 4s 194ms/step - loss: 1.2801e-04 - val_loss: 1.3481e-04\n",
            "Epoch 71/100\n",
            "22/22 [==============================] - 4s 194ms/step - loss: 1.3514e-04 - val_loss: 1.8216e-04\n",
            "Epoch 72/100\n",
            "22/22 [==============================] - 4s 193ms/step - loss: 1.3153e-04 - val_loss: 1.2079e-04\n",
            "Epoch 73/100\n",
            "22/22 [==============================] - 4s 193ms/step - loss: 1.1190e-04 - val_loss: 9.6600e-05\n",
            "Epoch 74/100\n",
            "22/22 [==============================] - 4s 191ms/step - loss: 1.2051e-04 - val_loss: 1.0074e-04\n",
            "Epoch 75/100\n",
            "22/22 [==============================] - 4s 194ms/step - loss: 1.0885e-04 - val_loss: 1.5064e-04\n",
            "Epoch 76/100\n",
            "22/22 [==============================] - 4s 198ms/step - loss: 1.3757e-04 - val_loss: 1.1750e-04\n",
            "Epoch 77/100\n",
            "22/22 [==============================] - 4s 198ms/step - loss: 1.1463e-04 - val_loss: 9.5208e-05\n",
            "Epoch 78/100\n",
            "22/22 [==============================] - 4s 200ms/step - loss: 1.1840e-04 - val_loss: 9.7705e-05\n",
            "Epoch 79/100\n",
            "22/22 [==============================] - 4s 197ms/step - loss: 9.2990e-05 - val_loss: 9.5207e-05\n",
            "Epoch 80/100\n",
            "22/22 [==============================] - 4s 200ms/step - loss: 1.0062e-04 - val_loss: 9.8655e-05\n",
            "Epoch 81/100\n",
            "22/22 [==============================] - 4s 197ms/step - loss: 9.8676e-05 - val_loss: 9.8440e-05\n",
            "Epoch 82/100\n",
            "22/22 [==============================] - 4s 200ms/step - loss: 8.5839e-05 - val_loss: 9.7153e-05\n",
            "Epoch 83/100\n",
            "22/22 [==============================] - 4s 201ms/step - loss: 9.6949e-05 - val_loss: 9.1114e-05\n",
            "Epoch 84/100\n",
            "22/22 [==============================] - 4s 201ms/step - loss: 9.5670e-05 - val_loss: 1.0613e-04\n",
            "Epoch 85/100\n",
            "22/22 [==============================] - 4s 194ms/step - loss: 1.0932e-04 - val_loss: 9.7352e-05\n",
            "Epoch 86/100\n",
            "22/22 [==============================] - 4s 192ms/step - loss: 8.1159e-05 - val_loss: 8.8541e-05\n",
            "Epoch 87/100\n",
            "22/22 [==============================] - 4s 194ms/step - loss: 1.0968e-04 - val_loss: 9.0332e-05\n",
            "Epoch 88/100\n",
            "22/22 [==============================] - 4s 192ms/step - loss: 9.6882e-05 - val_loss: 8.7400e-05\n",
            "Epoch 89/100\n",
            "22/22 [==============================] - 4s 193ms/step - loss: 1.0637e-04 - val_loss: 1.2760e-04\n",
            "Epoch 90/100\n",
            "22/22 [==============================] - 4s 192ms/step - loss: 1.0061e-04 - val_loss: 9.3080e-05\n",
            "Epoch 91/100\n",
            "22/22 [==============================] - 4s 193ms/step - loss: 9.0314e-05 - val_loss: 1.0178e-04\n",
            "Epoch 92/100\n",
            "22/22 [==============================] - 4s 192ms/step - loss: 9.3641e-05 - val_loss: 1.3122e-04\n",
            "Epoch 93/100\n",
            "22/22 [==============================] - 4s 192ms/step - loss: 1.0362e-04 - val_loss: 9.7488e-05\n",
            "Epoch 94/100\n",
            "22/22 [==============================] - 4s 192ms/step - loss: 8.6357e-05 - val_loss: 1.2491e-04\n",
            "Epoch 95/100\n",
            "22/22 [==============================] - 4s 192ms/step - loss: 9.7029e-05 - val_loss: 1.0165e-04\n",
            "Epoch 96/100\n",
            "22/22 [==============================] - 4s 191ms/step - loss: 1.0074e-04 - val_loss: 1.0336e-04\n",
            "Epoch 97/100\n",
            "22/22 [==============================] - 4s 192ms/step - loss: 9.6605e-05 - val_loss: 8.2401e-05\n",
            "Epoch 98/100\n",
            "22/22 [==============================] - 4s 191ms/step - loss: 8.9248e-05 - val_loss: 8.9872e-05\n",
            "Epoch 99/100\n",
            "22/22 [==============================] - 4s 194ms/step - loss: 9.3307e-05 - val_loss: 8.2539e-05\n",
            "Epoch 100/100\n",
            "22/22 [==============================] - 4s 194ms/step - loss: 1.0051e-04 - val_loss: 8.3091e-05\n"
          ],
          "name": "stdout"
        },
        {
          "output_type": "execute_result",
          "data": {
            "text/plain": [
              "<tensorflow.python.keras.callbacks.History at 0x7fb2d84a5790>"
            ]
          },
          "metadata": {
            "tags": []
          },
          "execution_count": 47
        }
      ]
    },
    {
      "cell_type": "code",
      "metadata": {
        "id": "6Qv0P9CJzexF"
      },
      "source": [
        "train_predict=model.predict(X_train)\n",
        "test_predict=model.predict(X_test)"
      ],
      "execution_count": 48,
      "outputs": []
    },
    {
      "cell_type": "code",
      "metadata": {
        "id": "QbOwK4jPzieo"
      },
      "source": [
        "train_predict=scaler.inverse_transform(train_predict)\n",
        "test_predict=scaler.inverse_transform(test_predict)"
      ],
      "execution_count": 49,
      "outputs": []
    },
    {
      "cell_type": "markdown",
      "metadata": {
        "id": "GQEcRFMV45rh"
      },
      "source": [
        "6.1 Calculating the Accuracy"
      ]
    },
    {
      "cell_type": "code",
      "metadata": {
        "colab": {
          "base_uri": "https://localhost:8080/"
        },
        "id": "Dd4qOiLDzkm6",
        "outputId": "845b20da-4be6-495a-b2af-6295980a3273"
      },
      "source": [
        "import math\n",
        "from sklearn.metrics import mean_squared_error\n",
        "rmse_lstm=math.sqrt(mean_squared_error(ytest,test_predict))\n",
        "print(\"RMSE score of LSTM =\",rmse_lstm)\n"
      ],
      "execution_count": 50,
      "outputs": [
        {
          "output_type": "stream",
          "text": [
            "RMSE score of LSTM = 104.86969536002336\n"
          ],
          "name": "stdout"
        }
      ]
    },
    {
      "cell_type": "markdown",
      "metadata": {
        "id": "FpySVNjW1TOy"
      },
      "source": [
        "7.PREDICTION USING FBPROPHET"
      ]
    },
    {
      "cell_type": "code",
      "metadata": {
        "id": "5PrhzMu61Swu"
      },
      "source": [
        "import datetime as dt\n",
        "import matplotlib.pyplot as plt\n",
        "import warnings\n",
        "warnings.simplefilter(action='ignore',category=FutureWarning)\n",
        "from fbprophet import Prophet"
      ],
      "execution_count": 51,
      "outputs": []
    },
    {
      "cell_type": "code",
      "metadata": {
        "id": "QboFAame2JFe"
      },
      "source": [
        "model=Prophet()"
      ],
      "execution_count": 52,
      "outputs": []
    },
    {
      "cell_type": "code",
      "metadata": {
        "id": "uNwl8BmQ2Nz2"
      },
      "source": [
        "dfb=data.reset_index()"
      ],
      "execution_count": 53,
      "outputs": []
    },
    {
      "cell_type": "code",
      "metadata": {
        "colab": {
          "base_uri": "https://localhost:8080/",
          "height": 419
        },
        "id": "OeAgzo4V2Sul",
        "outputId": "ff2aaf31-7dad-43a3-a8ac-cace61947049"
      },
      "source": [
        "dfb"
      ],
      "execution_count": 54,
      "outputs": [
        {
          "output_type": "execute_result",
          "data": {
            "text/html": [
              "<div>\n",
              "<style scoped>\n",
              "    .dataframe tbody tr th:only-of-type {\n",
              "        vertical-align: middle;\n",
              "    }\n",
              "\n",
              "    .dataframe tbody tr th {\n",
              "        vertical-align: top;\n",
              "    }\n",
              "\n",
              "    .dataframe thead th {\n",
              "        text-align: right;\n",
              "    }\n",
              "</style>\n",
              "<table border=\"1\" class=\"dataframe\">\n",
              "  <thead>\n",
              "    <tr style=\"text-align: right;\">\n",
              "      <th></th>\n",
              "      <th>Date</th>\n",
              "      <th>High</th>\n",
              "      <th>Low</th>\n",
              "      <th>Open</th>\n",
              "      <th>Close</th>\n",
              "      <th>Volume</th>\n",
              "      <th>Adj Close</th>\n",
              "    </tr>\n",
              "  </thead>\n",
              "  <tbody>\n",
              "    <tr>\n",
              "      <th>0</th>\n",
              "      <td>2012-05-18</td>\n",
              "      <td>45.000000</td>\n",
              "      <td>38.000000</td>\n",
              "      <td>42.049999</td>\n",
              "      <td>38.230000</td>\n",
              "      <td>573576400</td>\n",
              "      <td>38.230000</td>\n",
              "    </tr>\n",
              "    <tr>\n",
              "      <th>1</th>\n",
              "      <td>2012-05-21</td>\n",
              "      <td>36.660000</td>\n",
              "      <td>33.000000</td>\n",
              "      <td>36.529999</td>\n",
              "      <td>34.029999</td>\n",
              "      <td>168192700</td>\n",
              "      <td>34.029999</td>\n",
              "    </tr>\n",
              "    <tr>\n",
              "      <th>2</th>\n",
              "      <td>2012-05-22</td>\n",
              "      <td>33.590000</td>\n",
              "      <td>30.940001</td>\n",
              "      <td>32.610001</td>\n",
              "      <td>31.000000</td>\n",
              "      <td>101786600</td>\n",
              "      <td>31.000000</td>\n",
              "    </tr>\n",
              "    <tr>\n",
              "      <th>3</th>\n",
              "      <td>2012-05-23</td>\n",
              "      <td>32.500000</td>\n",
              "      <td>31.360001</td>\n",
              "      <td>31.370001</td>\n",
              "      <td>32.000000</td>\n",
              "      <td>73600000</td>\n",
              "      <td>32.000000</td>\n",
              "    </tr>\n",
              "    <tr>\n",
              "      <th>4</th>\n",
              "      <td>2012-05-24</td>\n",
              "      <td>33.209999</td>\n",
              "      <td>31.770000</td>\n",
              "      <td>32.950001</td>\n",
              "      <td>33.029999</td>\n",
              "      <td>50237200</td>\n",
              "      <td>33.029999</td>\n",
              "    </tr>\n",
              "    <tr>\n",
              "      <th>...</th>\n",
              "      <td>...</td>\n",
              "      <td>...</td>\n",
              "      <td>...</td>\n",
              "      <td>...</td>\n",
              "      <td>...</td>\n",
              "      <td>...</td>\n",
              "      <td>...</td>\n",
              "    </tr>\n",
              "    <tr>\n",
              "      <th>2257</th>\n",
              "      <td>2021-05-10</td>\n",
              "      <td>314.579987</td>\n",
              "      <td>304.829987</td>\n",
              "      <td>314.350006</td>\n",
              "      <td>305.970001</td>\n",
              "      <td>24239200</td>\n",
              "      <td>305.970001</td>\n",
              "    </tr>\n",
              "    <tr>\n",
              "      <th>2258</th>\n",
              "      <td>2021-05-11</td>\n",
              "      <td>306.839996</td>\n",
              "      <td>299.690002</td>\n",
              "      <td>300.750000</td>\n",
              "      <td>306.529999</td>\n",
              "      <td>18920100</td>\n",
              "      <td>306.529999</td>\n",
              "    </tr>\n",
              "    <tr>\n",
              "      <th>2259</th>\n",
              "      <td>2021-05-12</td>\n",
              "      <td>304.959991</td>\n",
              "      <td>298.190002</td>\n",
              "      <td>301.130005</td>\n",
              "      <td>302.549988</td>\n",
              "      <td>24645500</td>\n",
              "      <td>302.549988</td>\n",
              "    </tr>\n",
              "    <tr>\n",
              "      <th>2260</th>\n",
              "      <td>2021-05-13</td>\n",
              "      <td>308.859985</td>\n",
              "      <td>302.769989</td>\n",
              "      <td>306.079987</td>\n",
              "      <td>305.260010</td>\n",
              "      <td>18068800</td>\n",
              "      <td>305.260010</td>\n",
              "    </tr>\n",
              "    <tr>\n",
              "      <th>2261</th>\n",
              "      <td>2021-05-14</td>\n",
              "      <td>313.621796</td>\n",
              "      <td>309.079987</td>\n",
              "      <td>309.540009</td>\n",
              "      <td>312.700012</td>\n",
              "      <td>8016993</td>\n",
              "      <td>312.700012</td>\n",
              "    </tr>\n",
              "  </tbody>\n",
              "</table>\n",
              "<p>2262 rows × 7 columns</p>\n",
              "</div>"
            ],
            "text/plain": [
              "           Date        High         Low  ...       Close     Volume   Adj Close\n",
              "0    2012-05-18   45.000000   38.000000  ...   38.230000  573576400   38.230000\n",
              "1    2012-05-21   36.660000   33.000000  ...   34.029999  168192700   34.029999\n",
              "2    2012-05-22   33.590000   30.940001  ...   31.000000  101786600   31.000000\n",
              "3    2012-05-23   32.500000   31.360001  ...   32.000000   73600000   32.000000\n",
              "4    2012-05-24   33.209999   31.770000  ...   33.029999   50237200   33.029999\n",
              "...         ...         ...         ...  ...         ...        ...         ...\n",
              "2257 2021-05-10  314.579987  304.829987  ...  305.970001   24239200  305.970001\n",
              "2258 2021-05-11  306.839996  299.690002  ...  306.529999   18920100  306.529999\n",
              "2259 2021-05-12  304.959991  298.190002  ...  302.549988   24645500  302.549988\n",
              "2260 2021-05-13  308.859985  302.769989  ...  305.260010   18068800  305.260010\n",
              "2261 2021-05-14  313.621796  309.079987  ...  312.700012    8016993  312.700012\n",
              "\n",
              "[2262 rows x 7 columns]"
            ]
          },
          "metadata": {
            "tags": []
          },
          "execution_count": 54
        }
      ]
    },
    {
      "cell_type": "code",
      "metadata": {
        "id": "pQUzNEYT2Uur"
      },
      "source": [
        "dfb[['ds','y']]=dfb[['Date','Adj Close']]"
      ],
      "execution_count": 55,
      "outputs": []
    },
    {
      "cell_type": "code",
      "metadata": {
        "colab": {
          "base_uri": "https://localhost:8080/",
          "height": 402
        },
        "id": "P0x6Ni-Z2Zi2",
        "outputId": "9e63f68d-a9ad-4a06-86bb-e8745672f394"
      },
      "source": [
        "dfb"
      ],
      "execution_count": null,
      "outputs": [
        {
          "output_type": "execute_result",
          "data": {
            "text/html": [
              "<div>\n",
              "<style scoped>\n",
              "    .dataframe tbody tr th:only-of-type {\n",
              "        vertical-align: middle;\n",
              "    }\n",
              "\n",
              "    .dataframe tbody tr th {\n",
              "        vertical-align: top;\n",
              "    }\n",
              "\n",
              "    .dataframe thead th {\n",
              "        text-align: right;\n",
              "    }\n",
              "</style>\n",
              "<table border=\"1\" class=\"dataframe\">\n",
              "  <thead>\n",
              "    <tr style=\"text-align: right;\">\n",
              "      <th></th>\n",
              "      <th>Date</th>\n",
              "      <th>High</th>\n",
              "      <th>Low</th>\n",
              "      <th>Open</th>\n",
              "      <th>Close</th>\n",
              "      <th>Volume</th>\n",
              "      <th>Adj Close</th>\n",
              "      <th>ds</th>\n",
              "      <th>y</th>\n",
              "    </tr>\n",
              "  </thead>\n",
              "  <tbody>\n",
              "    <tr>\n",
              "      <th>0</th>\n",
              "      <td>2012-05-18</td>\n",
              "      <td>45.000000</td>\n",
              "      <td>38.000000</td>\n",
              "      <td>42.049999</td>\n",
              "      <td>38.230000</td>\n",
              "      <td>573576400</td>\n",
              "      <td>38.230000</td>\n",
              "      <td>2012-05-18</td>\n",
              "      <td>38.230000</td>\n",
              "    </tr>\n",
              "    <tr>\n",
              "      <th>1</th>\n",
              "      <td>2012-05-21</td>\n",
              "      <td>36.660000</td>\n",
              "      <td>33.000000</td>\n",
              "      <td>36.529999</td>\n",
              "      <td>34.029999</td>\n",
              "      <td>168192700</td>\n",
              "      <td>34.029999</td>\n",
              "      <td>2012-05-21</td>\n",
              "      <td>34.029999</td>\n",
              "    </tr>\n",
              "    <tr>\n",
              "      <th>2</th>\n",
              "      <td>2012-05-22</td>\n",
              "      <td>33.590000</td>\n",
              "      <td>30.940001</td>\n",
              "      <td>32.610001</td>\n",
              "      <td>31.000000</td>\n",
              "      <td>101786600</td>\n",
              "      <td>31.000000</td>\n",
              "      <td>2012-05-22</td>\n",
              "      <td>31.000000</td>\n",
              "    </tr>\n",
              "    <tr>\n",
              "      <th>3</th>\n",
              "      <td>2012-05-23</td>\n",
              "      <td>32.500000</td>\n",
              "      <td>31.360001</td>\n",
              "      <td>31.370001</td>\n",
              "      <td>32.000000</td>\n",
              "      <td>73600000</td>\n",
              "      <td>32.000000</td>\n",
              "      <td>2012-05-23</td>\n",
              "      <td>32.000000</td>\n",
              "    </tr>\n",
              "    <tr>\n",
              "      <th>4</th>\n",
              "      <td>2012-05-24</td>\n",
              "      <td>33.209999</td>\n",
              "      <td>31.770000</td>\n",
              "      <td>32.950001</td>\n",
              "      <td>33.029999</td>\n",
              "      <td>50237200</td>\n",
              "      <td>33.029999</td>\n",
              "      <td>2012-05-24</td>\n",
              "      <td>33.029999</td>\n",
              "    </tr>\n",
              "    <tr>\n",
              "      <th>...</th>\n",
              "      <td>...</td>\n",
              "      <td>...</td>\n",
              "      <td>...</td>\n",
              "      <td>...</td>\n",
              "      <td>...</td>\n",
              "      <td>...</td>\n",
              "      <td>...</td>\n",
              "      <td>...</td>\n",
              "      <td>...</td>\n",
              "    </tr>\n",
              "    <tr>\n",
              "      <th>2251</th>\n",
              "      <td>2021-04-30</td>\n",
              "      <td>329.820007</td>\n",
              "      <td>324.500000</td>\n",
              "      <td>326.140015</td>\n",
              "      <td>325.079987</td>\n",
              "      <td>26322000</td>\n",
              "      <td>325.079987</td>\n",
              "      <td>2021-04-30</td>\n",
              "      <td>325.079987</td>\n",
              "    </tr>\n",
              "    <tr>\n",
              "      <th>2252</th>\n",
              "      <td>2021-05-03</td>\n",
              "      <td>328.549988</td>\n",
              "      <td>321.839996</td>\n",
              "      <td>326.170013</td>\n",
              "      <td>322.579987</td>\n",
              "      <td>18719500</td>\n",
              "      <td>322.579987</td>\n",
              "      <td>2021-05-03</td>\n",
              "      <td>322.579987</td>\n",
              "    </tr>\n",
              "    <tr>\n",
              "      <th>2253</th>\n",
              "      <td>2021-05-04</td>\n",
              "      <td>322.190002</td>\n",
              "      <td>313.119995</td>\n",
              "      <td>320.019989</td>\n",
              "      <td>318.359985</td>\n",
              "      <td>24032600</td>\n",
              "      <td>318.359985</td>\n",
              "      <td>2021-05-04</td>\n",
              "      <td>318.359985</td>\n",
              "    </tr>\n",
              "    <tr>\n",
              "      <th>2254</th>\n",
              "      <td>2021-05-05</td>\n",
              "      <td>321.059998</td>\n",
              "      <td>314.489990</td>\n",
              "      <td>318.190002</td>\n",
              "      <td>315.019989</td>\n",
              "      <td>15560900</td>\n",
              "      <td>315.019989</td>\n",
              "      <td>2021-05-05</td>\n",
              "      <td>315.019989</td>\n",
              "    </tr>\n",
              "    <tr>\n",
              "      <th>2255</th>\n",
              "      <td>2021-05-06</td>\n",
              "      <td>319.359985</td>\n",
              "      <td>313.274994</td>\n",
              "      <td>314.519989</td>\n",
              "      <td>318.680115</td>\n",
              "      <td>8379823</td>\n",
              "      <td>318.680115</td>\n",
              "      <td>2021-05-06</td>\n",
              "      <td>318.680115</td>\n",
              "    </tr>\n",
              "  </tbody>\n",
              "</table>\n",
              "<p>2256 rows × 9 columns</p>\n",
              "</div>"
            ],
            "text/plain": [
              "           Date        High         Low  ...   Adj Close         ds           y\n",
              "0    2012-05-18   45.000000   38.000000  ...   38.230000 2012-05-18   38.230000\n",
              "1    2012-05-21   36.660000   33.000000  ...   34.029999 2012-05-21   34.029999\n",
              "2    2012-05-22   33.590000   30.940001  ...   31.000000 2012-05-22   31.000000\n",
              "3    2012-05-23   32.500000   31.360001  ...   32.000000 2012-05-23   32.000000\n",
              "4    2012-05-24   33.209999   31.770000  ...   33.029999 2012-05-24   33.029999\n",
              "...         ...         ...         ...  ...         ...        ...         ...\n",
              "2251 2021-04-30  329.820007  324.500000  ...  325.079987 2021-04-30  325.079987\n",
              "2252 2021-05-03  328.549988  321.839996  ...  322.579987 2021-05-03  322.579987\n",
              "2253 2021-05-04  322.190002  313.119995  ...  318.359985 2021-05-04  318.359985\n",
              "2254 2021-05-05  321.059998  314.489990  ...  315.019989 2021-05-05  315.019989\n",
              "2255 2021-05-06  319.359985  313.274994  ...  318.680115 2021-05-06  318.680115\n",
              "\n",
              "[2256 rows x 9 columns]"
            ]
          },
          "metadata": {
            "tags": []
          },
          "execution_count": 70
        }
      ]
    },
    {
      "cell_type": "code",
      "metadata": {
        "colab": {
          "base_uri": "https://localhost:8080/"
        },
        "id": "7Wjzh-Gw2bfi",
        "outputId": "93b0899a-bd76-46ea-dd9d-91a090ae91fa"
      },
      "source": [
        "model.fit(dfb)"
      ],
      "execution_count": 56,
      "outputs": [
        {
          "output_type": "stream",
          "text": [
            "INFO:fbprophet:Disabling daily seasonality. Run prophet with daily_seasonality=True to override this.\n"
          ],
          "name": "stderr"
        },
        {
          "output_type": "execute_result",
          "data": {
            "text/plain": [
              "<fbprophet.forecaster.Prophet at 0x7fb2d3e2e3d0>"
            ]
          },
          "metadata": {
            "tags": []
          },
          "execution_count": 56
        }
      ]
    },
    {
      "cell_type": "code",
      "metadata": {
        "id": "x_joJtYe2fJQ"
      },
      "source": [
        "prediction=model.make_future_dataframe(periods=200)"
      ],
      "execution_count": 57,
      "outputs": []
    },
    {
      "cell_type": "code",
      "metadata": {
        "colab": {
          "base_uri": "https://localhost:8080/"
        },
        "id": "agfIEWej2i84",
        "outputId": "9b85366c-2bdf-4a67-cc05-3d1118ea370b"
      },
      "source": [
        "pre=model.predict(prediction)\n",
        "print(pre)"
      ],
      "execution_count": 58,
      "outputs": [
        {
          "output_type": "stream",
          "text": [
            "             ds       trend  ...  multiplicative_terms_upper        yhat\n",
            "0    2012-05-18   23.400681  ...                         0.0   21.679184\n",
            "1    2012-05-21   23.462015  ...                         0.0   21.236442\n",
            "2    2012-05-22   23.482460  ...                         0.0   21.435263\n",
            "3    2012-05-23   23.502904  ...                         0.0   21.457099\n",
            "4    2012-05-24   23.523349  ...                         0.0   21.412140\n",
            "...         ...         ...  ...                         ...         ...\n",
            "2457 2021-11-26  336.813033  ...                         0.0  332.208145\n",
            "2458 2021-11-27  336.999377  ...                         0.0  342.673654\n",
            "2459 2021-11-28  337.185720  ...                         0.0  342.894429\n",
            "2460 2021-11-29  337.372063  ...                         0.0  332.577353\n",
            "2461 2021-11-30  337.558407  ...                         0.0  333.070591\n",
            "\n",
            "[2462 rows x 19 columns]\n"
          ],
          "name": "stdout"
        }
      ]
    },
    {
      "cell_type": "markdown",
      "metadata": {
        "id": "h9O7exT040S6"
      },
      "source": [
        "7.1 Calclulating the Accuracy"
      ]
    },
    {
      "cell_type": "code",
      "metadata": {
        "colab": {
          "base_uri": "https://localhost:8080/"
        },
        "id": "sPHvTNhZ3xpG",
        "outputId": "bf8273af-0351-4bca-cecb-3cdaf423b7cf"
      },
      "source": [
        "import math\n",
        "from sklearn.metrics import mean_squared_error\n",
        "rmse_fb=math.sqrt(mean_squared_error(pre['trend'],pre['yhat']))\n",
        "print(\"RMSE error of FBProphet =\",rmse_fb)"
      ],
      "execution_count": 59,
      "outputs": [
        {
          "output_type": "stream",
          "text": [
            "RMSE error of FBProphet = 5.046145290076681\n"
          ],
          "name": "stdout"
        }
      ]
    },
    {
      "cell_type": "markdown",
      "metadata": {
        "id": "4wlTQAS04vY2"
      },
      "source": [
        "7.2 Graphical Visualization"
      ]
    },
    {
      "cell_type": "code",
      "metadata": {
        "colab": {
          "base_uri": "https://localhost:8080/",
          "height": 262
        },
        "id": "asEO4s0f4H39",
        "outputId": "161d7e3d-87a4-4cb6-91db-3f7214dceffa"
      },
      "source": [
        "from matplotlib import pyplot\n",
        "pyplot.plot(pre['trend'], label='Actual')\n",
        "pyplot.plot(pre['yhat'], label='Predicted')\n",
        "pyplot.legend()\n",
        "pyplot.show()"
      ],
      "execution_count": 60,
      "outputs": [
        {
          "output_type": "display_data",
          "data": {
            "image/png": "[encoded data removed]",
            "text/plain": [
              "<Figure size 432x288 with 1 Axes>"
            ]
          },
          "metadata": {
            "tags": [],
            "needs_background": "light"
          }
        }
      ]
    },
    {
      "cell_type": "markdown",
      "metadata": {
        "id": "T5ya6xggD1Ys"
      },
      "source": [
        "**Evaluation of the Performance of Algorithms**"
      ]
    },
    {
      "cell_type": "markdown",
      "metadata": {
        "id": "r176V9N3F-Ij"
      },
      "source": [
        "1. BASED ON THE ACCURACY SCORE"
      ]
    },
    {
      "cell_type": "code",
      "metadata": {
        "colab": {
          "base_uri": "https://localhost:8080/"
        },
        "id": "SXXenXpID0ti",
        "outputId": "0c1d6079-06bc-4675-eea1-2028072ee283"
      },
      "source": [
        "scores = [accuracy_linear*100,accuracy_lasso*100,accuracy_knn*100,accuracy_el*100,accuracy_dt*100]\n",
        "algorithms = [\"Linear Regression\",\"Lasso Regression\",\"KNN\",\"ElasticNet\",\"Decision Tree Regressor\"]\n",
        "for i in range(len(algorithms)):\n",
        "    print(\"The accuracy score achieved using \"+algorithms[i]+\" is: \"+str(scores[i])+\" %\")"
      ],
      "execution_count": 61,
      "outputs": [
        {
          "output_type": "stream",
          "text": [
            "The accuracy score achieved using Linear Regression is: 93.2917785084951 %\n",
            "The accuracy score achieved using Lasso Regression is: 94.28965609316482 %\n",
            "The accuracy score achieved using KNN is: 99.80564089943387 %\n",
            "The accuracy score achieved using ElasticNet is: 93.58445286830039 %\n",
            "The accuracy score achieved using Decision Tree Regressor is: 99.80817507453601 %\n"
          ],
          "name": "stdout"
        }
      ]
    },
    {
      "cell_type": "code",
      "metadata": {
        "colab": {
          "base_uri": "https://localhost:8080/",
          "height": 376
        },
        "id": "5xPP7bKKE8FQ",
        "outputId": "721e4070-f1f6-4a1a-e3f3-1dbcdcad1089"
      },
      "source": [
        "sns.set(rc={'figure.figsize':(25,10)})\n",
        "plt.xlabel(\"Algorithms\")\n",
        "plt.ylabel(\"Accuracy score\")\n",
        "\n",
        "sns.barplot(algorithms,scores)"
      ],
      "execution_count": 62,
      "outputs": [
        {
          "output_type": "execute_result",
          "data": {
            "text/plain": [
              "<matplotlib.axes._subplots.AxesSubplot at 0x7fb2d022a3d0>"
            ]
          },
          "metadata": {
            "tags": []
          },
          "execution_count": 62
        },
        {
          "output_type": "display_data",
          "data": {
            "image/png": "[encoded data removed]",
            "text/plain": [
              "<Figure size 1800x720 with 1 Axes>"
            ]
          },
          "metadata": {
            "tags": []
          }
        }
      ]
    },
    {
      "cell_type": "markdown",
      "metadata": {
        "id": "SsoCiO-HGCcM"
      },
      "source": [
        "2. BASED ON RMSE VALUES"
      ]
    },
    {
      "cell_type": "code",
      "metadata": {
        "colab": {
          "base_uri": "https://localhost:8080/"
        },
        "id": "mz9R5HmFGE17",
        "outputId": "d7837a83-1d77-4a23-eaf8-79e3e47531f7"
      },
      "source": [
        "scores = [rmse_linear,rmse_lasso,rmse_knn,rmse_el,rmse_dt,rmse_lstm,rmse_fb]\n",
        "algorithms = [\"Linear Regression\",\"Lasso Regression\",\"KNN\",\"ElasticNet\",\"Decision Tree Regressor\",\"LSTM\",\"FB PROPHET\"]\n",
        "for i in range(len(algorithms)):\n",
        "    print(\"The RMSE Value achieved using \"+algorithms[i]+\" is: \"+str(scores[i])+\" \")"
      ],
      "execution_count": 85,
      "outputs": [
        {
          "output_type": "stream",
          "text": [
            "The RMSE Value achieved using Linear Regression is: 20.38945674714466 \n",
            "The RMSE Value achieved using Lasso Regression is: 18.497097587106566 \n",
            "The RMSE Value achieved using KNN is: 3.123346256033217 \n",
            "The RMSE Value achieved using ElasticNet is: 17.918819800373004 \n",
            "The RMSE Value achieved using Decision Tree Regressor is: 3.1479336012627432 \n",
            "The RMSE Value achieved using LSTM is: 104.86969536002336 \n",
            "The RMSE Value achieved using FB PROPHET is: 5.046145290076681 \n"
          ],
          "name": "stdout"
        }
      ]
    },
    {
      "cell_type": "code",
      "metadata": {
        "colab": {
          "base_uri": "https://localhost:8080/",
          "height": 376
        },
        "id": "w_-TqVSqGcGg",
        "outputId": "546ff00c-c393-4828-9aec-065ac8478e6a"
      },
      "source": [
        "sns.set(rc={'figure.figsize':(25,10)})\n",
        "plt.xlabel(\"Algorithms\")\n",
        "plt.ylabel(\"RMSE Value\")\n",
        "\n",
        "sns.barplot(algorithms,scores)"
      ],
      "execution_count": 86,
      "outputs": [
        {
          "output_type": "execute_result",
          "data": {
            "text/plain": [
              "<matplotlib.axes._subplots.AxesSubplot at 0x7fb2cfed9190>"
            ]
          },
          "metadata": {
            "tags": []
          },
          "execution_count": 86
        },
        {
          "output_type": "display_data",
          "data": {
            "image/png": "[encoded data removed]",
            "text/plain": [
              "<Figure size 1800x720 with 1 Axes>"
            ]
          },
          "metadata": {
            "tags": []
          }
        }
      ]
    },
    {
      "cell_type": "markdown",
      "metadata": {
        "id": "xRbrpeCFIHB_"
      },
      "source": [
        "**FORECASTING THE FUTURE STOCK PRICES USING ML AND DEEP LEARNING**"
      ]
    },
    {
      "cell_type": "code",
      "metadata": {
        "colab": {
          "base_uri": "https://localhost:8080/",
          "height": 450
        },
        "id": "G87SmgFEIQNC",
        "outputId": "54ce9947-6514-4cce-90ad-25d4e0cf25c9"
      },
      "source": [
        "df=web.DataReader('AMZN',data_source='yahoo',start='2012-01-01',end='2021-05-15')\n",
        "df"
      ],
      "execution_count": 65,
      "outputs": [
        {
          "output_type": "execute_result",
          "data": {
            "text/html": [
              "<div>\n",
              "<style scoped>\n",
              "    .dataframe tbody tr th:only-of-type {\n",
              "        vertical-align: middle;\n",
              "    }\n",
              "\n",
              "    .dataframe tbody tr th {\n",
              "        vertical-align: top;\n",
              "    }\n",
              "\n",
              "    .dataframe thead th {\n",
              "        text-align: right;\n",
              "    }\n",
              "</style>\n",
              "<table border=\"1\" class=\"dataframe\">\n",
              "  <thead>\n",
              "    <tr style=\"text-align: right;\">\n",
              "      <th></th>\n",
              "      <th>High</th>\n",
              "      <th>Low</th>\n",
              "      <th>Open</th>\n",
              "      <th>Close</th>\n",
              "      <th>Volume</th>\n",
              "      <th>Adj Close</th>\n",
              "    </tr>\n",
              "    <tr>\n",
              "      <th>Date</th>\n",
              "      <th></th>\n",
              "      <th></th>\n",
              "      <th></th>\n",
              "      <th></th>\n",
              "      <th></th>\n",
              "      <th></th>\n",
              "    </tr>\n",
              "  </thead>\n",
              "  <tbody>\n",
              "    <tr>\n",
              "      <th>2012-01-03</th>\n",
              "      <td>179.479996</td>\n",
              "      <td>175.550003</td>\n",
              "      <td>175.889999</td>\n",
              "      <td>179.029999</td>\n",
              "      <td>5110800</td>\n",
              "      <td>179.029999</td>\n",
              "    </tr>\n",
              "    <tr>\n",
              "      <th>2012-01-04</th>\n",
              "      <td>180.500000</td>\n",
              "      <td>176.070007</td>\n",
              "      <td>179.210007</td>\n",
              "      <td>177.509995</td>\n",
              "      <td>4205200</td>\n",
              "      <td>177.509995</td>\n",
              "    </tr>\n",
              "    <tr>\n",
              "      <th>2012-01-05</th>\n",
              "      <td>178.250000</td>\n",
              "      <td>174.050003</td>\n",
              "      <td>175.940002</td>\n",
              "      <td>177.610001</td>\n",
              "      <td>3809100</td>\n",
              "      <td>177.610001</td>\n",
              "    </tr>\n",
              "    <tr>\n",
              "      <th>2012-01-06</th>\n",
              "      <td>184.649994</td>\n",
              "      <td>177.500000</td>\n",
              "      <td>178.070007</td>\n",
              "      <td>182.610001</td>\n",
              "      <td>7008400</td>\n",
              "      <td>182.610001</td>\n",
              "    </tr>\n",
              "    <tr>\n",
              "      <th>2012-01-09</th>\n",
              "      <td>184.369995</td>\n",
              "      <td>177.000000</td>\n",
              "      <td>182.759995</td>\n",
              "      <td>178.559998</td>\n",
              "      <td>5056900</td>\n",
              "      <td>178.559998</td>\n",
              "    </tr>\n",
              "    <tr>\n",
              "      <th>...</th>\n",
              "      <td>...</td>\n",
              "      <td>...</td>\n",
              "      <td>...</td>\n",
              "      <td>...</td>\n",
              "      <td>...</td>\n",
              "      <td>...</td>\n",
              "    </tr>\n",
              "    <tr>\n",
              "      <th>2021-05-10</th>\n",
              "      <td>3283.000000</td>\n",
              "      <td>3190.000000</td>\n",
              "      <td>3282.320068</td>\n",
              "      <td>3190.489990</td>\n",
              "      <td>5838600</td>\n",
              "      <td>3190.489990</td>\n",
              "    </tr>\n",
              "    <tr>\n",
              "      <th>2021-05-11</th>\n",
              "      <td>3238.000000</td>\n",
              "      <td>3127.370117</td>\n",
              "      <td>3136.280029</td>\n",
              "      <td>3223.909912</td>\n",
              "      <td>4619800</td>\n",
              "      <td>3223.909912</td>\n",
              "    </tr>\n",
              "    <tr>\n",
              "      <th>2021-05-12</th>\n",
              "      <td>3207.939941</td>\n",
              "      <td>3133.100098</td>\n",
              "      <td>3185.000000</td>\n",
              "      <td>3151.939941</td>\n",
              "      <td>4936400</td>\n",
              "      <td>3151.939941</td>\n",
              "    </tr>\n",
              "    <tr>\n",
              "      <th>2021-05-13</th>\n",
              "      <td>3203.840088</td>\n",
              "      <td>3133.000000</td>\n",
              "      <td>3185.469971</td>\n",
              "      <td>3161.469971</td>\n",
              "      <td>3350900</td>\n",
              "      <td>3161.469971</td>\n",
              "    </tr>\n",
              "    <tr>\n",
              "      <th>2021-05-14</th>\n",
              "      <td>3221.189941</td>\n",
              "      <td>3183.409912</td>\n",
              "      <td>3185.560059</td>\n",
              "      <td>3215.010010</td>\n",
              "      <td>1530305</td>\n",
              "      <td>3215.010010</td>\n",
              "    </tr>\n",
              "  </tbody>\n",
              "</table>\n",
              "<p>2357 rows × 6 columns</p>\n",
              "</div>"
            ],
            "text/plain": [
              "                   High          Low  ...   Volume    Adj Close\n",
              "Date                                  ...                      \n",
              "2012-01-03   179.479996   175.550003  ...  5110800   179.029999\n",
              "2012-01-04   180.500000   176.070007  ...  4205200   177.509995\n",
              "2012-01-05   178.250000   174.050003  ...  3809100   177.610001\n",
              "2012-01-06   184.649994   177.500000  ...  7008400   182.610001\n",
              "2012-01-09   184.369995   177.000000  ...  5056900   178.559998\n",
              "...                 ...          ...  ...      ...          ...\n",
              "2021-05-10  3283.000000  3190.000000  ...  5838600  3190.489990\n",
              "2021-05-11  3238.000000  3127.370117  ...  4619800  3223.909912\n",
              "2021-05-12  3207.939941  3133.100098  ...  4936400  3151.939941\n",
              "2021-05-13  3203.840088  3133.000000  ...  3350900  3161.469971\n",
              "2021-05-14  3221.189941  3183.409912  ...  1530305  3215.010010\n",
              "\n",
              "[2357 rows x 6 columns]"
            ]
          },
          "metadata": {
            "tags": []
          },
          "execution_count": 65
        }
      ]
    },
    {
      "cell_type": "markdown",
      "metadata": {
        "id": "vp7U9TkQI6oi"
      },
      "source": [
        "1.FORECASTING USING LINEAR REGRESSION"
      ]
    },
    {
      "cell_type": "code",
      "metadata": {
        "id": "SY_Zp-PhI2wZ"
      },
      "source": [
        "from sklearn import preprocessing\n",
        "forecast = 30\n",
        "df['Prediction'] = df[['Adj Close']].shift(-forecast)\n",
        "\n",
        "X = np.array(df.drop(['Prediction'], 1))\n",
        "X = preprocessing.scale(X)\n",
        "\n",
        "X_forecast = X[-forecast:]\n",
        "X = X[:-forecast]\n",
        "\n",
        "y = np.array(df['Prediction'])\n",
        "y = y[:-forecast]"
      ],
      "execution_count": 66,
      "outputs": []
    },
    {
      "cell_type": "code",
      "metadata": {
        "colab": {
          "base_uri": "https://localhost:8080/"
        },
        "id": "vrRvsuDBJIIU",
        "outputId": "67cf82c3-e449-4814-ce15-ee8deb33c3a9"
      },
      "source": [
        "X_train, X_test, y_train, y_test = train_test_split(X, y, test_size=0.2)\n",
        "\n",
        "clf = LinearRegression()\n",
        "clf.fit(X_train, y_train)\n",
        "\n",
        "confidence_linear = clf.score(X_test, y_test)\n",
        "\n",
        "forecast_predicted_linear = clf.predict(X_forecast)\n",
        "print(forecast_predicted_linear)"
      ],
      "execution_count": 67,
      "outputs": [
        {
          "output_type": "stream",
          "text": [
            "[3343.54652356 3277.43876901 3400.23085235 3352.17719039 3498.83648358\n",
            " 3452.01780515 3457.39929468 3426.93645238 3449.99682109 3480.99845427\n",
            " 3475.38493684 3424.38720482 3462.66325874 3398.92275327 3440.42298584\n",
            " 3548.77568224 3499.02364349 3550.87435001 3557.89084191 3564.59837788\n",
            " 3507.21011275 3424.84353961 3377.27306719 3406.13977406 3344.7792067\n",
            " 3287.20982182 3386.57227586 3243.1937282  3256.44382463 3288.53918469]\n"
          ],
          "name": "stdout"
        }
      ]
    },
    {
      "cell_type": "code",
      "metadata": {
        "colab": {
          "base_uri": "https://localhost:8080/"
        },
        "id": "iJHv8NoDJPD5",
        "outputId": "155bc35a-edda-41a3-f8f6-f5fbd8e8bc8f"
      },
      "source": [
        "print(confidence_linear*100)"
      ],
      "execution_count": 68,
      "outputs": [
        {
          "output_type": "stream",
          "text": [
            "98.06622147828195\n"
          ],
          "name": "stdout"
        }
      ]
    },
    {
      "cell_type": "code",
      "metadata": {
        "colab": {
          "base_uri": "https://localhost:8080/",
          "height": 379
        },
        "id": "FyXGO2EJJdlr",
        "outputId": "d5283273-3b82-4c3d-b1ca-cb169863edc1"
      },
      "source": [
        "dates = pd.date_range(start=\"2021-05-14\", end=\"2021-06-12\")\n",
        "plt.plot(dates, forecast_predicted_linear,color='r')\n",
        "df['Adj Close'].plot(figsize=(15,6),color='g')\n",
        "plt.xlim(xmin=datetime.date(2020,1,26))"
      ],
      "execution_count": 69,
      "outputs": [
        {
          "output_type": "execute_result",
          "data": {
            "text/plain": [
              "(737450.0, 738125.4)"
            ]
          },
          "metadata": {
            "tags": []
          },
          "execution_count": 69
        },
        {
          "output_type": "display_data",
          "data": {
            "image/png": "[encoded data removed]",
            "text/plain": [
              "<Figure size 1080x432 with 1 Axes>"
            ]
          },
          "metadata": {
            "tags": []
          }
        }
      ]
    },
    {
      "cell_type": "markdown",
      "metadata": {
        "id": "RQQZqmwfJXB1"
      },
      "source": [
        "2. FORECASTING USING LASSO REGRESSION"
      ]
    },
    {
      "cell_type": "code",
      "metadata": {
        "colab": {
          "base_uri": "https://localhost:8080/"
        },
        "id": "Ov5kPY6JJWNz",
        "outputId": "e210d1f9-49e6-4108-ea57-4983d462789a"
      },
      "source": [
        "X_train, X_test, y_train, y_test = train_test_split(X, y, test_size=0.2)\n",
        "\n",
        "clf = Lasso()\n",
        "clf.fit(X_train, y_train)\n",
        "\n",
        "confidence_lasso = clf.score(X_test, y_test)\n",
        "\n",
        "forecast_predicted_lasso= clf.predict(X_forecast)\n",
        "print(forecast_predicted_lasso)"
      ],
      "execution_count": 70,
      "outputs": [
        {
          "output_type": "stream",
          "text": [
            "[3288.30535169 3299.89900235 3356.69986369 3377.90192602 3425.90468179\n",
            " 3449.15406828 3486.51473865 3458.35343226 3451.14256417 3461.06104464\n",
            " 3490.57090862 3437.06348236 3416.78325735 3426.83462868 3428.90161186\n",
            " 3482.69071477 3514.74505544 3544.83622055 3569.21325223 3609.29527946\n",
            " 3541.36713109 3421.45840033 3408.28737132 3367.44557166 3384.07221806\n",
            " 3335.4688513  3290.17207072 3259.72208078 3255.82020081 3273.64608822]\n"
          ],
          "name": "stdout"
        }
      ]
    },
    {
      "cell_type": "code",
      "metadata": {
        "colab": {
          "base_uri": "https://localhost:8080/"
        },
        "id": "R13YSqiqKEdm",
        "outputId": "dad6c272-fa73-4d75-b023-a8a5023e0425"
      },
      "source": [
        "print(confidence_lasso*100)"
      ],
      "execution_count": null,
      "outputs": [
        {
          "output_type": "stream",
          "text": [
            "97.8612344881031\n"
          ],
          "name": "stdout"
        }
      ]
    },
    {
      "cell_type": "code",
      "metadata": {
        "colab": {
          "base_uri": "https://localhost:8080/",
          "height": 379
        },
        "id": "vQFSVKN_KILG",
        "outputId": "4cd577eb-ece3-4e09-db54-0aac387380e2"
      },
      "source": [
        "dates = pd.date_range(start=\"2021-05-14\", end=\"2021-06-12\")\n",
        "plt.plot(dates, forecast_predicted_lasso,color='r')\n",
        "df['Adj Close'].plot(figsize=(15,6),color='g')\n",
        "plt.xlim(xmin=datetime.date(2020,1,26))"
      ],
      "execution_count": 71,
      "outputs": [
        {
          "output_type": "execute_result",
          "data": {
            "text/plain": [
              "(737450.0, 738125.4)"
            ]
          },
          "metadata": {
            "tags": []
          },
          "execution_count": 71
        },
        {
          "output_type": "display_data",
          "data": {
            "image/png": "[encoded data removed]",
            "text/plain": [
              "<Figure size 1080x432 with 1 Axes>"
            ]
          },
          "metadata": {
            "tags": []
          }
        }
      ]
    },
    {
      "cell_type": "markdown",
      "metadata": {
        "id": "AAECcVDRKUF2"
      },
      "source": [
        "3. FORECASTING USING ELASTIC NET"
      ]
    },
    {
      "cell_type": "code",
      "metadata": {
        "colab": {
          "base_uri": "https://localhost:8080/"
        },
        "id": "iTLkyUi0KdDi",
        "outputId": "77c38327-ccf1-4a3c-81a6-2b7f9c61d32e"
      },
      "source": [
        "X_train, X_test, y_train, y_test = train_test_split(X, y, test_size=0.2)\n",
        "\n",
        "clf = ElasticNet()\n",
        "clf.fit(X_train, y_train)\n",
        "\n",
        "confidence_elastic = clf.score(X_test, y_test)\n",
        "\n",
        "forecast_predicted_elastic= clf.predict(X_forecast)\n",
        "print(forecast_predicted_elastic)"
      ],
      "execution_count": 72,
      "outputs": [
        {
          "output_type": "stream",
          "text": [
            "[3067.89749702 3085.54620794 3122.42058956 3158.38883283 3198.02051136\n",
            " 3221.66259585 3252.76041632 3209.97689921 3224.78085311 3236.19194653\n",
            " 3232.37730208 3197.31955473 3189.32594588 3182.80365149 3188.9223388\n",
            " 3239.66127456 3274.48919801 3301.55776489 3337.13437366 3349.08722096\n",
            " 3278.59860371 3185.55456413 3156.69335979 3149.55061641 3164.89424435\n",
            " 3098.04578283 3059.08471651 3038.30427968 3035.09750053 3060.44488012]\n"
          ],
          "name": "stdout"
        }
      ]
    },
    {
      "cell_type": "code",
      "metadata": {
        "colab": {
          "base_uri": "https://localhost:8080/"
        },
        "id": "JhPyLHagKo2f",
        "outputId": "6023f80a-0fb9-4e73-f3a6-cef286a63c60"
      },
      "source": [
        "print(confidence_elastic*100)"
      ],
      "execution_count": 73,
      "outputs": [
        {
          "output_type": "stream",
          "text": [
            "97.05432829929515\n"
          ],
          "name": "stdout"
        }
      ]
    },
    {
      "cell_type": "code",
      "metadata": {
        "colab": {
          "base_uri": "https://localhost:8080/",
          "height": 379
        },
        "id": "s3eTWBX8Kskv",
        "outputId": "5293dfbb-da98-4f1e-bb77-f4c7f3a7abe3"
      },
      "source": [
        "dates = pd.date_range(start=\"2021-05-14\", end=\"2021-06-12\")\n",
        "plt.plot(dates, forecast_predicted_elastic,color='r')\n",
        "df['Adj Close'].plot(figsize=(15,6),color='g')\n",
        "plt.xlim(xmin=datetime.date(2020,1,26))"
      ],
      "execution_count": 74,
      "outputs": [
        {
          "output_type": "execute_result",
          "data": {
            "text/plain": [
              "(737450.0, 738125.4)"
            ]
          },
          "metadata": {
            "tags": []
          },
          "execution_count": 74
        },
        {
          "output_type": "display_data",
          "data": {
            "image/png": "[encoded data removed]",
            "text/plain": [
              "<Figure size 1080x432 with 1 Axes>"
            ]
          },
          "metadata": {
            "tags": []
          }
        }
      ]
    },
    {
      "cell_type": "markdown",
      "metadata": {
        "id": "KEb-gZvOK4cp"
      },
      "source": [
        "4.FORECASTING USING KNN"
      ]
    },
    {
      "cell_type": "code",
      "metadata": {
        "colab": {
          "base_uri": "https://localhost:8080/"
        },
        "id": "s-A-ifb6Ky7D",
        "outputId": "0ab0c965-41be-4763-b434-23cdfea7c065"
      },
      "source": [
        "from sklearn.neighbors import KNeighborsRegressor\n",
        "\n",
        "X_train, X_test, y_train, y_test = train_test_split(X, y, test_size=0.2)\n",
        "\n",
        "clf = KNeighborsRegressor()\n",
        "clf.fit(X_train, y_train)\n",
        "\n",
        "confidence_knn = clf.score(X_test, y_test)\n",
        "\n",
        "forecast_predicted_knn= clf.predict(X_forecast)\n",
        "print(forecast_predicted_knn)"
      ],
      "execution_count": 75,
      "outputs": [
        {
          "output_type": "stream",
          "text": [
            "[3194.63598633 3172.68598633 3183.69199219 3117.82797852 3162.98999023\n",
            " 3226.00200195 3208.79399414 3215.35595703 3226.00200195 3215.35595703\n",
            " 3170.87197266 3160.78598633 3065.55200195 3065.55200195 3136.02197266\n",
            " 3210.05195313 3222.35996094 3259.70991211 3180.91796875 3190.42001953\n",
            " 3205.11606445 3229.84003906 3164.87402344 3171.6659668  3178.87993164\n",
            " 3269.84003906 3208.3859375  3142.3359375  3176.66196289 3174.39599609]\n"
          ],
          "name": "stdout"
        }
      ]
    },
    {
      "cell_type": "code",
      "metadata": {
        "colab": {
          "base_uri": "https://localhost:8080/"
        },
        "id": "W1NFFxplLDpa",
        "outputId": "cf31b9a4-03d5-4890-8c17-7bde2dbb560a"
      },
      "source": [
        "print(confidence_knn*100)"
      ],
      "execution_count": 76,
      "outputs": [
        {
          "output_type": "stream",
          "text": [
            "98.9106734785713\n"
          ],
          "name": "stdout"
        }
      ]
    },
    {
      "cell_type": "code",
      "metadata": {
        "colab": {
          "base_uri": "https://localhost:8080/",
          "height": 379
        },
        "id": "m_3bsE8SLHdJ",
        "outputId": "6ada6a6e-b212-41ca-bccc-b5ab571798e1"
      },
      "source": [
        "dates = pd.date_range(start=\"2021-05-14\", end=\"2021-06-12\")\n",
        "plt.plot(dates, forecast_predicted_knn,color='r')\n",
        "df['Adj Close'].plot(figsize=(15,6),color='g')\n",
        "plt.xlim(xmin=datetime.date(2020,1,26))"
      ],
      "execution_count": 77,
      "outputs": [
        {
          "output_type": "execute_result",
          "data": {
            "text/plain": [
              "(737450.0, 738125.4)"
            ]
          },
          "metadata": {
            "tags": []
          },
          "execution_count": 77
        },
        {
          "output_type": "display_data",
          "data": {
            "image/png": "[encoded data removed]",
            "text/plain": [
              "<Figure size 1080x432 with 1 Axes>"
            ]
          },
          "metadata": {
            "tags": []
          }
        }
      ]
    },
    {
      "cell_type": "markdown",
      "metadata": {
        "id": "UTYtuoVnLUSd"
      },
      "source": [
        "5.FORECASTING USING DECISION TREE"
      ]
    },
    {
      "cell_type": "code",
      "metadata": {
        "colab": {
          "base_uri": "https://localhost:8080/"
        },
        "id": "AFkI9qaTLRf8",
        "outputId": "24722e5a-38d8-46cb-b1ee-1274c7bc6476"
      },
      "source": [
        "from sklearn.tree import DecisionTreeRegressor\n",
        "X_train, X_test, y_train, y_test = train_test_split(X, y, test_size=0.2)\n",
        "\n",
        "clf = DecisionTreeRegressor()\n",
        "clf.fit(X_train, y_train)\n",
        "\n",
        "confidence_dt = clf.score(X_test, y_test)\n",
        "\n",
        "forecast_predicted_dt = clf.predict(X_forecast)\n",
        "print(forecast_predicted_dt)"
      ],
      "execution_count": 78,
      "outputs": [
        {
          "output_type": "stream",
          "text": [
            "[2954.90991211 3120.83007812 3055.29003906 2951.94995117 3091.86010742\n",
            " 3137.5        3137.5        3442.92993164 3137.5        3137.5\n",
            " 3137.5        3137.5        3161.         2951.94995117 3161.\n",
            " 3262.12988281 3442.92993164 3272.70996094 3118.06005859 3118.06005859\n",
            " 3272.70996094 3148.72998047 3062.85009766 3104.19995117 2951.94995117\n",
            " 3308.63989258 2954.90991211 3137.38989258 3165.88989258 3305.        ]\n"
          ],
          "name": "stdout"
        }
      ]
    },
    {
      "cell_type": "code",
      "metadata": {
        "colab": {
          "base_uri": "https://localhost:8080/"
        },
        "id": "hRJZEv_nLm96",
        "outputId": "e2e23671-7687-4148-c9c1-834211a66a1a"
      },
      "source": [
        "print(confidence_dt*100)"
      ],
      "execution_count": 79,
      "outputs": [
        {
          "output_type": "stream",
          "text": [
            "98.22659684345659\n"
          ],
          "name": "stdout"
        }
      ]
    },
    {
      "cell_type": "code",
      "metadata": {
        "colab": {
          "base_uri": "https://localhost:8080/",
          "height": 379
        },
        "id": "EWznZnR3LqaT",
        "outputId": "55f0752a-d63c-44c5-ca68-a0a318fca1e3"
      },
      "source": [
        "dates = pd.date_range(start=\"2021-05-14\", end=\"2021-06-12\")\n",
        "plt.plot(dates, forecast_predicted_knn,color='r')\n",
        "df['Adj Close'].plot(figsize=(15,6),color='g')\n",
        "plt.xlim(xmin=datetime.date(2020,1,26))"
      ],
      "execution_count": 80,
      "outputs": [
        {
          "output_type": "execute_result",
          "data": {
            "text/plain": [
              "(737450.0, 738125.4)"
            ]
          },
          "metadata": {
            "tags": []
          },
          "execution_count": 80
        },
        {
          "output_type": "display_data",
          "data": {
            "image/png": "[encoded data removed]",
            "text/plain": [
              "<Figure size 1080x432 with 1 Axes>"
            ]
          },
          "metadata": {
            "tags": []
          }
        }
      ]
    },
    {
      "cell_type": "code",
      "metadata": {
        "id": "XullDXy0MW-m"
      },
      "source": [
        "compare=pd.DataFrame({'Linear Regression':forecast_predicted_linear,'Lasso':forecast_predicted_lasso,'Decision tree Regressor':forecast_predicted_dt,'Elastic Net':forecast_predicted_elastic,'K Neighbhors Regressor':forecast_predicted_knn})"
      ],
      "execution_count": 81,
      "outputs": []
    },
    {
      "cell_type": "code",
      "metadata": {
        "colab": {
          "base_uri": "https://localhost:8080/",
          "height": 669
        },
        "id": "Bc4kWj6yMnww",
        "outputId": "dcad0833-4b26-4f99-b59c-f4a3b1748e27"
      },
      "source": [
        "compare.head(20)"
      ],
      "execution_count": 82,
      "outputs": [
        {
          "output_type": "execute_result",
          "data": {
            "text/html": [
              "<div>\n",
              "<style scoped>\n",
              "    .dataframe tbody tr th:only-of-type {\n",
              "        vertical-align: middle;\n",
              "    }\n",
              "\n",
              "    .dataframe tbody tr th {\n",
              "        vertical-align: top;\n",
              "    }\n",
              "\n",
              "    .dataframe thead th {\n",
              "        text-align: right;\n",
              "    }\n",
              "</style>\n",
              "<table border=\"1\" class=\"dataframe\">\n",
              "  <thead>\n",
              "    <tr style=\"text-align: right;\">\n",
              "      <th></th>\n",
              "      <th>Linear Regression</th>\n",
              "      <th>Lasso</th>\n",
              "      <th>Decision tree Regressor</th>\n",
              "      <th>Elastic Net</th>\n",
              "      <th>K Neighbhors Regressor</th>\n",
              "    </tr>\n",
              "  </thead>\n",
              "  <tbody>\n",
              "    <tr>\n",
              "      <th>0</th>\n",
              "      <td>3343.546524</td>\n",
              "      <td>3288.305352</td>\n",
              "      <td>2954.909912</td>\n",
              "      <td>3067.897497</td>\n",
              "      <td>3194.635986</td>\n",
              "    </tr>\n",
              "    <tr>\n",
              "      <th>1</th>\n",
              "      <td>3277.438769</td>\n",
              "      <td>3299.899002</td>\n",
              "      <td>3120.830078</td>\n",
              "      <td>3085.546208</td>\n",
              "      <td>3172.685986</td>\n",
              "    </tr>\n",
              "    <tr>\n",
              "      <th>2</th>\n",
              "      <td>3400.230852</td>\n",
              "      <td>3356.699864</td>\n",
              "      <td>3055.290039</td>\n",
              "      <td>3122.420590</td>\n",
              "      <td>3183.691992</td>\n",
              "    </tr>\n",
              "    <tr>\n",
              "      <th>3</th>\n",
              "      <td>3352.177190</td>\n",
              "      <td>3377.901926</td>\n",
              "      <td>2951.949951</td>\n",
              "      <td>3158.388833</td>\n",
              "      <td>3117.827979</td>\n",
              "    </tr>\n",
              "    <tr>\n",
              "      <th>4</th>\n",
              "      <td>3498.836484</td>\n",
              "      <td>3425.904682</td>\n",
              "      <td>3091.860107</td>\n",
              "      <td>3198.020511</td>\n",
              "      <td>3162.989990</td>\n",
              "    </tr>\n",
              "    <tr>\n",
              "      <th>5</th>\n",
              "      <td>3452.017805</td>\n",
              "      <td>3449.154068</td>\n",
              "      <td>3137.500000</td>\n",
              "      <td>3221.662596</td>\n",
              "      <td>3226.002002</td>\n",
              "    </tr>\n",
              "    <tr>\n",
              "      <th>6</th>\n",
              "      <td>3457.399295</td>\n",
              "      <td>3486.514739</td>\n",
              "      <td>3137.500000</td>\n",
              "      <td>3252.760416</td>\n",
              "      <td>3208.793994</td>\n",
              "    </tr>\n",
              "    <tr>\n",
              "      <th>7</th>\n",
              "      <td>3426.936452</td>\n",
              "      <td>3458.353432</td>\n",
              "      <td>3442.929932</td>\n",
              "      <td>3209.976899</td>\n",
              "      <td>3215.355957</td>\n",
              "    </tr>\n",
              "    <tr>\n",
              "      <th>8</th>\n",
              "      <td>3449.996821</td>\n",
              "      <td>3451.142564</td>\n",
              "      <td>3137.500000</td>\n",
              "      <td>3224.780853</td>\n",
              "      <td>3226.002002</td>\n",
              "    </tr>\n",
              "    <tr>\n",
              "      <th>9</th>\n",
              "      <td>3480.998454</td>\n",
              "      <td>3461.061045</td>\n",
              "      <td>3137.500000</td>\n",
              "      <td>3236.191947</td>\n",
              "      <td>3215.355957</td>\n",
              "    </tr>\n",
              "    <tr>\n",
              "      <th>10</th>\n",
              "      <td>3475.384937</td>\n",
              "      <td>3490.570909</td>\n",
              "      <td>3137.500000</td>\n",
              "      <td>3232.377302</td>\n",
              "      <td>3170.871973</td>\n",
              "    </tr>\n",
              "    <tr>\n",
              "      <th>11</th>\n",
              "      <td>3424.387205</td>\n",
              "      <td>3437.063482</td>\n",
              "      <td>3137.500000</td>\n",
              "      <td>3197.319555</td>\n",
              "      <td>3160.785986</td>\n",
              "    </tr>\n",
              "    <tr>\n",
              "      <th>12</th>\n",
              "      <td>3462.663259</td>\n",
              "      <td>3416.783257</td>\n",
              "      <td>3161.000000</td>\n",
              "      <td>3189.325946</td>\n",
              "      <td>3065.552002</td>\n",
              "    </tr>\n",
              "    <tr>\n",
              "      <th>13</th>\n",
              "      <td>3398.922753</td>\n",
              "      <td>3426.834629</td>\n",
              "      <td>2951.949951</td>\n",
              "      <td>3182.803651</td>\n",
              "      <td>3065.552002</td>\n",
              "    </tr>\n",
              "    <tr>\n",
              "      <th>14</th>\n",
              "      <td>3440.422986</td>\n",
              "      <td>3428.901612</td>\n",
              "      <td>3161.000000</td>\n",
              "      <td>3188.922339</td>\n",
              "      <td>3136.021973</td>\n",
              "    </tr>\n",
              "    <tr>\n",
              "      <th>15</th>\n",
              "      <td>3548.775682</td>\n",
              "      <td>3482.690715</td>\n",
              "      <td>3262.129883</td>\n",
              "      <td>3239.661275</td>\n",
              "      <td>3210.051953</td>\n",
              "    </tr>\n",
              "    <tr>\n",
              "      <th>16</th>\n",
              "      <td>3499.023643</td>\n",
              "      <td>3514.745055</td>\n",
              "      <td>3442.929932</td>\n",
              "      <td>3274.489198</td>\n",
              "      <td>3222.359961</td>\n",
              "    </tr>\n",
              "    <tr>\n",
              "      <th>17</th>\n",
              "      <td>3550.874350</td>\n",
              "      <td>3544.836221</td>\n",
              "      <td>3272.709961</td>\n",
              "      <td>3301.557765</td>\n",
              "      <td>3259.709912</td>\n",
              "    </tr>\n",
              "    <tr>\n",
              "      <th>18</th>\n",
              "      <td>3557.890842</td>\n",
              "      <td>3569.213252</td>\n",
              "      <td>3118.060059</td>\n",
              "      <td>3337.134374</td>\n",
              "      <td>3180.917969</td>\n",
              "    </tr>\n",
              "    <tr>\n",
              "      <th>19</th>\n",
              "      <td>3564.598378</td>\n",
              "      <td>3609.295279</td>\n",
              "      <td>3118.060059</td>\n",
              "      <td>3349.087221</td>\n",
              "      <td>3190.420020</td>\n",
              "    </tr>\n",
              "  </tbody>\n",
              "</table>\n",
              "</div>"
            ],
            "text/plain": [
              "    Linear Regression        Lasso  ...  Elastic Net  K Neighbhors Regressor\n",
              "0         3343.546524  3288.305352  ...  3067.897497             3194.635986\n",
              "1         3277.438769  3299.899002  ...  3085.546208             3172.685986\n",
              "2         3400.230852  3356.699864  ...  3122.420590             3183.691992\n",
              "3         3352.177190  3377.901926  ...  3158.388833             3117.827979\n",
              "4         3498.836484  3425.904682  ...  3198.020511             3162.989990\n",
              "5         3452.017805  3449.154068  ...  3221.662596             3226.002002\n",
              "6         3457.399295  3486.514739  ...  3252.760416             3208.793994\n",
              "7         3426.936452  3458.353432  ...  3209.976899             3215.355957\n",
              "8         3449.996821  3451.142564  ...  3224.780853             3226.002002\n",
              "9         3480.998454  3461.061045  ...  3236.191947             3215.355957\n",
              "10        3475.384937  3490.570909  ...  3232.377302             3170.871973\n",
              "11        3424.387205  3437.063482  ...  3197.319555             3160.785986\n",
              "12        3462.663259  3416.783257  ...  3189.325946             3065.552002\n",
              "13        3398.922753  3426.834629  ...  3182.803651             3065.552002\n",
              "14        3440.422986  3428.901612  ...  3188.922339             3136.021973\n",
              "15        3548.775682  3482.690715  ...  3239.661275             3210.051953\n",
              "16        3499.023643  3514.745055  ...  3274.489198             3222.359961\n",
              "17        3550.874350  3544.836221  ...  3301.557765             3259.709912\n",
              "18        3557.890842  3569.213252  ...  3337.134374             3180.917969\n",
              "19        3564.598378  3609.295279  ...  3349.087221             3190.420020\n",
              "\n",
              "[20 rows x 5 columns]"
            ]
          },
          "metadata": {
            "tags": []
          },
          "execution_count": 82
        }
      ]
    },
    {
      "cell_type": "markdown",
      "metadata": {
        "id": "lnllKGiLMwyg"
      },
      "source": [
        "**EVALUATION OF PERFORMANCE IN FORECASTING**"
      ]
    },
    {
      "cell_type": "code",
      "metadata": {
        "colab": {
          "base_uri": "https://localhost:8080/"
        },
        "id": "ZGOMIIqXMwbC",
        "outputId": "fb9c9f20-3486-49eb-90fc-a2b07508de83"
      },
      "source": [
        "scores = [confidence_linear,confidence_lasso,confidence_knn,confidence_elastic,confidence_dt]\n",
        "algorithms = [\"Linear Regression\",\"Lasso Regression\",\"KNN\",\"ElasticNet\",\"Decision Tree Regressor\"]\n",
        "for i in range(len(algorithms)):\n",
        "    print(\"The confidence scores achieved using \"+algorithms[i]+\" is: \"+str(scores[i]*100)+\"%\")"
      ],
      "execution_count": 88,
      "outputs": [
        {
          "output_type": "stream",
          "text": [
            "The confidence scores achieved using Linear Regression is: 98.06622147828195%\n",
            "The confidence scores achieved using Lasso Regression is: 98.40662627025033%\n",
            "The confidence scores achieved using KNN is: 98.9106734785713%\n",
            "The confidence scores achieved using ElasticNet is: 97.05432829929515%\n",
            "The confidence scores achieved using Decision Tree Regressor is: 98.22659684345659%\n"
          ],
          "name": "stdout"
        }
      ]
    },
    {
      "cell_type": "code",
      "metadata": {
        "colab": {
          "base_uri": "https://localhost:8080/",
          "height": 628
        },
        "id": "z7FOg7HONSvG",
        "outputId": "1b50db27-2e1d-4e80-da60-bfddf0e3a770"
      },
      "source": [
        "sns.set(rc={'figure.figsize':(25,10)})\n",
        "plt.xlabel(\"Algorithms\")\n",
        "plt.ylabel(\"Confidence score\")\n",
        "\n",
        "sns.barplot(algorithms,scores)"
      ],
      "execution_count": 89,
      "outputs": [
        {
          "output_type": "execute_result",
          "data": {
            "text/plain": [
              "<matplotlib.axes._subplots.AxesSubplot at 0x7fb2cfd93190>"
            ]
          },
          "metadata": {
            "tags": []
          },
          "execution_count": 89
        },
        {
          "output_type": "display_data",
          "data": {
            "image/png": "[encoded data removed]",
            "text/plain": [
              "<Figure size 1800x720 with 1 Axes>"
            ]
          },
          "metadata": {
            "tags": []
          }
        }
      ]
    }
  ]
}