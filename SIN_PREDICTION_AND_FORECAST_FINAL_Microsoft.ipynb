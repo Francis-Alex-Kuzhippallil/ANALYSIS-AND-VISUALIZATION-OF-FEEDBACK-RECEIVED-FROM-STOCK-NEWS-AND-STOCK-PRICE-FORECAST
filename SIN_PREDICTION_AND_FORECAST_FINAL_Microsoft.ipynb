{
  "nbformat": 4,
  "nbformat_minor": 0,
  "metadata": {
    "colab": {
      "name": " SIN PREDICTION AND FORECAST FINAL Microsoft.ipynb",
      "provenance": [],
      "collapsed_sections": []
    },
    "kernelspec": {
      "name": "python3",
      "display_name": "Python 3"
    },
    "language_info": {
      "name": "python"
    }
  },
  "cells": [
    {
      "cell_type": "markdown",
      "metadata": {
        "id": "6gc2-uucf-9J"
      },
      "source": [
        "**IMPORTING LIBRARIES**"
      ]
    },
    {
      "cell_type": "code",
      "metadata": {
        "id": "y-W0UUeRf5lI"
      },
      "source": [
        "import numpy as np\n",
        "import pandas as pd\n",
        "import datetime\n",
        "\n",
        "%matplotlib inline\n",
        "import matplotlib.pyplot as plt\n",
        "import seaborn as sns\n",
        "plt.style.use('seaborn-darkgrid')\n",
        "plt.rc('figure', figsize=(16,10))\n",
        "plt.rc('lines', markersize=4)\n",
        "import pandas_datareader as web"
      ],
      "execution_count": 21,
      "outputs": []
    },
    {
      "cell_type": "markdown",
      "metadata": {
        "id": "80qDjskhgUX_"
      },
      "source": [
        "**READING DATA FROM YAHOO FINANCE SOURCE**"
      ]
    },
    {
      "cell_type": "code",
      "metadata": {
        "colab": {
          "base_uri": "https://localhost:8080/",
          "height": 450
        },
        "id": "v7WrYMIGgPmb",
        "outputId": "ad8a0893-9753-4a24-bd9d-6777a9deb746"
      },
      "source": [
        "data=web.DataReader('MSFT',data_source='yahoo',start='2012-01-01',end='2021-05-15')\n",
        "data\n"
      ],
      "execution_count": 22,
      "outputs": [
        {
          "output_type": "execute_result",
          "data": {
            "text/html": [
              "<div>\n",
              "<style scoped>\n",
              "    .dataframe tbody tr th:only-of-type {\n",
              "        vertical-align: middle;\n",
              "    }\n",
              "\n",
              "    .dataframe tbody tr th {\n",
              "        vertical-align: top;\n",
              "    }\n",
              "\n",
              "    .dataframe thead th {\n",
              "        text-align: right;\n",
              "    }\n",
              "</style>\n",
              "<table border=\"1\" class=\"dataframe\">\n",
              "  <thead>\n",
              "    <tr style=\"text-align: right;\">\n",
              "      <th></th>\n",
              "      <th>High</th>\n",
              "      <th>Low</th>\n",
              "      <th>Open</th>\n",
              "      <th>Close</th>\n",
              "      <th>Volume</th>\n",
              "      <th>Adj Close</th>\n",
              "    </tr>\n",
              "    <tr>\n",
              "      <th>Date</th>\n",
              "      <th></th>\n",
              "      <th></th>\n",
              "      <th></th>\n",
              "      <th></th>\n",
              "      <th></th>\n",
              "      <th></th>\n",
              "    </tr>\n",
              "  </thead>\n",
              "  <tbody>\n",
              "    <tr>\n",
              "      <th>2012-01-03</th>\n",
              "      <td>26.959999</td>\n",
              "      <td>26.389999</td>\n",
              "      <td>26.549999</td>\n",
              "      <td>26.770000</td>\n",
              "      <td>64731500.0</td>\n",
              "      <td>21.799267</td>\n",
              "    </tr>\n",
              "    <tr>\n",
              "      <th>2012-01-04</th>\n",
              "      <td>27.469999</td>\n",
              "      <td>26.780001</td>\n",
              "      <td>26.820000</td>\n",
              "      <td>27.400000</td>\n",
              "      <td>80516100.0</td>\n",
              "      <td>22.312283</td>\n",
              "    </tr>\n",
              "    <tr>\n",
              "      <th>2012-01-05</th>\n",
              "      <td>27.730000</td>\n",
              "      <td>27.290001</td>\n",
              "      <td>27.379999</td>\n",
              "      <td>27.680000</td>\n",
              "      <td>56081400.0</td>\n",
              "      <td>22.540291</td>\n",
              "    </tr>\n",
              "    <tr>\n",
              "      <th>2012-01-06</th>\n",
              "      <td>28.190001</td>\n",
              "      <td>27.530001</td>\n",
              "      <td>27.530001</td>\n",
              "      <td>28.110001</td>\n",
              "      <td>99455500.0</td>\n",
              "      <td>22.890448</td>\n",
              "    </tr>\n",
              "    <tr>\n",
              "      <th>2012-01-09</th>\n",
              "      <td>28.100000</td>\n",
              "      <td>27.719999</td>\n",
              "      <td>28.049999</td>\n",
              "      <td>27.740000</td>\n",
              "      <td>59706800.0</td>\n",
              "      <td>22.589146</td>\n",
              "    </tr>\n",
              "    <tr>\n",
              "      <th>...</th>\n",
              "      <td>...</td>\n",
              "      <td>...</td>\n",
              "      <td>...</td>\n",
              "      <td>...</td>\n",
              "      <td>...</td>\n",
              "      <td>...</td>\n",
              "    </tr>\n",
              "    <tr>\n",
              "      <th>2021-05-10</th>\n",
              "      <td>251.729996</td>\n",
              "      <td>247.119995</td>\n",
              "      <td>250.869995</td>\n",
              "      <td>247.179993</td>\n",
              "      <td>29299900.0</td>\n",
              "      <td>247.179993</td>\n",
              "    </tr>\n",
              "    <tr>\n",
              "      <th>2021-05-11</th>\n",
              "      <td>246.600006</td>\n",
              "      <td>242.570007</td>\n",
              "      <td>244.550003</td>\n",
              "      <td>246.229996</td>\n",
              "      <td>33641600.0</td>\n",
              "      <td>246.229996</td>\n",
              "    </tr>\n",
              "    <tr>\n",
              "      <th>2021-05-12</th>\n",
              "      <td>244.380005</td>\n",
              "      <td>238.070007</td>\n",
              "      <td>242.169998</td>\n",
              "      <td>239.000000</td>\n",
              "      <td>36684400.0</td>\n",
              "      <td>239.000000</td>\n",
              "    </tr>\n",
              "    <tr>\n",
              "      <th>2021-05-13</th>\n",
              "      <td>245.600006</td>\n",
              "      <td>241.419998</td>\n",
              "      <td>241.800003</td>\n",
              "      <td>243.029999</td>\n",
              "      <td>29624300.0</td>\n",
              "      <td>243.029999</td>\n",
              "    </tr>\n",
              "    <tr>\n",
              "      <th>2021-05-14</th>\n",
              "      <td>249.179993</td>\n",
              "      <td>245.490005</td>\n",
              "      <td>245.580002</td>\n",
              "      <td>248.149994</td>\n",
              "      <td>23868600.0</td>\n",
              "      <td>248.149994</td>\n",
              "    </tr>\n",
              "  </tbody>\n",
              "</table>\n",
              "<p>2357 rows × 6 columns</p>\n",
              "</div>"
            ],
            "text/plain": [
              "                  High         Low  ...      Volume   Adj Close\n",
              "Date                                ...                        \n",
              "2012-01-03   26.959999   26.389999  ...  64731500.0   21.799267\n",
              "2012-01-04   27.469999   26.780001  ...  80516100.0   22.312283\n",
              "2012-01-05   27.730000   27.290001  ...  56081400.0   22.540291\n",
              "2012-01-06   28.190001   27.530001  ...  99455500.0   22.890448\n",
              "2012-01-09   28.100000   27.719999  ...  59706800.0   22.589146\n",
              "...                ...         ...  ...         ...         ...\n",
              "2021-05-10  251.729996  247.119995  ...  29299900.0  247.179993\n",
              "2021-05-11  246.600006  242.570007  ...  33641600.0  246.229996\n",
              "2021-05-12  244.380005  238.070007  ...  36684400.0  239.000000\n",
              "2021-05-13  245.600006  241.419998  ...  29624300.0  243.029999\n",
              "2021-05-14  249.179993  245.490005  ...  23868600.0  248.149994\n",
              "\n",
              "[2357 rows x 6 columns]"
            ]
          },
          "metadata": {
            "tags": []
          },
          "execution_count": 22
        }
      ]
    },
    {
      "cell_type": "markdown",
      "metadata": {
        "id": "qKHfkD56gqgW"
      },
      "source": [
        "**STATISTICAL DESCRIPTION OF DATA**"
      ]
    },
    {
      "cell_type": "code",
      "metadata": {
        "colab": {
          "base_uri": "https://localhost:8080/"
        },
        "id": "_mHPDfETgoif",
        "outputId": "1ac621d6-ff9b-4331-a2f6-3281d2d498a8"
      },
      "source": [
        "data.info()"
      ],
      "execution_count": 23,
      "outputs": [
        {
          "output_type": "stream",
          "text": [
            "<class 'pandas.core.frame.DataFrame'>\n",
            "DatetimeIndex: 2357 entries, 2012-01-03 to 2021-05-14\n",
            "Data columns (total 6 columns):\n",
            " #   Column     Non-Null Count  Dtype  \n",
            "---  ------     --------------  -----  \n",
            " 0   High       2357 non-null   float64\n",
            " 1   Low        2357 non-null   float64\n",
            " 2   Open       2357 non-null   float64\n",
            " 3   Close      2357 non-null   float64\n",
            " 4   Volume     2357 non-null   float64\n",
            " 5   Adj Close  2357 non-null   float64\n",
            "dtypes: float64(6)\n",
            "memory usage: 128.9 KB\n"
          ],
          "name": "stdout"
        }
      ]
    },
    {
      "cell_type": "code",
      "metadata": {
        "colab": {
          "base_uri": "https://localhost:8080/",
          "height": 297
        },
        "id": "PiSCbrAnhAdh",
        "outputId": "a8ca598f-8fa5-49f4-ccf9-e9ca31109212"
      },
      "source": [
        "data.describe()"
      ],
      "execution_count": 24,
      "outputs": [
        {
          "output_type": "execute_result",
          "data": {
            "text/html": [
              "<div>\n",
              "<style scoped>\n",
              "    .dataframe tbody tr th:only-of-type {\n",
              "        vertical-align: middle;\n",
              "    }\n",
              "\n",
              "    .dataframe tbody tr th {\n",
              "        vertical-align: top;\n",
              "    }\n",
              "\n",
              "    .dataframe thead th {\n",
              "        text-align: right;\n",
              "    }\n",
              "</style>\n",
              "<table border=\"1\" class=\"dataframe\">\n",
              "  <thead>\n",
              "    <tr style=\"text-align: right;\">\n",
              "      <th></th>\n",
              "      <th>High</th>\n",
              "      <th>Low</th>\n",
              "      <th>Open</th>\n",
              "      <th>Close</th>\n",
              "      <th>Volume</th>\n",
              "      <th>Adj Close</th>\n",
              "    </tr>\n",
              "  </thead>\n",
              "  <tbody>\n",
              "    <tr>\n",
              "      <th>count</th>\n",
              "      <td>2357.000000</td>\n",
              "      <td>2357.000000</td>\n",
              "      <td>2357.000000</td>\n",
              "      <td>2357.000000</td>\n",
              "      <td>2.357000e+03</td>\n",
              "      <td>2357.000000</td>\n",
              "    </tr>\n",
              "    <tr>\n",
              "      <th>mean</th>\n",
              "      <td>85.262631</td>\n",
              "      <td>83.633666</td>\n",
              "      <td>84.459270</td>\n",
              "      <td>84.493263</td>\n",
              "      <td>3.458244e+07</td>\n",
              "      <td>80.697787</td>\n",
              "    </tr>\n",
              "    <tr>\n",
              "      <th>std</th>\n",
              "      <td>60.761146</td>\n",
              "      <td>59.404070</td>\n",
              "      <td>60.086129</td>\n",
              "      <td>60.112326</td>\n",
              "      <td>1.826049e+07</td>\n",
              "      <td>61.504999</td>\n",
              "    </tr>\n",
              "    <tr>\n",
              "      <th>min</th>\n",
              "      <td>26.629999</td>\n",
              "      <td>26.260000</td>\n",
              "      <td>26.379999</td>\n",
              "      <td>26.370001</td>\n",
              "      <td>7.425600e+06</td>\n",
              "      <td>21.799267</td>\n",
              "    </tr>\n",
              "    <tr>\n",
              "      <th>25%</th>\n",
              "      <td>40.549999</td>\n",
              "      <td>39.860001</td>\n",
              "      <td>40.290001</td>\n",
              "      <td>40.290001</td>\n",
              "      <td>2.319820e+07</td>\n",
              "      <td>35.113785</td>\n",
              "    </tr>\n",
              "    <tr>\n",
              "      <th>50%</th>\n",
              "      <td>57.799999</td>\n",
              "      <td>57.209999</td>\n",
              "      <td>57.529999</td>\n",
              "      <td>57.560001</td>\n",
              "      <td>3.027670e+07</td>\n",
              "      <td>53.481327</td>\n",
              "    </tr>\n",
              "    <tr>\n",
              "      <th>75%</th>\n",
              "      <td>111.550003</td>\n",
              "      <td>109.500000</td>\n",
              "      <td>110.849998</td>\n",
              "      <td>110.889999</td>\n",
              "      <td>4.058900e+07</td>\n",
              "      <td>107.852539</td>\n",
              "    </tr>\n",
              "    <tr>\n",
              "      <th>max</th>\n",
              "      <td>263.190002</td>\n",
              "      <td>260.170013</td>\n",
              "      <td>261.660004</td>\n",
              "      <td>261.970001</td>\n",
              "      <td>2.484285e+08</td>\n",
              "      <td>261.970001</td>\n",
              "    </tr>\n",
              "  </tbody>\n",
              "</table>\n",
              "</div>"
            ],
            "text/plain": [
              "              High          Low  ...        Volume    Adj Close\n",
              "count  2357.000000  2357.000000  ...  2.357000e+03  2357.000000\n",
              "mean     85.262631    83.633666  ...  3.458244e+07    80.697787\n",
              "std      60.761146    59.404070  ...  1.826049e+07    61.504999\n",
              "min      26.629999    26.260000  ...  7.425600e+06    21.799267\n",
              "25%      40.549999    39.860001  ...  2.319820e+07    35.113785\n",
              "50%      57.799999    57.209999  ...  3.027670e+07    53.481327\n",
              "75%     111.550003   109.500000  ...  4.058900e+07   107.852539\n",
              "max     263.190002   260.170013  ...  2.484285e+08   261.970001\n",
              "\n",
              "[8 rows x 6 columns]"
            ]
          },
          "metadata": {
            "tags": []
          },
          "execution_count": 24
        }
      ]
    },
    {
      "cell_type": "code",
      "metadata": {
        "colab": {
          "base_uri": "https://localhost:8080/"
        },
        "id": "SvkqOyaohEXo",
        "outputId": "af4debb0-abd2-4a89-8a88-36baab355210"
      },
      "source": [
        "data.columns"
      ],
      "execution_count": 25,
      "outputs": [
        {
          "output_type": "execute_result",
          "data": {
            "text/plain": [
              "Index(['High', 'Low', 'Open', 'Close', 'Volume', 'Adj Close'], dtype='object')"
            ]
          },
          "metadata": {
            "tags": []
          },
          "execution_count": 25
        }
      ]
    },
    {
      "cell_type": "code",
      "metadata": {
        "colab": {
          "base_uri": "https://localhost:8080/",
          "height": 235
        },
        "id": "49LQc1u00VXO",
        "outputId": "1c917266-6c61-4a80-cace-b271ac0c2515"
      },
      "source": [
        "data.corr()"
      ],
      "execution_count": 26,
      "outputs": [
        {
          "output_type": "execute_result",
          "data": {
            "text/html": [
              "<div>\n",
              "<style scoped>\n",
              "    .dataframe tbody tr th:only-of-type {\n",
              "        vertical-align: middle;\n",
              "    }\n",
              "\n",
              "    .dataframe tbody tr th {\n",
              "        vertical-align: top;\n",
              "    }\n",
              "\n",
              "    .dataframe thead th {\n",
              "        text-align: right;\n",
              "    }\n",
              "</style>\n",
              "<table border=\"1\" class=\"dataframe\">\n",
              "  <thead>\n",
              "    <tr style=\"text-align: right;\">\n",
              "      <th></th>\n",
              "      <th>High</th>\n",
              "      <th>Low</th>\n",
              "      <th>Open</th>\n",
              "      <th>Close</th>\n",
              "      <th>Volume</th>\n",
              "      <th>Adj Close</th>\n",
              "    </tr>\n",
              "  </thead>\n",
              "  <tbody>\n",
              "    <tr>\n",
              "      <th>High</th>\n",
              "      <td>1.000000</td>\n",
              "      <td>0.999772</td>\n",
              "      <td>0.999864</td>\n",
              "      <td>0.999838</td>\n",
              "      <td>-0.187205</td>\n",
              "      <td>0.999828</td>\n",
              "    </tr>\n",
              "    <tr>\n",
              "      <th>Low</th>\n",
              "      <td>0.999772</td>\n",
              "      <td>1.000000</td>\n",
              "      <td>0.999851</td>\n",
              "      <td>0.999859</td>\n",
              "      <td>-0.197025</td>\n",
              "      <td>0.999839</td>\n",
              "    </tr>\n",
              "    <tr>\n",
              "      <th>Open</th>\n",
              "      <td>0.999864</td>\n",
              "      <td>0.999851</td>\n",
              "      <td>1.000000</td>\n",
              "      <td>0.999720</td>\n",
              "      <td>-0.191820</td>\n",
              "      <td>0.999707</td>\n",
              "    </tr>\n",
              "    <tr>\n",
              "      <th>Close</th>\n",
              "      <td>0.999838</td>\n",
              "      <td>0.999859</td>\n",
              "      <td>0.999720</td>\n",
              "      <td>1.000000</td>\n",
              "      <td>-0.192792</td>\n",
              "      <td>0.999977</td>\n",
              "    </tr>\n",
              "    <tr>\n",
              "      <th>Volume</th>\n",
              "      <td>-0.187205</td>\n",
              "      <td>-0.197025</td>\n",
              "      <td>-0.191820</td>\n",
              "      <td>-0.192792</td>\n",
              "      <td>1.000000</td>\n",
              "      <td>-0.192673</td>\n",
              "    </tr>\n",
              "    <tr>\n",
              "      <th>Adj Close</th>\n",
              "      <td>0.999828</td>\n",
              "      <td>0.999839</td>\n",
              "      <td>0.999707</td>\n",
              "      <td>0.999977</td>\n",
              "      <td>-0.192673</td>\n",
              "      <td>1.000000</td>\n",
              "    </tr>\n",
              "  </tbody>\n",
              "</table>\n",
              "</div>"
            ],
            "text/plain": [
              "               High       Low      Open     Close    Volume  Adj Close\n",
              "High       1.000000  0.999772  0.999864  0.999838 -0.187205   0.999828\n",
              "Low        0.999772  1.000000  0.999851  0.999859 -0.197025   0.999839\n",
              "Open       0.999864  0.999851  1.000000  0.999720 -0.191820   0.999707\n",
              "Close      0.999838  0.999859  0.999720  1.000000 -0.192792   0.999977\n",
              "Volume    -0.187205 -0.197025 -0.191820 -0.192792  1.000000  -0.192673\n",
              "Adj Close  0.999828  0.999839  0.999707  0.999977 -0.192673   1.000000"
            ]
          },
          "metadata": {
            "tags": []
          },
          "execution_count": 26
        }
      ]
    },
    {
      "cell_type": "markdown",
      "metadata": {
        "id": "gqgwcpX2Qxqi"
      },
      "source": [
        "Overall, the adjusted closing price will give you a better idea of the overall value of the stock and help you make informed decisions about buying and selling, while the closing stock price will tell you the exact cash value of a share of stock at the end of the trading day."
      ]
    },
    {
      "cell_type": "code",
      "metadata": {
        "id": "pUetWTGIhIvx"
      },
      "source": [
        "df = pd.DataFrame(data, columns=['Adj Close'])\n",
        "df = df.reset_index()"
      ],
      "execution_count": 27,
      "outputs": []
    },
    {
      "cell_type": "code",
      "metadata": {
        "colab": {
          "base_uri": "https://localhost:8080/",
          "height": 204
        },
        "id": "j2YskMM0iClG",
        "outputId": "b409ff09-ae18-4f46-f2cc-6989cf81244f"
      },
      "source": [
        "df.head()"
      ],
      "execution_count": 28,
      "outputs": [
        {
          "output_type": "execute_result",
          "data": {
            "text/html": [
              "<div>\n",
              "<style scoped>\n",
              "    .dataframe tbody tr th:only-of-type {\n",
              "        vertical-align: middle;\n",
              "    }\n",
              "\n",
              "    .dataframe tbody tr th {\n",
              "        vertical-align: top;\n",
              "    }\n",
              "\n",
              "    .dataframe thead th {\n",
              "        text-align: right;\n",
              "    }\n",
              "</style>\n",
              "<table border=\"1\" class=\"dataframe\">\n",
              "  <thead>\n",
              "    <tr style=\"text-align: right;\">\n",
              "      <th></th>\n",
              "      <th>Date</th>\n",
              "      <th>Adj Close</th>\n",
              "    </tr>\n",
              "  </thead>\n",
              "  <tbody>\n",
              "    <tr>\n",
              "      <th>0</th>\n",
              "      <td>2012-01-03</td>\n",
              "      <td>21.799267</td>\n",
              "    </tr>\n",
              "    <tr>\n",
              "      <th>1</th>\n",
              "      <td>2012-01-04</td>\n",
              "      <td>22.312283</td>\n",
              "    </tr>\n",
              "    <tr>\n",
              "      <th>2</th>\n",
              "      <td>2012-01-05</td>\n",
              "      <td>22.540291</td>\n",
              "    </tr>\n",
              "    <tr>\n",
              "      <th>3</th>\n",
              "      <td>2012-01-06</td>\n",
              "      <td>22.890448</td>\n",
              "    </tr>\n",
              "    <tr>\n",
              "      <th>4</th>\n",
              "      <td>2012-01-09</td>\n",
              "      <td>22.589146</td>\n",
              "    </tr>\n",
              "  </tbody>\n",
              "</table>\n",
              "</div>"
            ],
            "text/plain": [
              "        Date  Adj Close\n",
              "0 2012-01-03  21.799267\n",
              "1 2012-01-04  22.312283\n",
              "2 2012-01-05  22.540291\n",
              "3 2012-01-06  22.890448\n",
              "4 2012-01-09  22.589146"
            ]
          },
          "metadata": {
            "tags": []
          },
          "execution_count": 28
        }
      ]
    },
    {
      "cell_type": "code",
      "metadata": {
        "colab": {
          "base_uri": "https://localhost:8080/"
        },
        "id": "DoLPyygziF8_",
        "outputId": "9be96112-c5b7-4c47-918e-34a54ded3dab"
      },
      "source": [
        "df.info()"
      ],
      "execution_count": 29,
      "outputs": [
        {
          "output_type": "stream",
          "text": [
            "<class 'pandas.core.frame.DataFrame'>\n",
            "RangeIndex: 2357 entries, 0 to 2356\n",
            "Data columns (total 2 columns):\n",
            " #   Column     Non-Null Count  Dtype         \n",
            "---  ------     --------------  -----         \n",
            " 0   Date       2357 non-null   datetime64[ns]\n",
            " 1   Adj Close  2357 non-null   float64       \n",
            "dtypes: datetime64[ns](1), float64(1)\n",
            "memory usage: 37.0 KB\n"
          ],
          "name": "stdout"
        }
      ]
    },
    {
      "cell_type": "code",
      "metadata": {
        "colab": {
          "base_uri": "https://localhost:8080/"
        },
        "id": "-k8CwYEKiJu6",
        "outputId": "13f57065-313c-4b3c-f420-becd8ca4a5e4"
      },
      "source": [
        "df.isna().values.any()"
      ],
      "execution_count": 30,
      "outputs": [
        {
          "output_type": "execute_result",
          "data": {
            "text/plain": [
              "False"
            ]
          },
          "metadata": {
            "tags": []
          },
          "execution_count": 30
        }
      ]
    },
    {
      "cell_type": "markdown",
      "metadata": {
        "id": "0QaArmZHiQZr"
      },
      "source": [
        "**VISUALIZATION OF DATA**"
      ]
    },
    {
      "cell_type": "markdown",
      "metadata": {
        "id": "-aktQX7JiUxi"
      },
      "source": [
        "1. Box Plot"
      ]
    },
    {
      "cell_type": "code",
      "metadata": {
        "colab": {
          "base_uri": "https://localhost:8080/",
          "height": 425
        },
        "id": "2bkZfuQ3iMcD",
        "outputId": "73d729ae-e7f4-4c82-b914-35cb28cd863b"
      },
      "source": [
        "import seaborn as sns\n",
        "plt.figure(figsize=(20,7))\n",
        "boxplot = data.boxplot(column=['High', 'Low', 'Open','Close','Adj Close'])"
      ],
      "execution_count": 31,
      "outputs": [
        {
          "output_type": "display_data",
          "data": {
            "image/png": "[encoded data removed]",
            "text/plain": [
              "<Figure size 1440x504 with 1 Axes>"
            ]
          },
          "metadata": {
            "tags": []
          }
        }
      ]
    },
    {
      "cell_type": "code",
      "metadata": {
        "colab": {
          "base_uri": "https://localhost:8080/",
          "height": 619
        },
        "id": "z-A-fGAn_Vo4",
        "outputId": "09332565-bf4c-4e06-f108-d1a179cbdac0"
      },
      "source": [
        "d = pd.DataFrame(data)\n",
        "import seaborn as sns\n",
        "sns.boxplot(x=d['Volume'])"
      ],
      "execution_count": 32,
      "outputs": [
        {
          "output_type": "execute_result",
          "data": {
            "text/plain": [
              "<matplotlib.axes._subplots.AxesSubplot at 0x7f4fb8bd58d0>"
            ]
          },
          "metadata": {
            "tags": []
          },
          "execution_count": 32
        },
        {
          "output_type": "display_data",
          "data": {
            "image/png": "[encoded data removed]",
            "text/plain": [
              "<Figure size 1152x720 with 1 Axes>"
            ]
          },
          "metadata": {
            "tags": []
          }
        }
      ]
    },
    {
      "cell_type": "markdown",
      "metadata": {
        "id": "0PLu3eDE_Z-g"
      },
      "source": [
        "This shows that the volume column contains lot of outlier values which might affect the results of prediction. Hence we remove the volume column itself as part of outlier elimination."
      ]
    },
    {
      "cell_type": "markdown",
      "metadata": {
        "id": "DBez9akgi9jG"
      },
      "source": [
        "2. Visualization of Adjusted Close Price vs Data"
      ]
    },
    {
      "cell_type": "code",
      "metadata": {
        "colab": {
          "base_uri": "https://localhost:8080/",
          "height": 580
        },
        "id": "WUwHqrTIjIbz",
        "outputId": "8aa5278b-ec1f-4f6d-d351-ede903b46d09"
      },
      "source": [
        "import matplotlib.dates as mdates\n",
        "\n",
        "years = mdates.YearLocator() # Get every year\n",
        "yearsFmt = mdates.DateFormatter('%Y') # Set year format\n",
        "\n",
        "# Create subplots to plot graph and control axes\n",
        "fig, ax = plt.subplots()\n",
        "ax.plot(df['Date'], df['Adj Close'])\n",
        "\n",
        "# Format the ticks\n",
        "ax.xaxis.set_major_locator(years)\n",
        "ax.xaxis.set_major_formatter(yearsFmt)\n",
        "\n",
        "# Set figure title\n",
        "plt.title('Adjusted Close Stock Price History [2012 - 2021] For Microsoft Data', fontsize=16)\n",
        "# Set x label\n",
        "plt.xlabel('Date', fontsize=14)\n",
        "# Set y label\n",
        "plt.ylabel('Adjusted Closing Stock Price in $', fontsize=14)\n",
        "\n",
        "# Rotate and align the x labels\n",
        "fig.autofmt_xdate()\n",
        "\n",
        "# Show plot\n",
        "plt.show()"
      ],
      "execution_count": 33,
      "outputs": [
        {
          "output_type": "display_data",
          "data": {
            "image/png": "[encoded data removed]",
            "text/plain": [
              "<Figure size 1152x720 with 1 Axes>"
            ]
          },
          "metadata": {
            "tags": []
          }
        }
      ]
    },
    {
      "cell_type": "markdown",
      "metadata": {
        "id": "CYllwPwZ0gdy"
      },
      "source": [
        "3. CORRELATION BETWEEN VARIABLES"
      ]
    },
    {
      "cell_type": "code",
      "metadata": {
        "colab": {
          "base_uri": "https://localhost:8080/",
          "height": 1000
        },
        "id": "7qwWpY7y0gEA",
        "outputId": "395b4463-bd4b-47e3-ff69-cfeb98ca7740"
      },
      "source": [
        "correlation=data.corr()\n",
        "\n",
        "plt.figure(figsize=(25, 25))\n",
        "sns.heatmap(correlation, cbar = True,  square = True, annot=True, fmt= '.2f',annot_kws={'size': 15},\n",
        "           cmap= 'coolwarm')\n",
        "plt.title('Correlation between features')"
      ],
      "execution_count": 34,
      "outputs": [
        {
          "output_type": "execute_result",
          "data": {
            "text/plain": [
              "Text(0.5, 1.0, 'Correlation between features')"
            ]
          },
          "metadata": {
            "tags": []
          },
          "execution_count": 34
        },
        {
          "output_type": "display_data",
          "data": {
            "image/png": "[encoded data removed]",
            "text/plain": [
              "<Figure size 1800x1800 with 2 Axes>"
            ]
          },
          "metadata": {
            "tags": []
          }
        }
      ]
    },
    {
      "cell_type": "markdown",
      "metadata": {
        "id": "upNIfn8wk6sA"
      },
      "source": [
        "**PREDICTING THE ACCURACY OF PREDICTION OF STOCK PRICES USING ML AND DEEP LEARNING**"
      ]
    },
    {
      "cell_type": "markdown",
      "metadata": {
        "id": "ch94e_aKlIFq"
      },
      "source": [
        "1. PREDICTION USING LINEAR REGRESSION"
      ]
    },
    {
      "cell_type": "code",
      "metadata": {
        "colab": {
          "base_uri": "https://localhost:8080/"
        },
        "id": "PNQDax24kz7A",
        "outputId": "fe97fd46-a053-44d3-eaad-e62d2eef1585"
      },
      "source": [
        "from sklearn.model_selection import train_test_split\n",
        "train, test = train_test_split(df, test_size=0.20)\n",
        "from sklearn.linear_model import LinearRegression\n",
        "X_train = np.array(train.index).reshape(-1, 1)\n",
        "y_train = train['Adj Close']\n",
        "model = LinearRegression()\n",
        "# Fit linear model using the train data set\n",
        "model.fit(X_train, y_train)\n"
      ],
      "execution_count": 35,
      "outputs": [
        {
          "output_type": "execute_result",
          "data": {
            "text/plain": [
              "LinearRegression(copy_X=True, fit_intercept=True, n_jobs=None, normalize=False)"
            ]
          },
          "metadata": {
            "tags": []
          },
          "execution_count": 35
        }
      ]
    },
    {
      "cell_type": "code",
      "metadata": {
        "colab": {
          "base_uri": "https://localhost:8080/"
        },
        "id": "HBOT9PPMmAY9",
        "outputId": "1e478f94-8e9c-4a5e-bf4b-de1d6c4a6ba3"
      },
      "source": [
        "print('Slope: ', np.asscalar(np.squeeze(model.coef_)))\n",
        "# The Intercept\n",
        "print('Intercept: ', model.intercept_)"
      ],
      "execution_count": 36,
      "outputs": [
        {
          "output_type": "stream",
          "text": [
            "Slope:  0.08130334679264983\n",
            "Intercept:  -15.350311899662472\n"
          ],
          "name": "stdout"
        },
        {
          "output_type": "stream",
          "text": [
            "/usr/local/lib/python3.7/dist-packages/ipykernel_launcher.py:1: DeprecationWarning: np.asscalar(a) is deprecated since NumPy v1.16, use a.item() instead\n",
            "  \"\"\"Entry point for launching an IPython kernel.\n"
          ],
          "name": "stderr"
        }
      ]
    },
    {
      "cell_type": "code",
      "metadata": {
        "colab": {
          "base_uri": "https://localhost:8080/",
          "height": 617
        },
        "id": "lt-M7CN1mDkS",
        "outputId": "6b34b680-4713-4ab5-9916-40065bece45e"
      },
      "source": [
        "plt.figure(1, figsize=(16,10))\n",
        "plt.title('Linear Regression | Price vs Time')\n",
        "plt.scatter(X_train, y_train, edgecolor='w', label='Actual Price')\n",
        "plt.plot(X_train, model.predict(X_train), color='r', label='Predicted Price')\n",
        "plt.xlabel('Integer Date')\n",
        "plt.ylabel('Stock Price')\n",
        "plt.legend()\n",
        "plt.show()"
      ],
      "execution_count": 38,
      "outputs": [
        {
          "output_type": "display_data",
          "data": {
            "image/png": "[encoded data removed]",
            "text/plain": [
              "<Figure size 1152x720 with 1 Axes>"
            ]
          },
          "metadata": {
            "tags": []
          }
        }
      ]
    },
    {
      "cell_type": "code",
      "metadata": {
        "colab": {
          "base_uri": "https://localhost:8080/"
        },
        "id": "Pn0a6qF9mJ6M",
        "outputId": "b792e802-1ca4-49c5-b85b-ed7b5e39eb81"
      },
      "source": [
        "X_test = np.array(test.index).reshape(-1, 1)\n",
        "y_test = test['Adj Close']\n",
        "y_pred = model.predict(X_test)\n",
        "dfr=pd.DataFrame({'Actual Price':y_test,'Predicted Price':y_pred})\n",
        "print(dfr)"
      ],
      "execution_count": 39,
      "outputs": [
        {
          "output_type": "stream",
          "text": [
            "      Actual Price  Predicted Price\n",
            "1383     64.521713        97.092217\n",
            "1821    116.284180       132.703083\n",
            "1697    111.988419       122.621468\n",
            "809      38.293133        50.424096\n",
            "1397     69.661140        98.230464\n",
            "...            ...              ...\n",
            "1535     81.295418       109.450325\n",
            "1927    135.639877       141.321237\n",
            "488      32.445545        24.325721\n",
            "1855    123.775154       135.467396\n",
            "1853    126.432663       135.304790\n",
            "\n",
            "[472 rows x 2 columns]\n"
          ],
          "name": "stdout"
        }
      ]
    },
    {
      "cell_type": "markdown",
      "metadata": {
        "id": "q-0ka_QCmZKO"
      },
      "source": [
        "1.1 Calculating the accuracy of the prediction"
      ]
    },
    {
      "cell_type": "code",
      "metadata": {
        "colab": {
          "base_uri": "https://localhost:8080/"
        },
        "id": "71s3aPxhmWqs",
        "outputId": "78ab9fa7-364f-4f89-c5fe-cf470cb9bce7"
      },
      "source": [
        "from sklearn import metrics\n",
        "import math\n",
        "rmse_linear=math.sqrt(metrics.mean_squared_error(y_test,y_pred))\n",
        "accuracy_linear=model.score(X_test,y_test)\n",
        "\n",
        "print(\"Root mean square error= \",rmse_linear)\n",
        "print(\"Accuracy Score= \",accuracy_linear*100)"
      ],
      "execution_count": 40,
      "outputs": [
        {
          "output_type": "stream",
          "text": [
            "Root mean square error=  27.427243291799382\n",
            "Accuracy Score=  81.34730363661639\n"
          ],
          "name": "stdout"
        }
      ]
    },
    {
      "cell_type": "markdown",
      "metadata": {
        "id": "I_LI1izjm7pP"
      },
      "source": [
        "1.2 Graphichal prediction "
      ]
    },
    {
      "cell_type": "code",
      "metadata": {
        "colab": {
          "base_uri": "https://localhost:8080/",
          "height": 454
        },
        "id": "wgr_Wuqtm7Af",
        "outputId": "6083f22b-09df-453a-fb50-d1276300c877"
      },
      "source": [
        "graph=dfr.head(20)\n",
        "graph.plot(kind='bar',figsize=(20,7))"
      ],
      "execution_count": 41,
      "outputs": [
        {
          "output_type": "execute_result",
          "data": {
            "text/plain": [
              "<matplotlib.axes._subplots.AxesSubplot at 0x7f4fc7709610>"
            ]
          },
          "metadata": {
            "tags": []
          },
          "execution_count": 41
        },
        {
          "output_type": "display_data",
          "data": {
            "image/png": "[encoded data removed]",
            "text/plain": [
              "<Figure size 1440x504 with 1 Axes>"
            ]
          },
          "metadata": {
            "tags": []
          }
        }
      ]
    },
    {
      "cell_type": "markdown",
      "metadata": {
        "id": "aBVX6UxenbLb"
      },
      "source": [
        "2.PREDICTION USING KNN"
      ]
    },
    {
      "cell_type": "code",
      "metadata": {
        "colab": {
          "base_uri": "https://localhost:8080/"
        },
        "id": "JL4ATZldnf5Z",
        "outputId": "6f4e0665-3307-4df0-c7df-72a0cc611c0e"
      },
      "source": [
        "from sklearn.model_selection import train_test_split\n",
        "from sklearn.neighbors import KNeighborsRegressor\n",
        "train, test = train_test_split(df, test_size=0.20)\n",
        "X_train = np.array(train.index).reshape(-1, 1)\n",
        "y_train = train['Adj Close']\n",
        "model = KNeighborsRegressor()\n",
        "model.fit(X_train, y_train)\n"
      ],
      "execution_count": 42,
      "outputs": [
        {
          "output_type": "execute_result",
          "data": {
            "text/plain": [
              "KNeighborsRegressor(algorithm='auto', leaf_size=30, metric='minkowski',\n",
              "                    metric_params=None, n_jobs=None, n_neighbors=5, p=2,\n",
              "                    weights='uniform')"
            ]
          },
          "metadata": {
            "tags": []
          },
          "execution_count": 42
        }
      ]
    },
    {
      "cell_type": "code",
      "metadata": {
        "colab": {
          "base_uri": "https://localhost:8080/"
        },
        "id": "WCcVshvuoZMn",
        "outputId": "dbe2c287-f5ed-4603-c010-58e75941f34c"
      },
      "source": [
        "X_test = np.array(test.index).reshape(-1, 1)\n",
        "y_test = test['Adj Close']\n",
        "y_pred = model.predict(X_test)\n",
        "dfr=pd.DataFrame({'Actual Price':y_test,'Predicted Price':y_pred})\n",
        "print(dfr)"
      ],
      "execution_count": 43,
      "outputs": [
        {
          "output_type": "stream",
          "text": [
            "      Actual Price  Predicted Price\n",
            "675      41.254391        40.933801\n",
            "2062    134.057693       149.510672\n",
            "14       23.892059        23.825284\n",
            "580      34.687897        34.997311\n",
            "76       26.328053        26.014935\n",
            "...            ...              ...\n",
            "1395     70.247955        69.717917\n",
            "542      32.836590        33.055624\n",
            "1693    110.864746       110.097565\n",
            "396      26.925817        26.939424\n",
            "1930    137.794601       135.071173\n",
            "\n",
            "[472 rows x 2 columns]\n"
          ],
          "name": "stdout"
        }
      ]
    },
    {
      "cell_type": "markdown",
      "metadata": {
        "id": "rMGv7E7AokfQ"
      },
      "source": [
        "2.1 Calculating the Accuracy"
      ]
    },
    {
      "cell_type": "code",
      "metadata": {
        "colab": {
          "base_uri": "https://localhost:8080/"
        },
        "id": "WRKJ9xCdoiab",
        "outputId": "32e8283d-3437-4264-9142-b8866267802d"
      },
      "source": [
        "from sklearn import metrics\n",
        "import math\n",
        "rmse_knn=math.sqrt(metrics.mean_squared_error(y_test,y_pred))\n",
        "accuracy_knn=model.score(X_test,y_test) #Accuracy Score\n",
        "\n",
        "print(\"Root mean square error= \",rmse_knn)\n",
        "print(\"Accurcy Score= \",accuracy_knn*100)"
      ],
      "execution_count": 44,
      "outputs": [
        {
          "output_type": "stream",
          "text": [
            "Root mean square error=  1.7512739821987657\n",
            "Accurcy Score=  99.91362489291325\n"
          ],
          "name": "stdout"
        }
      ]
    },
    {
      "cell_type": "markdown",
      "metadata": {
        "id": "_GK4UrZmpG44"
      },
      "source": [
        "2.2 Graphical Representation"
      ]
    },
    {
      "cell_type": "code",
      "metadata": {
        "colab": {
          "base_uri": "https://localhost:8080/",
          "height": 454
        },
        "id": "dJaXm6fopGSh",
        "outputId": "f55a6996-30a7-4401-dc63-c96d52f1be2d"
      },
      "source": [
        "graph=dfr.head(20)\n",
        "graph.plot(kind='bar',figsize=(20,7))"
      ],
      "execution_count": 45,
      "outputs": [
        {
          "output_type": "execute_result",
          "data": {
            "text/plain": [
              "<matplotlib.axes._subplots.AxesSubplot at 0x7f4fb61c0410>"
            ]
          },
          "metadata": {
            "tags": []
          },
          "execution_count": 45
        },
        {
          "output_type": "display_data",
          "data": {
            "image/png": "[encoded data removed]",
            "text/plain": [
              "<Figure size 1440x504 with 1 Axes>"
            ]
          },
          "metadata": {
            "tags": []
          }
        }
      ]
    },
    {
      "cell_type": "markdown",
      "metadata": {
        "id": "bBW-3UXcpvQ2"
      },
      "source": [
        "3.PREDICTION USING DECISION TREE REGRESSOR"
      ]
    },
    {
      "cell_type": "code",
      "metadata": {
        "colab": {
          "base_uri": "https://localhost:8080/"
        },
        "id": "weGIDEeFppmO",
        "outputId": "c539fcbc-ef2c-4740-a4a9-db8f21c950ed"
      },
      "source": [
        "from sklearn.model_selection import train_test_split\n",
        "from sklearn.tree import DecisionTreeRegressor\n",
        "train, test = train_test_split(df, test_size=0.20)\n",
        "X_train = np.array(train.index).reshape(-1, 1)\n",
        "y_train = train['Adj Close']\n",
        "model =DecisionTreeRegressor ()\n",
        "model.fit(X_train, y_train)"
      ],
      "execution_count": 46,
      "outputs": [
        {
          "output_type": "execute_result",
          "data": {
            "text/plain": [
              "DecisionTreeRegressor(ccp_alpha=0.0, criterion='mse', max_depth=None,\n",
              "                      max_features=None, max_leaf_nodes=None,\n",
              "                      min_impurity_decrease=0.0, min_impurity_split=None,\n",
              "                      min_samples_leaf=1, min_samples_split=2,\n",
              "                      min_weight_fraction_leaf=0.0, presort='deprecated',\n",
              "                      random_state=None, splitter='best')"
            ]
          },
          "metadata": {
            "tags": []
          },
          "execution_count": 46
        }
      ]
    },
    {
      "cell_type": "code",
      "metadata": {
        "colab": {
          "base_uri": "https://localhost:8080/"
        },
        "id": "U1-zlzD6r3BC",
        "outputId": "952e56e4-cc2f-4ca7-cdcc-e11cf0086727"
      },
      "source": [
        "X_test = np.array(test.index).reshape(-1, 1)\n",
        "y_test = test['Adj Close']\n",
        "y_pred = model.predict(X_test)\n",
        "dfr=pd.DataFrame({'Actual Price':y_test,'Predicted Price':y_pred})\n",
        "print(dfr)"
      ],
      "execution_count": 47,
      "outputs": [
        {
          "output_type": "stream",
          "text": [
            "      Actual Price  Predicted Price\n",
            "1644    102.237595       101.234032\n",
            "876      39.862663        39.665024\n",
            "819      36.972065        37.070248\n",
            "1728    103.590004       103.522209\n",
            "1716    103.609390       104.907417\n",
            "...            ...              ...\n",
            "661      39.589779        39.924461\n",
            "11       22.898594        22.988161\n",
            "1054     48.755386        48.663696\n",
            "1584     91.275635        92.342125\n",
            "785      38.855484        38.900116\n",
            "\n",
            "[472 rows x 2 columns]\n"
          ],
          "name": "stdout"
        }
      ]
    },
    {
      "cell_type": "markdown",
      "metadata": {
        "id": "IyIRX5k6r-dZ"
      },
      "source": [
        "3.1 Calculating the Accuracy"
      ]
    },
    {
      "cell_type": "code",
      "metadata": {
        "colab": {
          "base_uri": "https://localhost:8080/"
        },
        "id": "IgFlk9FSr72D",
        "outputId": "4e804da8-d63f-499e-c633-a2b62a3df276"
      },
      "source": [
        "from sklearn import metrics\n",
        "import math\n",
        "rmse_dt=math.sqrt(metrics.mean_squared_error(y_test,y_pred))\n",
        "accuracy_dt=model.score(X_test,y_test) #Accuracy Score\n",
        "\n",
        "print(\"Root mean square error= \",rmse_dt)\n",
        "print(\"Accurcy Score= \",accuracy_dt*100)"
      ],
      "execution_count": 48,
      "outputs": [
        {
          "output_type": "stream",
          "text": [
            "Root mean square error=  1.7522608977057978\n",
            "Accurcy Score=  99.90783312799248\n"
          ],
          "name": "stdout"
        }
      ]
    },
    {
      "cell_type": "markdown",
      "metadata": {
        "id": "bxBoGDMHsJfe"
      },
      "source": [
        "3.2 Graphical Representation"
      ]
    },
    {
      "cell_type": "code",
      "metadata": {
        "colab": {
          "base_uri": "https://localhost:8080/",
          "height": 454
        },
        "id": "EMM_aXUssIuf",
        "outputId": "8e27a62b-4828-40f9-e71f-0cd3d0fdb834"
      },
      "source": [
        "graph=dfr.head(20)\n",
        "graph.plot(kind='bar',figsize=(20,7))"
      ],
      "execution_count": 49,
      "outputs": [
        {
          "output_type": "execute_result",
          "data": {
            "text/plain": [
              "<matplotlib.axes._subplots.AxesSubplot at 0x7f4fb5522910>"
            ]
          },
          "metadata": {
            "tags": []
          },
          "execution_count": 49
        },
        {
          "output_type": "display_data",
          "data": {
            "image/png": "[encoded data removed]",
            "text/plain": [
              "<Figure size 1440x504 with 1 Axes>"
            ]
          },
          "metadata": {
            "tags": []
          }
        }
      ]
    },
    {
      "cell_type": "markdown",
      "metadata": {
        "id": "ePgP-uv8sXt6"
      },
      "source": [
        "4.PREDICTION USING LASSO"
      ]
    },
    {
      "cell_type": "code",
      "metadata": {
        "colab": {
          "base_uri": "https://localhost:8080/"
        },
        "id": "I5g-gNsJsXMn",
        "outputId": "4dc20bb5-021c-4127-89b0-a11ae3ed544b"
      },
      "source": [
        "from sklearn.model_selection import train_test_split\n",
        "train, test = train_test_split(df, test_size=0.20)\n",
        "from sklearn.linear_model import Lasso\n",
        "X_train = np.array(train.index).reshape(-1, 1)\n",
        "y_train = train['Adj Close']\n",
        "model = Lasso()\n",
        "# Fit linear model using the train data set\n",
        "model.fit(X_train, y_train)"
      ],
      "execution_count": 50,
      "outputs": [
        {
          "output_type": "execute_result",
          "data": {
            "text/plain": [
              "Lasso(alpha=1.0, copy_X=True, fit_intercept=True, max_iter=1000,\n",
              "      normalize=False, positive=False, precompute=False, random_state=None,\n",
              "      selection='cyclic', tol=0.0001, warm_start=False)"
            ]
          },
          "metadata": {
            "tags": []
          },
          "execution_count": 50
        }
      ]
    },
    {
      "cell_type": "code",
      "metadata": {
        "colab": {
          "base_uri": "https://localhost:8080/"
        },
        "id": "27EKOBFatMMK",
        "outputId": "8227b8d1-dea1-45ca-9fcc-721c45897419"
      },
      "source": [
        "X_test = np.array(test.index).reshape(-1, 1)\n",
        "y_test = test['Adj Close']\n",
        "y_pred = model.predict(X_test)\n",
        "dfr=pd.DataFrame({'Actual Price':y_test,'Predicted Price':y_pred})\n",
        "print(dfr)"
      ],
      "execution_count": 51,
      "outputs": [
        {
          "output_type": "stream",
          "text": [
            "      Actual Price  Predicted Price\n",
            "1507     81.974380       108.495176\n",
            "968      49.666317        63.902652\n",
            "242      22.867931         3.839252\n",
            "1733     98.949486       127.192598\n",
            "696      40.382442        41.399560\n",
            "...            ...              ...\n",
            "318      24.433447        10.126881\n",
            "2172    213.527893       163.511927\n",
            "2146    206.520721       161.360896\n",
            "338      27.574162        11.781520\n",
            "750      42.436348        45.867086\n",
            "\n",
            "[472 rows x 2 columns]\n"
          ],
          "name": "stdout"
        }
      ]
    },
    {
      "cell_type": "markdown",
      "metadata": {
        "id": "xtyjIqpTtSSk"
      },
      "source": [
        "4.1 Calculating the Accuracy"
      ]
    },
    {
      "cell_type": "code",
      "metadata": {
        "colab": {
          "base_uri": "https://localhost:8080/"
        },
        "id": "9ClH2QzNtRts",
        "outputId": "95744794-5ce1-4592-8148-a5961ff67672"
      },
      "source": [
        "from sklearn import metrics\n",
        "import math\n",
        "rmse_lasso=math.sqrt(metrics.mean_squared_error(y_test,y_pred))\n",
        "accuracy_lasso=model.score(X_test,y_test) #Accuracy Score\n",
        "\n",
        "print(\"Root mean square error= \",rmse_lasso)\n",
        "print(\"Accurcy Score= \",accuracy_lasso*100)"
      ],
      "execution_count": 53,
      "outputs": [
        {
          "output_type": "stream",
          "text": [
            "Root mean square error=  25.8734416225507\n",
            "Accurcy Score=  79.26448975785706\n"
          ],
          "name": "stdout"
        }
      ]
    },
    {
      "cell_type": "markdown",
      "metadata": {
        "id": "YMY-VUe3txTo"
      },
      "source": [
        "4.2 Graphical Representation"
      ]
    },
    {
      "cell_type": "code",
      "metadata": {
        "colab": {
          "base_uri": "https://localhost:8080/",
          "height": 454
        },
        "id": "M2z5DspatgGN",
        "outputId": "e0c42e3e-0b3c-4cbc-ed94-fa1a690f516f"
      },
      "source": [
        "graph=dfr.head(20)\n",
        "graph.plot(kind='bar',figsize=(20,7))"
      ],
      "execution_count": 54,
      "outputs": [
        {
          "output_type": "execute_result",
          "data": {
            "text/plain": [
              "<matplotlib.axes._subplots.AxesSubplot at 0x7f4fb5433790>"
            ]
          },
          "metadata": {
            "tags": []
          },
          "execution_count": 54
        },
        {
          "output_type": "display_data",
          "data": {
            "image/png": "[encoded data removed]",
            "text/plain": [
              "<Figure size 1440x504 with 1 Axes>"
            ]
          },
          "metadata": {
            "tags": []
          }
        }
      ]
    },
    {
      "cell_type": "markdown",
      "metadata": {
        "id": "G3sCGf8pt6VG"
      },
      "source": [
        "5. PREDICTION USING ELASTIC NET"
      ]
    },
    {
      "cell_type": "code",
      "metadata": {
        "colab": {
          "base_uri": "https://localhost:8080/"
        },
        "id": "3abwUc1Mt91j",
        "outputId": "9dd00712-8e6c-4a4e-ceab-d2ea7e4ce50a"
      },
      "source": [
        "from sklearn.model_selection import train_test_split\n",
        "train, test = train_test_split(df, test_size=0.20)\n",
        "from sklearn.linear_model import ElasticNet\n",
        "X_train = np.array(train.index).reshape(-1, 1)\n",
        "y_train = train['Adj Close']\n",
        "model = ElasticNet()\n",
        "# Fit linear model using the train data set\n",
        "model.fit(X_train, y_train)"
      ],
      "execution_count": 55,
      "outputs": [
        {
          "output_type": "execute_result",
          "data": {
            "text/plain": [
              "ElasticNet(alpha=1.0, copy_X=True, fit_intercept=True, l1_ratio=0.5,\n",
              "           max_iter=1000, normalize=False, positive=False, precompute=False,\n",
              "           random_state=None, selection='cyclic', tol=0.0001, warm_start=False)"
            ]
          },
          "metadata": {
            "tags": []
          },
          "execution_count": 55
        }
      ]
    },
    {
      "cell_type": "code",
      "metadata": {
        "colab": {
          "base_uri": "https://localhost:8080/"
        },
        "id": "lauxW9jOuGnU",
        "outputId": "5c862206-b0ea-465f-b378-327bf2d0f0d5"
      },
      "source": [
        "X_test = np.array(test.index).reshape(-1, 1)\n",
        "y_test = test['Adj Close']\n",
        "y_pred = model.predict(X_test)\n",
        "dfr=pd.DataFrame({'Actual Price':y_test,'Predicted Price':y_pred})\n",
        "print(dfr)"
      ],
      "execution_count": 56,
      "outputs": [
        {
          "output_type": "stream",
          "text": [
            "      Actual Price  Predicted Price\n",
            "186      25.048542         0.327761\n",
            "1258     58.538418        87.765892\n",
            "1004     51.266594        67.048275\n",
            "1542     89.085037       110.930472\n",
            "286      23.107924         8.484303\n",
            "...            ...              ...\n",
            "305      23.850889        10.034046\n",
            "505      31.410315        26.347130\n",
            "1245     58.912594        86.705542\n",
            "2292    243.928192       172.104538\n",
            "251      22.817688         5.629513\n",
            "\n",
            "[472 rows x 2 columns]\n"
          ],
          "name": "stdout"
        }
      ]
    },
    {
      "cell_type": "markdown",
      "metadata": {
        "id": "yJ5GeHtSuNyY"
      },
      "source": [
        "5.1 Calculating the Accuracy"
      ]
    },
    {
      "cell_type": "code",
      "metadata": {
        "colab": {
          "base_uri": "https://localhost:8080/"
        },
        "id": "l8sqSLX2uLQH",
        "outputId": "07a2343d-c7c6-4fb6-e33a-f37d85b6797b"
      },
      "source": [
        "from sklearn import metrics\n",
        "import math\n",
        "rmse_el=math.sqrt(metrics.mean_squared_error(y_test,y_pred))\n",
        "accuracy_el=model.score(X_test,y_test) #Accuracy Score\n",
        "\n",
        "print(\"Root mean square error= \",rmse_el)\n",
        "print(\"Accurcy Score= \",accuracy_el*100)"
      ],
      "execution_count": 57,
      "outputs": [
        {
          "output_type": "stream",
          "text": [
            "Root mean square error=  25.86212337326192\n",
            "Accurcy Score=  80.83927862295064\n"
          ],
          "name": "stdout"
        }
      ]
    },
    {
      "cell_type": "markdown",
      "metadata": {
        "id": "dncqo1d-udEe"
      },
      "source": [
        "5.2 Graphical Representation"
      ]
    },
    {
      "cell_type": "code",
      "metadata": {
        "colab": {
          "base_uri": "https://localhost:8080/",
          "height": 454
        },
        "id": "xT74q7R5uZ0j",
        "outputId": "4f1b6388-8cc7-4a2e-a584-9b98180eca02"
      },
      "source": [
        "graph=dfr.head(20)\n",
        "graph.plot(kind='bar',figsize=(20,7))"
      ],
      "execution_count": 58,
      "outputs": [
        {
          "output_type": "execute_result",
          "data": {
            "text/plain": [
              "<matplotlib.axes._subplots.AxesSubplot at 0x7f4fb52eab90>"
            ]
          },
          "metadata": {
            "tags": []
          },
          "execution_count": 58
        },
        {
          "output_type": "display_data",
          "data": {
            "image/png": "[encoded data removed]",
            "text/plain": [
              "<Figure size 1440x504 with 1 Axes>"
            ]
          },
          "metadata": {
            "tags": []
          }
        }
      ]
    },
    {
      "cell_type": "markdown",
      "metadata": {
        "id": "mxVuOTU0u6fN"
      },
      "source": [
        "6. PREDICTION USING LSTM STACKED ESTIMATOR"
      ]
    },
    {
      "cell_type": "code",
      "metadata": {
        "id": "_Sfcr3KTuj1S"
      },
      "source": [
        "df1=data.reset_index()['Adj Close']"
      ],
      "execution_count": 59,
      "outputs": []
    },
    {
      "cell_type": "code",
      "metadata": {
        "id": "Y-kcpxO-vdcq"
      },
      "source": [
        "from sklearn.preprocessing import MinMaxScaler\n",
        "scaler=MinMaxScaler(feature_range=(0,1))\n",
        "df1=scaler.fit_transform(np.array(df1).reshape(-1,1))"
      ],
      "execution_count": 60,
      "outputs": []
    },
    {
      "cell_type": "code",
      "metadata": {
        "id": "uC9s3Unfvivi"
      },
      "source": [
        "training_size=int(len(df1)*0.65)\n",
        "test_size=len(df1)-training_size\n",
        "train_data,test_data=df1[0:training_size:],df1[training_size:len(df1),:1]"
      ],
      "execution_count": 61,
      "outputs": []
    },
    {
      "cell_type": "code",
      "metadata": {
        "id": "rVwCS5nCvl5d"
      },
      "source": [
        "import numpy\n",
        "\n",
        "def create_dataset(dataset,time_step=1):\n",
        "  dataX,dataY=[],[]\n",
        "  for i in range(len(dataset)-time_step-1):\n",
        "    a=dataset[i:(i+time_step),0]\n",
        "    dataX.append(a)\n",
        "    dataY.append(dataset[i+time_step,0])\n",
        "  return numpy.array(dataX),numpy.array(dataY)"
      ],
      "execution_count": 62,
      "outputs": []
    },
    {
      "cell_type": "code",
      "metadata": {
        "id": "woyIMvBNvo8B"
      },
      "source": [
        " time_step=100\n",
        " X_train,y_train=create_dataset(train_data,time_step)\n",
        " X_test,ytest=create_dataset(train_data,time_step)"
      ],
      "execution_count": 63,
      "outputs": []
    },
    {
      "cell_type": "code",
      "metadata": {
        "colab": {
          "base_uri": "https://localhost:8080/"
        },
        "id": "tIeI4YEWvrU-",
        "outputId": "6435f562-47f7-4faa-b338-a70fa1aa1786"
      },
      "source": [
        "print(X_train)"
      ],
      "execution_count": 64,
      "outputs": [
        {
          "output_type": "stream",
          "text": [
            "[[0.         0.00213605 0.00308541 ... 0.01146853 0.00923561 0.00909817]\n",
            " [0.00213605 0.00308541 0.00454335 ... 0.00923561 0.00909817 0.00906384]\n",
            " [0.00308541 0.00454335 0.00328882 ... 0.00909817 0.00906384 0.01078147]\n",
            " ...\n",
            " [0.20003557 0.20375975 0.2023335  ... 0.27687097 0.28375935 0.28320191]\n",
            " [0.20375975 0.2023335  0.20542375 ... 0.28375935 0.28320191 0.27850345]\n",
            " [0.2023335  0.20542375 0.20510685 ... 0.28320191 0.27850345 0.28754202]]\n"
          ],
          "name": "stdout"
        }
      ]
    },
    {
      "cell_type": "code",
      "metadata": {
        "id": "OpCqSHkKvt4H"
      },
      "source": [
        "X_train =X_train.reshape(X_train.shape[0],X_train.shape[1],1)\n",
        "X_test =X_test.reshape(X_test.shape[0],X_test.shape[1],1)"
      ],
      "execution_count": 65,
      "outputs": []
    },
    {
      "cell_type": "code",
      "metadata": {
        "id": "ejlgyQWovwp_"
      },
      "source": [
        "from tensorflow.keras.models import Sequential\n",
        "from tensorflow.keras.layers import Dense\n",
        "from tensorflow.keras.layers import LSTM"
      ],
      "execution_count": 66,
      "outputs": []
    },
    {
      "cell_type": "code",
      "metadata": {
        "id": "rH3mHgLxvzUm"
      },
      "source": [
        "model=Sequential()\n",
        "model.add(LSTM(50,return_sequences=True,input_shape=(100,1)))\n",
        "model.add(LSTM(50,return_sequences=True))\n",
        "model.add(LSTM(50))\n",
        "model.add(Dense(1))\n",
        "model.compile(loss='mean_squared_error',optimizer='adam')"
      ],
      "execution_count": 67,
      "outputs": []
    },
    {
      "cell_type": "code",
      "metadata": {
        "colab": {
          "base_uri": "https://localhost:8080/"
        },
        "id": "eHL_d3bKv2iK",
        "outputId": "543538fe-13db-432a-e9c6-d6d7f49fbc3c"
      },
      "source": [
        "model.summary()"
      ],
      "execution_count": 68,
      "outputs": [
        {
          "output_type": "stream",
          "text": [
            "Model: \"sequential\"\n",
            "_________________________________________________________________\n",
            "Layer (type)                 Output Shape              Param #   \n",
            "=================================================================\n",
            "lstm (LSTM)                  (None, 100, 50)           10400     \n",
            "_________________________________________________________________\n",
            "lstm_1 (LSTM)                (None, 100, 50)           20200     \n",
            "_________________________________________________________________\n",
            "lstm_2 (LSTM)                (None, 50)                20200     \n",
            "_________________________________________________________________\n",
            "dense (Dense)                (None, 1)                 51        \n",
            "=================================================================\n",
            "Total params: 50,851\n",
            "Trainable params: 50,851\n",
            "Non-trainable params: 0\n",
            "_________________________________________________________________\n"
          ],
          "name": "stdout"
        }
      ]
    },
    {
      "cell_type": "code",
      "metadata": {
        "colab": {
          "base_uri": "https://localhost:8080/"
        },
        "id": "jKXs-XTBv5Ev",
        "outputId": "1b86976d-4d5a-4c6d-b5d5-8ea39a1eb655"
      },
      "source": [
        "model.fit(X_train,y_train,validation_data=(X_test,ytest),epochs=100,batch_size=64,verbose=1)"
      ],
      "execution_count": 69,
      "outputs": [
        {
          "output_type": "stream",
          "text": [
            "Epoch 1/100\n",
            "23/23 [==============================] - 11s 271ms/step - loss: 0.0053 - val_loss: 3.8848e-04\n",
            "Epoch 2/100\n",
            "23/23 [==============================] - 5s 210ms/step - loss: 1.8069e-04 - val_loss: 8.6433e-05\n",
            "Epoch 3/100\n",
            "23/23 [==============================] - 5s 206ms/step - loss: 6.4262e-05 - val_loss: 4.2501e-05\n",
            "Epoch 4/100\n",
            "23/23 [==============================] - 5s 206ms/step - loss: 4.0289e-05 - val_loss: 4.5383e-05\n",
            "Epoch 5/100\n",
            "23/23 [==============================] - 5s 211ms/step - loss: 4.6652e-05 - val_loss: 4.5082e-05\n",
            "Epoch 6/100\n",
            "23/23 [==============================] - 5s 211ms/step - loss: 4.2993e-05 - val_loss: 4.0323e-05\n",
            "Epoch 7/100\n",
            "23/23 [==============================] - 5s 209ms/step - loss: 4.4001e-05 - val_loss: 4.1053e-05\n",
            "Epoch 8/100\n",
            "23/23 [==============================] - 5s 212ms/step - loss: 4.8367e-05 - val_loss: 3.9038e-05\n",
            "Epoch 9/100\n",
            "23/23 [==============================] - 5s 212ms/step - loss: 3.8191e-05 - val_loss: 3.8741e-05\n",
            "Epoch 10/100\n",
            "23/23 [==============================] - 5s 211ms/step - loss: 4.0636e-05 - val_loss: 3.8368e-05\n",
            "Epoch 11/100\n",
            "23/23 [==============================] - 5s 212ms/step - loss: 3.8249e-05 - val_loss: 3.8238e-05\n",
            "Epoch 12/100\n",
            "23/23 [==============================] - 5s 213ms/step - loss: 3.8104e-05 - val_loss: 4.3921e-05\n",
            "Epoch 13/100\n",
            "23/23 [==============================] - 5s 212ms/step - loss: 4.2794e-05 - val_loss: 5.3247e-05\n",
            "Epoch 14/100\n",
            "23/23 [==============================] - 5s 212ms/step - loss: 4.3601e-05 - val_loss: 3.9315e-05\n",
            "Epoch 15/100\n",
            "23/23 [==============================] - 5s 212ms/step - loss: 4.0789e-05 - val_loss: 3.7980e-05\n",
            "Epoch 16/100\n",
            "23/23 [==============================] - 5s 212ms/step - loss: 3.6680e-05 - val_loss: 3.7258e-05\n",
            "Epoch 17/100\n",
            "23/23 [==============================] - 5s 216ms/step - loss: 3.9236e-05 - val_loss: 3.5651e-05\n",
            "Epoch 18/100\n",
            "23/23 [==============================] - 5s 210ms/step - loss: 3.5006e-05 - val_loss: 3.4811e-05\n",
            "Epoch 19/100\n",
            "23/23 [==============================] - 5s 209ms/step - loss: 3.9888e-05 - val_loss: 3.9759e-05\n",
            "Epoch 20/100\n",
            "23/23 [==============================] - 5s 211ms/step - loss: 3.8580e-05 - val_loss: 3.5612e-05\n",
            "Epoch 21/100\n",
            "23/23 [==============================] - 5s 216ms/step - loss: 3.6237e-05 - val_loss: 5.1580e-05\n",
            "Epoch 22/100\n",
            "23/23 [==============================] - 5s 211ms/step - loss: 4.3135e-05 - val_loss: 4.1205e-05\n",
            "Epoch 23/100\n",
            "23/23 [==============================] - 5s 210ms/step - loss: 4.2325e-05 - val_loss: 4.4692e-05\n",
            "Epoch 24/100\n",
            "23/23 [==============================] - 5s 211ms/step - loss: 3.7855e-05 - val_loss: 3.4607e-05\n",
            "Epoch 25/100\n",
            "23/23 [==============================] - 5s 214ms/step - loss: 3.4439e-05 - val_loss: 3.1180e-05\n",
            "Epoch 26/100\n",
            "23/23 [==============================] - 5s 213ms/step - loss: 3.3380e-05 - val_loss: 3.2703e-05\n",
            "Epoch 27/100\n",
            "23/23 [==============================] - 5s 216ms/step - loss: 3.1743e-05 - val_loss: 3.2040e-05\n",
            "Epoch 28/100\n",
            "23/23 [==============================] - 5s 212ms/step - loss: 3.0527e-05 - val_loss: 3.3678e-05\n",
            "Epoch 29/100\n",
            "23/23 [==============================] - 5s 210ms/step - loss: 3.2680e-05 - val_loss: 3.6239e-05\n",
            "Epoch 30/100\n",
            "23/23 [==============================] - 5s 213ms/step - loss: 3.9384e-05 - val_loss: 3.4803e-05\n",
            "Epoch 31/100\n",
            "23/23 [==============================] - 5s 212ms/step - loss: 3.4167e-05 - val_loss: 4.0322e-05\n",
            "Epoch 32/100\n",
            "23/23 [==============================] - 5s 213ms/step - loss: 3.6256e-05 - val_loss: 3.9315e-05\n",
            "Epoch 33/100\n",
            "23/23 [==============================] - 5s 212ms/step - loss: 3.8154e-05 - val_loss: 3.6373e-05\n",
            "Epoch 34/100\n",
            "23/23 [==============================] - 5s 216ms/step - loss: 3.2720e-05 - val_loss: 2.7997e-05\n",
            "Epoch 35/100\n",
            "23/23 [==============================] - 5s 222ms/step - loss: 2.9833e-05 - val_loss: 2.7952e-05\n",
            "Epoch 36/100\n",
            "23/23 [==============================] - 5s 219ms/step - loss: 2.7390e-05 - val_loss: 2.8784e-05\n",
            "Epoch 37/100\n",
            "23/23 [==============================] - 5s 217ms/step - loss: 3.0561e-05 - val_loss: 2.7453e-05\n",
            "Epoch 38/100\n",
            "23/23 [==============================] - 5s 219ms/step - loss: 2.7194e-05 - val_loss: 2.7637e-05\n",
            "Epoch 39/100\n",
            "23/23 [==============================] - 5s 219ms/step - loss: 3.4458e-05 - val_loss: 5.5525e-05\n",
            "Epoch 40/100\n",
            "23/23 [==============================] - 5s 222ms/step - loss: 4.0403e-05 - val_loss: 2.6726e-05\n",
            "Epoch 41/100\n",
            "23/23 [==============================] - 5s 218ms/step - loss: 2.8079e-05 - val_loss: 2.6060e-05\n",
            "Epoch 42/100\n",
            "23/23 [==============================] - 5s 218ms/step - loss: 2.4725e-05 - val_loss: 3.1010e-05\n",
            "Epoch 43/100\n",
            "23/23 [==============================] - 5s 218ms/step - loss: 3.1187e-05 - val_loss: 2.6173e-05\n",
            "Epoch 44/100\n",
            "23/23 [==============================] - 5s 217ms/step - loss: 2.6006e-05 - val_loss: 3.3294e-05\n",
            "Epoch 45/100\n",
            "23/23 [==============================] - 5s 218ms/step - loss: 2.9159e-05 - val_loss: 2.5283e-05\n",
            "Epoch 46/100\n",
            "23/23 [==============================] - 5s 218ms/step - loss: 2.7220e-05 - val_loss: 2.4812e-05\n",
            "Epoch 47/100\n",
            "23/23 [==============================] - 5s 222ms/step - loss: 2.9506e-05 - val_loss: 2.4878e-05\n",
            "Epoch 48/100\n",
            "23/23 [==============================] - 5s 221ms/step - loss: 2.5473e-05 - val_loss: 2.4350e-05\n",
            "Epoch 49/100\n",
            "23/23 [==============================] - 5s 218ms/step - loss: 2.3360e-05 - val_loss: 3.4303e-05\n",
            "Epoch 50/100\n",
            "23/23 [==============================] - 5s 216ms/step - loss: 2.7484e-05 - val_loss: 2.3819e-05\n",
            "Epoch 51/100\n",
            "23/23 [==============================] - 5s 217ms/step - loss: 2.4354e-05 - val_loss: 2.4033e-05\n",
            "Epoch 52/100\n",
            "23/23 [==============================] - 5s 217ms/step - loss: 2.4840e-05 - val_loss: 2.7363e-05\n",
            "Epoch 53/100\n",
            "23/23 [==============================] - 5s 216ms/step - loss: 2.5542e-05 - val_loss: 2.7655e-05\n",
            "Epoch 54/100\n",
            "23/23 [==============================] - 5s 219ms/step - loss: 2.5643e-05 - val_loss: 2.5265e-05\n",
            "Epoch 55/100\n",
            "23/23 [==============================] - 5s 219ms/step - loss: 2.9026e-05 - val_loss: 2.3776e-05\n",
            "Epoch 56/100\n",
            "23/23 [==============================] - 5s 220ms/step - loss: 2.4834e-05 - val_loss: 2.4796e-05\n",
            "Epoch 57/100\n",
            "23/23 [==============================] - 5s 225ms/step - loss: 2.4192e-05 - val_loss: 2.2862e-05\n",
            "Epoch 58/100\n",
            "23/23 [==============================] - 5s 218ms/step - loss: 2.4315e-05 - val_loss: 2.2263e-05\n",
            "Epoch 59/100\n",
            "23/23 [==============================] - 5s 223ms/step - loss: 2.5614e-05 - val_loss: 4.8024e-05\n",
            "Epoch 60/100\n",
            "23/23 [==============================] - 5s 222ms/step - loss: 3.6641e-05 - val_loss: 4.2800e-05\n",
            "Epoch 61/100\n",
            "23/23 [==============================] - 5s 216ms/step - loss: 3.0034e-05 - val_loss: 2.3534e-05\n",
            "Epoch 62/100\n",
            "23/23 [==============================] - 5s 219ms/step - loss: 2.5314e-05 - val_loss: 2.2847e-05\n",
            "Epoch 63/100\n",
            "23/23 [==============================] - 5s 220ms/step - loss: 2.4163e-05 - val_loss: 2.1391e-05\n",
            "Epoch 64/100\n",
            "23/23 [==============================] - 5s 224ms/step - loss: 2.6749e-05 - val_loss: 5.7738e-05\n",
            "Epoch 65/100\n",
            "23/23 [==============================] - 5s 220ms/step - loss: 3.9241e-05 - val_loss: 2.4159e-05\n",
            "Epoch 66/100\n",
            "23/23 [==============================] - 5s 220ms/step - loss: 2.5013e-05 - val_loss: 2.1230e-05\n",
            "Epoch 67/100\n",
            "23/23 [==============================] - 5s 220ms/step - loss: 1.9767e-05 - val_loss: 2.1490e-05\n",
            "Epoch 68/100\n",
            "23/23 [==============================] - 5s 219ms/step - loss: 2.1727e-05 - val_loss: 2.0700e-05\n",
            "Epoch 69/100\n",
            "23/23 [==============================] - 5s 222ms/step - loss: 2.3534e-05 - val_loss: 2.0878e-05\n",
            "Epoch 70/100\n",
            "23/23 [==============================] - 5s 219ms/step - loss: 2.4196e-05 - val_loss: 2.7618e-05\n",
            "Epoch 71/100\n",
            "23/23 [==============================] - 5s 219ms/step - loss: 2.6939e-05 - val_loss: 4.0076e-05\n",
            "Epoch 72/100\n",
            "23/23 [==============================] - 5s 226ms/step - loss: 2.6006e-05 - val_loss: 2.7296e-05\n",
            "Epoch 73/100\n",
            "23/23 [==============================] - 5s 229ms/step - loss: 2.6841e-05 - val_loss: 2.0550e-05\n",
            "Epoch 74/100\n",
            "23/23 [==============================] - 5s 224ms/step - loss: 2.4572e-05 - val_loss: 3.0450e-05\n",
            "Epoch 75/100\n",
            "23/23 [==============================] - 5s 227ms/step - loss: 2.4527e-05 - val_loss: 5.5048e-05\n",
            "Epoch 76/100\n",
            "23/23 [==============================] - 5s 226ms/step - loss: 3.3660e-05 - val_loss: 2.2059e-05\n",
            "Epoch 77/100\n",
            "23/23 [==============================] - 5s 227ms/step - loss: 2.2994e-05 - val_loss: 1.9822e-05\n",
            "Epoch 78/100\n",
            "23/23 [==============================] - 5s 227ms/step - loss: 2.3072e-05 - val_loss: 2.0261e-05\n",
            "Epoch 79/100\n",
            "23/23 [==============================] - 5s 228ms/step - loss: 2.2661e-05 - val_loss: 1.9227e-05\n",
            "Epoch 80/100\n",
            "23/23 [==============================] - 5s 227ms/step - loss: 1.6912e-05 - val_loss: 2.0582e-05\n",
            "Epoch 81/100\n",
            "23/23 [==============================] - 5s 230ms/step - loss: 1.9198e-05 - val_loss: 3.5468e-05\n",
            "Epoch 82/100\n",
            "23/23 [==============================] - 5s 227ms/step - loss: 2.6339e-05 - val_loss: 1.8607e-05\n",
            "Epoch 83/100\n",
            "23/23 [==============================] - 5s 225ms/step - loss: 2.0213e-05 - val_loss: 1.9067e-05\n",
            "Epoch 84/100\n",
            "23/23 [==============================] - 5s 224ms/step - loss: 1.9809e-05 - val_loss: 2.5868e-05\n",
            "Epoch 85/100\n",
            "23/23 [==============================] - 5s 227ms/step - loss: 2.1892e-05 - val_loss: 2.3217e-05\n",
            "Epoch 86/100\n",
            "23/23 [==============================] - 5s 224ms/step - loss: 2.3045e-05 - val_loss: 1.9466e-05\n",
            "Epoch 87/100\n",
            "23/23 [==============================] - 5s 227ms/step - loss: 1.9567e-05 - val_loss: 1.7765e-05\n",
            "Epoch 88/100\n",
            "23/23 [==============================] - 5s 231ms/step - loss: 1.9554e-05 - val_loss: 1.7846e-05\n",
            "Epoch 89/100\n",
            "23/23 [==============================] - 5s 225ms/step - loss: 1.9870e-05 - val_loss: 2.2904e-05\n",
            "Epoch 90/100\n",
            "23/23 [==============================] - 5s 228ms/step - loss: 2.1624e-05 - val_loss: 1.7340e-05\n",
            "Epoch 91/100\n",
            "23/23 [==============================] - 5s 228ms/step - loss: 1.8639e-05 - val_loss: 1.7791e-05\n",
            "Epoch 92/100\n",
            "23/23 [==============================] - 5s 228ms/step - loss: 2.0249e-05 - val_loss: 1.9385e-05\n",
            "Epoch 93/100\n",
            "23/23 [==============================] - 5s 225ms/step - loss: 1.8481e-05 - val_loss: 1.8617e-05\n",
            "Epoch 94/100\n",
            "23/23 [==============================] - 5s 227ms/step - loss: 1.7767e-05 - val_loss: 1.9409e-05\n",
            "Epoch 95/100\n",
            "23/23 [==============================] - 5s 226ms/step - loss: 1.7353e-05 - val_loss: 1.7647e-05\n",
            "Epoch 96/100\n",
            "23/23 [==============================] - 5s 233ms/step - loss: 2.0989e-05 - val_loss: 1.7242e-05\n",
            "Epoch 97/100\n",
            "23/23 [==============================] - 5s 230ms/step - loss: 1.6058e-05 - val_loss: 2.2106e-05\n",
            "Epoch 98/100\n",
            "23/23 [==============================] - 5s 227ms/step - loss: 2.2223e-05 - val_loss: 3.9460e-05\n",
            "Epoch 99/100\n",
            "23/23 [==============================] - 5s 227ms/step - loss: 2.5166e-05 - val_loss: 1.6372e-05\n",
            "Epoch 100/100\n",
            "23/23 [==============================] - 5s 223ms/step - loss: 1.8567e-05 - val_loss: 1.9815e-05\n"
          ],
          "name": "stdout"
        },
        {
          "output_type": "execute_result",
          "data": {
            "text/plain": [
              "<tensorflow.python.keras.callbacks.History at 0x7f4f7cd1ca10>"
            ]
          },
          "metadata": {
            "tags": []
          },
          "execution_count": 69
        }
      ]
    },
    {
      "cell_type": "code",
      "metadata": {
        "id": "6Qv0P9CJzexF"
      },
      "source": [
        "train_predict=model.predict(X_train)\n",
        "test_predict=model.predict(X_test)"
      ],
      "execution_count": 70,
      "outputs": []
    },
    {
      "cell_type": "code",
      "metadata": {
        "id": "QbOwK4jPzieo"
      },
      "source": [
        "train_predict=scaler.inverse_transform(train_predict)\n",
        "test_predict=scaler.inverse_transform(test_predict)"
      ],
      "execution_count": 71,
      "outputs": []
    },
    {
      "cell_type": "markdown",
      "metadata": {
        "id": "GQEcRFMV45rh"
      },
      "source": [
        "6.1 Calculating the Accuracy"
      ]
    },
    {
      "cell_type": "code",
      "metadata": {
        "colab": {
          "base_uri": "https://localhost:8080/"
        },
        "id": "Dd4qOiLDzkm6",
        "outputId": "7e82445b-1810-4543-a2a4-07bd53d8286e"
      },
      "source": [
        "import math\n",
        "from sklearn.metrics import mean_squared_error\n",
        "rmse_lstm=math.sqrt(mean_squared_error(ytest,test_predict))\n",
        "print(\"RMSE score of LSTM =\",rmse_lstm)\n"
      ],
      "execution_count": 72,
      "outputs": [
        {
          "output_type": "stream",
          "text": [
            "RMSE score of LSTM = 46.749862824985215\n"
          ],
          "name": "stdout"
        }
      ]
    },
    {
      "cell_type": "markdown",
      "metadata": {
        "id": "FpySVNjW1TOy"
      },
      "source": [
        "7.PREDICTION USING FBPROPHET"
      ]
    },
    {
      "cell_type": "code",
      "metadata": {
        "id": "5PrhzMu61Swu"
      },
      "source": [
        "import datetime as dt\n",
        "import matplotlib.pyplot as plt\n",
        "import warnings\n",
        "warnings.simplefilter(action='ignore',category=FutureWarning)\n",
        "from fbprophet import Prophet"
      ],
      "execution_count": 73,
      "outputs": []
    },
    {
      "cell_type": "code",
      "metadata": {
        "id": "QboFAame2JFe"
      },
      "source": [
        "model=Prophet()"
      ],
      "execution_count": 74,
      "outputs": []
    },
    {
      "cell_type": "code",
      "metadata": {
        "id": "uNwl8BmQ2Nz2"
      },
      "source": [
        "dfb=data.reset_index()"
      ],
      "execution_count": 75,
      "outputs": []
    },
    {
      "cell_type": "code",
      "metadata": {
        "colab": {
          "base_uri": "https://localhost:8080/",
          "height": 419
        },
        "id": "OeAgzo4V2Sul",
        "outputId": "d2574c49-d9b9-480c-f16b-07c2a586e559"
      },
      "source": [
        "dfb"
      ],
      "execution_count": 76,
      "outputs": [
        {
          "output_type": "execute_result",
          "data": {
            "text/html": [
              "<div>\n",
              "<style scoped>\n",
              "    .dataframe tbody tr th:only-of-type {\n",
              "        vertical-align: middle;\n",
              "    }\n",
              "\n",
              "    .dataframe tbody tr th {\n",
              "        vertical-align: top;\n",
              "    }\n",
              "\n",
              "    .dataframe thead th {\n",
              "        text-align: right;\n",
              "    }\n",
              "</style>\n",
              "<table border=\"1\" class=\"dataframe\">\n",
              "  <thead>\n",
              "    <tr style=\"text-align: right;\">\n",
              "      <th></th>\n",
              "      <th>Date</th>\n",
              "      <th>High</th>\n",
              "      <th>Low</th>\n",
              "      <th>Open</th>\n",
              "      <th>Close</th>\n",
              "      <th>Volume</th>\n",
              "      <th>Adj Close</th>\n",
              "    </tr>\n",
              "  </thead>\n",
              "  <tbody>\n",
              "    <tr>\n",
              "      <th>0</th>\n",
              "      <td>2012-01-03</td>\n",
              "      <td>26.959999</td>\n",
              "      <td>26.389999</td>\n",
              "      <td>26.549999</td>\n",
              "      <td>26.770000</td>\n",
              "      <td>64731500.0</td>\n",
              "      <td>21.799267</td>\n",
              "    </tr>\n",
              "    <tr>\n",
              "      <th>1</th>\n",
              "      <td>2012-01-04</td>\n",
              "      <td>27.469999</td>\n",
              "      <td>26.780001</td>\n",
              "      <td>26.820000</td>\n",
              "      <td>27.400000</td>\n",
              "      <td>80516100.0</td>\n",
              "      <td>22.312283</td>\n",
              "    </tr>\n",
              "    <tr>\n",
              "      <th>2</th>\n",
              "      <td>2012-01-05</td>\n",
              "      <td>27.730000</td>\n",
              "      <td>27.290001</td>\n",
              "      <td>27.379999</td>\n",
              "      <td>27.680000</td>\n",
              "      <td>56081400.0</td>\n",
              "      <td>22.540291</td>\n",
              "    </tr>\n",
              "    <tr>\n",
              "      <th>3</th>\n",
              "      <td>2012-01-06</td>\n",
              "      <td>28.190001</td>\n",
              "      <td>27.530001</td>\n",
              "      <td>27.530001</td>\n",
              "      <td>28.110001</td>\n",
              "      <td>99455500.0</td>\n",
              "      <td>22.890448</td>\n",
              "    </tr>\n",
              "    <tr>\n",
              "      <th>4</th>\n",
              "      <td>2012-01-09</td>\n",
              "      <td>28.100000</td>\n",
              "      <td>27.719999</td>\n",
              "      <td>28.049999</td>\n",
              "      <td>27.740000</td>\n",
              "      <td>59706800.0</td>\n",
              "      <td>22.589146</td>\n",
              "    </tr>\n",
              "    <tr>\n",
              "      <th>...</th>\n",
              "      <td>...</td>\n",
              "      <td>...</td>\n",
              "      <td>...</td>\n",
              "      <td>...</td>\n",
              "      <td>...</td>\n",
              "      <td>...</td>\n",
              "      <td>...</td>\n",
              "    </tr>\n",
              "    <tr>\n",
              "      <th>2352</th>\n",
              "      <td>2021-05-10</td>\n",
              "      <td>251.729996</td>\n",
              "      <td>247.119995</td>\n",
              "      <td>250.869995</td>\n",
              "      <td>247.179993</td>\n",
              "      <td>29299900.0</td>\n",
              "      <td>247.179993</td>\n",
              "    </tr>\n",
              "    <tr>\n",
              "      <th>2353</th>\n",
              "      <td>2021-05-11</td>\n",
              "      <td>246.600006</td>\n",
              "      <td>242.570007</td>\n",
              "      <td>244.550003</td>\n",
              "      <td>246.229996</td>\n",
              "      <td>33641600.0</td>\n",
              "      <td>246.229996</td>\n",
              "    </tr>\n",
              "    <tr>\n",
              "      <th>2354</th>\n",
              "      <td>2021-05-12</td>\n",
              "      <td>244.380005</td>\n",
              "      <td>238.070007</td>\n",
              "      <td>242.169998</td>\n",
              "      <td>239.000000</td>\n",
              "      <td>36684400.0</td>\n",
              "      <td>239.000000</td>\n",
              "    </tr>\n",
              "    <tr>\n",
              "      <th>2355</th>\n",
              "      <td>2021-05-13</td>\n",
              "      <td>245.600006</td>\n",
              "      <td>241.419998</td>\n",
              "      <td>241.800003</td>\n",
              "      <td>243.029999</td>\n",
              "      <td>29624300.0</td>\n",
              "      <td>243.029999</td>\n",
              "    </tr>\n",
              "    <tr>\n",
              "      <th>2356</th>\n",
              "      <td>2021-05-14</td>\n",
              "      <td>249.179993</td>\n",
              "      <td>245.490005</td>\n",
              "      <td>245.580002</td>\n",
              "      <td>248.149994</td>\n",
              "      <td>23868600.0</td>\n",
              "      <td>248.149994</td>\n",
              "    </tr>\n",
              "  </tbody>\n",
              "</table>\n",
              "<p>2357 rows × 7 columns</p>\n",
              "</div>"
            ],
            "text/plain": [
              "           Date        High         Low  ...       Close      Volume   Adj Close\n",
              "0    2012-01-03   26.959999   26.389999  ...   26.770000  64731500.0   21.799267\n",
              "1    2012-01-04   27.469999   26.780001  ...   27.400000  80516100.0   22.312283\n",
              "2    2012-01-05   27.730000   27.290001  ...   27.680000  56081400.0   22.540291\n",
              "3    2012-01-06   28.190001   27.530001  ...   28.110001  99455500.0   22.890448\n",
              "4    2012-01-09   28.100000   27.719999  ...   27.740000  59706800.0   22.589146\n",
              "...         ...         ...         ...  ...         ...         ...         ...\n",
              "2352 2021-05-10  251.729996  247.119995  ...  247.179993  29299900.0  247.179993\n",
              "2353 2021-05-11  246.600006  242.570007  ...  246.229996  33641600.0  246.229996\n",
              "2354 2021-05-12  244.380005  238.070007  ...  239.000000  36684400.0  239.000000\n",
              "2355 2021-05-13  245.600006  241.419998  ...  243.029999  29624300.0  243.029999\n",
              "2356 2021-05-14  249.179993  245.490005  ...  248.149994  23868600.0  248.149994\n",
              "\n",
              "[2357 rows x 7 columns]"
            ]
          },
          "metadata": {
            "tags": []
          },
          "execution_count": 76
        }
      ]
    },
    {
      "cell_type": "code",
      "metadata": {
        "id": "pQUzNEYT2Uur"
      },
      "source": [
        "dfb[['ds','y']]=dfb[['Date','Adj Close']]"
      ],
      "execution_count": 77,
      "outputs": []
    },
    {
      "cell_type": "code",
      "metadata": {
        "colab": {
          "base_uri": "https://localhost:8080/",
          "height": 419
        },
        "id": "P0x6Ni-Z2Zi2",
        "outputId": "374cee26-4f03-4ef3-e2e9-4fc826f59f8d"
      },
      "source": [
        "dfb"
      ],
      "execution_count": 78,
      "outputs": [
        {
          "output_type": "execute_result",
          "data": {
            "text/html": [
              "<div>\n",
              "<style scoped>\n",
              "    .dataframe tbody tr th:only-of-type {\n",
              "        vertical-align: middle;\n",
              "    }\n",
              "\n",
              "    .dataframe tbody tr th {\n",
              "        vertical-align: top;\n",
              "    }\n",
              "\n",
              "    .dataframe thead th {\n",
              "        text-align: right;\n",
              "    }\n",
              "</style>\n",
              "<table border=\"1\" class=\"dataframe\">\n",
              "  <thead>\n",
              "    <tr style=\"text-align: right;\">\n",
              "      <th></th>\n",
              "      <th>Date</th>\n",
              "      <th>High</th>\n",
              "      <th>Low</th>\n",
              "      <th>Open</th>\n",
              "      <th>Close</th>\n",
              "      <th>Volume</th>\n",
              "      <th>Adj Close</th>\n",
              "      <th>ds</th>\n",
              "      <th>y</th>\n",
              "    </tr>\n",
              "  </thead>\n",
              "  <tbody>\n",
              "    <tr>\n",
              "      <th>0</th>\n",
              "      <td>2012-01-03</td>\n",
              "      <td>26.959999</td>\n",
              "      <td>26.389999</td>\n",
              "      <td>26.549999</td>\n",
              "      <td>26.770000</td>\n",
              "      <td>64731500.0</td>\n",
              "      <td>21.799267</td>\n",
              "      <td>2012-01-03</td>\n",
              "      <td>21.799267</td>\n",
              "    </tr>\n",
              "    <tr>\n",
              "      <th>1</th>\n",
              "      <td>2012-01-04</td>\n",
              "      <td>27.469999</td>\n",
              "      <td>26.780001</td>\n",
              "      <td>26.820000</td>\n",
              "      <td>27.400000</td>\n",
              "      <td>80516100.0</td>\n",
              "      <td>22.312283</td>\n",
              "      <td>2012-01-04</td>\n",
              "      <td>22.312283</td>\n",
              "    </tr>\n",
              "    <tr>\n",
              "      <th>2</th>\n",
              "      <td>2012-01-05</td>\n",
              "      <td>27.730000</td>\n",
              "      <td>27.290001</td>\n",
              "      <td>27.379999</td>\n",
              "      <td>27.680000</td>\n",
              "      <td>56081400.0</td>\n",
              "      <td>22.540291</td>\n",
              "      <td>2012-01-05</td>\n",
              "      <td>22.540291</td>\n",
              "    </tr>\n",
              "    <tr>\n",
              "      <th>3</th>\n",
              "      <td>2012-01-06</td>\n",
              "      <td>28.190001</td>\n",
              "      <td>27.530001</td>\n",
              "      <td>27.530001</td>\n",
              "      <td>28.110001</td>\n",
              "      <td>99455500.0</td>\n",
              "      <td>22.890448</td>\n",
              "      <td>2012-01-06</td>\n",
              "      <td>22.890448</td>\n",
              "    </tr>\n",
              "    <tr>\n",
              "      <th>4</th>\n",
              "      <td>2012-01-09</td>\n",
              "      <td>28.100000</td>\n",
              "      <td>27.719999</td>\n",
              "      <td>28.049999</td>\n",
              "      <td>27.740000</td>\n",
              "      <td>59706800.0</td>\n",
              "      <td>22.589146</td>\n",
              "      <td>2012-01-09</td>\n",
              "      <td>22.589146</td>\n",
              "    </tr>\n",
              "    <tr>\n",
              "      <th>...</th>\n",
              "      <td>...</td>\n",
              "      <td>...</td>\n",
              "      <td>...</td>\n",
              "      <td>...</td>\n",
              "      <td>...</td>\n",
              "      <td>...</td>\n",
              "      <td>...</td>\n",
              "      <td>...</td>\n",
              "      <td>...</td>\n",
              "    </tr>\n",
              "    <tr>\n",
              "      <th>2352</th>\n",
              "      <td>2021-05-10</td>\n",
              "      <td>251.729996</td>\n",
              "      <td>247.119995</td>\n",
              "      <td>250.869995</td>\n",
              "      <td>247.179993</td>\n",
              "      <td>29299900.0</td>\n",
              "      <td>247.179993</td>\n",
              "      <td>2021-05-10</td>\n",
              "      <td>247.179993</td>\n",
              "    </tr>\n",
              "    <tr>\n",
              "      <th>2353</th>\n",
              "      <td>2021-05-11</td>\n",
              "      <td>246.600006</td>\n",
              "      <td>242.570007</td>\n",
              "      <td>244.550003</td>\n",
              "      <td>246.229996</td>\n",
              "      <td>33641600.0</td>\n",
              "      <td>246.229996</td>\n",
              "      <td>2021-05-11</td>\n",
              "      <td>246.229996</td>\n",
              "    </tr>\n",
              "    <tr>\n",
              "      <th>2354</th>\n",
              "      <td>2021-05-12</td>\n",
              "      <td>244.380005</td>\n",
              "      <td>238.070007</td>\n",
              "      <td>242.169998</td>\n",
              "      <td>239.000000</td>\n",
              "      <td>36684400.0</td>\n",
              "      <td>239.000000</td>\n",
              "      <td>2021-05-12</td>\n",
              "      <td>239.000000</td>\n",
              "    </tr>\n",
              "    <tr>\n",
              "      <th>2355</th>\n",
              "      <td>2021-05-13</td>\n",
              "      <td>245.600006</td>\n",
              "      <td>241.419998</td>\n",
              "      <td>241.800003</td>\n",
              "      <td>243.029999</td>\n",
              "      <td>29624300.0</td>\n",
              "      <td>243.029999</td>\n",
              "      <td>2021-05-13</td>\n",
              "      <td>243.029999</td>\n",
              "    </tr>\n",
              "    <tr>\n",
              "      <th>2356</th>\n",
              "      <td>2021-05-14</td>\n",
              "      <td>249.179993</td>\n",
              "      <td>245.490005</td>\n",
              "      <td>245.580002</td>\n",
              "      <td>248.149994</td>\n",
              "      <td>23868600.0</td>\n",
              "      <td>248.149994</td>\n",
              "      <td>2021-05-14</td>\n",
              "      <td>248.149994</td>\n",
              "    </tr>\n",
              "  </tbody>\n",
              "</table>\n",
              "<p>2357 rows × 9 columns</p>\n",
              "</div>"
            ],
            "text/plain": [
              "           Date        High         Low  ...   Adj Close         ds           y\n",
              "0    2012-01-03   26.959999   26.389999  ...   21.799267 2012-01-03   21.799267\n",
              "1    2012-01-04   27.469999   26.780001  ...   22.312283 2012-01-04   22.312283\n",
              "2    2012-01-05   27.730000   27.290001  ...   22.540291 2012-01-05   22.540291\n",
              "3    2012-01-06   28.190001   27.530001  ...   22.890448 2012-01-06   22.890448\n",
              "4    2012-01-09   28.100000   27.719999  ...   22.589146 2012-01-09   22.589146\n",
              "...         ...         ...         ...  ...         ...        ...         ...\n",
              "2352 2021-05-10  251.729996  247.119995  ...  247.179993 2021-05-10  247.179993\n",
              "2353 2021-05-11  246.600006  242.570007  ...  246.229996 2021-05-11  246.229996\n",
              "2354 2021-05-12  244.380005  238.070007  ...  239.000000 2021-05-12  239.000000\n",
              "2355 2021-05-13  245.600006  241.419998  ...  243.029999 2021-05-13  243.029999\n",
              "2356 2021-05-14  249.179993  245.490005  ...  248.149994 2021-05-14  248.149994\n",
              "\n",
              "[2357 rows x 9 columns]"
            ]
          },
          "metadata": {
            "tags": []
          },
          "execution_count": 78
        }
      ]
    },
    {
      "cell_type": "code",
      "metadata": {
        "colab": {
          "base_uri": "https://localhost:8080/"
        },
        "id": "7Wjzh-Gw2bfi",
        "outputId": "c4451fd3-7414-49cb-9de7-d93152ebcb6e"
      },
      "source": [
        "model.fit(dfb)"
      ],
      "execution_count": 79,
      "outputs": [
        {
          "output_type": "stream",
          "text": [
            "INFO:fbprophet:Disabling daily seasonality. Run prophet with daily_seasonality=True to override this.\n"
          ],
          "name": "stderr"
        },
        {
          "output_type": "execute_result",
          "data": {
            "text/plain": [
              "<fbprophet.forecaster.Prophet at 0x7f4f79a33190>"
            ]
          },
          "metadata": {
            "tags": []
          },
          "execution_count": 79
        }
      ]
    },
    {
      "cell_type": "code",
      "metadata": {
        "id": "x_joJtYe2fJQ"
      },
      "source": [
        "prediction=model.make_future_dataframe(periods=200)"
      ],
      "execution_count": 81,
      "outputs": []
    },
    {
      "cell_type": "code",
      "metadata": {
        "colab": {
          "base_uri": "https://localhost:8080/"
        },
        "id": "agfIEWej2i84",
        "outputId": "0bdbc9b2-72c5-43de-90b6-5be7c6c84441"
      },
      "source": [
        "pre=model.predict(prediction)\n",
        "print(pre)"
      ],
      "execution_count": 82,
      "outputs": [
        {
          "output_type": "stream",
          "text": [
            "             ds       trend  ...  multiplicative_terms_upper        yhat\n",
            "0    2012-01-03   25.220761  ...                         0.0   23.952509\n",
            "1    2012-01-04   25.212488  ...                         0.0   23.832262\n",
            "2    2012-01-05   25.204216  ...                         0.0   23.710011\n",
            "3    2012-01-06   25.195944  ...                         0.0   23.677610\n",
            "4    2012-01-09   25.171127  ...                         0.0   23.340558\n",
            "...         ...         ...  ...                         ...         ...\n",
            "2552 2021-11-26  286.423481  ...                         0.0  286.645494\n",
            "2553 2021-11-27  286.609178  ...                         0.0  284.260344\n",
            "2554 2021-11-28  286.794876  ...                         0.0  284.371806\n",
            "2555 2021-11-29  286.980574  ...                         0.0  286.860954\n",
            "2556 2021-11-30  287.166271  ...                         0.0  287.052267\n",
            "\n",
            "[2557 rows x 19 columns]\n"
          ],
          "name": "stdout"
        }
      ]
    },
    {
      "cell_type": "markdown",
      "metadata": {
        "id": "h9O7exT040S6"
      },
      "source": [
        "7.1 Calclulating the Accuracy"
      ]
    },
    {
      "cell_type": "code",
      "metadata": {
        "colab": {
          "base_uri": "https://localhost:8080/"
        },
        "id": "sPHvTNhZ3xpG",
        "outputId": "0c919c8c-c207-4987-b71e-76769b2d9cc9"
      },
      "source": [
        "import math\n",
        "from sklearn.metrics import mean_squared_error\n",
        "rmse_fb=math.sqrt(mean_squared_error(pre['trend'],pre['yhat']))\n",
        "print(\"RMSE error of FBProphet =\",rmse_fb)"
      ],
      "execution_count": 83,
      "outputs": [
        {
          "output_type": "stream",
          "text": [
            "RMSE error of FBProphet = 1.7721375811220887\n"
          ],
          "name": "stdout"
        }
      ]
    },
    {
      "cell_type": "markdown",
      "metadata": {
        "id": "4wlTQAS04vY2"
      },
      "source": [
        "7.2 Graphical Visualization"
      ]
    },
    {
      "cell_type": "code",
      "metadata": {
        "colab": {
          "base_uri": "https://localhost:8080/",
          "height": 536
        },
        "id": "asEO4s0f4H39",
        "outputId": "0a866940-728a-41c6-e89b-90ecfafcfa82"
      },
      "source": [
        "from matplotlib import pyplot\n",
        "pyplot.plot(pre['trend'], label='Actual')\n",
        "pyplot.plot(pre['yhat'], label='Predicted')\n",
        "pyplot.legend()\n",
        "pyplot.show()"
      ],
      "execution_count": 84,
      "outputs": [
        {
          "output_type": "display_data",
          "data": {
            "image/png": "[encoded data removed]",
            "text/plain": [
              "<Figure size 1152x720 with 1 Axes>"
            ]
          },
          "metadata": {
            "tags": []
          }
        }
      ]
    },
    {
      "cell_type": "markdown",
      "metadata": {
        "id": "T5ya6xggD1Ys"
      },
      "source": [
        "**Evaluation of the Performance of Algorithms**"
      ]
    },
    {
      "cell_type": "markdown",
      "metadata": {
        "id": "r176V9N3F-Ij"
      },
      "source": [
        "1. BASED ON THE ACCURACY SCORE"
      ]
    },
    {
      "cell_type": "code",
      "metadata": {
        "colab": {
          "base_uri": "https://localhost:8080/"
        },
        "id": "SXXenXpID0ti",
        "outputId": "34e62d32-ee87-4207-e51b-a3ee1ffedb4a"
      },
      "source": [
        "scores = [accuracy_linear*100,accuracy_lasso*100,accuracy_knn*100,accuracy_el*100,accuracy_dt*100]\n",
        "algorithms = [\"Linear Regression\",\"Lasso Regression\",\"KNN\",\"ElasticNet\",\"Decision Tree Regressor\"]\n",
        "for i in range(len(algorithms)):\n",
        "    print(\"The accuracy score achieved using \"+algorithms[i]+\" is: \"+str(scores[i])+\" %\")"
      ],
      "execution_count": 85,
      "outputs": [
        {
          "output_type": "stream",
          "text": [
            "The accuracy score achieved using Linear Regression is: 81.34730363661639 %\n",
            "The accuracy score achieved using Lasso Regression is: 79.26448975785706 %\n",
            "The accuracy score achieved using KNN is: 99.91362489291325 %\n",
            "The accuracy score achieved using ElasticNet is: 80.83927862295064 %\n",
            "The accuracy score achieved using Decision Tree Regressor is: 99.90783312799248 %\n"
          ],
          "name": "stdout"
        }
      ]
    },
    {
      "cell_type": "code",
      "metadata": {
        "colab": {
          "base_uri": "https://localhost:8080/",
          "height": 376
        },
        "id": "5xPP7bKKE8FQ",
        "outputId": "93e00a04-85ae-4445-c849-7d9e9f3fa89b"
      },
      "source": [
        "sns.set(rc={'figure.figsize':(25,10)})\n",
        "plt.xlabel(\"Algorithms\")\n",
        "plt.ylabel(\"Accuracy score\")\n",
        "\n",
        "sns.barplot(algorithms,scores)"
      ],
      "execution_count": 86,
      "outputs": [
        {
          "output_type": "execute_result",
          "data": {
            "text/plain": [
              "<matplotlib.axes._subplots.AxesSubplot at 0x7f4f74a92210>"
            ]
          },
          "metadata": {
            "tags": []
          },
          "execution_count": 86
        },
        {
          "output_type": "display_data",
          "data": {
            "image/png": "[encoded data removed]",
            "text/plain": [
              "<Figure size 1800x720 with 1 Axes>"
            ]
          },
          "metadata": {
            "tags": []
          }
        }
      ]
    },
    {
      "cell_type": "markdown",
      "metadata": {
        "id": "SsoCiO-HGCcM"
      },
      "source": [
        "2. BASED ON RMSE VALUES"
      ]
    },
    {
      "cell_type": "code",
      "metadata": {
        "colab": {
          "base_uri": "https://localhost:8080/"
        },
        "id": "mz9R5HmFGE17",
        "outputId": "859f33d9-caf7-41eb-ca22-c923f8ef7f80"
      },
      "source": [
        "scores = [rmse_linear,rmse_lasso,rmse_knn,rmse_el,rmse_dt,rmse_lstm,rmse_fb]\n",
        "algorithms = [\"Linear Regression\",\"Lasso Regression\",\"KNN\",\"ElasticNet\",\"Decision Tree Regressor\",\"LSTM\",\"FB PROPHET\"]\n",
        "for i in range(len(algorithms)):\n",
        "    print(\"The RMSE Value achieved using \"+algorithms[i]+\" is: \"+str(scores[i])+\" \")"
      ],
      "execution_count": 88,
      "outputs": [
        {
          "output_type": "stream",
          "text": [
            "The RMSE Value achieved using Linear Regression is: 27.427243291799382 \n",
            "The RMSE Value achieved using Lasso Regression is: 25.8734416225507 \n",
            "The RMSE Value achieved using KNN is: 1.7512739821987657 \n",
            "The RMSE Value achieved using ElasticNet is: 25.86212337326192 \n",
            "The RMSE Value achieved using Decision Tree Regressor is: 1.7522608977057978 \n",
            "The RMSE Value achieved using LSTM is: 46.749862824985215 \n",
            "The RMSE Value achieved using FB PROPHET is: 1.7721375811220887 \n"
          ],
          "name": "stdout"
        }
      ]
    },
    {
      "cell_type": "code",
      "metadata": {
        "colab": {
          "base_uri": "https://localhost:8080/",
          "height": 378
        },
        "id": "w_-TqVSqGcGg",
        "outputId": "276550a1-d557-420f-8a59-efa5fcb47273"
      },
      "source": [
        "sns.set(rc={'figure.figsize':(25,10)})\n",
        "plt.xlabel(\"Algorithms\")\n",
        "plt.ylabel(\"RMSE Value\")\n",
        "\n",
        "sns.barplot(algorithms,scores)"
      ],
      "execution_count": 89,
      "outputs": [
        {
          "output_type": "execute_result",
          "data": {
            "text/plain": [
              "<matplotlib.axes._subplots.AxesSubplot at 0x7f4f74af0f90>"
            ]
          },
          "metadata": {
            "tags": []
          },
          "execution_count": 89
        },
        {
          "output_type": "display_data",
          "data": {
            "image/png": "[encoded data removed]",
            "text/plain": [
              "<Figure size 1800x720 with 1 Axes>"
            ]
          },
          "metadata": {
            "tags": []
          }
        }
      ]
    },
    {
      "cell_type": "markdown",
      "metadata": {
        "id": "xRbrpeCFIHB_"
      },
      "source": [
        "**FORECASTING THE FUTURE STOCK PRICES USING ML AND DEEP LEARNING**"
      ]
    },
    {
      "cell_type": "code",
      "metadata": {
        "colab": {
          "base_uri": "https://localhost:8080/",
          "height": 450
        },
        "id": "G87SmgFEIQNC",
        "outputId": "c10695e7-559e-4d8f-c608-9127515d83a5"
      },
      "source": [
        "df=web.DataReader('AMZN',data_source='yahoo',start='2012-01-01',end='2021-05-15')\n",
        "df"
      ],
      "execution_count": null,
      "outputs": [
        {
          "output_type": "execute_result",
          "data": {
            "text/html": [
              "<div>\n",
              "<style scoped>\n",
              "    .dataframe tbody tr th:only-of-type {\n",
              "        vertical-align: middle;\n",
              "    }\n",
              "\n",
              "    .dataframe tbody tr th {\n",
              "        vertical-align: top;\n",
              "    }\n",
              "\n",
              "    .dataframe thead th {\n",
              "        text-align: right;\n",
              "    }\n",
              "</style>\n",
              "<table border=\"1\" class=\"dataframe\">\n",
              "  <thead>\n",
              "    <tr style=\"text-align: right;\">\n",
              "      <th></th>\n",
              "      <th>High</th>\n",
              "      <th>Low</th>\n",
              "      <th>Open</th>\n",
              "      <th>Close</th>\n",
              "      <th>Volume</th>\n",
              "      <th>Adj Close</th>\n",
              "    </tr>\n",
              "    <tr>\n",
              "      <th>Date</th>\n",
              "      <th></th>\n",
              "      <th></th>\n",
              "      <th></th>\n",
              "      <th></th>\n",
              "      <th></th>\n",
              "      <th></th>\n",
              "    </tr>\n",
              "  </thead>\n",
              "  <tbody>\n",
              "    <tr>\n",
              "      <th>2012-01-03</th>\n",
              "      <td>179.479996</td>\n",
              "      <td>175.550003</td>\n",
              "      <td>175.889999</td>\n",
              "      <td>179.029999</td>\n",
              "      <td>5110800</td>\n",
              "      <td>179.029999</td>\n",
              "    </tr>\n",
              "    <tr>\n",
              "      <th>2012-01-04</th>\n",
              "      <td>180.500000</td>\n",
              "      <td>176.070007</td>\n",
              "      <td>179.210007</td>\n",
              "      <td>177.509995</td>\n",
              "      <td>4205200</td>\n",
              "      <td>177.509995</td>\n",
              "    </tr>\n",
              "    <tr>\n",
              "      <th>2012-01-05</th>\n",
              "      <td>178.250000</td>\n",
              "      <td>174.050003</td>\n",
              "      <td>175.940002</td>\n",
              "      <td>177.610001</td>\n",
              "      <td>3809100</td>\n",
              "      <td>177.610001</td>\n",
              "    </tr>\n",
              "    <tr>\n",
              "      <th>2012-01-06</th>\n",
              "      <td>184.649994</td>\n",
              "      <td>177.500000</td>\n",
              "      <td>178.070007</td>\n",
              "      <td>182.610001</td>\n",
              "      <td>7008400</td>\n",
              "      <td>182.610001</td>\n",
              "    </tr>\n",
              "    <tr>\n",
              "      <th>2012-01-09</th>\n",
              "      <td>184.369995</td>\n",
              "      <td>177.000000</td>\n",
              "      <td>182.759995</td>\n",
              "      <td>178.559998</td>\n",
              "      <td>5056900</td>\n",
              "      <td>178.559998</td>\n",
              "    </tr>\n",
              "    <tr>\n",
              "      <th>...</th>\n",
              "      <td>...</td>\n",
              "      <td>...</td>\n",
              "      <td>...</td>\n",
              "      <td>...</td>\n",
              "      <td>...</td>\n",
              "      <td>...</td>\n",
              "    </tr>\n",
              "    <tr>\n",
              "      <th>2021-05-10</th>\n",
              "      <td>3283.000000</td>\n",
              "      <td>3190.000000</td>\n",
              "      <td>3282.320068</td>\n",
              "      <td>3190.489990</td>\n",
              "      <td>5838600</td>\n",
              "      <td>3190.489990</td>\n",
              "    </tr>\n",
              "    <tr>\n",
              "      <th>2021-05-11</th>\n",
              "      <td>3238.000000</td>\n",
              "      <td>3127.370117</td>\n",
              "      <td>3136.280029</td>\n",
              "      <td>3223.909912</td>\n",
              "      <td>4619800</td>\n",
              "      <td>3223.909912</td>\n",
              "    </tr>\n",
              "    <tr>\n",
              "      <th>2021-05-12</th>\n",
              "      <td>3207.939941</td>\n",
              "      <td>3133.100098</td>\n",
              "      <td>3185.000000</td>\n",
              "      <td>3151.939941</td>\n",
              "      <td>4936400</td>\n",
              "      <td>3151.939941</td>\n",
              "    </tr>\n",
              "    <tr>\n",
              "      <th>2021-05-13</th>\n",
              "      <td>3203.840088</td>\n",
              "      <td>3133.000000</td>\n",
              "      <td>3185.469971</td>\n",
              "      <td>3161.469971</td>\n",
              "      <td>3350900</td>\n",
              "      <td>3161.469971</td>\n",
              "    </tr>\n",
              "    <tr>\n",
              "      <th>2021-05-14</th>\n",
              "      <td>3228.860107</td>\n",
              "      <td>3183.000000</td>\n",
              "      <td>3185.560059</td>\n",
              "      <td>3222.899902</td>\n",
              "      <td>3321400</td>\n",
              "      <td>3222.899902</td>\n",
              "    </tr>\n",
              "  </tbody>\n",
              "</table>\n",
              "<p>2357 rows × 6 columns</p>\n",
              "</div>"
            ],
            "text/plain": [
              "                   High          Low  ...   Volume    Adj Close\n",
              "Date                                  ...                      \n",
              "2012-01-03   179.479996   175.550003  ...  5110800   179.029999\n",
              "2012-01-04   180.500000   176.070007  ...  4205200   177.509995\n",
              "2012-01-05   178.250000   174.050003  ...  3809100   177.610001\n",
              "2012-01-06   184.649994   177.500000  ...  7008400   182.610001\n",
              "2012-01-09   184.369995   177.000000  ...  5056900   178.559998\n",
              "...                 ...          ...  ...      ...          ...\n",
              "2021-05-10  3283.000000  3190.000000  ...  5838600  3190.489990\n",
              "2021-05-11  3238.000000  3127.370117  ...  4619800  3223.909912\n",
              "2021-05-12  3207.939941  3133.100098  ...  4936400  3151.939941\n",
              "2021-05-13  3203.840088  3133.000000  ...  3350900  3161.469971\n",
              "2021-05-14  3228.860107  3183.000000  ...  3321400  3222.899902\n",
              "\n",
              "[2357 rows x 6 columns]"
            ]
          },
          "metadata": {
            "tags": []
          },
          "execution_count": 65
        }
      ]
    },
    {
      "cell_type": "markdown",
      "metadata": {
        "id": "vp7U9TkQI6oi"
      },
      "source": [
        "1.FORECASTING USING LINEAR REGRESSION"
      ]
    },
    {
      "cell_type": "code",
      "metadata": {
        "id": "SY_Zp-PhI2wZ"
      },
      "source": [
        "from sklearn import preprocessing\n",
        "forecast = 30\n",
        "df['Prediction'] = df[['Adj Close']].shift(-forecast)\n",
        "\n",
        "X = np.array(df.drop(['Prediction'], 1))\n",
        "X = preprocessing.scale(X)\n",
        "\n",
        "X_forecast = X[-forecast:]\n",
        "X = X[:-forecast]\n",
        "\n",
        "y = np.array(df['Prediction'])\n",
        "y = y[:-forecast]"
      ],
      "execution_count": null,
      "outputs": []
    },
    {
      "cell_type": "code",
      "metadata": {
        "colab": {
          "base_uri": "https://localhost:8080/"
        },
        "id": "vrRvsuDBJIIU",
        "outputId": "e9a35e67-ee45-4cc7-da9d-0e269f0622e2"
      },
      "source": [
        "X_train, X_test, y_train, y_test = train_test_split(X, y, test_size=0.2)\n",
        "\n",
        "clf = LinearRegression()\n",
        "clf.fit(X_train, y_train)\n",
        "\n",
        "confidence_linear = clf.score(X_test, y_test)\n",
        "\n",
        "forecast_predicted_linear = clf.predict(X_forecast)\n",
        "print(forecast_predicted_linear)"
      ],
      "execution_count": null,
      "outputs": [
        {
          "output_type": "stream",
          "text": [
            "[3319.59252078 3274.22168103 3376.3752668  3352.66208726 3471.37445351\n",
            " 3440.83893957 3453.31443953 3436.00967228 3443.76498335 3471.65557837\n",
            " 3467.67393498 3426.71641281 3443.58950253 3406.52563819 3424.73720775\n",
            " 3519.57103973 3499.35536344 3536.27537227 3561.61535138 3568.4277315\n",
            " 3519.29183972 3426.59931648 3382.5550734  3389.98087486 3348.97061333\n",
            " 3300.46359642 3347.24774151 3243.12775114 3254.51638829 3286.40381302]\n"
          ],
          "name": "stdout"
        }
      ]
    },
    {
      "cell_type": "code",
      "metadata": {
        "colab": {
          "base_uri": "https://localhost:8080/"
        },
        "id": "iJHv8NoDJPD5",
        "outputId": "ab7cad29-68c4-4b71-cc79-8a1ec9536814"
      },
      "source": [
        "print(confidence_linear*100)"
      ],
      "execution_count": null,
      "outputs": [
        {
          "output_type": "stream",
          "text": [
            "98.25559175418526\n"
          ],
          "name": "stdout"
        }
      ]
    },
    {
      "cell_type": "code",
      "metadata": {
        "colab": {
          "base_uri": "https://localhost:8080/",
          "height": 379
        },
        "id": "FyXGO2EJJdlr",
        "outputId": "605afb15-0982-4991-bb9e-1aeec181a78e"
      },
      "source": [
        "dates = pd.date_range(start=\"2021-04-30\", end=\"2021-05-29\")\n",
        "plt.plot(dates, forecast_predicted_linear,color='r')\n",
        "df['Adj Close'].plot(figsize=(15,6),color='g')\n",
        "plt.xlim(xmin=datetime.date(2020,1,26))"
      ],
      "execution_count": null,
      "outputs": [
        {
          "output_type": "execute_result",
          "data": {
            "text/plain": [
              "(737450.0, 738110.7)"
            ]
          },
          "metadata": {
            "tags": []
          },
          "execution_count": 69
        },
        {
          "output_type": "display_data",
          "data": {
            "image/png": "[encoded data removed]",
            "text/plain": [
              "<Figure size 1080x432 with 1 Axes>"
            ]
          },
          "metadata": {
            "tags": []
          }
        }
      ]
    },
    {
      "cell_type": "markdown",
      "metadata": {
        "id": "RQQZqmwfJXB1"
      },
      "source": [
        "2. FORECASTING USING LASSO REGRESSION"
      ]
    },
    {
      "cell_type": "code",
      "metadata": {
        "colab": {
          "base_uri": "https://localhost:8080/"
        },
        "id": "Ov5kPY6JJWNz",
        "outputId": "671dede3-bb0a-4691-e5ef-d03376f0629c"
      },
      "source": [
        "X_train, X_test, y_train, y_test = train_test_split(X, y, test_size=0.2)\n",
        "\n",
        "clf = Lasso()\n",
        "clf.fit(X_train, y_train)\n",
        "\n",
        "confidence_lasso = clf.score(X_test, y_test)\n",
        "\n",
        "forecast_predicted_lasso= clf.predict(X_forecast)\n",
        "print(forecast_predicted_lasso)"
      ],
      "execution_count": null,
      "outputs": [
        {
          "output_type": "stream",
          "text": [
            "[3298.96903614 3309.49766928 3366.58325025 3387.7154011  3437.87343511\n",
            " 3459.96620562 3496.33999362 3465.33919625 3461.7983863  3472.4764516\n",
            " 3498.11215003 3445.47034794 3428.3365398  3434.12193936 3438.34617055\n",
            " 3493.60854449 3524.02201829 3555.12262599 3579.24115825 3616.36266843\n",
            " 3547.06938763 3429.69517057 3414.27042356 3378.65738162 3393.22266403\n",
            " 3340.92577229 3300.70194696 3267.28566797 3264.07121892 3291.99074281]\n"
          ],
          "name": "stdout"
        }
      ]
    },
    {
      "cell_type": "code",
      "metadata": {
        "colab": {
          "base_uri": "https://localhost:8080/"
        },
        "id": "R13YSqiqKEdm",
        "outputId": "926ba2bd-2af3-41e0-a232-f1a8a5c5093f"
      },
      "source": [
        "print(confidence_lasso*100)"
      ],
      "execution_count": null,
      "outputs": [
        {
          "output_type": "stream",
          "text": [
            "98.32876134580675\n"
          ],
          "name": "stdout"
        }
      ]
    },
    {
      "cell_type": "code",
      "metadata": {
        "colab": {
          "base_uri": "https://localhost:8080/",
          "height": 379
        },
        "id": "vQFSVKN_KILG",
        "outputId": "906d1d98-6d64-460a-8a28-3f86d8ed4933"
      },
      "source": [
        "dates = pd.date_range(start=\"2021-04-30\", end=\"2021-05-29\")\n",
        "plt.plot(dates, forecast_predicted_lasso,color='r')\n",
        "df['Adj Close'].plot(figsize=(15,6),color='g')\n",
        "plt.xlim(xmin=datetime.date(2020,1,26))"
      ],
      "execution_count": null,
      "outputs": [
        {
          "output_type": "execute_result",
          "data": {
            "text/plain": [
              "(737450.0, 738110.7)"
            ]
          },
          "metadata": {
            "tags": []
          },
          "execution_count": 72
        },
        {
          "output_type": "display_data",
          "data": {
            "image/png": "[encoded data removed]",
            "text/plain": [
              "<Figure size 1080x432 with 1 Axes>"
            ]
          },
          "metadata": {
            "tags": []
          }
        }
      ]
    },
    {
      "cell_type": "markdown",
      "metadata": {
        "id": "AAECcVDRKUF2"
      },
      "source": [
        "3. FORECASTING USING ELASTIC NET"
      ]
    },
    {
      "cell_type": "code",
      "metadata": {
        "colab": {
          "base_uri": "https://localhost:8080/"
        },
        "id": "iTLkyUi0KdDi",
        "outputId": "d2879c4c-c8a4-4b21-b15d-aec3da7b04c3"
      },
      "source": [
        "X_train, X_test, y_train, y_test = train_test_split(X, y, test_size=0.2)\n",
        "\n",
        "clf = ElasticNet()\n",
        "clf.fit(X_train, y_train)\n",
        "\n",
        "confidence_elastic = clf.score(X_test, y_test)\n",
        "\n",
        "forecast_predicted_elastic= clf.predict(X_forecast)\n",
        "print(forecast_predicted_elastic)"
      ],
      "execution_count": null,
      "outputs": [
        {
          "output_type": "stream",
          "text": [
            "[3091.29550809 3109.3613759  3146.29426116 3182.75407008 3222.23263099\n",
            " 3246.42655679 3277.78875409 3234.69471519 3249.58910737 3261.1147953\n",
            " 3257.42268796 3222.09124412 3214.15075595 3207.46502424 3213.43038845\n",
            " 3264.06345562 3299.54530484 3326.58579794 3361.49166163 3373.77497263\n",
            " 3303.03815011 3209.312779   3180.7623246  3173.30442636 3188.70543868\n",
            " 3120.91489124 3081.98790837 3060.93483444 3058.21148122 3094.93148521]\n"
          ],
          "name": "stdout"
        }
      ]
    },
    {
      "cell_type": "code",
      "metadata": {
        "colab": {
          "base_uri": "https://localhost:8080/"
        },
        "id": "JhPyLHagKo2f",
        "outputId": "ba9f9331-ccd5-4e29-97dd-1c767b3d97f7"
      },
      "source": [
        "print(confidence_elastic*100)"
      ],
      "execution_count": null,
      "outputs": [
        {
          "output_type": "stream",
          "text": [
            "97.3831062985231\n"
          ],
          "name": "stdout"
        }
      ]
    },
    {
      "cell_type": "code",
      "metadata": {
        "colab": {
          "base_uri": "https://localhost:8080/",
          "height": 379
        },
        "id": "s3eTWBX8Kskv",
        "outputId": "39cc4ea9-803f-418c-c487-ec24052411cf"
      },
      "source": [
        "dates = pd.date_range(start=\"2021-04-30\", end=\"2021-05-29\")\n",
        "plt.plot(dates, forecast_predicted_elastic,color='r')\n",
        "df['Adj Close'].plot(figsize=(15,6),color='g')\n",
        "plt.xlim(xmin=datetime.date(2020,1,26))"
      ],
      "execution_count": null,
      "outputs": [
        {
          "output_type": "execute_result",
          "data": {
            "text/plain": [
              "(737450.0, 738110.7)"
            ]
          },
          "metadata": {
            "tags": []
          },
          "execution_count": 75
        },
        {
          "output_type": "display_data",
          "data": {
            "image/png": "[encoded data removed]",
            "text/plain": [
              "<Figure size 1080x432 with 1 Axes>"
            ]
          },
          "metadata": {
            "tags": []
          }
        }
      ]
    },
    {
      "cell_type": "markdown",
      "metadata": {
        "id": "KEb-gZvOK4cp"
      },
      "source": [
        "4.FORECASTING USING KNN"
      ]
    },
    {
      "cell_type": "code",
      "metadata": {
        "colab": {
          "base_uri": "https://localhost:8080/"
        },
        "id": "s-A-ifb6Ky7D",
        "outputId": "6d74e4c8-cb66-4187-f7f9-a49f89068ffb"
      },
      "source": [
        "from sklearn.neighbors import KNeighborsRegressor\n",
        "\n",
        "X_train, X_test, y_train, y_test = train_test_split(X, y, test_size=0.2)\n",
        "\n",
        "clf = KNeighborsRegressor()\n",
        "clf.fit(X_train, y_train)\n",
        "\n",
        "confidence_knn = clf.score(X_test, y_test)\n",
        "\n",
        "forecast_predicted_knn= clf.predict(X_forecast)\n",
        "print(forecast_predicted_knn)"
      ],
      "execution_count": null,
      "outputs": [
        {
          "output_type": "stream",
          "text": [
            "[3188.70400391 3204.36396484 3214.27998047 3102.85795898 3143.68798828\n",
            " 3205.32998047 3266.54399414 3173.54594727 3205.32998047 3205.32998047\n",
            " 3173.54594727 3123.06396484 3104.90795898 3123.06396484 3141.74399414\n",
            " 3139.2        3308.70195312 3233.86992187 3145.07397461 3149.00800781\n",
            " 3178.1340332  3146.22397461 3128.71401367 3145.25600586 3128.85400391\n",
            " 3232.52202148 3227.99995117 3148.16396484 3170.47998047 3223.46401367]\n"
          ],
          "name": "stdout"
        }
      ]
    },
    {
      "cell_type": "code",
      "metadata": {
        "colab": {
          "base_uri": "https://localhost:8080/"
        },
        "id": "W1NFFxplLDpa",
        "outputId": "5b1279bd-53f4-48c4-93ae-4f1940b1181c"
      },
      "source": [
        "print(confidence_knn*100)"
      ],
      "execution_count": null,
      "outputs": [
        {
          "output_type": "stream",
          "text": [
            "98.53161611057811\n"
          ],
          "name": "stdout"
        }
      ]
    },
    {
      "cell_type": "code",
      "metadata": {
        "colab": {
          "base_uri": "https://localhost:8080/",
          "height": 379
        },
        "id": "m_3bsE8SLHdJ",
        "outputId": "a468871c-fdd7-49a3-b497-b6b32484e982"
      },
      "source": [
        "dates = pd.date_range(start=\"2021-04-30\", end=\"2021-05-29\")\n",
        "plt.plot(dates, forecast_predicted_knn,color='r')\n",
        "df['Adj Close'].plot(figsize=(15,6),color='g')\n",
        "plt.xlim(xmin=datetime.date(2020,1,26))"
      ],
      "execution_count": null,
      "outputs": [
        {
          "output_type": "execute_result",
          "data": {
            "text/plain": [
              "(737450.0, 738110.7)"
            ]
          },
          "metadata": {
            "tags": []
          },
          "execution_count": 78
        },
        {
          "output_type": "display_data",
          "data": {
            "image/png": "[encoded data removed]",
            "text/plain": [
              "<Figure size 1080x432 with 1 Axes>"
            ]
          },
          "metadata": {
            "tags": []
          }
        }
      ]
    },
    {
      "cell_type": "markdown",
      "metadata": {
        "id": "UTYtuoVnLUSd"
      },
      "source": [
        "5.FORECASTING USING DECISION TREE"
      ]
    },
    {
      "cell_type": "code",
      "metadata": {
        "colab": {
          "base_uri": "https://localhost:8080/"
        },
        "id": "AFkI9qaTLRf8",
        "outputId": "3c82c884-3b76-4f03-d2f6-6880b2cba91e"
      },
      "source": [
        "from sklearn.tree import DecisionTreeRegressor\n",
        "X_train, X_test, y_train, y_test = train_test_split(X, y, test_size=0.2)\n",
        "\n",
        "clf = DecisionTreeRegressor()\n",
        "clf.fit(X_train, y_train)\n",
        "\n",
        "confidence_dt = clf.score(X_test, y_test)\n",
        "\n",
        "forecast_predicted_dt = clf.predict(X_forecast)\n",
        "print(forecast_predicted_dt)"
      ],
      "execution_count": null,
      "outputs": [
        {
          "output_type": "stream",
          "text": [
            "[3008.72998047 3203.5300293  3089.48999023 2951.94995117 3099.95996094\n",
            " 3137.5        3442.92993164 3137.5        3137.5        3137.5\n",
            " 3137.5        3137.5        3137.5        3099.95996094 3137.5\n",
            " 3190.55004883 3286.64990234 3363.70996094 3363.70996094 3338.64990234\n",
            " 3286.64990234 3201.64990234 3226.72998047 3125.         2951.94995117\n",
            " 3312.5300293  3110.2800293  3256.92993164 3256.92993164 3008.72998047]\n"
          ],
          "name": "stdout"
        }
      ]
    },
    {
      "cell_type": "code",
      "metadata": {
        "colab": {
          "base_uri": "https://localhost:8080/"
        },
        "id": "hRJZEv_nLm96",
        "outputId": "e62d2ea7-41b9-402d-9748-981a3443df88"
      },
      "source": [
        "print(confidence_dt*100)"
      ],
      "execution_count": null,
      "outputs": [
        {
          "output_type": "stream",
          "text": [
            "97.65346615737917\n"
          ],
          "name": "stdout"
        }
      ]
    },
    {
      "cell_type": "code",
      "metadata": {
        "colab": {
          "base_uri": "https://localhost:8080/",
          "height": 379
        },
        "id": "EWznZnR3LqaT",
        "outputId": "291f3ced-2f00-4a70-d66a-292b8f81a97d"
      },
      "source": [
        "dates = pd.date_range(start=\"2021-04-30\", end=\"2021-05-29\")\n",
        "plt.plot(dates, forecast_predicted_knn,color='r')\n",
        "df['Adj Close'].plot(figsize=(15,6),color='g')\n",
        "plt.xlim(xmin=datetime.date(2020,1,26))"
      ],
      "execution_count": null,
      "outputs": [
        {
          "output_type": "execute_result",
          "data": {
            "text/plain": [
              "(737450.0, 738110.7)"
            ]
          },
          "metadata": {
            "tags": []
          },
          "execution_count": 81
        },
        {
          "output_type": "display_data",
          "data": {
            "image/png": "[encoded data removed]",
            "text/plain": [
              "<Figure size 1080x432 with 1 Axes>"
            ]
          },
          "metadata": {
            "tags": []
          }
        }
      ]
    },
    {
      "cell_type": "code",
      "metadata": {
        "id": "XullDXy0MW-m"
      },
      "source": [
        "compare=pd.DataFrame({'Linear Regression':forecast_predicted_linear,'Lasso':forecast_predicted_lasso,'Decision tree Regressor':forecast_predicted_dt,'Elastic Net':forecast_predicted_elastic,'K Neighbhors Regressor':forecast_predicted_knn})"
      ],
      "execution_count": null,
      "outputs": []
    },
    {
      "cell_type": "code",
      "metadata": {
        "colab": {
          "base_uri": "https://localhost:8080/",
          "height": 669
        },
        "id": "Bc4kWj6yMnww",
        "outputId": "7eae99a5-d57c-4f06-f4fe-a969ef670ace"
      },
      "source": [
        "compare.head(20)"
      ],
      "execution_count": null,
      "outputs": [
        {
          "output_type": "execute_result",
          "data": {
            "text/html": [
              "<div>\n",
              "<style scoped>\n",
              "    .dataframe tbody tr th:only-of-type {\n",
              "        vertical-align: middle;\n",
              "    }\n",
              "\n",
              "    .dataframe tbody tr th {\n",
              "        vertical-align: top;\n",
              "    }\n",
              "\n",
              "    .dataframe thead th {\n",
              "        text-align: right;\n",
              "    }\n",
              "</style>\n",
              "<table border=\"1\" class=\"dataframe\">\n",
              "  <thead>\n",
              "    <tr style=\"text-align: right;\">\n",
              "      <th></th>\n",
              "      <th>Linear Regression</th>\n",
              "      <th>Lasso</th>\n",
              "      <th>Decision tree Regressor</th>\n",
              "      <th>Elastic Net</th>\n",
              "      <th>K Neighbhors Regressor</th>\n",
              "    </tr>\n",
              "  </thead>\n",
              "  <tbody>\n",
              "    <tr>\n",
              "      <th>0</th>\n",
              "      <td>3319.592521</td>\n",
              "      <td>3298.969036</td>\n",
              "      <td>3008.729980</td>\n",
              "      <td>3091.295508</td>\n",
              "      <td>3188.704004</td>\n",
              "    </tr>\n",
              "    <tr>\n",
              "      <th>1</th>\n",
              "      <td>3274.221681</td>\n",
              "      <td>3309.497669</td>\n",
              "      <td>3203.530029</td>\n",
              "      <td>3109.361376</td>\n",
              "      <td>3204.363965</td>\n",
              "    </tr>\n",
              "    <tr>\n",
              "      <th>2</th>\n",
              "      <td>3376.375267</td>\n",
              "      <td>3366.583250</td>\n",
              "      <td>3089.489990</td>\n",
              "      <td>3146.294261</td>\n",
              "      <td>3214.279980</td>\n",
              "    </tr>\n",
              "    <tr>\n",
              "      <th>3</th>\n",
              "      <td>3352.662087</td>\n",
              "      <td>3387.715401</td>\n",
              "      <td>2951.949951</td>\n",
              "      <td>3182.754070</td>\n",
              "      <td>3102.857959</td>\n",
              "    </tr>\n",
              "    <tr>\n",
              "      <th>4</th>\n",
              "      <td>3471.374454</td>\n",
              "      <td>3437.873435</td>\n",
              "      <td>3099.959961</td>\n",
              "      <td>3222.232631</td>\n",
              "      <td>3143.687988</td>\n",
              "    </tr>\n",
              "    <tr>\n",
              "      <th>5</th>\n",
              "      <td>3440.838940</td>\n",
              "      <td>3459.966206</td>\n",
              "      <td>3137.500000</td>\n",
              "      <td>3246.426557</td>\n",
              "      <td>3205.329980</td>\n",
              "    </tr>\n",
              "    <tr>\n",
              "      <th>6</th>\n",
              "      <td>3453.314440</td>\n",
              "      <td>3496.339994</td>\n",
              "      <td>3442.929932</td>\n",
              "      <td>3277.788754</td>\n",
              "      <td>3266.543994</td>\n",
              "    </tr>\n",
              "    <tr>\n",
              "      <th>7</th>\n",
              "      <td>3436.009672</td>\n",
              "      <td>3465.339196</td>\n",
              "      <td>3137.500000</td>\n",
              "      <td>3234.694715</td>\n",
              "      <td>3173.545947</td>\n",
              "    </tr>\n",
              "    <tr>\n",
              "      <th>8</th>\n",
              "      <td>3443.764983</td>\n",
              "      <td>3461.798386</td>\n",
              "      <td>3137.500000</td>\n",
              "      <td>3249.589107</td>\n",
              "      <td>3205.329980</td>\n",
              "    </tr>\n",
              "    <tr>\n",
              "      <th>9</th>\n",
              "      <td>3471.655578</td>\n",
              "      <td>3472.476452</td>\n",
              "      <td>3137.500000</td>\n",
              "      <td>3261.114795</td>\n",
              "      <td>3205.329980</td>\n",
              "    </tr>\n",
              "    <tr>\n",
              "      <th>10</th>\n",
              "      <td>3467.673935</td>\n",
              "      <td>3498.112150</td>\n",
              "      <td>3137.500000</td>\n",
              "      <td>3257.422688</td>\n",
              "      <td>3173.545947</td>\n",
              "    </tr>\n",
              "    <tr>\n",
              "      <th>11</th>\n",
              "      <td>3426.716413</td>\n",
              "      <td>3445.470348</td>\n",
              "      <td>3137.500000</td>\n",
              "      <td>3222.091244</td>\n",
              "      <td>3123.063965</td>\n",
              "    </tr>\n",
              "    <tr>\n",
              "      <th>12</th>\n",
              "      <td>3443.589503</td>\n",
              "      <td>3428.336540</td>\n",
              "      <td>3137.500000</td>\n",
              "      <td>3214.150756</td>\n",
              "      <td>3104.907959</td>\n",
              "    </tr>\n",
              "    <tr>\n",
              "      <th>13</th>\n",
              "      <td>3406.525638</td>\n",
              "      <td>3434.121939</td>\n",
              "      <td>3099.959961</td>\n",
              "      <td>3207.465024</td>\n",
              "      <td>3123.063965</td>\n",
              "    </tr>\n",
              "    <tr>\n",
              "      <th>14</th>\n",
              "      <td>3424.737208</td>\n",
              "      <td>3438.346171</td>\n",
              "      <td>3137.500000</td>\n",
              "      <td>3213.430388</td>\n",
              "      <td>3141.743994</td>\n",
              "    </tr>\n",
              "    <tr>\n",
              "      <th>15</th>\n",
              "      <td>3519.571040</td>\n",
              "      <td>3493.608544</td>\n",
              "      <td>3190.550049</td>\n",
              "      <td>3264.063456</td>\n",
              "      <td>3139.200000</td>\n",
              "    </tr>\n",
              "    <tr>\n",
              "      <th>16</th>\n",
              "      <td>3499.355363</td>\n",
              "      <td>3524.022018</td>\n",
              "      <td>3286.649902</td>\n",
              "      <td>3299.545305</td>\n",
              "      <td>3308.701953</td>\n",
              "    </tr>\n",
              "    <tr>\n",
              "      <th>17</th>\n",
              "      <td>3536.275372</td>\n",
              "      <td>3555.122626</td>\n",
              "      <td>3363.709961</td>\n",
              "      <td>3326.585798</td>\n",
              "      <td>3233.869922</td>\n",
              "    </tr>\n",
              "    <tr>\n",
              "      <th>18</th>\n",
              "      <td>3561.615351</td>\n",
              "      <td>3579.241158</td>\n",
              "      <td>3363.709961</td>\n",
              "      <td>3361.491662</td>\n",
              "      <td>3145.073975</td>\n",
              "    </tr>\n",
              "    <tr>\n",
              "      <th>19</th>\n",
              "      <td>3568.427731</td>\n",
              "      <td>3616.362668</td>\n",
              "      <td>3338.649902</td>\n",
              "      <td>3373.774973</td>\n",
              "      <td>3149.008008</td>\n",
              "    </tr>\n",
              "  </tbody>\n",
              "</table>\n",
              "</div>"
            ],
            "text/plain": [
              "    Linear Regression        Lasso  ...  Elastic Net  K Neighbhors Regressor\n",
              "0         3319.592521  3298.969036  ...  3091.295508             3188.704004\n",
              "1         3274.221681  3309.497669  ...  3109.361376             3204.363965\n",
              "2         3376.375267  3366.583250  ...  3146.294261             3214.279980\n",
              "3         3352.662087  3387.715401  ...  3182.754070             3102.857959\n",
              "4         3471.374454  3437.873435  ...  3222.232631             3143.687988\n",
              "5         3440.838940  3459.966206  ...  3246.426557             3205.329980\n",
              "6         3453.314440  3496.339994  ...  3277.788754             3266.543994\n",
              "7         3436.009672  3465.339196  ...  3234.694715             3173.545947\n",
              "8         3443.764983  3461.798386  ...  3249.589107             3205.329980\n",
              "9         3471.655578  3472.476452  ...  3261.114795             3205.329980\n",
              "10        3467.673935  3498.112150  ...  3257.422688             3173.545947\n",
              "11        3426.716413  3445.470348  ...  3222.091244             3123.063965\n",
              "12        3443.589503  3428.336540  ...  3214.150756             3104.907959\n",
              "13        3406.525638  3434.121939  ...  3207.465024             3123.063965\n",
              "14        3424.737208  3438.346171  ...  3213.430388             3141.743994\n",
              "15        3519.571040  3493.608544  ...  3264.063456             3139.200000\n",
              "16        3499.355363  3524.022018  ...  3299.545305             3308.701953\n",
              "17        3536.275372  3555.122626  ...  3326.585798             3233.869922\n",
              "18        3561.615351  3579.241158  ...  3361.491662             3145.073975\n",
              "19        3568.427731  3616.362668  ...  3373.774973             3149.008008\n",
              "\n",
              "[20 rows x 5 columns]"
            ]
          },
          "metadata": {
            "tags": []
          },
          "execution_count": 83
        }
      ]
    },
    {
      "cell_type": "markdown",
      "metadata": {
        "id": "lnllKGiLMwyg"
      },
      "source": [
        "**EVALUATION OF PERFORMANCE IN FORECASTING**"
      ]
    },
    {
      "cell_type": "code",
      "metadata": {
        "colab": {
          "base_uri": "https://localhost:8080/"
        },
        "id": "ZGOMIIqXMwbC",
        "outputId": "74d44a48-c459-47f3-d959-31d958128683"
      },
      "source": [
        "scores = [confidence_linear,confidence_lasso,confidence_knn,confidence_elastic,confidence_dt]\n",
        "algorithms = [\"Linear Regression\",\"Lasso Regression\",\"KNN\",\"ElasticNet\",\"Decision Tree Regressor\"]\n",
        "for i in range(len(algorithms)):\n",
        "    print(\"The confidence scores achieved using \"+algorithms[i]+\" is: \"+str(scores[i]*100)+\"%\")"
      ],
      "execution_count": null,
      "outputs": [
        {
          "output_type": "stream",
          "text": [
            "The confidence scores achieved using Linear Regression is: 98.25559175418526%\n",
            "The confidence scores achieved using Lasso Regression is: 98.32876134580675%\n",
            "The confidence scores achieved using KNN is: 98.53161611057811%\n",
            "The confidence scores achieved using ElasticNet is: 97.3831062985231%\n",
            "The confidence scores achieved using Decision Tree Regressor is: 97.65346615737917%\n"
          ],
          "name": "stdout"
        }
      ]
    },
    {
      "cell_type": "code",
      "metadata": {
        "colab": {
          "base_uri": "https://localhost:8080/",
          "height": 612
        },
        "id": "z7FOg7HONSvG",
        "outputId": "1b9874bb-5a3c-4d06-db45-36a00d11b338"
      },
      "source": [
        "sns.set(rc={'figure.figsize':(25,10)})\n",
        "plt.xlabel(\"Algorithms\")\n",
        "plt.ylabel(\"Confidence Score\")\n",
        "\n",
        "sns.barplot(algorithms,scores)"
      ],
      "execution_count": null,
      "outputs": [
        {
          "output_type": "execute_result",
          "data": {
            "text/plain": [
              "<matplotlib.axes._subplots.AxesSubplot at 0x7f16ea7dd110>"
            ]
          },
          "metadata": {
            "tags": []
          },
          "execution_count": 90
        },
        {
          "output_type": "display_data",
          "data": {
            "image/png": "[encoded data removed]",
            "text/plain": [
              "<Figure size 1800x720 with 1 Axes>"
            ]
          },
          "metadata": {
            "tags": []
          }
        }
      ]
    }
  ]
}