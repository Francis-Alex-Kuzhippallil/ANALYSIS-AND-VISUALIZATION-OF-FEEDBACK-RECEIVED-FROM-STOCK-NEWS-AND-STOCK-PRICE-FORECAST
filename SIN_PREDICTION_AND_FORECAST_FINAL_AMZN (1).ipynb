{
  "nbformat": 4,
  "nbformat_minor": 0,
  "metadata": {
    "colab": {
      "name": "SIN PREDICTION AND FORECAST FINAL AMZN.ipynb",
      "provenance": [],
      "collapsed_sections": []
    },
    "kernelspec": {
      "name": "python3",
      "display_name": "Python 3"
    },
    "language_info": {
      "name": "python"
    }
  },
  "cells": [
    {
      "cell_type": "markdown",
      "metadata": {
        "id": "6gc2-uucf-9J"
      },
      "source": [
        "**IMPORTING LIBRARIES**"
      ]
    },
    {
      "cell_type": "code",
      "metadata": {
        "id": "y-W0UUeRf5lI"
      },
      "source": [
        "import numpy as np\n",
        "import pandas as pd\n",
        "import datetime\n",
        "\n",
        "%matplotlib inline\n",
        "import matplotlib.pyplot as plt\n",
        "import seaborn as sns\n",
        "plt.style.use('seaborn-darkgrid')\n",
        "plt.rc('figure', figsize=(16,10))\n",
        "plt.rc('lines', markersize=4)\n",
        "import pandas_datareader as web"
      ],
      "execution_count": 18,
      "outputs": []
    },
    {
      "cell_type": "markdown",
      "metadata": {
        "id": "80qDjskhgUX_"
      },
      "source": [
        "**READING DATA FROM YAHOO FINANCE SOURCE**"
      ]
    },
    {
      "cell_type": "code",
      "metadata": {
        "colab": {
          "base_uri": "https://localhost:8080/",
          "height": 450
        },
        "id": "v7WrYMIGgPmb",
        "outputId": "ccafe03b-4345-4016-a183-d65e149ec2f4"
      },
      "source": [
        "data=web.DataReader('AMZN',data_source='yahoo',start='2012-01-01',end='2021-05-15')\n",
        "data\n"
      ],
      "execution_count": 2,
      "outputs": [
        {
          "output_type": "execute_result",
          "data": {
            "text/html": [
              "<div>\n",
              "<style scoped>\n",
              "    .dataframe tbody tr th:only-of-type {\n",
              "        vertical-align: middle;\n",
              "    }\n",
              "\n",
              "    .dataframe tbody tr th {\n",
              "        vertical-align: top;\n",
              "    }\n",
              "\n",
              "    .dataframe thead th {\n",
              "        text-align: right;\n",
              "    }\n",
              "</style>\n",
              "<table border=\"1\" class=\"dataframe\">\n",
              "  <thead>\n",
              "    <tr style=\"text-align: right;\">\n",
              "      <th></th>\n",
              "      <th>High</th>\n",
              "      <th>Low</th>\n",
              "      <th>Open</th>\n",
              "      <th>Close</th>\n",
              "      <th>Volume</th>\n",
              "      <th>Adj Close</th>\n",
              "    </tr>\n",
              "    <tr>\n",
              "      <th>Date</th>\n",
              "      <th></th>\n",
              "      <th></th>\n",
              "      <th></th>\n",
              "      <th></th>\n",
              "      <th></th>\n",
              "      <th></th>\n",
              "    </tr>\n",
              "  </thead>\n",
              "  <tbody>\n",
              "    <tr>\n",
              "      <th>2012-01-03</th>\n",
              "      <td>179.479996</td>\n",
              "      <td>175.550003</td>\n",
              "      <td>175.889999</td>\n",
              "      <td>179.029999</td>\n",
              "      <td>5110800</td>\n",
              "      <td>179.029999</td>\n",
              "    </tr>\n",
              "    <tr>\n",
              "      <th>2012-01-04</th>\n",
              "      <td>180.500000</td>\n",
              "      <td>176.070007</td>\n",
              "      <td>179.210007</td>\n",
              "      <td>177.509995</td>\n",
              "      <td>4205200</td>\n",
              "      <td>177.509995</td>\n",
              "    </tr>\n",
              "    <tr>\n",
              "      <th>2012-01-05</th>\n",
              "      <td>178.250000</td>\n",
              "      <td>174.050003</td>\n",
              "      <td>175.940002</td>\n",
              "      <td>177.610001</td>\n",
              "      <td>3809100</td>\n",
              "      <td>177.610001</td>\n",
              "    </tr>\n",
              "    <tr>\n",
              "      <th>2012-01-06</th>\n",
              "      <td>184.649994</td>\n",
              "      <td>177.500000</td>\n",
              "      <td>178.070007</td>\n",
              "      <td>182.610001</td>\n",
              "      <td>7008400</td>\n",
              "      <td>182.610001</td>\n",
              "    </tr>\n",
              "    <tr>\n",
              "      <th>2012-01-09</th>\n",
              "      <td>184.369995</td>\n",
              "      <td>177.000000</td>\n",
              "      <td>182.759995</td>\n",
              "      <td>178.559998</td>\n",
              "      <td>5056900</td>\n",
              "      <td>178.559998</td>\n",
              "    </tr>\n",
              "    <tr>\n",
              "      <th>...</th>\n",
              "      <td>...</td>\n",
              "      <td>...</td>\n",
              "      <td>...</td>\n",
              "      <td>...</td>\n",
              "      <td>...</td>\n",
              "      <td>...</td>\n",
              "    </tr>\n",
              "    <tr>\n",
              "      <th>2021-05-10</th>\n",
              "      <td>3283.000000</td>\n",
              "      <td>3190.000000</td>\n",
              "      <td>3282.320068</td>\n",
              "      <td>3190.489990</td>\n",
              "      <td>5838600</td>\n",
              "      <td>3190.489990</td>\n",
              "    </tr>\n",
              "    <tr>\n",
              "      <th>2021-05-11</th>\n",
              "      <td>3238.000000</td>\n",
              "      <td>3127.370117</td>\n",
              "      <td>3136.280029</td>\n",
              "      <td>3223.909912</td>\n",
              "      <td>4619800</td>\n",
              "      <td>3223.909912</td>\n",
              "    </tr>\n",
              "    <tr>\n",
              "      <th>2021-05-12</th>\n",
              "      <td>3207.939941</td>\n",
              "      <td>3133.100098</td>\n",
              "      <td>3185.000000</td>\n",
              "      <td>3151.939941</td>\n",
              "      <td>4936400</td>\n",
              "      <td>3151.939941</td>\n",
              "    </tr>\n",
              "    <tr>\n",
              "      <th>2021-05-13</th>\n",
              "      <td>3203.840088</td>\n",
              "      <td>3133.000000</td>\n",
              "      <td>3185.469971</td>\n",
              "      <td>3161.469971</td>\n",
              "      <td>3350900</td>\n",
              "      <td>3161.469971</td>\n",
              "    </tr>\n",
              "    <tr>\n",
              "      <th>2021-05-14</th>\n",
              "      <td>3220.729980</td>\n",
              "      <td>3183.409912</td>\n",
              "      <td>3185.560059</td>\n",
              "      <td>3219.189941</td>\n",
              "      <td>1221655</td>\n",
              "      <td>3219.189941</td>\n",
              "    </tr>\n",
              "  </tbody>\n",
              "</table>\n",
              "<p>2357 rows × 6 columns</p>\n",
              "</div>"
            ],
            "text/plain": [
              "                   High          Low  ...   Volume    Adj Close\n",
              "Date                                  ...                      \n",
              "2012-01-03   179.479996   175.550003  ...  5110800   179.029999\n",
              "2012-01-04   180.500000   176.070007  ...  4205200   177.509995\n",
              "2012-01-05   178.250000   174.050003  ...  3809100   177.610001\n",
              "2012-01-06   184.649994   177.500000  ...  7008400   182.610001\n",
              "2012-01-09   184.369995   177.000000  ...  5056900   178.559998\n",
              "...                 ...          ...  ...      ...          ...\n",
              "2021-05-10  3283.000000  3190.000000  ...  5838600  3190.489990\n",
              "2021-05-11  3238.000000  3127.370117  ...  4619800  3223.909912\n",
              "2021-05-12  3207.939941  3133.100098  ...  4936400  3151.939941\n",
              "2021-05-13  3203.840088  3133.000000  ...  3350900  3161.469971\n",
              "2021-05-14  3220.729980  3183.409912  ...  1221655  3219.189941\n",
              "\n",
              "[2357 rows x 6 columns]"
            ]
          },
          "metadata": {
            "tags": []
          },
          "execution_count": 2
        }
      ]
    },
    {
      "cell_type": "markdown",
      "metadata": {
        "id": "qKHfkD56gqgW"
      },
      "source": [
        "**STATISTICAL DESCRIPTION OF DATA**"
      ]
    },
    {
      "cell_type": "code",
      "metadata": {
        "colab": {
          "base_uri": "https://localhost:8080/"
        },
        "id": "_mHPDfETgoif",
        "outputId": "2042a9b2-db1c-4d51-a2b5-8853822a3b2c"
      },
      "source": [
        "data.info()"
      ],
      "execution_count": 5,
      "outputs": [
        {
          "output_type": "stream",
          "text": [
            "<class 'pandas.core.frame.DataFrame'>\n",
            "DatetimeIndex: 2357 entries, 2012-01-03 to 2021-05-14\n",
            "Data columns (total 6 columns):\n",
            " #   Column     Non-Null Count  Dtype  \n",
            "---  ------     --------------  -----  \n",
            " 0   High       2357 non-null   float64\n",
            " 1   Low        2357 non-null   float64\n",
            " 2   Open       2357 non-null   float64\n",
            " 3   Close      2357 non-null   float64\n",
            " 4   Volume     2357 non-null   int64  \n",
            " 5   Adj Close  2357 non-null   float64\n",
            "dtypes: float64(5), int64(1)\n",
            "memory usage: 128.9 KB\n"
          ],
          "name": "stdout"
        }
      ]
    },
    {
      "cell_type": "code",
      "metadata": {
        "colab": {
          "base_uri": "https://localhost:8080/",
          "height": 297
        },
        "id": "PiSCbrAnhAdh",
        "outputId": "022e1fdf-94cc-4324-bef1-082160478a5e"
      },
      "source": [
        "data.describe()"
      ],
      "execution_count": 6,
      "outputs": [
        {
          "output_type": "execute_result",
          "data": {
            "text/html": [
              "<div>\n",
              "<style scoped>\n",
              "    .dataframe tbody tr th:only-of-type {\n",
              "        vertical-align: middle;\n",
              "    }\n",
              "\n",
              "    .dataframe tbody tr th {\n",
              "        vertical-align: top;\n",
              "    }\n",
              "\n",
              "    .dataframe thead th {\n",
              "        text-align: right;\n",
              "    }\n",
              "</style>\n",
              "<table border=\"1\" class=\"dataframe\">\n",
              "  <thead>\n",
              "    <tr style=\"text-align: right;\">\n",
              "      <th></th>\n",
              "      <th>High</th>\n",
              "      <th>Low</th>\n",
              "      <th>Open</th>\n",
              "      <th>Close</th>\n",
              "      <th>Volume</th>\n",
              "      <th>Adj Close</th>\n",
              "    </tr>\n",
              "  </thead>\n",
              "  <tbody>\n",
              "    <tr>\n",
              "      <th>count</th>\n",
              "      <td>2357.000000</td>\n",
              "      <td>2357.000000</td>\n",
              "      <td>2357.000000</td>\n",
              "      <td>2357.000000</td>\n",
              "      <td>2.357000e+03</td>\n",
              "      <td>2357.000000</td>\n",
              "    </tr>\n",
              "    <tr>\n",
              "      <th>mean</th>\n",
              "      <td>1111.317381</td>\n",
              "      <td>1086.758354</td>\n",
              "      <td>1099.824854</td>\n",
              "      <td>1099.390263</td>\n",
              "      <td>4.110385e+06</td>\n",
              "      <td>1099.390263</td>\n",
              "    </tr>\n",
              "    <tr>\n",
              "      <th>std</th>\n",
              "      <td>929.045026</td>\n",
              "      <td>906.149526</td>\n",
              "      <td>918.538145</td>\n",
              "      <td>917.474866</td>\n",
              "      <td>2.231281e+06</td>\n",
              "      <td>917.474866</td>\n",
              "    </tr>\n",
              "    <tr>\n",
              "      <th>min</th>\n",
              "      <td>178.250000</td>\n",
              "      <td>172.000000</td>\n",
              "      <td>173.809998</td>\n",
              "      <td>175.929993</td>\n",
              "      <td>8.813000e+05</td>\n",
              "      <td>175.929993</td>\n",
              "    </tr>\n",
              "    <tr>\n",
              "      <th>25%</th>\n",
              "      <td>329.440002</td>\n",
              "      <td>321.739990</td>\n",
              "      <td>325.730011</td>\n",
              "      <td>325.619995</td>\n",
              "      <td>2.704800e+06</td>\n",
              "      <td>325.619995</td>\n",
              "    </tr>\n",
              "    <tr>\n",
              "      <th>50%</th>\n",
              "      <td>767.739990</td>\n",
              "      <td>757.250000</td>\n",
              "      <td>763.809998</td>\n",
              "      <td>761.010010</td>\n",
              "      <td>3.525600e+06</td>\n",
              "      <td>761.010010</td>\n",
              "    </tr>\n",
              "    <tr>\n",
              "      <th>75%</th>\n",
              "      <td>1766.890015</td>\n",
              "      <td>1734.119995</td>\n",
              "      <td>1751.430054</td>\n",
              "      <td>1754.359985</td>\n",
              "      <td>4.782200e+06</td>\n",
              "      <td>1754.359985</td>\n",
              "    </tr>\n",
              "    <tr>\n",
              "      <th>max</th>\n",
              "      <td>3554.000000</td>\n",
              "      <td>3486.689941</td>\n",
              "      <td>3547.000000</td>\n",
              "      <td>3531.449951</td>\n",
              "      <td>2.385610e+07</td>\n",
              "      <td>3531.449951</td>\n",
              "    </tr>\n",
              "  </tbody>\n",
              "</table>\n",
              "</div>"
            ],
            "text/plain": [
              "              High          Low  ...        Volume    Adj Close\n",
              "count  2357.000000  2357.000000  ...  2.357000e+03  2357.000000\n",
              "mean   1111.317381  1086.758354  ...  4.110385e+06  1099.390263\n",
              "std     929.045026   906.149526  ...  2.231281e+06   917.474866\n",
              "min     178.250000   172.000000  ...  8.813000e+05   175.929993\n",
              "25%     329.440002   321.739990  ...  2.704800e+06   325.619995\n",
              "50%     767.739990   757.250000  ...  3.525600e+06   761.010010\n",
              "75%    1766.890015  1734.119995  ...  4.782200e+06  1754.359985\n",
              "max    3554.000000  3486.689941  ...  2.385610e+07  3531.449951\n",
              "\n",
              "[8 rows x 6 columns]"
            ]
          },
          "metadata": {
            "tags": []
          },
          "execution_count": 6
        }
      ]
    },
    {
      "cell_type": "code",
      "metadata": {
        "colab": {
          "base_uri": "https://localhost:8080/"
        },
        "id": "SvkqOyaohEXo",
        "outputId": "b6fe1c55-6a88-4eee-a9e6-48dc6776d3c7"
      },
      "source": [
        "data.columns"
      ],
      "execution_count": 7,
      "outputs": [
        {
          "output_type": "execute_result",
          "data": {
            "text/plain": [
              "Index(['High', 'Low', 'Open', 'Close', 'Volume', 'Adj Close'], dtype='object')"
            ]
          },
          "metadata": {
            "tags": []
          },
          "execution_count": 7
        }
      ]
    },
    {
      "cell_type": "code",
      "metadata": {
        "colab": {
          "base_uri": "https://localhost:8080/",
          "height": 235
        },
        "id": "49LQc1u00VXO",
        "outputId": "80517215-c2b4-4a96-f1ac-17127ff28816"
      },
      "source": [
        "data.corr()"
      ],
      "execution_count": 8,
      "outputs": [
        {
          "output_type": "execute_result",
          "data": {
            "text/html": [
              "<div>\n",
              "<style scoped>\n",
              "    .dataframe tbody tr th:only-of-type {\n",
              "        vertical-align: middle;\n",
              "    }\n",
              "\n",
              "    .dataframe tbody tr th {\n",
              "        vertical-align: top;\n",
              "    }\n",
              "\n",
              "    .dataframe thead th {\n",
              "        text-align: right;\n",
              "    }\n",
              "</style>\n",
              "<table border=\"1\" class=\"dataframe\">\n",
              "  <thead>\n",
              "    <tr style=\"text-align: right;\">\n",
              "      <th></th>\n",
              "      <th>High</th>\n",
              "      <th>Low</th>\n",
              "      <th>Open</th>\n",
              "      <th>Close</th>\n",
              "      <th>Volume</th>\n",
              "      <th>Adj Close</th>\n",
              "    </tr>\n",
              "  </thead>\n",
              "  <tbody>\n",
              "    <tr>\n",
              "      <th>High</th>\n",
              "      <td>1.000000</td>\n",
              "      <td>0.999790</td>\n",
              "      <td>0.999872</td>\n",
              "      <td>0.999846</td>\n",
              "      <td>0.131662</td>\n",
              "      <td>0.999846</td>\n",
              "    </tr>\n",
              "    <tr>\n",
              "      <th>Low</th>\n",
              "      <td>0.999790</td>\n",
              "      <td>1.000000</td>\n",
              "      <td>0.999823</td>\n",
              "      <td>0.999860</td>\n",
              "      <td>0.121164</td>\n",
              "      <td>0.999860</td>\n",
              "    </tr>\n",
              "    <tr>\n",
              "      <th>Open</th>\n",
              "      <td>0.999872</td>\n",
              "      <td>0.999823</td>\n",
              "      <td>1.000000</td>\n",
              "      <td>0.999687</td>\n",
              "      <td>0.127411</td>\n",
              "      <td>0.999687</td>\n",
              "    </tr>\n",
              "    <tr>\n",
              "      <th>Close</th>\n",
              "      <td>0.999846</td>\n",
              "      <td>0.999860</td>\n",
              "      <td>0.999687</td>\n",
              "      <td>1.000000</td>\n",
              "      <td>0.126178</td>\n",
              "      <td>1.000000</td>\n",
              "    </tr>\n",
              "    <tr>\n",
              "      <th>Volume</th>\n",
              "      <td>0.131662</td>\n",
              "      <td>0.121164</td>\n",
              "      <td>0.127411</td>\n",
              "      <td>0.126178</td>\n",
              "      <td>1.000000</td>\n",
              "      <td>0.126178</td>\n",
              "    </tr>\n",
              "    <tr>\n",
              "      <th>Adj Close</th>\n",
              "      <td>0.999846</td>\n",
              "      <td>0.999860</td>\n",
              "      <td>0.999687</td>\n",
              "      <td>1.000000</td>\n",
              "      <td>0.126178</td>\n",
              "      <td>1.000000</td>\n",
              "    </tr>\n",
              "  </tbody>\n",
              "</table>\n",
              "</div>"
            ],
            "text/plain": [
              "               High       Low      Open     Close    Volume  Adj Close\n",
              "High       1.000000  0.999790  0.999872  0.999846  0.131662   0.999846\n",
              "Low        0.999790  1.000000  0.999823  0.999860  0.121164   0.999860\n",
              "Open       0.999872  0.999823  1.000000  0.999687  0.127411   0.999687\n",
              "Close      0.999846  0.999860  0.999687  1.000000  0.126178   1.000000\n",
              "Volume     0.131662  0.121164  0.127411  0.126178  1.000000   0.126178\n",
              "Adj Close  0.999846  0.999860  0.999687  1.000000  0.126178   1.000000"
            ]
          },
          "metadata": {
            "tags": []
          },
          "execution_count": 8
        }
      ]
    },
    {
      "cell_type": "markdown",
      "metadata": {
        "id": "gqgwcpX2Qxqi"
      },
      "source": [
        "Overall, the adjusted closing price will give you a better idea of the overall value of the stock and help you make informed decisions about buying and selling, while the closing stock price will tell you the exact cash value of a share of stock at the end of the trading day."
      ]
    },
    {
      "cell_type": "code",
      "metadata": {
        "id": "pUetWTGIhIvx"
      },
      "source": [
        "df = pd.DataFrame(data, columns=['Adj Close'])\n",
        "df = df.reset_index()"
      ],
      "execution_count": 9,
      "outputs": []
    },
    {
      "cell_type": "code",
      "metadata": {
        "colab": {
          "base_uri": "https://localhost:8080/",
          "height": 204
        },
        "id": "j2YskMM0iClG",
        "outputId": "96846338-c65a-4998-b2c6-927fb241374f"
      },
      "source": [
        "df.head()"
      ],
      "execution_count": 10,
      "outputs": [
        {
          "output_type": "execute_result",
          "data": {
            "text/html": [
              "<div>\n",
              "<style scoped>\n",
              "    .dataframe tbody tr th:only-of-type {\n",
              "        vertical-align: middle;\n",
              "    }\n",
              "\n",
              "    .dataframe tbody tr th {\n",
              "        vertical-align: top;\n",
              "    }\n",
              "\n",
              "    .dataframe thead th {\n",
              "        text-align: right;\n",
              "    }\n",
              "</style>\n",
              "<table border=\"1\" class=\"dataframe\">\n",
              "  <thead>\n",
              "    <tr style=\"text-align: right;\">\n",
              "      <th></th>\n",
              "      <th>Date</th>\n",
              "      <th>Adj Close</th>\n",
              "    </tr>\n",
              "  </thead>\n",
              "  <tbody>\n",
              "    <tr>\n",
              "      <th>0</th>\n",
              "      <td>2012-01-03</td>\n",
              "      <td>179.029999</td>\n",
              "    </tr>\n",
              "    <tr>\n",
              "      <th>1</th>\n",
              "      <td>2012-01-04</td>\n",
              "      <td>177.509995</td>\n",
              "    </tr>\n",
              "    <tr>\n",
              "      <th>2</th>\n",
              "      <td>2012-01-05</td>\n",
              "      <td>177.610001</td>\n",
              "    </tr>\n",
              "    <tr>\n",
              "      <th>3</th>\n",
              "      <td>2012-01-06</td>\n",
              "      <td>182.610001</td>\n",
              "    </tr>\n",
              "    <tr>\n",
              "      <th>4</th>\n",
              "      <td>2012-01-09</td>\n",
              "      <td>178.559998</td>\n",
              "    </tr>\n",
              "  </tbody>\n",
              "</table>\n",
              "</div>"
            ],
            "text/plain": [
              "        Date   Adj Close\n",
              "0 2012-01-03  179.029999\n",
              "1 2012-01-04  177.509995\n",
              "2 2012-01-05  177.610001\n",
              "3 2012-01-06  182.610001\n",
              "4 2012-01-09  178.559998"
            ]
          },
          "metadata": {
            "tags": []
          },
          "execution_count": 10
        }
      ]
    },
    {
      "cell_type": "code",
      "metadata": {
        "colab": {
          "base_uri": "https://localhost:8080/"
        },
        "id": "DoLPyygziF8_",
        "outputId": "0b2a5031-2637-40b3-885f-58ea841acd57"
      },
      "source": [
        "df.info()"
      ],
      "execution_count": 11,
      "outputs": [
        {
          "output_type": "stream",
          "text": [
            "<class 'pandas.core.frame.DataFrame'>\n",
            "RangeIndex: 2357 entries, 0 to 2356\n",
            "Data columns (total 2 columns):\n",
            " #   Column     Non-Null Count  Dtype         \n",
            "---  ------     --------------  -----         \n",
            " 0   Date       2357 non-null   datetime64[ns]\n",
            " 1   Adj Close  2357 non-null   float64       \n",
            "dtypes: datetime64[ns](1), float64(1)\n",
            "memory usage: 37.0 KB\n"
          ],
          "name": "stdout"
        }
      ]
    },
    {
      "cell_type": "code",
      "metadata": {
        "colab": {
          "base_uri": "https://localhost:8080/"
        },
        "id": "-k8CwYEKiJu6",
        "outputId": "eb706694-e7f3-4773-be99-3331d8b62073"
      },
      "source": [
        "df.isna().values.any()"
      ],
      "execution_count": 12,
      "outputs": [
        {
          "output_type": "execute_result",
          "data": {
            "text/plain": [
              "False"
            ]
          },
          "metadata": {
            "tags": []
          },
          "execution_count": 12
        }
      ]
    },
    {
      "cell_type": "markdown",
      "metadata": {
        "id": "0QaArmZHiQZr"
      },
      "source": [
        "**VISUALIZATION OF DATA**"
      ]
    },
    {
      "cell_type": "markdown",
      "metadata": {
        "id": "-aktQX7JiUxi"
      },
      "source": [
        "1. Box Plot"
      ]
    },
    {
      "cell_type": "code",
      "metadata": {
        "colab": {
          "base_uri": "https://localhost:8080/",
          "height": 425
        },
        "id": "2bkZfuQ3iMcD",
        "outputId": "c49b2948-70ba-4822-f684-b46e49dac759"
      },
      "source": [
        "import seaborn as sns\n",
        "plt.figure(figsize=(20,7))\n",
        "boxplot = data.boxplot(column=['High', 'Low', 'Open','Close','Adj Close'])"
      ],
      "execution_count": null,
      "outputs": [
        {
          "output_type": "display_data",
          "data": {
            "image/png": "[encoded data removed]",
            "text/plain": [
              "<Figure size 1440x504 with 1 Axes>"
            ]
          },
          "metadata": {
            "tags": [],
            "needs_background": "light"
          }
        }
      ]
    },
    {
      "cell_type": "code",
      "metadata": {
        "colab": {
          "base_uri": "https://localhost:8080/",
          "height": 293
        },
        "id": "z-A-fGAn_Vo4",
        "outputId": "c2d20cff-ab75-4bc1-f52a-91d2df38e09c"
      },
      "source": [
        "d = pd.DataFrame(data)\n",
        "import seaborn as sns\n",
        "sns.boxplot(x=d['Volume'])"
      ],
      "execution_count": null,
      "outputs": [
        {
          "output_type": "execute_result",
          "data": {
            "text/plain": [
              "<matplotlib.axes._subplots.AxesSubplot at 0x7faca60e3fd0>"
            ]
          },
          "metadata": {
            "tags": []
          },
          "execution_count": 16
        },
        {
          "output_type": "display_data",
          "data": {
            "image/png": "[encoded data removed]",
            "text/plain": [
              "<Figure size 432x288 with 1 Axes>"
            ]
          },
          "metadata": {
            "tags": [],
            "needs_background": "light"
          }
        }
      ]
    },
    {
      "cell_type": "markdown",
      "metadata": {
        "id": "0PLu3eDE_Z-g"
      },
      "source": [
        "This shows that the volume column contains lot of outlier values which might affect the results of prediction. Hence we remove the volume column itself as part of outlier elimination."
      ]
    },
    {
      "cell_type": "markdown",
      "metadata": {
        "id": "DBez9akgi9jG"
      },
      "source": [
        "2. Visualization of Adjusted Close Price vs Data"
      ]
    },
    {
      "cell_type": "code",
      "metadata": {
        "colab": {
          "base_uri": "https://localhost:8080/",
          "height": 589
        },
        "id": "WUwHqrTIjIbz",
        "outputId": "da8b325b-479c-4f12-bd30-2c949635729d"
      },
      "source": [
        "import matplotlib.dates as mdates\n",
        "\n",
        "years = mdates.YearLocator() # Get every year\n",
        "yearsFmt = mdates.DateFormatter('%Y') # Set year format\n",
        "\n",
        "# Create subplots to plot graph and control axes\n",
        "fig, ax = plt.subplots()\n",
        "ax.plot(df['Date'], df['Adj Close'])\n",
        "\n",
        "# Format the ticks\n",
        "ax.xaxis.set_major_locator(years)\n",
        "ax.xaxis.set_major_formatter(yearsFmt)\n",
        "\n",
        "# Set figure title\n",
        "plt.title('Adjusted Close Stock Price History [2012 - 2021] For Amazon Data', fontsize=16)\n",
        "# Set x label\n",
        "plt.xlabel('Date', fontsize=14)\n",
        "# Set y label\n",
        "plt.ylabel('Adjusted Closing Stock Price in $', fontsize=14)\n",
        "\n",
        "# Rotate and align the x labels\n",
        "fig.autofmt_xdate()\n",
        "\n",
        "# Show plot\n",
        "plt.show()"
      ],
      "execution_count": null,
      "outputs": [
        {
          "output_type": "display_data",
          "data": {
            "image/png": "[encoded data removed]",
            "text/plain": [
              "<Figure size 1800x720 with 1 Axes>"
            ]
          },
          "metadata": {
            "tags": []
          }
        }
      ]
    },
    {
      "cell_type": "markdown",
      "metadata": {
        "id": "CYllwPwZ0gdy"
      },
      "source": [
        "3. CORRELATION BETWEEN VARIABLES"
      ]
    },
    {
      "cell_type": "code",
      "metadata": {
        "colab": {
          "base_uri": "https://localhost:8080/",
          "height": 1000
        },
        "id": "7qwWpY7y0gEA",
        "outputId": "bdee6501-d1d9-4b56-8387-29740572889d"
      },
      "source": [
        "correlation=data.corr()\n",
        "\n",
        "plt.figure(figsize=(25, 25))\n",
        "sns.heatmap(correlation, cbar = True,  square = True, annot=True, fmt= '.2f',annot_kws={'size': 15},\n",
        "           cmap= 'coolwarm')\n",
        "plt.title('Correlation between features')"
      ],
      "execution_count": null,
      "outputs": [
        {
          "output_type": "execute_result",
          "data": {
            "text/plain": [
              "Text(0.5, 1.0, 'Correlation between features')"
            ]
          },
          "metadata": {
            "tags": []
          },
          "execution_count": 18
        },
        {
          "output_type": "display_data",
          "data": {
            "image/png": "[encoded data removed]",
            "text/plain": [
              "<Figure size 1800x1800 with 2 Axes>"
            ]
          },
          "metadata": {
            "tags": [],
            "needs_background": "light"
          }
        }
      ]
    },
    {
      "cell_type": "markdown",
      "metadata": {
        "id": "upNIfn8wk6sA"
      },
      "source": [
        "**PREDICTING THE ACCURACY OF PREDICTION OF STOCK PRICES USING ML AND DEEP LEARNING**"
      ]
    },
    {
      "cell_type": "markdown",
      "metadata": {
        "id": "ch94e_aKlIFq"
      },
      "source": [
        "1. PREDICTION USING LINEAR REGRESSION"
      ]
    },
    {
      "cell_type": "code",
      "metadata": {
        "colab": {
          "base_uri": "https://localhost:8080/"
        },
        "id": "PNQDax24kz7A",
        "outputId": "1c73866d-d3fa-4775-c881-3dfbfad5c2f8"
      },
      "source": [
        "from sklearn.model_selection import train_test_split\n",
        "train, test = train_test_split(df, test_size=0.20)\n",
        "from sklearn.linear_model import LinearRegression\n",
        "X_train = np.array(train.index).reshape(-1, 1)\n",
        "y_train = train['Adj Close']\n",
        "model = LinearRegression()\n",
        "# Fit linear model using the train data set\n",
        "model.fit(X_train, y_train)\n"
      ],
      "execution_count": 19,
      "outputs": [
        {
          "output_type": "execute_result",
          "data": {
            "text/plain": [
              "LinearRegression(copy_X=True, fit_intercept=True, n_jobs=None, normalize=False)"
            ]
          },
          "metadata": {
            "tags": []
          },
          "execution_count": 19
        }
      ]
    },
    {
      "cell_type": "code",
      "metadata": {
        "colab": {
          "base_uri": "https://localhost:8080/"
        },
        "id": "HBOT9PPMmAY9",
        "outputId": "741f4b1c-e02d-4338-d76b-3459e3b91af7"
      },
      "source": [
        "print('Slope: ', np.asscalar(np.squeeze(model.coef_)))\n",
        "# The Intercept\n",
        "print('Intercept: ', model.intercept_)"
      ],
      "execution_count": null,
      "outputs": [
        {
          "output_type": "stream",
          "text": [
            "Slope:  1.2410877241292309\n",
            "Intercept:  -361.29068726887795\n"
          ],
          "name": "stdout"
        },
        {
          "output_type": "stream",
          "text": [
            "/usr/local/lib/python3.7/dist-packages/ipykernel_launcher.py:1: DeprecationWarning: np.asscalar(a) is deprecated since NumPy v1.16, use a.item() instead\n",
            "  \"\"\"Entry point for launching an IPython kernel.\n"
          ],
          "name": "stderr"
        }
      ]
    },
    {
      "cell_type": "code",
      "metadata": {
        "colab": {
          "base_uri": "https://localhost:8080/",
          "height": 617
        },
        "id": "lt-M7CN1mDkS",
        "outputId": "ef3ee42a-d3c2-4495-bb9f-298837a7aafb"
      },
      "source": [
        "plt.figure(1, figsize=(16,10))\n",
        "plt.title('Linear Regression | Price vs Time')\n",
        "plt.scatter(X_train, y_train, edgecolor='w', label='Actual Price')\n",
        "plt.plot(X_train, model.predict(X_train), color='r', label='Predicted Price')\n",
        "plt.xlabel('Integer Date')\n",
        "plt.ylabel('Stock Price')\n",
        "plt.legend()\n",
        "plt.show()"
      ],
      "execution_count": null,
      "outputs": [
        {
          "output_type": "display_data",
          "data": {
            "image/png": "[encoded data removed]",
            "text/plain": [
              "<Figure size 1152x720 with 1 Axes>"
            ]
          },
          "metadata": {
            "tags": [],
            "needs_background": "light"
          }
        }
      ]
    },
    {
      "cell_type": "code",
      "metadata": {
        "colab": {
          "base_uri": "https://localhost:8080/"
        },
        "id": "Pn0a6qF9mJ6M",
        "outputId": "3371fc04-677e-4075-f8db-c7b50555007e"
      },
      "source": [
        "X_test = np.array(test.index).reshape(-1, 1)\n",
        "y_test = test['Adj Close']\n",
        "y_pred = model.predict(X_test)\n",
        "dfr=pd.DataFrame({'Actual Price':y_test,'Predicted Price':y_pred})\n",
        "print(dfr)"
      ],
      "execution_count": null,
      "outputs": [
        {
          "output_type": "stream",
          "text": [
            "      Actual Price  Predicted Price\n",
            "1877   1918.189941      1968.230971\n",
            "1028    536.260010       914.547493\n",
            "1895   1992.030029      1990.570550\n",
            "2338   3334.689941      2540.372412\n",
            "274     262.220001       -21.232651\n",
            "...            ...              ...\n",
            "1734   1516.729980      1790.755426\n",
            "283     266.410004       -10.062861\n",
            "927     522.239990       789.197633\n",
            "1436    974.190002      1420.911285\n",
            "494     395.190002       251.806648\n",
            "\n",
            "[472 rows x 2 columns]\n"
          ],
          "name": "stdout"
        }
      ]
    },
    {
      "cell_type": "markdown",
      "metadata": {
        "id": "q-0ka_QCmZKO"
      },
      "source": [
        "1.1 Calculating the accuracy of the prediction"
      ]
    },
    {
      "cell_type": "code",
      "metadata": {
        "colab": {
          "base_uri": "https://localhost:8080/"
        },
        "id": "71s3aPxhmWqs",
        "outputId": "6753d1d6-5d6f-4de3-8b6c-50e3cf28edf7"
      },
      "source": [
        "from sklearn import metrics\n",
        "import math\n",
        "rmse_linear=math.sqrt(metrics.mean_squared_error(y_test,y_pred))\n",
        "accuracy_linear=model.score(X_test,y_test)\n",
        "\n",
        "print(\"Root mean square error= \",rmse_linear)\n",
        "print(\"Accurcy Score= \",accuracy_linear*100)"
      ],
      "execution_count": null,
      "outputs": [
        {
          "output_type": "stream",
          "text": [
            "Root mean square error=  356.6226565419589\n",
            "Accurcy Score=  84.30219430687926\n"
          ],
          "name": "stdout"
        }
      ]
    },
    {
      "cell_type": "markdown",
      "metadata": {
        "id": "I_LI1izjm7pP"
      },
      "source": [
        "1.2 Graphichal prediction "
      ]
    },
    {
      "cell_type": "code",
      "metadata": {
        "colab": {
          "base_uri": "https://localhost:8080/",
          "height": 457
        },
        "id": "wgr_Wuqtm7Af",
        "outputId": "1454e427-dbd5-4b96-8956-2ac6b7ad8b69"
      },
      "source": [
        "graph=dfr.head(20)\n",
        "graph.plot(kind='bar',figsize=(20,7))"
      ],
      "execution_count": null,
      "outputs": [
        {
          "output_type": "execute_result",
          "data": {
            "text/plain": [
              "<matplotlib.axes._subplots.AxesSubplot at 0x7fac97662510>"
            ]
          },
          "metadata": {
            "tags": []
          },
          "execution_count": 24
        },
        {
          "output_type": "display_data",
          "data": {
            "image/png": "[encoded data removed]",
            "text/plain": [
              "<Figure size 1440x504 with 1 Axes>"
            ]
          },
          "metadata": {
            "tags": [],
            "needs_background": "light"
          }
        }
      ]
    },
    {
      "cell_type": "markdown",
      "metadata": {
        "id": "aBVX6UxenbLb"
      },
      "source": [
        "2.PREDICTION USING KNN"
      ]
    },
    {
      "cell_type": "code",
      "metadata": {
        "colab": {
          "base_uri": "https://localhost:8080/"
        },
        "id": "JL4ATZldnf5Z",
        "outputId": "b6874170-e9e4-4a3e-8a84-cce81e569226"
      },
      "source": [
        "from sklearn.model_selection import train_test_split\n",
        "from sklearn.neighbors import KNeighborsRegressor\n",
        "train, test = train_test_split(df, test_size=0.20)\n",
        "X_train = np.array(train.index).reshape(-1, 1)\n",
        "y_train = train['Adj Close']\n",
        "model = KNeighborsRegressor()\n",
        "model.fit(X_train, y_train)\n"
      ],
      "execution_count": null,
      "outputs": [
        {
          "output_type": "execute_result",
          "data": {
            "text/plain": [
              "KNeighborsRegressor(algorithm='auto', leaf_size=30, metric='minkowski',\n",
              "                    metric_params=None, n_jobs=None, n_neighbors=5, p=2,\n",
              "                    weights='uniform')"
            ]
          },
          "metadata": {
            "tags": []
          },
          "execution_count": 25
        }
      ]
    },
    {
      "cell_type": "code",
      "metadata": {
        "colab": {
          "base_uri": "https://localhost:8080/"
        },
        "id": "WCcVshvuoZMn",
        "outputId": "ea2f9f01-c451-4e88-d740-6dd5449572fc"
      },
      "source": [
        "X_test = np.array(test.index).reshape(-1, 1)\n",
        "y_test = test['Adj Close']\n",
        "y_pred = model.predict(X_test)\n",
        "dfr=pd.DataFrame({'Actual Price':y_test,'Predicted Price':y_pred})\n",
        "print(dfr)"
      ],
      "execution_count": null,
      "outputs": [
        {
          "output_type": "stream",
          "text": [
            "      Actual Price  Predicted Price\n",
            "939     504.059998       526.266003\n",
            "2313   3081.679932      3091.732031\n",
            "1866   1738.500000      1768.254004\n",
            "214     227.350006       229.800000\n",
            "1265    813.640015       803.740002\n",
            "...            ...              ...\n",
            "853     431.420013       429.196008\n",
            "228     251.270004       247.301999\n",
            "568     327.070007       325.121997\n",
            "2187   3116.219971      3132.430029\n",
            "917     500.769989       492.117999\n",
            "\n",
            "[472 rows x 2 columns]\n"
          ],
          "name": "stdout"
        }
      ]
    },
    {
      "cell_type": "markdown",
      "metadata": {
        "id": "rMGv7E7AokfQ"
      },
      "source": [
        "2.1 Calculating the Accuracy"
      ]
    },
    {
      "cell_type": "code",
      "metadata": {
        "colab": {
          "base_uri": "https://localhost:8080/"
        },
        "id": "WRKJ9xCdoiab",
        "outputId": "c2292064-a3e4-46bd-b49c-6aa6d637ebab"
      },
      "source": [
        "from sklearn import metrics\n",
        "import math\n",
        "rmse_knn=math.sqrt(metrics.mean_squared_error(y_test,y_pred))\n",
        "accuracy_knn=model.score(X_test,y_test) #Accuracy Score\n",
        "\n",
        "print(\"Root mean square error= \",rmse_knn)\n",
        "print(\"Accurcy Score= \",accuracy_knn*100)"
      ],
      "execution_count": null,
      "outputs": [
        {
          "output_type": "stream",
          "text": [
            "Root mean square error=  32.40884642488087\n",
            "Accurcy Score=  99.8778136604473\n"
          ],
          "name": "stdout"
        }
      ]
    },
    {
      "cell_type": "markdown",
      "metadata": {
        "id": "_GK4UrZmpG44"
      },
      "source": [
        "2.2 Graphical Representation"
      ]
    },
    {
      "cell_type": "code",
      "metadata": {
        "colab": {
          "base_uri": "https://localhost:8080/",
          "height": 457
        },
        "id": "dJaXm6fopGSh",
        "outputId": "c9b742d0-b4f2-4c9d-8713-ecf4ce2fc062"
      },
      "source": [
        "graph=dfr.head(20)\n",
        "graph.plot(kind='bar',figsize=(20,7))"
      ],
      "execution_count": null,
      "outputs": [
        {
          "output_type": "execute_result",
          "data": {
            "text/plain": [
              "<matplotlib.axes._subplots.AxesSubplot at 0x7fac94ea5550>"
            ]
          },
          "metadata": {
            "tags": []
          },
          "execution_count": 28
        },
        {
          "output_type": "display_data",
          "data": {
            "image/png": "[encoded data removed]",
            "text/plain": [
              "<Figure size 1440x504 with 1 Axes>"
            ]
          },
          "metadata": {
            "tags": [],
            "needs_background": "light"
          }
        }
      ]
    },
    {
      "cell_type": "markdown",
      "metadata": {
        "id": "bBW-3UXcpvQ2"
      },
      "source": [
        "3.PREDICTION USING DECISION TREE REGRESSOR"
      ]
    },
    {
      "cell_type": "code",
      "metadata": {
        "colab": {
          "base_uri": "https://localhost:8080/"
        },
        "id": "weGIDEeFppmO",
        "outputId": "2b5b4d22-d5bf-47a4-d9ab-4368b1e031e6"
      },
      "source": [
        "from sklearn.model_selection import train_test_split\n",
        "from sklearn.tree import DecisionTreeRegressor\n",
        "train, test = train_test_split(df, test_size=0.20)\n",
        "X_train = np.array(train.index).reshape(-1, 1)\n",
        "y_train = train['Adj Close']\n",
        "model =DecisionTreeRegressor ()\n",
        "model.fit(X_train, y_train)"
      ],
      "execution_count": null,
      "outputs": [
        {
          "output_type": "execute_result",
          "data": {
            "text/plain": [
              "DecisionTreeRegressor(ccp_alpha=0.0, criterion='mse', max_depth=None,\n",
              "                      max_features=None, max_leaf_nodes=None,\n",
              "                      min_impurity_decrease=0.0, min_impurity_split=None,\n",
              "                      min_samples_leaf=1, min_samples_split=2,\n",
              "                      min_weight_fraction_leaf=0.0, presort='deprecated',\n",
              "                      random_state=None, splitter='best')"
            ]
          },
          "metadata": {
            "tags": []
          },
          "execution_count": 29
        }
      ]
    },
    {
      "cell_type": "code",
      "metadata": {
        "colab": {
          "base_uri": "https://localhost:8080/"
        },
        "id": "U1-zlzD6r3BC",
        "outputId": "ac40b2d2-7583-4e41-8e42-ddda852f7240"
      },
      "source": [
        "X_test = np.array(test.index).reshape(-1, 1)\n",
        "y_test = test['Adj Close']\n",
        "y_pred = model.predict(X_test)\n",
        "dfr=pd.DataFrame({'Actual Price':y_test,'Predicted Price':y_pred})\n",
        "print(dfr)"
      ],
      "execution_count": null,
      "outputs": [
        {
          "output_type": "stream",
          "text": [
            "      Actual Price  Predicted Price\n",
            "616     325.619995       327.619995\n",
            "2084   2408.189941      2375.000000\n",
            "1580   1441.500000      1430.790039\n",
            "1940   1821.500000      1817.459961\n",
            "2129   2675.010010      2653.979980\n",
            "...            ...              ...\n",
            "85      223.990005       230.250000\n",
            "2098   2351.260010      2317.800049\n",
            "611     332.410004       327.500000\n",
            "1752   1495.079956      1551.479980\n",
            "2243   3220.080078      3168.040039\n",
            "\n",
            "[472 rows x 2 columns]\n"
          ],
          "name": "stdout"
        }
      ]
    },
    {
      "cell_type": "markdown",
      "metadata": {
        "id": "IyIRX5k6r-dZ"
      },
      "source": [
        "3.1 Calculating the Accuracy"
      ]
    },
    {
      "cell_type": "code",
      "metadata": {
        "colab": {
          "base_uri": "https://localhost:8080/"
        },
        "id": "IgFlk9FSr72D",
        "outputId": "9a7ec84a-b3b6-4c6f-c83f-4a64abc749b0"
      },
      "source": [
        "from sklearn import metrics\n",
        "import math\n",
        "rmse_dt=math.sqrt(metrics.mean_squared_error(y_test,y_pred))\n",
        "accuracy_dt=model.score(X_test,y_test) #Accuracy Score\n",
        "\n",
        "print(\"Root mean square error= \",rmse_dt)\n",
        "print(\"Accurcy Score= \",accuracy_dt*100)"
      ],
      "execution_count": null,
      "outputs": [
        {
          "output_type": "stream",
          "text": [
            "Root mean square error=  29.611613999107856\n",
            "Accurcy Score=  99.90243331966843\n"
          ],
          "name": "stdout"
        }
      ]
    },
    {
      "cell_type": "markdown",
      "metadata": {
        "id": "bxBoGDMHsJfe"
      },
      "source": [
        "3.2 Graphical Representation"
      ]
    },
    {
      "cell_type": "code",
      "metadata": {
        "colab": {
          "base_uri": "https://localhost:8080/",
          "height": 454
        },
        "id": "EMM_aXUssIuf",
        "outputId": "0a388cde-ae5e-4738-d4af-f03c4fc28bfd"
      },
      "source": [
        "graph=dfr.head(20)\n",
        "graph.plot(kind='bar',figsize=(20,7))"
      ],
      "execution_count": null,
      "outputs": [
        {
          "output_type": "execute_result",
          "data": {
            "text/plain": [
              "<matplotlib.axes._subplots.AxesSubplot at 0x7fac94e17f90>"
            ]
          },
          "metadata": {
            "tags": []
          },
          "execution_count": 32
        },
        {
          "output_type": "display_data",
          "data": {
            "image/png": "[encoded data removed]",
            "text/plain": [
              "<Figure size 1440x504 with 1 Axes>"
            ]
          },
          "metadata": {
            "tags": [],
            "needs_background": "light"
          }
        }
      ]
    },
    {
      "cell_type": "markdown",
      "metadata": {
        "id": "ePgP-uv8sXt6"
      },
      "source": [
        "4.PREDICTION USING LASSO"
      ]
    },
    {
      "cell_type": "code",
      "metadata": {
        "colab": {
          "base_uri": "https://localhost:8080/"
        },
        "id": "I5g-gNsJsXMn",
        "outputId": "640c1503-c92b-422a-8b2b-e9bad80d97ce"
      },
      "source": [
        "from sklearn.model_selection import train_test_split\n",
        "train, test = train_test_split(df, test_size=0.20)\n",
        "from sklearn.linear_model import Lasso\n",
        "X_train = np.array(train.index).reshape(-1, 1)\n",
        "y_train = train['Adj Close']\n",
        "model = Lasso()\n",
        "# Fit linear model using the train data set\n",
        "model.fit(X_train, y_train)"
      ],
      "execution_count": 24,
      "outputs": [
        {
          "output_type": "stream",
          "text": [
            "/usr/local/lib/python3.7/dist-packages/sklearn/linear_model/_coordinate_descent.py:476: ConvergenceWarning: Objective did not converge. You might want to increase the number of iterations. Duality gap: 122428228.6467806, tolerance: 158701.00272162864\n",
            "  positive)\n"
          ],
          "name": "stderr"
        },
        {
          "output_type": "execute_result",
          "data": {
            "text/plain": [
              "Lasso(alpha=1.0, copy_X=True, fit_intercept=True, max_iter=1000,\n",
              "      normalize=False, positive=False, precompute=False, random_state=None,\n",
              "      selection='cyclic', tol=0.0001, warm_start=False)"
            ]
          },
          "metadata": {
            "tags": []
          },
          "execution_count": 24
        }
      ]
    },
    {
      "cell_type": "code",
      "metadata": {
        "colab": {
          "base_uri": "https://localhost:8080/"
        },
        "id": "27EKOBFatMMK",
        "outputId": "3ef0208f-1398-42ff-eafa-0d1d102f6875"
      },
      "source": [
        "X_test = np.array(test.index).reshape(-1, 1)\n",
        "y_test = test['Adj Close']\n",
        "y_pred = model.predict(X_test)\n",
        "dfr=pd.DataFrame({'Actual Price':y_test,'Predicted Price':y_pred})\n",
        "print(dfr)"
      ],
      "execution_count": null,
      "outputs": [
        {
          "output_type": "stream",
          "text": [
            "      Actual Price  Predicted Price\n",
            "2306   2977.570068      2493.415621\n",
            "1113    723.739990      1018.402881\n",
            "1885   1934.310059      1972.895618\n",
            "1187    789.739990      1109.895708\n",
            "1380    990.330017      1348.518892\n",
            "...            ...              ...\n",
            "2073   1949.719971      2205.336855\n",
            "195     244.990005      -116.602732\n",
            "1854   1869.000000      1934.567542\n",
            "2204   3099.959961      2367.303887\n",
            "1793   1622.099976      1859.147779\n",
            "\n",
            "[472 rows x 2 columns]\n"
          ],
          "name": "stdout"
        }
      ]
    },
    {
      "cell_type": "markdown",
      "metadata": {
        "id": "xtyjIqpTtSSk"
      },
      "source": [
        "4.1 Calculating the Accuracy"
      ]
    },
    {
      "cell_type": "code",
      "metadata": {
        "colab": {
          "base_uri": "https://localhost:8080/"
        },
        "id": "9ClH2QzNtRts",
        "outputId": "3ff5fd59-7e77-4a3c-d2e9-bf5be0549c3f"
      },
      "source": [
        "from sklearn import metrics\n",
        "import math\n",
        "rmse_lasso=math.sqrt(metrics.mean_squared_error(y_test,y_pred))\n",
        "accuracy_lasso=model.score(X_test,y_test) #Accuracy Score\n",
        "\n",
        "print(\"Root mean square error= \",rmse_lasso)\n",
        "print(\"Accurcy Score= \",accuracy_lasso*100)"
      ],
      "execution_count": null,
      "outputs": [
        {
          "output_type": "stream",
          "text": [
            "Root mean square error=  356.7883370501204\n",
            "Accurcy Score=  85.08994381396427\n"
          ],
          "name": "stdout"
        }
      ]
    },
    {
      "cell_type": "markdown",
      "metadata": {
        "id": "YMY-VUe3txTo"
      },
      "source": [
        "4.2 Graphical Representation"
      ]
    },
    {
      "cell_type": "code",
      "metadata": {
        "colab": {
          "base_uri": "https://localhost:8080/",
          "height": 454
        },
        "id": "M2z5DspatgGN",
        "outputId": "b9cc59e2-5ae4-43af-aeb4-18afbeb388eb"
      },
      "source": [
        "graph=dfr.head(20)\n",
        "graph.plot(kind='bar',figsize=(20,7))"
      ],
      "execution_count": null,
      "outputs": [
        {
          "output_type": "execute_result",
          "data": {
            "text/plain": [
              "<matplotlib.axes._subplots.AxesSubplot at 0x7fac941a4ad0>"
            ]
          },
          "metadata": {
            "tags": []
          },
          "execution_count": 36
        },
        {
          "output_type": "display_data",
          "data": {
            "image/png": "[encoded data removed]",
            "text/plain": [
              "<Figure size 1440x504 with 1 Axes>"
            ]
          },
          "metadata": {
            "tags": [],
            "needs_background": "light"
          }
        }
      ]
    },
    {
      "cell_type": "markdown",
      "metadata": {
        "id": "G3sCGf8pt6VG"
      },
      "source": [
        "5. PREDICTION USING ELASTIC NET"
      ]
    },
    {
      "cell_type": "code",
      "metadata": {
        "colab": {
          "base_uri": "https://localhost:8080/"
        },
        "id": "3abwUc1Mt91j",
        "outputId": "83b9cf22-a9d4-4daa-ead7-3244b8d21d7d"
      },
      "source": [
        "from sklearn.model_selection import train_test_split\n",
        "train, test = train_test_split(df, test_size=0.20)\n",
        "from sklearn.linear_model import ElasticNet\n",
        "X_train = np.array(train.index).reshape(-1, 1)\n",
        "y_train = train['Adj Close']\n",
        "model = ElasticNet()\n",
        "# Fit linear model using the train data set\n",
        "model.fit(X_train, y_train)"
      ],
      "execution_count": 28,
      "outputs": [
        {
          "output_type": "stream",
          "text": [
            "/usr/local/lib/python3.7/dist-packages/sklearn/linear_model/_coordinate_descent.py:476: ConvergenceWarning: Objective did not converge. You might want to increase the number of iterations. Duality gap: 126703929.39167291, tolerance: 161901.8083208561\n",
            "  positive)\n"
          ],
          "name": "stderr"
        },
        {
          "output_type": "execute_result",
          "data": {
            "text/plain": [
              "ElasticNet(alpha=1.0, copy_X=True, fit_intercept=True, l1_ratio=0.5,\n",
              "           max_iter=1000, normalize=False, positive=False, precompute=False,\n",
              "           random_state=None, selection='cyclic', tol=0.0001, warm_start=False)"
            ]
          },
          "metadata": {
            "tags": []
          },
          "execution_count": 28
        }
      ]
    },
    {
      "cell_type": "code",
      "metadata": {
        "colab": {
          "base_uri": "https://localhost:8080/"
        },
        "id": "lauxW9jOuGnU",
        "outputId": "5435da43-12bd-4855-f99a-91975267071d"
      },
      "source": [
        "X_test = np.array(test.index).reshape(-1, 1)\n",
        "y_test = test['Adj Close']\n",
        "y_pred = model.predict(X_test)\n",
        "dfr=pd.DataFrame({'Actual Price':y_test,'Predicted Price':y_pred})\n",
        "print(dfr)"
      ],
      "execution_count": null,
      "outputs": [
        {
          "output_type": "stream",
          "text": [
            "      Actual Price  Predicted Price\n",
            "1433    999.599976      1411.755749\n",
            "699     308.309998       507.301353\n",
            "343     264.119995        68.628649\n",
            "1699   1952.760010      1739.528050\n",
            "282     269.750000        -6.537179\n",
            "...            ...              ...\n",
            "284     265.940002        -4.072726\n",
            "1741   1772.359985      1791.281572\n",
            "315     258.950012        34.126302\n",
            "782     377.170013       609.576169\n",
            "2292   3262.129883      2470.238482\n",
            "\n",
            "[472 rows x 2 columns]\n"
          ],
          "name": "stdout"
        }
      ]
    },
    {
      "cell_type": "markdown",
      "metadata": {
        "id": "yJ5GeHtSuNyY"
      },
      "source": [
        "5.1 Calculating the Accuracy"
      ]
    },
    {
      "cell_type": "code",
      "metadata": {
        "colab": {
          "base_uri": "https://localhost:8080/"
        },
        "id": "l8sqSLX2uLQH",
        "outputId": "b67cf7c5-a23d-429b-829b-593ef28a3c52"
      },
      "source": [
        "from sklearn import metrics\n",
        "import math\n",
        "rmse_el=math.sqrt(metrics.mean_squared_error(y_test,y_pred))\n",
        "accuracy_el=model.score(X_test,y_test) #Accuracy Score\n",
        "\n",
        "print(\"Root mean square error= \",rmse_el)\n",
        "print(\"Accurcy Score= \",accuracy_el*100)"
      ],
      "execution_count": null,
      "outputs": [
        {
          "output_type": "stream",
          "text": [
            "Root mean square error=  364.33065142970673\n",
            "Accurcy Score=  85.01919364138007\n"
          ],
          "name": "stdout"
        }
      ]
    },
    {
      "cell_type": "markdown",
      "metadata": {
        "id": "dncqo1d-udEe"
      },
      "source": [
        "5.2 Graphical Representation"
      ]
    },
    {
      "cell_type": "code",
      "metadata": {
        "colab": {
          "base_uri": "https://localhost:8080/",
          "height": 454
        },
        "id": "xT74q7R5uZ0j",
        "outputId": "cfa611b7-4009-4c46-9350-a56437132d89"
      },
      "source": [
        "graph=dfr.head(20)\n",
        "graph.plot(kind='bar',figsize=(20,7))"
      ],
      "execution_count": null,
      "outputs": [
        {
          "output_type": "execute_result",
          "data": {
            "text/plain": [
              "<matplotlib.axes._subplots.AxesSubplot at 0x7fac94055fd0>"
            ]
          },
          "metadata": {
            "tags": []
          },
          "execution_count": 40
        },
        {
          "output_type": "display_data",
          "data": {
            "image/png": "[encoded data removed]",
            "text/plain": [
              "<Figure size 1440x504 with 1 Axes>"
            ]
          },
          "metadata": {
            "tags": [],
            "needs_background": "light"
          }
        }
      ]
    },
    {
      "cell_type": "markdown",
      "metadata": {
        "id": "mxVuOTU0u6fN"
      },
      "source": [
        "6. PREDICTION USING LSTM STACKED ESTIMATOR"
      ]
    },
    {
      "cell_type": "code",
      "metadata": {
        "id": "_Sfcr3KTuj1S"
      },
      "source": [
        "df1=data.reset_index()['Adj Close']"
      ],
      "execution_count": null,
      "outputs": []
    },
    {
      "cell_type": "code",
      "metadata": {
        "id": "Y-kcpxO-vdcq"
      },
      "source": [
        "from sklearn.preprocessing import MinMaxScaler\n",
        "scaler=MinMaxScaler(feature_range=(0,1))\n",
        "df1=scaler.fit_transform(np.array(df1).reshape(-1,1))"
      ],
      "execution_count": null,
      "outputs": []
    },
    {
      "cell_type": "code",
      "metadata": {
        "id": "uC9s3Unfvivi"
      },
      "source": [
        "training_size=int(len(df1)*0.65)\n",
        "test_size=len(df1)-training_size\n",
        "train_data,test_data=df1[0:training_size:],df1[training_size:len(df1),:1]"
      ],
      "execution_count": null,
      "outputs": []
    },
    {
      "cell_type": "code",
      "metadata": {
        "id": "rVwCS5nCvl5d"
      },
      "source": [
        "import numpy\n",
        "\n",
        "def create_dataset(dataset,time_step=1):\n",
        "  dataX,dataY=[],[]\n",
        "  for i in range(len(dataset)-time_step-1):\n",
        "    a=dataset[i:(i+time_step),0]\n",
        "    dataX.append(a)\n",
        "    dataY.append(dataset[i+time_step,0])\n",
        "  return numpy.array(dataX),numpy.array(dataY)"
      ],
      "execution_count": null,
      "outputs": []
    },
    {
      "cell_type": "code",
      "metadata": {
        "id": "woyIMvBNvo8B"
      },
      "source": [
        " time_step=100\n",
        " X_train,y_train=create_dataset(train_data,time_step)\n",
        " X_test,ytest=create_dataset(train_data,time_step)"
      ],
      "execution_count": null,
      "outputs": []
    },
    {
      "cell_type": "code",
      "metadata": {
        "colab": {
          "base_uri": "https://localhost:8080/"
        },
        "id": "tIeI4YEWvrU-",
        "outputId": "7b86dbb8-24bf-4153-bf4b-1a50f1fc6049"
      },
      "source": [
        "print(X_train)"
      ],
      "execution_count": null,
      "outputs": [
        {
          "output_type": "stream",
          "text": [
            "[[0.00092385 0.00047087 0.00050067 ... 0.01174185 0.01232298 0.01171503]\n",
            " [0.00047087 0.00050067 0.00199075 ... 0.01232298 0.01171503 0.01101469]\n",
            " [0.00050067 0.00199075 0.00078378 ... 0.01171503 0.01101469 0.011569  ]\n",
            " ...\n",
            " [0.23523628 0.23599025 0.2394681  ... 0.35213023 0.35822167 0.36540389]\n",
            " [0.23599025 0.2394681  0.23542403 ... 0.35822167 0.36540389 0.37006189]\n",
            " [0.2394681  0.23542403 0.23901811 ... 0.36540389 0.37006189 0.37606391]]\n"
          ],
          "name": "stdout"
        }
      ]
    },
    {
      "cell_type": "code",
      "metadata": {
        "id": "OpCqSHkKvt4H"
      },
      "source": [
        "X_train =X_train.reshape(X_train.shape[0],X_train.shape[1],1)\n",
        "X_test =X_test.reshape(X_test.shape[0],X_test.shape[1],1)"
      ],
      "execution_count": null,
      "outputs": []
    },
    {
      "cell_type": "code",
      "metadata": {
        "id": "ejlgyQWovwp_"
      },
      "source": [
        "from tensorflow.keras.models import Sequential\n",
        "from tensorflow.keras.layers import Dense\n",
        "from tensorflow.keras.layers import LSTM"
      ],
      "execution_count": null,
      "outputs": []
    },
    {
      "cell_type": "code",
      "metadata": {
        "id": "rH3mHgLxvzUm"
      },
      "source": [
        "model=Sequential()\n",
        "model.add(LSTM(50,return_sequences=True,input_shape=(100,1)))\n",
        "model.add(LSTM(50,return_sequences=True))\n",
        "model.add(LSTM(50))\n",
        "model.add(Dense(1))\n",
        "model.compile(loss='mean_squared_error',optimizer='adam')"
      ],
      "execution_count": null,
      "outputs": []
    },
    {
      "cell_type": "code",
      "metadata": {
        "colab": {
          "base_uri": "https://localhost:8080/"
        },
        "id": "eHL_d3bKv2iK",
        "outputId": "28b06c30-c71d-4b03-9a9f-b1e46d2d989d"
      },
      "source": [
        "model.summary()"
      ],
      "execution_count": null,
      "outputs": [
        {
          "output_type": "stream",
          "text": [
            "Model: \"sequential\"\n",
            "_________________________________________________________________\n",
            "Layer (type)                 Output Shape              Param #   \n",
            "=================================================================\n",
            "lstm (LSTM)                  (None, 100, 50)           10400     \n",
            "_________________________________________________________________\n",
            "lstm_1 (LSTM)                (None, 100, 50)           20200     \n",
            "_________________________________________________________________\n",
            "lstm_2 (LSTM)                (None, 50)                20200     \n",
            "_________________________________________________________________\n",
            "dense (Dense)                (None, 1)                 51        \n",
            "=================================================================\n",
            "Total params: 50,851\n",
            "Trainable params: 50,851\n",
            "Non-trainable params: 0\n",
            "_________________________________________________________________\n"
          ],
          "name": "stdout"
        }
      ]
    },
    {
      "cell_type": "code",
      "metadata": {
        "colab": {
          "base_uri": "https://localhost:8080/"
        },
        "id": "jKXs-XTBv5Ev",
        "outputId": "66f0e234-8e57-49ab-da1d-9e067ce3aae8"
      },
      "source": [
        "model.fit(X_train,y_train,validation_data=(X_test,ytest),epochs=100,batch_size=64,verbose=1)"
      ],
      "execution_count": null,
      "outputs": [
        {
          "output_type": "stream",
          "text": [
            "Epoch 1/100\n",
            "23/23 [==============================] - 11s 280ms/step - loss: 0.0072 - val_loss: 2.6901e-04\n",
            "Epoch 2/100\n",
            "23/23 [==============================] - 5s 203ms/step - loss: 2.4451e-04 - val_loss: 1.0761e-04\n",
            "Epoch 3/100\n",
            "23/23 [==============================] - 5s 203ms/step - loss: 9.4372e-05 - val_loss: 7.2538e-05\n",
            "Epoch 4/100\n",
            "23/23 [==============================] - 5s 206ms/step - loss: 7.9847e-05 - val_loss: 6.7964e-05\n",
            "Epoch 5/100\n",
            "23/23 [==============================] - 5s 213ms/step - loss: 6.8832e-05 - val_loss: 6.9850e-05\n",
            "Epoch 6/100\n",
            "23/23 [==============================] - 5s 211ms/step - loss: 6.2789e-05 - val_loss: 6.3878e-05\n",
            "Epoch 7/100\n",
            "23/23 [==============================] - 5s 223ms/step - loss: 6.3420e-05 - val_loss: 6.0514e-05\n",
            "Epoch 8/100\n",
            "23/23 [==============================] - 5s 216ms/step - loss: 6.4086e-05 - val_loss: 6.2246e-05\n",
            "Epoch 9/100\n",
            "23/23 [==============================] - 5s 220ms/step - loss: 6.8923e-05 - val_loss: 6.9946e-05\n",
            "Epoch 10/100\n",
            "23/23 [==============================] - 5s 214ms/step - loss: 7.3763e-05 - val_loss: 6.3493e-05\n",
            "Epoch 11/100\n",
            "23/23 [==============================] - 5s 223ms/step - loss: 5.9743e-05 - val_loss: 9.0820e-05\n",
            "Epoch 12/100\n",
            "23/23 [==============================] - 5s 214ms/step - loss: 7.9720e-05 - val_loss: 5.6585e-05\n",
            "Epoch 13/100\n",
            "23/23 [==============================] - 5s 220ms/step - loss: 7.0368e-05 - val_loss: 6.5055e-05\n",
            "Epoch 14/100\n",
            "23/23 [==============================] - 5s 221ms/step - loss: 6.5436e-05 - val_loss: 6.5844e-05\n",
            "Epoch 15/100\n",
            "23/23 [==============================] - 5s 220ms/step - loss: 6.0015e-05 - val_loss: 7.9378e-05\n",
            "Epoch 16/100\n",
            "23/23 [==============================] - 5s 218ms/step - loss: 6.7052e-05 - val_loss: 5.2850e-05\n",
            "Epoch 17/100\n",
            "23/23 [==============================] - 5s 220ms/step - loss: 5.0708e-05 - val_loss: 6.1096e-05\n",
            "Epoch 18/100\n",
            "23/23 [==============================] - 5s 220ms/step - loss: 5.4934e-05 - val_loss: 5.0239e-05\n",
            "Epoch 19/100\n",
            "23/23 [==============================] - 5s 218ms/step - loss: 5.0153e-05 - val_loss: 5.1781e-05\n",
            "Epoch 20/100\n",
            "23/23 [==============================] - 5s 219ms/step - loss: 5.4744e-05 - val_loss: 5.3393e-05\n",
            "Epoch 21/100\n",
            "23/23 [==============================] - 5s 213ms/step - loss: 4.8674e-05 - val_loss: 5.2026e-05\n",
            "Epoch 22/100\n",
            "23/23 [==============================] - 5s 215ms/step - loss: 4.8493e-05 - val_loss: 4.5788e-05\n",
            "Epoch 23/100\n",
            "23/23 [==============================] - 5s 214ms/step - loss: 5.8537e-05 - val_loss: 5.1356e-05\n",
            "Epoch 24/100\n",
            "23/23 [==============================] - 5s 211ms/step - loss: 5.3051e-05 - val_loss: 4.6965e-05\n",
            "Epoch 25/100\n",
            "23/23 [==============================] - 5s 215ms/step - loss: 5.0700e-05 - val_loss: 5.1697e-05\n",
            "Epoch 26/100\n",
            "23/23 [==============================] - 5s 209ms/step - loss: 4.4747e-05 - val_loss: 5.8259e-05\n",
            "Epoch 27/100\n",
            "23/23 [==============================] - 5s 219ms/step - loss: 5.2012e-05 - val_loss: 5.0690e-05\n",
            "Epoch 28/100\n",
            "23/23 [==============================] - 5s 218ms/step - loss: 5.0796e-05 - val_loss: 4.1187e-05\n",
            "Epoch 29/100\n",
            "23/23 [==============================] - 5s 213ms/step - loss: 4.8821e-05 - val_loss: 4.3008e-05\n",
            "Epoch 30/100\n",
            "23/23 [==============================] - 5s 219ms/step - loss: 4.3970e-05 - val_loss: 6.5635e-05\n",
            "Epoch 31/100\n",
            "23/23 [==============================] - 5s 222ms/step - loss: 5.3386e-05 - val_loss: 6.3212e-05\n",
            "Epoch 32/100\n",
            "23/23 [==============================] - 5s 220ms/step - loss: 5.5466e-05 - val_loss: 4.0036e-05\n",
            "Epoch 33/100\n",
            "23/23 [==============================] - 5s 217ms/step - loss: 4.4854e-05 - val_loss: 4.4771e-05\n",
            "Epoch 34/100\n",
            "23/23 [==============================] - 5s 213ms/step - loss: 4.1040e-05 - val_loss: 6.7303e-05\n",
            "Epoch 35/100\n",
            "23/23 [==============================] - 5s 211ms/step - loss: 4.9748e-05 - val_loss: 4.3076e-05\n",
            "Epoch 36/100\n",
            "23/23 [==============================] - 5s 215ms/step - loss: 4.5684e-05 - val_loss: 4.1919e-05\n",
            "Epoch 37/100\n",
            "23/23 [==============================] - 5s 220ms/step - loss: 4.0012e-05 - val_loss: 4.2003e-05\n",
            "Epoch 38/100\n",
            "23/23 [==============================] - 5s 211ms/step - loss: 4.5910e-05 - val_loss: 4.9952e-05\n",
            "Epoch 39/100\n",
            "23/23 [==============================] - 5s 214ms/step - loss: 4.6606e-05 - val_loss: 3.6482e-05\n",
            "Epoch 40/100\n",
            "23/23 [==============================] - 5s 220ms/step - loss: 4.2950e-05 - val_loss: 3.9440e-05\n",
            "Epoch 41/100\n",
            "23/23 [==============================] - 5s 218ms/step - loss: 4.0862e-05 - val_loss: 4.2820e-05\n",
            "Epoch 42/100\n",
            "23/23 [==============================] - 5s 212ms/step - loss: 4.6434e-05 - val_loss: 3.6341e-05\n",
            "Epoch 43/100\n",
            "23/23 [==============================] - 5s 217ms/step - loss: 3.4737e-05 - val_loss: 4.1316e-05\n",
            "Epoch 44/100\n",
            "23/23 [==============================] - 5s 216ms/step - loss: 3.6409e-05 - val_loss: 3.6628e-05\n",
            "Epoch 45/100\n",
            "23/23 [==============================] - 5s 215ms/step - loss: 3.9093e-05 - val_loss: 4.3601e-05\n",
            "Epoch 46/100\n",
            "23/23 [==============================] - 5s 213ms/step - loss: 4.5760e-05 - val_loss: 5.8642e-05\n",
            "Epoch 47/100\n",
            "23/23 [==============================] - 5s 218ms/step - loss: 3.9876e-05 - val_loss: 5.4727e-05\n",
            "Epoch 48/100\n",
            "23/23 [==============================] - 5s 214ms/step - loss: 4.6261e-05 - val_loss: 4.1280e-05\n",
            "Epoch 49/100\n",
            "23/23 [==============================] - 5s 218ms/step - loss: 3.7216e-05 - val_loss: 3.6004e-05\n",
            "Epoch 50/100\n",
            "23/23 [==============================] - 5s 218ms/step - loss: 4.1984e-05 - val_loss: 3.6425e-05\n",
            "Epoch 51/100\n",
            "23/23 [==============================] - 5s 212ms/step - loss: 4.1320e-05 - val_loss: 4.1013e-05\n",
            "Epoch 52/100\n",
            "23/23 [==============================] - 5s 223ms/step - loss: 4.0618e-05 - val_loss: 3.7585e-05\n",
            "Epoch 53/100\n",
            "23/23 [==============================] - 5s 224ms/step - loss: 3.8705e-05 - val_loss: 3.3338e-05\n",
            "Epoch 54/100\n",
            "23/23 [==============================] - 5s 215ms/step - loss: 3.5790e-05 - val_loss: 3.3961e-05\n",
            "Epoch 55/100\n",
            "23/23 [==============================] - 5s 215ms/step - loss: 3.4186e-05 - val_loss: 4.6319e-05\n",
            "Epoch 56/100\n",
            "23/23 [==============================] - 5s 217ms/step - loss: 4.8184e-05 - val_loss: 4.2789e-05\n",
            "Epoch 57/100\n",
            "23/23 [==============================] - 5s 211ms/step - loss: 3.6565e-05 - val_loss: 4.1953e-05\n",
            "Epoch 58/100\n",
            "23/23 [==============================] - 5s 210ms/step - loss: 3.8992e-05 - val_loss: 3.4348e-05\n",
            "Epoch 59/100\n",
            "23/23 [==============================] - 5s 223ms/step - loss: 3.9992e-05 - val_loss: 3.2956e-05\n",
            "Epoch 60/100\n",
            "23/23 [==============================] - 5s 223ms/step - loss: 3.2433e-05 - val_loss: 3.7759e-05\n",
            "Epoch 61/100\n",
            "23/23 [==============================] - 5s 216ms/step - loss: 2.8715e-05 - val_loss: 3.6163e-05\n",
            "Epoch 62/100\n",
            "23/23 [==============================] - 5s 222ms/step - loss: 3.9129e-05 - val_loss: 3.1598e-05\n",
            "Epoch 63/100\n",
            "23/23 [==============================] - 5s 216ms/step - loss: 3.6112e-05 - val_loss: 3.0771e-05\n",
            "Epoch 64/100\n",
            "23/23 [==============================] - 5s 224ms/step - loss: 3.5234e-05 - val_loss: 5.2035e-05\n",
            "Epoch 65/100\n",
            "23/23 [==============================] - 5s 214ms/step - loss: 4.6972e-05 - val_loss: 4.0241e-05\n",
            "Epoch 66/100\n",
            "23/23 [==============================] - 5s 220ms/step - loss: 4.1336e-05 - val_loss: 3.1271e-05\n",
            "Epoch 67/100\n",
            "23/23 [==============================] - 5s 226ms/step - loss: 2.9549e-05 - val_loss: 4.5484e-05\n",
            "Epoch 68/100\n",
            "23/23 [==============================] - 5s 219ms/step - loss: 4.3867e-05 - val_loss: 3.6446e-05\n",
            "Epoch 69/100\n",
            "23/23 [==============================] - 5s 226ms/step - loss: 4.0255e-05 - val_loss: 4.4637e-05\n",
            "Epoch 70/100\n",
            "23/23 [==============================] - 5s 223ms/step - loss: 3.6126e-05 - val_loss: 3.2200e-05\n",
            "Epoch 71/100\n",
            "23/23 [==============================] - 5s 224ms/step - loss: 3.1111e-05 - val_loss: 4.1360e-05\n",
            "Epoch 72/100\n",
            "23/23 [==============================] - 5s 214ms/step - loss: 3.6810e-05 - val_loss: 3.2189e-05\n",
            "Epoch 73/100\n",
            "23/23 [==============================] - 5s 223ms/step - loss: 2.9889e-05 - val_loss: 2.8999e-05\n",
            "Epoch 74/100\n",
            "23/23 [==============================] - 5s 225ms/step - loss: 2.8527e-05 - val_loss: 3.0850e-05\n",
            "Epoch 75/100\n",
            "23/23 [==============================] - 5s 229ms/step - loss: 2.9139e-05 - val_loss: 3.7474e-05\n",
            "Epoch 76/100\n",
            "23/23 [==============================] - 5s 224ms/step - loss: 3.6341e-05 - val_loss: 3.9244e-05\n",
            "Epoch 77/100\n",
            "23/23 [==============================] - 5s 229ms/step - loss: 3.5871e-05 - val_loss: 2.9942e-05\n",
            "Epoch 78/100\n",
            "23/23 [==============================] - 5s 230ms/step - loss: 3.0266e-05 - val_loss: 2.7903e-05\n",
            "Epoch 79/100\n",
            "23/23 [==============================] - 5s 231ms/step - loss: 2.7787e-05 - val_loss: 2.8068e-05\n",
            "Epoch 80/100\n",
            "23/23 [==============================] - 5s 238ms/step - loss: 2.6970e-05 - val_loss: 3.1831e-05\n",
            "Epoch 81/100\n",
            "23/23 [==============================] - 5s 230ms/step - loss: 3.8786e-05 - val_loss: 2.8455e-05\n",
            "Epoch 82/100\n",
            "23/23 [==============================] - 5s 234ms/step - loss: 3.2057e-05 - val_loss: 2.8723e-05\n",
            "Epoch 83/100\n",
            "23/23 [==============================] - 5s 235ms/step - loss: 2.9694e-05 - val_loss: 3.2485e-05\n",
            "Epoch 84/100\n",
            "23/23 [==============================] - 5s 233ms/step - loss: 3.5239e-05 - val_loss: 3.1954e-05\n",
            "Epoch 85/100\n",
            "23/23 [==============================] - 5s 225ms/step - loss: 3.6185e-05 - val_loss: 3.3317e-05\n",
            "Epoch 86/100\n",
            "23/23 [==============================] - 5s 237ms/step - loss: 3.1692e-05 - val_loss: 3.0742e-05\n",
            "Epoch 87/100\n",
            "23/23 [==============================] - 6s 243ms/step - loss: 3.4878e-05 - val_loss: 2.7466e-05\n",
            "Epoch 88/100\n",
            "23/23 [==============================] - 5s 241ms/step - loss: 3.0118e-05 - val_loss: 2.7078e-05\n",
            "Epoch 89/100\n",
            "23/23 [==============================] - 5s 240ms/step - loss: 2.7056e-05 - val_loss: 3.0376e-05\n",
            "Epoch 90/100\n",
            "23/23 [==============================] - 5s 240ms/step - loss: 2.6272e-05 - val_loss: 3.5110e-05\n",
            "Epoch 91/100\n",
            "23/23 [==============================] - 6s 245ms/step - loss: 2.5520e-05 - val_loss: 3.0079e-05\n",
            "Epoch 92/100\n",
            "23/23 [==============================] - 6s 242ms/step - loss: 3.4970e-05 - val_loss: 2.8780e-05\n",
            "Epoch 93/100\n",
            "23/23 [==============================] - 6s 246ms/step - loss: 2.8697e-05 - val_loss: 2.5038e-05\n",
            "Epoch 94/100\n",
            "23/23 [==============================] - 6s 260ms/step - loss: 2.5875e-05 - val_loss: 3.2003e-05\n",
            "Epoch 95/100\n",
            "23/23 [==============================] - 6s 243ms/step - loss: 2.9577e-05 - val_loss: 2.6572e-05\n",
            "Epoch 96/100\n",
            "23/23 [==============================] - 5s 232ms/step - loss: 2.6861e-05 - val_loss: 3.1837e-05\n",
            "Epoch 97/100\n",
            "23/23 [==============================] - 5s 242ms/step - loss: 2.7699e-05 - val_loss: 2.4668e-05\n",
            "Epoch 98/100\n",
            "23/23 [==============================] - 5s 229ms/step - loss: 2.6809e-05 - val_loss: 3.1468e-05\n",
            "Epoch 99/100\n",
            "23/23 [==============================] - 6s 243ms/step - loss: 2.4650e-05 - val_loss: 2.5121e-05\n",
            "Epoch 100/100\n",
            "23/23 [==============================] - 6s 243ms/step - loss: 3.3455e-05 - val_loss: 2.8278e-05\n"
          ],
          "name": "stdout"
        },
        {
          "output_type": "execute_result",
          "data": {
            "text/plain": [
              "<tensorflow.python.keras.callbacks.History at 0x7fac60591a90>"
            ]
          },
          "metadata": {
            "tags": []
          },
          "execution_count": 51
        }
      ]
    },
    {
      "cell_type": "code",
      "metadata": {
        "id": "6Qv0P9CJzexF"
      },
      "source": [
        "train_predict=model.predict(X_train)\n",
        "test_predict=model.predict(X_test)"
      ],
      "execution_count": null,
      "outputs": []
    },
    {
      "cell_type": "code",
      "metadata": {
        "id": "QbOwK4jPzieo"
      },
      "source": [
        "train_predict=scaler.inverse_transform(train_predict)\n",
        "test_predict=scaler.inverse_transform(test_predict)"
      ],
      "execution_count": null,
      "outputs": []
    },
    {
      "cell_type": "markdown",
      "metadata": {
        "id": "GQEcRFMV45rh"
      },
      "source": [
        "6.1 Calculating the Accuracy"
      ]
    },
    {
      "cell_type": "code",
      "metadata": {
        "colab": {
          "base_uri": "https://localhost:8080/"
        },
        "id": "Dd4qOiLDzkm6",
        "outputId": "ebb46e5f-3cb0-4682-a01e-6b6b2ca259ac"
      },
      "source": [
        "import math\n",
        "from sklearn.metrics import mean_squared_error\n",
        "rmse_lstm=math.sqrt(mean_squared_error(ytest,test_predict))\n",
        "print(\"RMSE score of LSTM =\",rmse_lstm)\n"
      ],
      "execution_count": null,
      "outputs": [
        {
          "output_type": "stream",
          "text": [
            "RMSE score of LSTM = 595.1815787399557\n"
          ],
          "name": "stdout"
        }
      ]
    },
    {
      "cell_type": "markdown",
      "metadata": {
        "id": "FpySVNjW1TOy"
      },
      "source": [
        "7.PREDICTION USING FBPROPHET"
      ]
    },
    {
      "cell_type": "code",
      "metadata": {
        "id": "5PrhzMu61Swu"
      },
      "source": [
        "import datetime as dt\n",
        "import matplotlib.pyplot as plt\n",
        "import warnings\n",
        "warnings.simplefilter(action='ignore',category=FutureWarning)\n",
        "from fbprophet import Prophet"
      ],
      "execution_count": null,
      "outputs": []
    },
    {
      "cell_type": "code",
      "metadata": {
        "id": "QboFAame2JFe"
      },
      "source": [
        "model=Prophet()"
      ],
      "execution_count": null,
      "outputs": []
    },
    {
      "cell_type": "code",
      "metadata": {
        "id": "uNwl8BmQ2Nz2"
      },
      "source": [
        "dfb=data.reset_index()"
      ],
      "execution_count": null,
      "outputs": []
    },
    {
      "cell_type": "code",
      "metadata": {
        "colab": {
          "base_uri": "https://localhost:8080/",
          "height": 419
        },
        "id": "OeAgzo4V2Sul",
        "outputId": "e8091621-65d7-4221-ea4b-53f4bfc65af4"
      },
      "source": [
        "dfb"
      ],
      "execution_count": null,
      "outputs": [
        {
          "output_type": "execute_result",
          "data": {
            "text/html": [
              "<div>\n",
              "<style scoped>\n",
              "    .dataframe tbody tr th:only-of-type {\n",
              "        vertical-align: middle;\n",
              "    }\n",
              "\n",
              "    .dataframe tbody tr th {\n",
              "        vertical-align: top;\n",
              "    }\n",
              "\n",
              "    .dataframe thead th {\n",
              "        text-align: right;\n",
              "    }\n",
              "</style>\n",
              "<table border=\"1\" class=\"dataframe\">\n",
              "  <thead>\n",
              "    <tr style=\"text-align: right;\">\n",
              "      <th></th>\n",
              "      <th>Date</th>\n",
              "      <th>High</th>\n",
              "      <th>Low</th>\n",
              "      <th>Open</th>\n",
              "      <th>Close</th>\n",
              "      <th>Volume</th>\n",
              "      <th>Adj Close</th>\n",
              "    </tr>\n",
              "  </thead>\n",
              "  <tbody>\n",
              "    <tr>\n",
              "      <th>0</th>\n",
              "      <td>2012-01-03</td>\n",
              "      <td>179.479996</td>\n",
              "      <td>175.550003</td>\n",
              "      <td>175.889999</td>\n",
              "      <td>179.029999</td>\n",
              "      <td>5110800</td>\n",
              "      <td>179.029999</td>\n",
              "    </tr>\n",
              "    <tr>\n",
              "      <th>1</th>\n",
              "      <td>2012-01-04</td>\n",
              "      <td>180.500000</td>\n",
              "      <td>176.070007</td>\n",
              "      <td>179.210007</td>\n",
              "      <td>177.509995</td>\n",
              "      <td>4205200</td>\n",
              "      <td>177.509995</td>\n",
              "    </tr>\n",
              "    <tr>\n",
              "      <th>2</th>\n",
              "      <td>2012-01-05</td>\n",
              "      <td>178.250000</td>\n",
              "      <td>174.050003</td>\n",
              "      <td>175.940002</td>\n",
              "      <td>177.610001</td>\n",
              "      <td>3809100</td>\n",
              "      <td>177.610001</td>\n",
              "    </tr>\n",
              "    <tr>\n",
              "      <th>3</th>\n",
              "      <td>2012-01-06</td>\n",
              "      <td>184.649994</td>\n",
              "      <td>177.500000</td>\n",
              "      <td>178.070007</td>\n",
              "      <td>182.610001</td>\n",
              "      <td>7008400</td>\n",
              "      <td>182.610001</td>\n",
              "    </tr>\n",
              "    <tr>\n",
              "      <th>4</th>\n",
              "      <td>2012-01-09</td>\n",
              "      <td>184.369995</td>\n",
              "      <td>177.000000</td>\n",
              "      <td>182.759995</td>\n",
              "      <td>178.559998</td>\n",
              "      <td>5056900</td>\n",
              "      <td>178.559998</td>\n",
              "    </tr>\n",
              "    <tr>\n",
              "      <th>...</th>\n",
              "      <td>...</td>\n",
              "      <td>...</td>\n",
              "      <td>...</td>\n",
              "      <td>...</td>\n",
              "      <td>...</td>\n",
              "      <td>...</td>\n",
              "      <td>...</td>\n",
              "    </tr>\n",
              "    <tr>\n",
              "      <th>2351</th>\n",
              "      <td>2021-05-07</td>\n",
              "      <td>3330.889893</td>\n",
              "      <td>3289.070068</td>\n",
              "      <td>3319.090088</td>\n",
              "      <td>3291.610107</td>\n",
              "      <td>4706800</td>\n",
              "      <td>3291.610107</td>\n",
              "    </tr>\n",
              "    <tr>\n",
              "      <th>2352</th>\n",
              "      <td>2021-05-10</td>\n",
              "      <td>3283.000000</td>\n",
              "      <td>3190.000000</td>\n",
              "      <td>3282.320068</td>\n",
              "      <td>3190.489990</td>\n",
              "      <td>5838600</td>\n",
              "      <td>3190.489990</td>\n",
              "    </tr>\n",
              "    <tr>\n",
              "      <th>2353</th>\n",
              "      <td>2021-05-11</td>\n",
              "      <td>3238.000000</td>\n",
              "      <td>3127.370117</td>\n",
              "      <td>3136.280029</td>\n",
              "      <td>3223.909912</td>\n",
              "      <td>4619800</td>\n",
              "      <td>3223.909912</td>\n",
              "    </tr>\n",
              "    <tr>\n",
              "      <th>2354</th>\n",
              "      <td>2021-05-12</td>\n",
              "      <td>3207.939941</td>\n",
              "      <td>3133.100098</td>\n",
              "      <td>3185.000000</td>\n",
              "      <td>3151.939941</td>\n",
              "      <td>4936400</td>\n",
              "      <td>3151.939941</td>\n",
              "    </tr>\n",
              "    <tr>\n",
              "      <th>2355</th>\n",
              "      <td>2021-05-13</td>\n",
              "      <td>3203.840088</td>\n",
              "      <td>3133.000000</td>\n",
              "      <td>3185.469971</td>\n",
              "      <td>3161.469971</td>\n",
              "      <td>3350900</td>\n",
              "      <td>3161.469971</td>\n",
              "    </tr>\n",
              "  </tbody>\n",
              "</table>\n",
              "<p>2356 rows × 7 columns</p>\n",
              "</div>"
            ],
            "text/plain": [
              "           Date         High          Low  ...        Close   Volume    Adj Close\n",
              "0    2012-01-03   179.479996   175.550003  ...   179.029999  5110800   179.029999\n",
              "1    2012-01-04   180.500000   176.070007  ...   177.509995  4205200   177.509995\n",
              "2    2012-01-05   178.250000   174.050003  ...   177.610001  3809100   177.610001\n",
              "3    2012-01-06   184.649994   177.500000  ...   182.610001  7008400   182.610001\n",
              "4    2012-01-09   184.369995   177.000000  ...   178.559998  5056900   178.559998\n",
              "...         ...          ...          ...  ...          ...      ...          ...\n",
              "2351 2021-05-07  3330.889893  3289.070068  ...  3291.610107  4706800  3291.610107\n",
              "2352 2021-05-10  3283.000000  3190.000000  ...  3190.489990  5838600  3190.489990\n",
              "2353 2021-05-11  3238.000000  3127.370117  ...  3223.909912  4619800  3223.909912\n",
              "2354 2021-05-12  3207.939941  3133.100098  ...  3151.939941  4936400  3151.939941\n",
              "2355 2021-05-13  3203.840088  3133.000000  ...  3161.469971  3350900  3161.469971\n",
              "\n",
              "[2356 rows x 7 columns]"
            ]
          },
          "metadata": {
            "tags": []
          },
          "execution_count": 58
        }
      ]
    },
    {
      "cell_type": "code",
      "metadata": {
        "id": "pQUzNEYT2Uur"
      },
      "source": [
        "dfb[['ds','y']]=dfb[['Date','Close']]"
      ],
      "execution_count": null,
      "outputs": []
    },
    {
      "cell_type": "code",
      "metadata": {
        "colab": {
          "base_uri": "https://localhost:8080/",
          "height": 419
        },
        "id": "P0x6Ni-Z2Zi2",
        "outputId": "e7ae60ba-8544-4a19-dd95-782f2478706e"
      },
      "source": [
        "dfb"
      ],
      "execution_count": null,
      "outputs": [
        {
          "output_type": "execute_result",
          "data": {
            "text/html": [
              "<div>\n",
              "<style scoped>\n",
              "    .dataframe tbody tr th:only-of-type {\n",
              "        vertical-align: middle;\n",
              "    }\n",
              "\n",
              "    .dataframe tbody tr th {\n",
              "        vertical-align: top;\n",
              "    }\n",
              "\n",
              "    .dataframe thead th {\n",
              "        text-align: right;\n",
              "    }\n",
              "</style>\n",
              "<table border=\"1\" class=\"dataframe\">\n",
              "  <thead>\n",
              "    <tr style=\"text-align: right;\">\n",
              "      <th></th>\n",
              "      <th>Date</th>\n",
              "      <th>High</th>\n",
              "      <th>Low</th>\n",
              "      <th>Open</th>\n",
              "      <th>Close</th>\n",
              "      <th>Volume</th>\n",
              "      <th>Adj Close</th>\n",
              "      <th>ds</th>\n",
              "      <th>y</th>\n",
              "    </tr>\n",
              "  </thead>\n",
              "  <tbody>\n",
              "    <tr>\n",
              "      <th>0</th>\n",
              "      <td>2012-01-03</td>\n",
              "      <td>179.479996</td>\n",
              "      <td>175.550003</td>\n",
              "      <td>175.889999</td>\n",
              "      <td>179.029999</td>\n",
              "      <td>5110800</td>\n",
              "      <td>179.029999</td>\n",
              "      <td>2012-01-03</td>\n",
              "      <td>179.029999</td>\n",
              "    </tr>\n",
              "    <tr>\n",
              "      <th>1</th>\n",
              "      <td>2012-01-04</td>\n",
              "      <td>180.500000</td>\n",
              "      <td>176.070007</td>\n",
              "      <td>179.210007</td>\n",
              "      <td>177.509995</td>\n",
              "      <td>4205200</td>\n",
              "      <td>177.509995</td>\n",
              "      <td>2012-01-04</td>\n",
              "      <td>177.509995</td>\n",
              "    </tr>\n",
              "    <tr>\n",
              "      <th>2</th>\n",
              "      <td>2012-01-05</td>\n",
              "      <td>178.250000</td>\n",
              "      <td>174.050003</td>\n",
              "      <td>175.940002</td>\n",
              "      <td>177.610001</td>\n",
              "      <td>3809100</td>\n",
              "      <td>177.610001</td>\n",
              "      <td>2012-01-05</td>\n",
              "      <td>177.610001</td>\n",
              "    </tr>\n",
              "    <tr>\n",
              "      <th>3</th>\n",
              "      <td>2012-01-06</td>\n",
              "      <td>184.649994</td>\n",
              "      <td>177.500000</td>\n",
              "      <td>178.070007</td>\n",
              "      <td>182.610001</td>\n",
              "      <td>7008400</td>\n",
              "      <td>182.610001</td>\n",
              "      <td>2012-01-06</td>\n",
              "      <td>182.610001</td>\n",
              "    </tr>\n",
              "    <tr>\n",
              "      <th>4</th>\n",
              "      <td>2012-01-09</td>\n",
              "      <td>184.369995</td>\n",
              "      <td>177.000000</td>\n",
              "      <td>182.759995</td>\n",
              "      <td>178.559998</td>\n",
              "      <td>5056900</td>\n",
              "      <td>178.559998</td>\n",
              "      <td>2012-01-09</td>\n",
              "      <td>178.559998</td>\n",
              "    </tr>\n",
              "    <tr>\n",
              "      <th>...</th>\n",
              "      <td>...</td>\n",
              "      <td>...</td>\n",
              "      <td>...</td>\n",
              "      <td>...</td>\n",
              "      <td>...</td>\n",
              "      <td>...</td>\n",
              "      <td>...</td>\n",
              "      <td>...</td>\n",
              "      <td>...</td>\n",
              "    </tr>\n",
              "    <tr>\n",
              "      <th>2351</th>\n",
              "      <td>2021-05-07</td>\n",
              "      <td>3330.889893</td>\n",
              "      <td>3289.070068</td>\n",
              "      <td>3319.090088</td>\n",
              "      <td>3291.610107</td>\n",
              "      <td>4706800</td>\n",
              "      <td>3291.610107</td>\n",
              "      <td>2021-05-07</td>\n",
              "      <td>3291.610107</td>\n",
              "    </tr>\n",
              "    <tr>\n",
              "      <th>2352</th>\n",
              "      <td>2021-05-10</td>\n",
              "      <td>3283.000000</td>\n",
              "      <td>3190.000000</td>\n",
              "      <td>3282.320068</td>\n",
              "      <td>3190.489990</td>\n",
              "      <td>5838600</td>\n",
              "      <td>3190.489990</td>\n",
              "      <td>2021-05-10</td>\n",
              "      <td>3190.489990</td>\n",
              "    </tr>\n",
              "    <tr>\n",
              "      <th>2353</th>\n",
              "      <td>2021-05-11</td>\n",
              "      <td>3238.000000</td>\n",
              "      <td>3127.370117</td>\n",
              "      <td>3136.280029</td>\n",
              "      <td>3223.909912</td>\n",
              "      <td>4619800</td>\n",
              "      <td>3223.909912</td>\n",
              "      <td>2021-05-11</td>\n",
              "      <td>3223.909912</td>\n",
              "    </tr>\n",
              "    <tr>\n",
              "      <th>2354</th>\n",
              "      <td>2021-05-12</td>\n",
              "      <td>3207.939941</td>\n",
              "      <td>3133.100098</td>\n",
              "      <td>3185.000000</td>\n",
              "      <td>3151.939941</td>\n",
              "      <td>4936400</td>\n",
              "      <td>3151.939941</td>\n",
              "      <td>2021-05-12</td>\n",
              "      <td>3151.939941</td>\n",
              "    </tr>\n",
              "    <tr>\n",
              "      <th>2355</th>\n",
              "      <td>2021-05-13</td>\n",
              "      <td>3203.840088</td>\n",
              "      <td>3133.000000</td>\n",
              "      <td>3185.469971</td>\n",
              "      <td>3161.469971</td>\n",
              "      <td>3350900</td>\n",
              "      <td>3161.469971</td>\n",
              "      <td>2021-05-13</td>\n",
              "      <td>3161.469971</td>\n",
              "    </tr>\n",
              "  </tbody>\n",
              "</table>\n",
              "<p>2356 rows × 9 columns</p>\n",
              "</div>"
            ],
            "text/plain": [
              "           Date         High          Low  ...    Adj Close         ds            y\n",
              "0    2012-01-03   179.479996   175.550003  ...   179.029999 2012-01-03   179.029999\n",
              "1    2012-01-04   180.500000   176.070007  ...   177.509995 2012-01-04   177.509995\n",
              "2    2012-01-05   178.250000   174.050003  ...   177.610001 2012-01-05   177.610001\n",
              "3    2012-01-06   184.649994   177.500000  ...   182.610001 2012-01-06   182.610001\n",
              "4    2012-01-09   184.369995   177.000000  ...   178.559998 2012-01-09   178.559998\n",
              "...         ...          ...          ...  ...          ...        ...          ...\n",
              "2351 2021-05-07  3330.889893  3289.070068  ...  3291.610107 2021-05-07  3291.610107\n",
              "2352 2021-05-10  3283.000000  3190.000000  ...  3190.489990 2021-05-10  3190.489990\n",
              "2353 2021-05-11  3238.000000  3127.370117  ...  3223.909912 2021-05-11  3223.909912\n",
              "2354 2021-05-12  3207.939941  3133.100098  ...  3151.939941 2021-05-12  3151.939941\n",
              "2355 2021-05-13  3203.840088  3133.000000  ...  3161.469971 2021-05-13  3161.469971\n",
              "\n",
              "[2356 rows x 9 columns]"
            ]
          },
          "metadata": {
            "tags": []
          },
          "execution_count": 60
        }
      ]
    },
    {
      "cell_type": "code",
      "metadata": {
        "colab": {
          "base_uri": "https://localhost:8080/"
        },
        "id": "7Wjzh-Gw2bfi",
        "outputId": "1f4e09ef-cf53-4aa9-917e-ca757c15e9c8"
      },
      "source": [
        "model.fit(dfb)"
      ],
      "execution_count": null,
      "outputs": [
        {
          "output_type": "stream",
          "text": [
            "INFO:fbprophet:Disabling daily seasonality. Run prophet with daily_seasonality=True to override this.\n"
          ],
          "name": "stderr"
        },
        {
          "output_type": "execute_result",
          "data": {
            "text/plain": [
              "<fbprophet.forecaster.Prophet at 0x7fac55ce6b10>"
            ]
          },
          "metadata": {
            "tags": []
          },
          "execution_count": 61
        }
      ]
    },
    {
      "cell_type": "code",
      "metadata": {
        "id": "x_joJtYe2fJQ"
      },
      "source": [
        "prediction=model.make_future_dataframe(periods=200)"
      ],
      "execution_count": null,
      "outputs": []
    },
    {
      "cell_type": "code",
      "metadata": {
        "colab": {
          "base_uri": "https://localhost:8080/"
        },
        "id": "agfIEWej2i84",
        "outputId": "b23ee79f-1dbf-416d-e0a5-94fe069bbba7"
      },
      "source": [
        "pre=model.predict(prediction)\n",
        "print(pre)"
      ],
      "execution_count": null,
      "outputs": [
        {
          "output_type": "stream",
          "text": [
            "             ds        trend  ...  multiplicative_terms_upper         yhat\n",
            "0    2012-01-03   198.240065  ...                         0.0   149.758064\n",
            "1    2012-01-04   198.343747  ...                         0.0   151.300601\n",
            "2    2012-01-05   198.447429  ...                         0.0   150.114363\n",
            "3    2012-01-06   198.551111  ...                         0.0   148.260361\n",
            "4    2012-01-09   198.862156  ...                         0.0   150.430663\n",
            "...         ...          ...  ...                         ...          ...\n",
            "2551 2021-11-25  4070.538064  ...                         0.0  4050.565568\n",
            "2552 2021-11-26  4073.321909  ...                         0.0  4050.514713\n",
            "2553 2021-11-27  4076.105753  ...                         0.0  4040.822792\n",
            "2554 2021-11-28  4078.889598  ...                         0.0  4042.958105\n",
            "2555 2021-11-29  4081.673443  ...                         0.0  4057.219270\n",
            "\n",
            "[2556 rows x 19 columns]\n"
          ],
          "name": "stdout"
        }
      ]
    },
    {
      "cell_type": "markdown",
      "metadata": {
        "id": "h9O7exT040S6"
      },
      "source": [
        "7.1 Calclulating the Accuracy"
      ]
    },
    {
      "cell_type": "code",
      "metadata": {
        "colab": {
          "base_uri": "https://localhost:8080/"
        },
        "id": "sPHvTNhZ3xpG",
        "outputId": "46d3773c-dcca-4e08-f111-07bcedb6c006"
      },
      "source": [
        "import math\n",
        "from sklearn.metrics import mean_squared_error\n",
        "rmse_fb=math.sqrt(mean_squared_error(pre['trend'],pre['yhat']))\n",
        "print(\"RMSE error of FBProphet =\",rmse_fb)"
      ],
      "execution_count": null,
      "outputs": [
        {
          "output_type": "stream",
          "text": [
            "RMSE error of FBProphet = 53.3775589473013\n"
          ],
          "name": "stdout"
        }
      ]
    },
    {
      "cell_type": "markdown",
      "metadata": {
        "id": "4wlTQAS04vY2"
      },
      "source": [
        "7.2 Graphical Visualization"
      ]
    },
    {
      "cell_type": "code",
      "metadata": {
        "colab": {
          "base_uri": "https://localhost:8080/",
          "height": 262
        },
        "id": "asEO4s0f4H39",
        "outputId": "5a4afae1-37eb-46c8-880d-583fe6bdef40"
      },
      "source": [
        "from matplotlib import pyplot\n",
        "pyplot.plot(pre['trend'], label='Actual')\n",
        "pyplot.plot(pre['yhat'], label='Predicted')\n",
        "pyplot.legend()\n",
        "pyplot.show()"
      ],
      "execution_count": null,
      "outputs": [
        {
          "output_type": "display_data",
          "data": {
            "image/png": "[encoded data removed]",
            "text/plain": [
              "<Figure size 432x288 with 1 Axes>"
            ]
          },
          "metadata": {
            "tags": [],
            "needs_background": "light"
          }
        }
      ]
    },
    {
      "cell_type": "markdown",
      "metadata": {
        "id": "T5ya6xggD1Ys"
      },
      "source": [
        "**Evaluation of the Performance of Algorithms**"
      ]
    },
    {
      "cell_type": "markdown",
      "metadata": {
        "id": "r176V9N3F-Ij"
      },
      "source": [
        "1. BASED ON THE ACCURACY SCORE"
      ]
    },
    {
      "cell_type": "code",
      "metadata": {
        "colab": {
          "base_uri": "https://localhost:8080/"
        },
        "id": "SXXenXpID0ti",
        "outputId": "94980fe7-8216-4857-e8e9-0b0a574c1af2"
      },
      "source": [
        "scores = [accuracy_linear*100,accuracy_lasso*100,accuracy_knn*100,accuracy_el*100,accuracy_dt*100]\n",
        "algorithms = [\"Linear Regression\",\"Lasso Regression\",\"KNN\",\"ElasticNet\",\"Decision Tree Regressor\"]\n",
        "for i in range(len(algorithms)):\n",
        "    print(\"The accuracy score achieved using \"+algorithms[i]+\" is: \"+str(scores[i])+\" %\")"
      ],
      "execution_count": null,
      "outputs": [
        {
          "output_type": "stream",
          "text": [
            "The accuracy score achieved using Linear Regression is: 84.30219430687926 %\n",
            "The accuracy score achieved using Lasso Regression is: 85.08994381396427 %\n",
            "The accuracy score achieved using KNN is: 99.8778136604473 %\n",
            "The accuracy score achieved using ElasticNet is: 85.01919364138007 %\n",
            "The accuracy score achieved using Decision Tree Regressor is: 99.90243331966843 %\n"
          ],
          "name": "stdout"
        }
      ]
    },
    {
      "cell_type": "code",
      "metadata": {
        "colab": {
          "base_uri": "https://localhost:8080/",
          "height": 628
        },
        "id": "5xPP7bKKE8FQ",
        "outputId": "d7fc4202-bffb-43fc-b75e-897de5f3f9d9"
      },
      "source": [
        "sns.set(rc={'figure.figsize':(25,10)})\n",
        "plt.xlabel(\"Algorithms\")\n",
        "plt.ylabel(\"Accuracy score\")\n",
        "\n",
        "sns.barplot(algorithms,scores)"
      ],
      "execution_count": null,
      "outputs": [
        {
          "output_type": "execute_result",
          "data": {
            "text/plain": [
              "<matplotlib.axes._subplots.AxesSubplot at 0x7fac539d4850>"
            ]
          },
          "metadata": {
            "tags": []
          },
          "execution_count": 67
        },
        {
          "output_type": "display_data",
          "data": {
            "image/png": "[encoded data removed]",
            "text/plain": [
              "<Figure size 1800x720 with 1 Axes>"
            ]
          },
          "metadata": {
            "tags": []
          }
        }
      ]
    },
    {
      "cell_type": "markdown",
      "metadata": {
        "id": "SsoCiO-HGCcM"
      },
      "source": [
        "2. BASED ON RMSE VALUES"
      ]
    },
    {
      "cell_type": "code",
      "metadata": {
        "colab": {
          "base_uri": "https://localhost:8080/"
        },
        "id": "mz9R5HmFGE17",
        "outputId": "d9f95cda-b228-4071-cd36-12fa446ba868"
      },
      "source": [
        "scores = [rmse_linear,rmse_lasso,rmse_knn,rmse_el,rmse_dt,rmse_lstm,rmse_fb]\n",
        "algorithms = [\"Linear Regression\",\"Lasso Regression\",\"KNN\",\"ElasticNet\",\"Decision Tree Regressor\",\"LSTM\",\"FB PROPHET\"]\n",
        "for i in range(len(algorithms)):\n",
        "    print(\"The RMSE score achieved using \"+algorithms[i]+\" is: \"+str(scores[i])+\" \")"
      ],
      "execution_count": null,
      "outputs": [
        {
          "output_type": "stream",
          "text": [
            "The RMSE score achieved using Linear Regression is: 356.6226565419589 \n",
            "The RMSE score achieved using Lasso Regression is: 356.7883370501204 \n",
            "The RMSE score achieved using KNN is: 32.40884642488087 \n",
            "The RMSE score achieved using ElasticNet is: 364.33065142970673 \n",
            "The RMSE score achieved using Decision Tree Regressor is: 29.611613999107856 \n",
            "The RMSE score achieved using LSTM is: 595.1815787399557 \n",
            "The RMSE score achieved using FB PROPHET is: 53.3775589473013 \n"
          ],
          "name": "stdout"
        }
      ]
    },
    {
      "cell_type": "code",
      "metadata": {
        "colab": {
          "base_uri": "https://localhost:8080/",
          "height": 628
        },
        "id": "w_-TqVSqGcGg",
        "outputId": "4719473a-e585-44c0-e492-07ee4eb63ea1"
      },
      "source": [
        "sns.set(rc={'figure.figsize':(25,10)})\n",
        "plt.xlabel(\"Algorithms\")\n",
        "plt.ylabel(\"RMSE score\")\n",
        "\n",
        "sns.barplot(algorithms,scores)"
      ],
      "execution_count": null,
      "outputs": [
        {
          "output_type": "execute_result",
          "data": {
            "text/plain": [
              "<matplotlib.axes._subplots.AxesSubplot at 0x7fac53340f90>"
            ]
          },
          "metadata": {
            "tags": []
          },
          "execution_count": 95
        },
        {
          "output_type": "display_data",
          "data": {
            "image/png": "[encoded data removed]",
            "text/plain": [
              "<Figure size 1800x720 with 1 Axes>"
            ]
          },
          "metadata": {
            "tags": []
          }
        }
      ]
    },
    {
      "cell_type": "markdown",
      "metadata": {
        "id": "xRbrpeCFIHB_"
      },
      "source": [
        "**FORECASTING THE FUTURE STOCK PRICES USING ML AND DEEP LEARNING**"
      ]
    },
    {
      "cell_type": "code",
      "metadata": {
        "colab": {
          "base_uri": "https://localhost:8080/",
          "height": 450
        },
        "id": "G87SmgFEIQNC",
        "outputId": "009fdc3c-11d0-4945-ce27-4a2f68d8b083"
      },
      "source": [
        "df=web.DataReader('AMZN',data_source='yahoo',start='2012-01-01',end='2021-05-15')\n",
        "df"
      ],
      "execution_count": 15,
      "outputs": [
        {
          "output_type": "execute_result",
          "data": {
            "text/html": [
              "<div>\n",
              "<style scoped>\n",
              "    .dataframe tbody tr th:only-of-type {\n",
              "        vertical-align: middle;\n",
              "    }\n",
              "\n",
              "    .dataframe tbody tr th {\n",
              "        vertical-align: top;\n",
              "    }\n",
              "\n",
              "    .dataframe thead th {\n",
              "        text-align: right;\n",
              "    }\n",
              "</style>\n",
              "<table border=\"1\" class=\"dataframe\">\n",
              "  <thead>\n",
              "    <tr style=\"text-align: right;\">\n",
              "      <th></th>\n",
              "      <th>High</th>\n",
              "      <th>Low</th>\n",
              "      <th>Open</th>\n",
              "      <th>Close</th>\n",
              "      <th>Volume</th>\n",
              "      <th>Adj Close</th>\n",
              "    </tr>\n",
              "    <tr>\n",
              "      <th>Date</th>\n",
              "      <th></th>\n",
              "      <th></th>\n",
              "      <th></th>\n",
              "      <th></th>\n",
              "      <th></th>\n",
              "      <th></th>\n",
              "    </tr>\n",
              "  </thead>\n",
              "  <tbody>\n",
              "    <tr>\n",
              "      <th>2012-01-03</th>\n",
              "      <td>179.479996</td>\n",
              "      <td>175.550003</td>\n",
              "      <td>175.889999</td>\n",
              "      <td>179.029999</td>\n",
              "      <td>5110800</td>\n",
              "      <td>179.029999</td>\n",
              "    </tr>\n",
              "    <tr>\n",
              "      <th>2012-01-04</th>\n",
              "      <td>180.500000</td>\n",
              "      <td>176.070007</td>\n",
              "      <td>179.210007</td>\n",
              "      <td>177.509995</td>\n",
              "      <td>4205200</td>\n",
              "      <td>177.509995</td>\n",
              "    </tr>\n",
              "    <tr>\n",
              "      <th>2012-01-05</th>\n",
              "      <td>178.250000</td>\n",
              "      <td>174.050003</td>\n",
              "      <td>175.940002</td>\n",
              "      <td>177.610001</td>\n",
              "      <td>3809100</td>\n",
              "      <td>177.610001</td>\n",
              "    </tr>\n",
              "    <tr>\n",
              "      <th>2012-01-06</th>\n",
              "      <td>184.649994</td>\n",
              "      <td>177.500000</td>\n",
              "      <td>178.070007</td>\n",
              "      <td>182.610001</td>\n",
              "      <td>7008400</td>\n",
              "      <td>182.610001</td>\n",
              "    </tr>\n",
              "    <tr>\n",
              "      <th>2012-01-09</th>\n",
              "      <td>184.369995</td>\n",
              "      <td>177.000000</td>\n",
              "      <td>182.759995</td>\n",
              "      <td>178.559998</td>\n",
              "      <td>5056900</td>\n",
              "      <td>178.559998</td>\n",
              "    </tr>\n",
              "    <tr>\n",
              "      <th>...</th>\n",
              "      <td>...</td>\n",
              "      <td>...</td>\n",
              "      <td>...</td>\n",
              "      <td>...</td>\n",
              "      <td>...</td>\n",
              "      <td>...</td>\n",
              "    </tr>\n",
              "    <tr>\n",
              "      <th>2021-05-10</th>\n",
              "      <td>3283.000000</td>\n",
              "      <td>3190.000000</td>\n",
              "      <td>3282.320068</td>\n",
              "      <td>3190.489990</td>\n",
              "      <td>5838600</td>\n",
              "      <td>3190.489990</td>\n",
              "    </tr>\n",
              "    <tr>\n",
              "      <th>2021-05-11</th>\n",
              "      <td>3238.000000</td>\n",
              "      <td>3127.370117</td>\n",
              "      <td>3136.280029</td>\n",
              "      <td>3223.909912</td>\n",
              "      <td>4619800</td>\n",
              "      <td>3223.909912</td>\n",
              "    </tr>\n",
              "    <tr>\n",
              "      <th>2021-05-12</th>\n",
              "      <td>3207.939941</td>\n",
              "      <td>3133.100098</td>\n",
              "      <td>3185.000000</td>\n",
              "      <td>3151.939941</td>\n",
              "      <td>4936400</td>\n",
              "      <td>3151.939941</td>\n",
              "    </tr>\n",
              "    <tr>\n",
              "      <th>2021-05-13</th>\n",
              "      <td>3203.840088</td>\n",
              "      <td>3133.000000</td>\n",
              "      <td>3185.469971</td>\n",
              "      <td>3161.469971</td>\n",
              "      <td>3350900</td>\n",
              "      <td>3161.469971</td>\n",
              "    </tr>\n",
              "    <tr>\n",
              "      <th>2021-05-14</th>\n",
              "      <td>3221.399902</td>\n",
              "      <td>3183.409912</td>\n",
              "      <td>3185.560059</td>\n",
              "      <td>3216.000000</td>\n",
              "      <td>1621450</td>\n",
              "      <td>3216.000000</td>\n",
              "    </tr>\n",
              "  </tbody>\n",
              "</table>\n",
              "<p>2357 rows × 6 columns</p>\n",
              "</div>"
            ],
            "text/plain": [
              "                   High          Low  ...   Volume    Adj Close\n",
              "Date                                  ...                      \n",
              "2012-01-03   179.479996   175.550003  ...  5110800   179.029999\n",
              "2012-01-04   180.500000   176.070007  ...  4205200   177.509995\n",
              "2012-01-05   178.250000   174.050003  ...  3809100   177.610001\n",
              "2012-01-06   184.649994   177.500000  ...  7008400   182.610001\n",
              "2012-01-09   184.369995   177.000000  ...  5056900   178.559998\n",
              "...                 ...          ...  ...      ...          ...\n",
              "2021-05-10  3283.000000  3190.000000  ...  5838600  3190.489990\n",
              "2021-05-11  3238.000000  3127.370117  ...  4619800  3223.909912\n",
              "2021-05-12  3207.939941  3133.100098  ...  4936400  3151.939941\n",
              "2021-05-13  3203.840088  3133.000000  ...  3350900  3161.469971\n",
              "2021-05-14  3221.399902  3183.409912  ...  1621450  3216.000000\n",
              "\n",
              "[2357 rows x 6 columns]"
            ]
          },
          "metadata": {
            "tags": []
          },
          "execution_count": 15
        }
      ]
    },
    {
      "cell_type": "markdown",
      "metadata": {
        "id": "vp7U9TkQI6oi"
      },
      "source": [
        "1.FORECASTING USING LINEAR REGRESSION"
      ]
    },
    {
      "cell_type": "code",
      "metadata": {
        "id": "SY_Zp-PhI2wZ"
      },
      "source": [
        "from sklearn import preprocessing\n",
        "forecast = 30\n",
        "df['Prediction'] = df[['Adj Close']].shift(-forecast)\n",
        "\n",
        "X = np.array(df.drop(['Prediction'], 1))\n",
        "X = preprocessing.scale(X)\n",
        "\n",
        "X_forecast = X[-forecast:]\n",
        "X = X[:-forecast]\n",
        "\n",
        "y = np.array(df['Prediction'])\n",
        "y = y[:-forecast]"
      ],
      "execution_count": 16,
      "outputs": []
    },
    {
      "cell_type": "code",
      "metadata": {
        "colab": {
          "base_uri": "https://localhost:8080/"
        },
        "id": "vrRvsuDBJIIU",
        "outputId": "0aca87af-b2ed-46f8-a95f-52e0893ffd73"
      },
      "source": [
        "X_train, X_test, y_train, y_test = train_test_split(X, y, test_size=0.2)\n",
        "\n",
        "clf = LinearRegression()\n",
        "clf.fit(X_train, y_train)\n",
        "\n",
        "confidence_linear = clf.score(X_test, y_test)\n",
        "\n",
        "forecast_predicted_linear = clf.predict(X_forecast)\n",
        "print(forecast_predicted_linear)"
      ],
      "execution_count": 20,
      "outputs": [
        {
          "output_type": "stream",
          "text": [
            "[3311.57189501 3268.49823369 3367.91523267 3348.61472233 3462.5657016\n",
            " 3433.03116814 3446.34379153 3440.03407236 3438.51108328 3466.77555487\n",
            " 3463.65429946 3427.74817934 3436.64735046 3409.81036637 3417.22038601\n",
            " 3510.14788051 3497.69744398 3527.66862332 3561.11138453 3567.06290707\n",
            " 3526.09166894 3429.27883569 3385.3624696  3383.50391488 3345.59250773\n",
            " 3305.40797601 3336.15264967 3242.11199949 3254.37530655 3270.36723338]\n"
          ],
          "name": "stdout"
        }
      ]
    },
    {
      "cell_type": "code",
      "metadata": {
        "colab": {
          "base_uri": "https://localhost:8080/"
        },
        "id": "iJHv8NoDJPD5",
        "outputId": "1d45d40a-cbae-4ff4-c819-0a9df9d102c8"
      },
      "source": [
        "print(confidence_linear*100)"
      ],
      "execution_count": 21,
      "outputs": [
        {
          "output_type": "stream",
          "text": [
            "98.34385011662154\n"
          ],
          "name": "stdout"
        }
      ]
    },
    {
      "cell_type": "code",
      "metadata": {
        "colab": {
          "base_uri": "https://localhost:8080/",
          "height": 373
        },
        "id": "FyXGO2EJJdlr",
        "outputId": "06295a1c-3f1d-44fd-8a2b-cb8bf85cc863"
      },
      "source": [
        "dates = pd.date_range(start=\"2021-05-14\", end=\"2021-06-12\")\n",
        "plt.plot(dates, forecast_predicted_linear,color='r')\n",
        "df['Adj Close'].plot(figsize=(15,6),color='g')\n",
        "plt.xlim(xmin=datetime.date(2020,1,26))"
      ],
      "execution_count": 22,
      "outputs": [
        {
          "output_type": "execute_result",
          "data": {
            "text/plain": [
              "(737450.0, 738125.4)"
            ]
          },
          "metadata": {
            "tags": []
          },
          "execution_count": 22
        },
        {
          "output_type": "display_data",
          "data": {
            "image/png": "[encoded data removed]",
            "text/plain": [
              "<Figure size 1080x432 with 1 Axes>"
            ]
          },
          "metadata": {
            "tags": []
          }
        }
      ]
    },
    {
      "cell_type": "markdown",
      "metadata": {
        "id": "RQQZqmwfJXB1"
      },
      "source": [
        "2. FORECASTING USING LASSO REGRESSION"
      ]
    },
    {
      "cell_type": "code",
      "metadata": {
        "colab": {
          "base_uri": "https://localhost:8080/"
        },
        "id": "Ov5kPY6JJWNz",
        "outputId": "23036469-633d-4284-c04f-13cae2d7e9f1"
      },
      "source": [
        "X_train, X_test, y_train, y_test = train_test_split(X, y, test_size=0.2)\n",
        "\n",
        "clf = Lasso()\n",
        "clf.fit(X_train, y_train)\n",
        "\n",
        "confidence_lasso = clf.score(X_test, y_test)\n",
        "\n",
        "forecast_predicted_lasso= clf.predict(X_forecast)\n",
        "print(forecast_predicted_lasso)"
      ],
      "execution_count": 25,
      "outputs": [
        {
          "output_type": "stream",
          "text": [
            "[3290.03047669 3299.07665668 3355.73570209 3376.81015016 3429.36114392\n",
            " 3449.83464316 3484.23140688 3448.90065027 3451.41445234 3463.27401754\n",
            " 3482.48992881 3431.80464372 3420.2177972  3418.72943852 3426.19316557\n",
            " 3482.59790294 3510.51676741 3542.62608219 3564.67129443 3596.88237482\n",
            " 3526.49019363 3414.57427205 3396.37444851 3369.37968393 3380.28553969\n",
            " 3321.83189613 3290.92547686 3252.76377682 3251.45603716 3276.37126423]\n"
          ],
          "name": "stdout"
        },
        {
          "output_type": "stream",
          "text": [
            "/usr/local/lib/python3.7/dist-packages/sklearn/linear_model/_coordinate_descent.py:476: ConvergenceWarning: Objective did not converge. You might want to increase the number of iterations. Duality gap: 199838.92885650694, tolerance: 159580.24727103324\n",
            "  positive)\n"
          ],
          "name": "stderr"
        }
      ]
    },
    {
      "cell_type": "code",
      "metadata": {
        "colab": {
          "base_uri": "https://localhost:8080/"
        },
        "id": "R13YSqiqKEdm",
        "outputId": "9a87b309-ed6c-4780-c80b-f04c467684b7"
      },
      "source": [
        "print(confidence_lasso*100)"
      ],
      "execution_count": 26,
      "outputs": [
        {
          "output_type": "stream",
          "text": [
            "97.51530727585505\n"
          ],
          "name": "stdout"
        }
      ]
    },
    {
      "cell_type": "code",
      "metadata": {
        "colab": {
          "base_uri": "https://localhost:8080/",
          "height": 373
        },
        "id": "vQFSVKN_KILG",
        "outputId": "730daeb0-3c4f-4fbc-fa51-2edb47168b2d"
      },
      "source": [
        "dates = pd.date_range(start=\"2021-05-14\", end=\"2021-06-12\")\n",
        "plt.plot(dates, forecast_predicted_lasso,color='r')\n",
        "df['Adj Close'].plot(figsize=(15,6),color='g')\n",
        "plt.xlim(xmin=datetime.date(2020,1,26))"
      ],
      "execution_count": 27,
      "outputs": [
        {
          "output_type": "execute_result",
          "data": {
            "text/plain": [
              "(737450.0, 738125.4)"
            ]
          },
          "metadata": {
            "tags": []
          },
          "execution_count": 27
        },
        {
          "output_type": "display_data",
          "data": {
            "image/png": "[encoded data removed]",
            "text/plain": [
              "<Figure size 1080x432 with 1 Axes>"
            ]
          },
          "metadata": {
            "tags": []
          }
        }
      ]
    },
    {
      "cell_type": "markdown",
      "metadata": {
        "id": "AAECcVDRKUF2"
      },
      "source": [
        "3. FORECASTING USING ELASTIC NET"
      ]
    },
    {
      "cell_type": "code",
      "metadata": {
        "colab": {
          "base_uri": "https://localhost:8080/"
        },
        "id": "iTLkyUi0KdDi",
        "outputId": "838aaccb-1cf3-4d48-923d-0cb91ad43a3f"
      },
      "source": [
        "X_train, X_test, y_train, y_test = train_test_split(X, y, test_size=0.2)\n",
        "\n",
        "clf = ElasticNet()\n",
        "clf.fit(X_train, y_train)\n",
        "\n",
        "confidence_elastic = clf.score(X_test, y_test)\n",
        "\n",
        "forecast_predicted_elastic= clf.predict(X_forecast)\n",
        "print(forecast_predicted_elastic)"
      ],
      "execution_count": 29,
      "outputs": [
        {
          "output_type": "stream",
          "text": [
            "[3073.53214681 3090.58839896 3128.13680684 3163.73715722 3204.59211546\n",
            " 3227.4558176  3258.61892241 3215.65306013 3230.54133152 3241.93072218\n",
            " 3237.76407469 3202.58016719 3194.26336726 3188.01257313 3194.6073542\n",
            " 3246.70625921 3280.76975795 3308.48932271 3346.43919305 3357.8898191\n",
            " 3286.45159163 3192.95034028 3162.73175914 3156.14054851 3171.69612465\n",
            " 3105.62718252 3065.69319142 3045.11749103 3040.69792143 3065.50892638]\n"
          ],
          "name": "stdout"
        }
      ]
    },
    {
      "cell_type": "code",
      "metadata": {
        "colab": {
          "base_uri": "https://localhost:8080/"
        },
        "id": "JhPyLHagKo2f",
        "outputId": "8699bd9f-dbb4-41cb-9efe-657b20e540cd"
      },
      "source": [
        "print(confidence_elastic*100)"
      ],
      "execution_count": 30,
      "outputs": [
        {
          "output_type": "stream",
          "text": [
            "97.06341642531152\n"
          ],
          "name": "stdout"
        }
      ]
    },
    {
      "cell_type": "code",
      "metadata": {
        "colab": {
          "base_uri": "https://localhost:8080/",
          "height": 373
        },
        "id": "s3eTWBX8Kskv",
        "outputId": "30821bd5-f695-47d5-8db4-1a0828c88fa8"
      },
      "source": [
        "dates = pd.date_range(start=\"2021-05-14\", end=\"2021-06-12\")\n",
        "plt.plot(dates, forecast_predicted_elastic,color='r')\n",
        "df['Adj Close'].plot(figsize=(15,6),color='g')\n",
        "plt.xlim(xmin=datetime.date(2020,1,26))"
      ],
      "execution_count": 31,
      "outputs": [
        {
          "output_type": "execute_result",
          "data": {
            "text/plain": [
              "(737450.0, 738125.4)"
            ]
          },
          "metadata": {
            "tags": []
          },
          "execution_count": 31
        },
        {
          "output_type": "display_data",
          "data": {
            "image/png": "[encoded data removed]",
            "text/plain": [
              "<Figure size 1080x432 with 1 Axes>"
            ]
          },
          "metadata": {
            "tags": []
          }
        }
      ]
    },
    {
      "cell_type": "markdown",
      "metadata": {
        "id": "KEb-gZvOK4cp"
      },
      "source": [
        "4.FORECASTING USING KNN"
      ]
    },
    {
      "cell_type": "code",
      "metadata": {
        "colab": {
          "base_uri": "https://localhost:8080/"
        },
        "id": "s-A-ifb6Ky7D",
        "outputId": "608e301e-ca8a-48d9-8ac5-f21b9df8e658"
      },
      "source": [
        "from sklearn.neighbors import KNeighborsRegressor\n",
        "\n",
        "X_train, X_test, y_train, y_test = train_test_split(X, y, test_size=0.2)\n",
        "\n",
        "clf = KNeighborsRegressor()\n",
        "clf.fit(X_train, y_train)\n",
        "\n",
        "confidence_knn = clf.score(X_test, y_test)\n",
        "\n",
        "forecast_predicted_knn= clf.predict(X_forecast)\n",
        "print(forecast_predicted_knn)"
      ],
      "execution_count": 32,
      "outputs": [
        {
          "output_type": "stream",
          "text": [
            "[3179.06401367 3200.27597656 3193.25600586 3170.48798828 3162.98999023\n",
            " 3156.23203125 3208.79399414 3222.64399414 3226.00200195 3226.00200195\n",
            " 3214.88598633 3203.04799805 3211.65400391 3203.04799805 3159.05800781\n",
            " 3152.81396484 3250.95195312 3286.20390625 3181.83398438 3177.01801758\n",
            " 3178.1340332  3153.25200195 3164.87402344 3169.19799805 3136.46396484\n",
            " 3298.1340332  3227.99995117 3133.1659668  3171.5699707  3237.59799805]\n"
          ],
          "name": "stdout"
        }
      ]
    },
    {
      "cell_type": "code",
      "metadata": {
        "colab": {
          "base_uri": "https://localhost:8080/"
        },
        "id": "W1NFFxplLDpa",
        "outputId": "89b731b1-b49b-4ad4-a0af-91b97b0a6fda"
      },
      "source": [
        "print(confidence_knn*100)"
      ],
      "execution_count": 33,
      "outputs": [
        {
          "output_type": "stream",
          "text": [
            "98.08296234271074\n"
          ],
          "name": "stdout"
        }
      ]
    },
    {
      "cell_type": "code",
      "metadata": {
        "colab": {
          "base_uri": "https://localhost:8080/",
          "height": 373
        },
        "id": "m_3bsE8SLHdJ",
        "outputId": "bdb82b16-f854-4fc7-c87e-f67085c49261"
      },
      "source": [
        "dates = pd.date_range(start=\"2021-05-14\", end=\"2021-06-12\")\n",
        "plt.plot(dates, forecast_predicted_knn,color='r')\n",
        "df['Adj Close'].plot(figsize=(15,6),color='g')\n",
        "plt.xlim(xmin=datetime.date(2020,1,26))"
      ],
      "execution_count": 34,
      "outputs": [
        {
          "output_type": "execute_result",
          "data": {
            "text/plain": [
              "(737450.0, 738125.4)"
            ]
          },
          "metadata": {
            "tags": []
          },
          "execution_count": 34
        },
        {
          "output_type": "display_data",
          "data": {
            "image/png": "[encoded data removed]",
            "text/plain": [
              "<Figure size 1080x432 with 1 Axes>"
            ]
          },
          "metadata": {
            "tags": []
          }
        }
      ]
    },
    {
      "cell_type": "markdown",
      "metadata": {
        "id": "UTYtuoVnLUSd"
      },
      "source": [
        "5.FORECASTING USING DECISION TREE"
      ]
    },
    {
      "cell_type": "code",
      "metadata": {
        "colab": {
          "base_uri": "https://localhost:8080/"
        },
        "id": "AFkI9qaTLRf8",
        "outputId": "a07511dd-29aa-4b77-fe58-5da280312a8d"
      },
      "source": [
        "from sklearn.tree import DecisionTreeRegressor\n",
        "X_train, X_test, y_train, y_test = train_test_split(X, y, test_size=0.2)\n",
        "\n",
        "clf = DecisionTreeRegressor()\n",
        "clf.fit(X_train, y_train)\n",
        "\n",
        "confidence_dt = clf.score(X_test, y_test)\n",
        "\n",
        "forecast_predicted_dt = clf.predict(X_forecast)\n",
        "print(forecast_predicted_dt)"
      ],
      "execution_count": 35,
      "outputs": [
        {
          "output_type": "stream",
          "text": [
            "[3328.22998047 3075.72998047 3268.94995117 2951.94995117 3262.12988281\n",
            " 3094.08007812 3442.92993164 3137.5        3137.5        3137.5\n",
            " 2951.94995117 2951.94995117 2951.94995117 2951.94995117 3137.5\n",
            " 3190.55004883 3443.62988281 3443.62988281 3118.06005859 3118.06005859\n",
            " 3118.06005859 3099.95996094 3199.19995117 3203.5300293  3201.64990234\n",
            " 3312.5300293  2977.57006836 3180.73999023 3180.73999023 3075.72998047]\n"
          ],
          "name": "stdout"
        }
      ]
    },
    {
      "cell_type": "code",
      "metadata": {
        "colab": {
          "base_uri": "https://localhost:8080/"
        },
        "id": "hRJZEv_nLm96",
        "outputId": "96400ef9-668f-44c8-8d72-52d04fd1c546"
      },
      "source": [
        "print(confidence_dt*100)"
      ],
      "execution_count": 36,
      "outputs": [
        {
          "output_type": "stream",
          "text": [
            "97.87171529948864\n"
          ],
          "name": "stdout"
        }
      ]
    },
    {
      "cell_type": "code",
      "metadata": {
        "colab": {
          "base_uri": "https://localhost:8080/",
          "height": 390
        },
        "id": "EWznZnR3LqaT",
        "outputId": "0b7a8b5b-f6d3-4d92-8588-9cde5736ba36"
      },
      "source": [
        "dates = pd.date_range(start=\"2021-05-14\", end=\"2021-06-12\")\n",
        "plt.plot(dates, forecast_predicted_knn,color='r')\n",
        "df['Adj Close'].plot(figsize=(15,6),color='g')\n",
        "plt.xlim(xmin=datetime.date(2020,1,26))"
      ],
      "execution_count": 37,
      "outputs": [
        {
          "output_type": "execute_result",
          "data": {
            "text/plain": [
              "(737450.0, 738125.4)"
            ]
          },
          "metadata": {
            "tags": []
          },
          "execution_count": 37
        },
        {
          "output_type": "display_data",
          "data": {
            "image/png": "[encoded data removed]",
            "text/plain": [
              "<Figure size 1080x432 with 1 Axes>"
            ]
          },
          "metadata": {
            "tags": []
          }
        }
      ]
    },
    {
      "cell_type": "code",
      "metadata": {
        "id": "XullDXy0MW-m"
      },
      "source": [
        "compare=pd.DataFrame({'Linear Regression':forecast_predicted_linear,'Lasso':forecast_predicted_lasso,'Decision tree Regressor':forecast_predicted_dt,'Elastic Net':forecast_predicted_elastic,'K Neighbhors Regressor':forecast_predicted_knn})"
      ],
      "execution_count": 38,
      "outputs": []
    },
    {
      "cell_type": "code",
      "metadata": {
        "colab": {
          "base_uri": "https://localhost:8080/",
          "height": 669
        },
        "id": "Bc4kWj6yMnww",
        "outputId": "eb9d4779-0853-4db3-9a4d-e0785ced35de"
      },
      "source": [
        "compare.head(20)"
      ],
      "execution_count": 39,
      "outputs": [
        {
          "output_type": "execute_result",
          "data": {
            "text/html": [
              "<div>\n",
              "<style scoped>\n",
              "    .dataframe tbody tr th:only-of-type {\n",
              "        vertical-align: middle;\n",
              "    }\n",
              "\n",
              "    .dataframe tbody tr th {\n",
              "        vertical-align: top;\n",
              "    }\n",
              "\n",
              "    .dataframe thead th {\n",
              "        text-align: right;\n",
              "    }\n",
              "</style>\n",
              "<table border=\"1\" class=\"dataframe\">\n",
              "  <thead>\n",
              "    <tr style=\"text-align: right;\">\n",
              "      <th></th>\n",
              "      <th>Linear Regression</th>\n",
              "      <th>Lasso</th>\n",
              "      <th>Decision tree Regressor</th>\n",
              "      <th>Elastic Net</th>\n",
              "      <th>K Neighbhors Regressor</th>\n",
              "    </tr>\n",
              "  </thead>\n",
              "  <tbody>\n",
              "    <tr>\n",
              "      <th>0</th>\n",
              "      <td>3311.571895</td>\n",
              "      <td>3290.030477</td>\n",
              "      <td>3328.229980</td>\n",
              "      <td>3073.532147</td>\n",
              "      <td>3179.064014</td>\n",
              "    </tr>\n",
              "    <tr>\n",
              "      <th>1</th>\n",
              "      <td>3268.498234</td>\n",
              "      <td>3299.076657</td>\n",
              "      <td>3075.729980</td>\n",
              "      <td>3090.588399</td>\n",
              "      <td>3200.275977</td>\n",
              "    </tr>\n",
              "    <tr>\n",
              "      <th>2</th>\n",
              "      <td>3367.915233</td>\n",
              "      <td>3355.735702</td>\n",
              "      <td>3268.949951</td>\n",
              "      <td>3128.136807</td>\n",
              "      <td>3193.256006</td>\n",
              "    </tr>\n",
              "    <tr>\n",
              "      <th>3</th>\n",
              "      <td>3348.614722</td>\n",
              "      <td>3376.810150</td>\n",
              "      <td>2951.949951</td>\n",
              "      <td>3163.737157</td>\n",
              "      <td>3170.487988</td>\n",
              "    </tr>\n",
              "    <tr>\n",
              "      <th>4</th>\n",
              "      <td>3462.565702</td>\n",
              "      <td>3429.361144</td>\n",
              "      <td>3262.129883</td>\n",
              "      <td>3204.592115</td>\n",
              "      <td>3162.989990</td>\n",
              "    </tr>\n",
              "    <tr>\n",
              "      <th>5</th>\n",
              "      <td>3433.031168</td>\n",
              "      <td>3449.834643</td>\n",
              "      <td>3094.080078</td>\n",
              "      <td>3227.455818</td>\n",
              "      <td>3156.232031</td>\n",
              "    </tr>\n",
              "    <tr>\n",
              "      <th>6</th>\n",
              "      <td>3446.343792</td>\n",
              "      <td>3484.231407</td>\n",
              "      <td>3442.929932</td>\n",
              "      <td>3258.618922</td>\n",
              "      <td>3208.793994</td>\n",
              "    </tr>\n",
              "    <tr>\n",
              "      <th>7</th>\n",
              "      <td>3440.034072</td>\n",
              "      <td>3448.900650</td>\n",
              "      <td>3137.500000</td>\n",
              "      <td>3215.653060</td>\n",
              "      <td>3222.643994</td>\n",
              "    </tr>\n",
              "    <tr>\n",
              "      <th>8</th>\n",
              "      <td>3438.511083</td>\n",
              "      <td>3451.414452</td>\n",
              "      <td>3137.500000</td>\n",
              "      <td>3230.541332</td>\n",
              "      <td>3226.002002</td>\n",
              "    </tr>\n",
              "    <tr>\n",
              "      <th>9</th>\n",
              "      <td>3466.775555</td>\n",
              "      <td>3463.274018</td>\n",
              "      <td>3137.500000</td>\n",
              "      <td>3241.930722</td>\n",
              "      <td>3226.002002</td>\n",
              "    </tr>\n",
              "    <tr>\n",
              "      <th>10</th>\n",
              "      <td>3463.654299</td>\n",
              "      <td>3482.489929</td>\n",
              "      <td>2951.949951</td>\n",
              "      <td>3237.764075</td>\n",
              "      <td>3214.885986</td>\n",
              "    </tr>\n",
              "    <tr>\n",
              "      <th>11</th>\n",
              "      <td>3427.748179</td>\n",
              "      <td>3431.804644</td>\n",
              "      <td>2951.949951</td>\n",
              "      <td>3202.580167</td>\n",
              "      <td>3203.047998</td>\n",
              "    </tr>\n",
              "    <tr>\n",
              "      <th>12</th>\n",
              "      <td>3436.647350</td>\n",
              "      <td>3420.217797</td>\n",
              "      <td>2951.949951</td>\n",
              "      <td>3194.263367</td>\n",
              "      <td>3211.654004</td>\n",
              "    </tr>\n",
              "    <tr>\n",
              "      <th>13</th>\n",
              "      <td>3409.810366</td>\n",
              "      <td>3418.729439</td>\n",
              "      <td>2951.949951</td>\n",
              "      <td>3188.012573</td>\n",
              "      <td>3203.047998</td>\n",
              "    </tr>\n",
              "    <tr>\n",
              "      <th>14</th>\n",
              "      <td>3417.220386</td>\n",
              "      <td>3426.193166</td>\n",
              "      <td>3137.500000</td>\n",
              "      <td>3194.607354</td>\n",
              "      <td>3159.058008</td>\n",
              "    </tr>\n",
              "    <tr>\n",
              "      <th>15</th>\n",
              "      <td>3510.147881</td>\n",
              "      <td>3482.597903</td>\n",
              "      <td>3190.550049</td>\n",
              "      <td>3246.706259</td>\n",
              "      <td>3152.813965</td>\n",
              "    </tr>\n",
              "    <tr>\n",
              "      <th>16</th>\n",
              "      <td>3497.697444</td>\n",
              "      <td>3510.516767</td>\n",
              "      <td>3443.629883</td>\n",
              "      <td>3280.769758</td>\n",
              "      <td>3250.951953</td>\n",
              "    </tr>\n",
              "    <tr>\n",
              "      <th>17</th>\n",
              "      <td>3527.668623</td>\n",
              "      <td>3542.626082</td>\n",
              "      <td>3443.629883</td>\n",
              "      <td>3308.489323</td>\n",
              "      <td>3286.203906</td>\n",
              "    </tr>\n",
              "    <tr>\n",
              "      <th>18</th>\n",
              "      <td>3561.111385</td>\n",
              "      <td>3564.671294</td>\n",
              "      <td>3118.060059</td>\n",
              "      <td>3346.439193</td>\n",
              "      <td>3181.833984</td>\n",
              "    </tr>\n",
              "    <tr>\n",
              "      <th>19</th>\n",
              "      <td>3567.062907</td>\n",
              "      <td>3596.882375</td>\n",
              "      <td>3118.060059</td>\n",
              "      <td>3357.889819</td>\n",
              "      <td>3177.018018</td>\n",
              "    </tr>\n",
              "  </tbody>\n",
              "</table>\n",
              "</div>"
            ],
            "text/plain": [
              "    Linear Regression        Lasso  ...  Elastic Net  K Neighbhors Regressor\n",
              "0         3311.571895  3290.030477  ...  3073.532147             3179.064014\n",
              "1         3268.498234  3299.076657  ...  3090.588399             3200.275977\n",
              "2         3367.915233  3355.735702  ...  3128.136807             3193.256006\n",
              "3         3348.614722  3376.810150  ...  3163.737157             3170.487988\n",
              "4         3462.565702  3429.361144  ...  3204.592115             3162.989990\n",
              "5         3433.031168  3449.834643  ...  3227.455818             3156.232031\n",
              "6         3446.343792  3484.231407  ...  3258.618922             3208.793994\n",
              "7         3440.034072  3448.900650  ...  3215.653060             3222.643994\n",
              "8         3438.511083  3451.414452  ...  3230.541332             3226.002002\n",
              "9         3466.775555  3463.274018  ...  3241.930722             3226.002002\n",
              "10        3463.654299  3482.489929  ...  3237.764075             3214.885986\n",
              "11        3427.748179  3431.804644  ...  3202.580167             3203.047998\n",
              "12        3436.647350  3420.217797  ...  3194.263367             3211.654004\n",
              "13        3409.810366  3418.729439  ...  3188.012573             3203.047998\n",
              "14        3417.220386  3426.193166  ...  3194.607354             3159.058008\n",
              "15        3510.147881  3482.597903  ...  3246.706259             3152.813965\n",
              "16        3497.697444  3510.516767  ...  3280.769758             3250.951953\n",
              "17        3527.668623  3542.626082  ...  3308.489323             3286.203906\n",
              "18        3561.111385  3564.671294  ...  3346.439193             3181.833984\n",
              "19        3567.062907  3596.882375  ...  3357.889819             3177.018018\n",
              "\n",
              "[20 rows x 5 columns]"
            ]
          },
          "metadata": {
            "tags": []
          },
          "execution_count": 39
        }
      ]
    },
    {
      "cell_type": "markdown",
      "metadata": {
        "id": "lnllKGiLMwyg"
      },
      "source": [
        "**EVALUATION OF PERFORMANCE IN FORECASTING**"
      ]
    },
    {
      "cell_type": "code",
      "metadata": {
        "colab": {
          "base_uri": "https://localhost:8080/"
        },
        "id": "ZGOMIIqXMwbC",
        "outputId": "009336f6-a4fb-4f7d-b36a-6b1db4cbcb2d"
      },
      "source": [
        "scores = [confidence_linear,confidence_lasso,confidence_knn,confidence_elastic,confidence_dt]\n",
        "algorithms = [\"Linear Regression\",\"Lasso Regression\",\"KNN\",\"ElasticNet\",\"Decision Tree Regressor\"]\n",
        "for i in range(len(algorithms)):\n",
        "    print(\"The confidence scores achieved using \"+algorithms[i]+\" is: \"+str(scores[i]*100)+\"%\")"
      ],
      "execution_count": 40,
      "outputs": [
        {
          "output_type": "stream",
          "text": [
            "The confidence scores achieved using Linear Regression is: 98.34385011662154%\n",
            "The confidence scores achieved using Lasso Regression is: 97.51530727585505%\n",
            "The confidence scores achieved using KNN is: 98.08296234271074%\n",
            "The confidence scores achieved using ElasticNet is: 97.06341642531152%\n",
            "The confidence scores achieved using Decision Tree Regressor is: 97.87171529948864%\n"
          ],
          "name": "stdout"
        }
      ]
    },
    {
      "cell_type": "code",
      "metadata": {
        "colab": {
          "base_uri": "https://localhost:8080/",
          "height": 431
        },
        "id": "z7FOg7HONSvG",
        "outputId": "1ffdd8a9-8d9b-4858-c0b4-fff5a6585772"
      },
      "source": [
        "sns.set(rc={'figure.figsize':(25,10)})\n",
        "plt.xlabel(\"Algorithms\")\n",
        "plt.ylabel(\"Confidence score\")\n",
        "\n",
        "sns.barplot(algorithms,scores)"
      ],
      "execution_count": 41,
      "outputs": [
        {
          "output_type": "stream",
          "text": [
            "/usr/local/lib/python3.7/dist-packages/seaborn/_decorators.py:43: FutureWarning: Pass the following variables as keyword args: x, y. From version 0.12, the only valid positional argument will be `data`, and passing other arguments without an explicit keyword will result in an error or misinterpretation.\n",
            "  FutureWarning\n"
          ],
          "name": "stderr"
        },
        {
          "output_type": "execute_result",
          "data": {
            "text/plain": [
              "<matplotlib.axes._subplots.AxesSubplot at 0x7f9048411210>"
            ]
          },
          "metadata": {
            "tags": []
          },
          "execution_count": 41
        },
        {
          "output_type": "display_data",
          "data": {
            "image/png": "[encoded data removed]",
            "text/plain": [
              "<Figure size 1800x720 with 1 Axes>"
            ]
          },
          "metadata": {
            "tags": []
          }
        }
      ]
    }
  ]
}