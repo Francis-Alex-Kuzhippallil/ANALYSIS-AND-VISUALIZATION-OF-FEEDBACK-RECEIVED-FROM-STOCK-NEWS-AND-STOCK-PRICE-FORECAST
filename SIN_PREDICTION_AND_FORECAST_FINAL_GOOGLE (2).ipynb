{
  "nbformat": 4,
  "nbformat_minor": 0,
  "metadata": {
    "colab": {
      "name": "SIN PREDICTION AND FORECAST FINAL GOOGLE.ipynb",
      "provenance": [],
      "collapsed_sections": []
    },
    "kernelspec": {
      "name": "python3",
      "display_name": "Python 3"
    },
    "language_info": {
      "name": "python"
    }
  },
  "cells": [
    {
      "cell_type": "markdown",
      "metadata": {
        "id": "6gc2-uucf-9J"
      },
      "source": [
        "**IMPORTING LIBRARIES**"
      ]
    },
    {
      "cell_type": "code",
      "metadata": {
        "id": "y-W0UUeRf5lI"
      },
      "source": [
        "import numpy as np\n",
        "import pandas as pd\n",
        "import datetime\n",
        "\n",
        "%matplotlib inline\n",
        "import matplotlib.pyplot as plt\n",
        "import seaborn as sns\n",
        "plt.style.use('seaborn-darkgrid')\n",
        "plt.rc('figure', figsize=(16,10))\n",
        "plt.rc('lines', markersize=4)\n",
        "import pandas_datareader as web"
      ],
      "execution_count": 86,
      "outputs": []
    },
    {
      "cell_type": "markdown",
      "metadata": {
        "id": "80qDjskhgUX_"
      },
      "source": [
        "**READING DATA FROM YAHOO FINANCE SOURCE**"
      ]
    },
    {
      "cell_type": "code",
      "metadata": {
        "colab": {
          "base_uri": "https://localhost:8080/",
          "height": 450
        },
        "id": "v7WrYMIGgPmb",
        "outputId": "9dc5837a-bcd2-48e5-ae0e-81ce657a060f"
      },
      "source": [
        "data=web.DataReader('GOOG',data_source='yahoo',start='2012-01-01',end='2021-05-15')\n",
        "data\n"
      ],
      "execution_count": 87,
      "outputs": [
        {
          "output_type": "execute_result",
          "data": {
            "text/html": [
              "<div>\n",
              "<style scoped>\n",
              "    .dataframe tbody tr th:only-of-type {\n",
              "        vertical-align: middle;\n",
              "    }\n",
              "\n",
              "    .dataframe tbody tr th {\n",
              "        vertical-align: top;\n",
              "    }\n",
              "\n",
              "    .dataframe thead th {\n",
              "        text-align: right;\n",
              "    }\n",
              "</style>\n",
              "<table border=\"1\" class=\"dataframe\">\n",
              "  <thead>\n",
              "    <tr style=\"text-align: right;\">\n",
              "      <th></th>\n",
              "      <th>High</th>\n",
              "      <th>Low</th>\n",
              "      <th>Open</th>\n",
              "      <th>Close</th>\n",
              "      <th>Volume</th>\n",
              "      <th>Adj Close</th>\n",
              "    </tr>\n",
              "    <tr>\n",
              "      <th>Date</th>\n",
              "      <th></th>\n",
              "      <th></th>\n",
              "      <th></th>\n",
              "      <th></th>\n",
              "      <th></th>\n",
              "      <th></th>\n",
              "    </tr>\n",
              "  </thead>\n",
              "  <tbody>\n",
              "    <tr>\n",
              "      <th>2012-01-03</th>\n",
              "      <td>332.827484</td>\n",
              "      <td>324.966949</td>\n",
              "      <td>325.250885</td>\n",
              "      <td>331.462585</td>\n",
              "      <td>7380561.0</td>\n",
              "      <td>331.462585</td>\n",
              "    </tr>\n",
              "    <tr>\n",
              "      <th>2012-01-04</th>\n",
              "      <td>333.873566</td>\n",
              "      <td>329.076538</td>\n",
              "      <td>331.273315</td>\n",
              "      <td>332.892242</td>\n",
              "      <td>5749470.0</td>\n",
              "      <td>332.892242</td>\n",
              "    </tr>\n",
              "    <tr>\n",
              "      <th>2012-01-05</th>\n",
              "      <td>330.745270</td>\n",
              "      <td>326.889740</td>\n",
              "      <td>329.828735</td>\n",
              "      <td>328.274536</td>\n",
              "      <td>6590410.0</td>\n",
              "      <td>328.274536</td>\n",
              "    </tr>\n",
              "    <tr>\n",
              "      <th>2012-01-06</th>\n",
              "      <td>328.767700</td>\n",
              "      <td>323.681763</td>\n",
              "      <td>328.344299</td>\n",
              "      <td>323.796326</td>\n",
              "      <td>5405987.0</td>\n",
              "      <td>323.796326</td>\n",
              "    </tr>\n",
              "    <tr>\n",
              "      <th>2012-01-09</th>\n",
              "      <td>322.291962</td>\n",
              "      <td>309.455078</td>\n",
              "      <td>322.042908</td>\n",
              "      <td>310.067780</td>\n",
              "      <td>11688849.0</td>\n",
              "      <td>310.067780</td>\n",
              "    </tr>\n",
              "    <tr>\n",
              "      <th>...</th>\n",
              "      <td>...</td>\n",
              "      <td>...</td>\n",
              "      <td>...</td>\n",
              "      <td>...</td>\n",
              "      <td>...</td>\n",
              "      <td>...</td>\n",
              "    </tr>\n",
              "    <tr>\n",
              "      <th>2021-05-10</th>\n",
              "      <td>2378.000000</td>\n",
              "      <td>2334.729980</td>\n",
              "      <td>2374.889893</td>\n",
              "      <td>2341.659912</td>\n",
              "      <td>1300300.0</td>\n",
              "      <td>2341.659912</td>\n",
              "    </tr>\n",
              "    <tr>\n",
              "      <th>2021-05-11</th>\n",
              "      <td>2322.000000</td>\n",
              "      <td>2283.000000</td>\n",
              "      <td>2291.860107</td>\n",
              "      <td>2308.760010</td>\n",
              "      <td>1605500.0</td>\n",
              "      <td>2308.760010</td>\n",
              "    </tr>\n",
              "    <tr>\n",
              "      <th>2021-05-12</th>\n",
              "      <td>2285.370117</td>\n",
              "      <td>2230.050049</td>\n",
              "      <td>2261.709961</td>\n",
              "      <td>2239.080078</td>\n",
              "      <td>1746700.0</td>\n",
              "      <td>2239.080078</td>\n",
              "    </tr>\n",
              "    <tr>\n",
              "      <th>2021-05-13</th>\n",
              "      <td>2276.601074</td>\n",
              "      <td>2242.719971</td>\n",
              "      <td>2261.090088</td>\n",
              "      <td>2261.969971</td>\n",
              "      <td>1333500.0</td>\n",
              "      <td>2261.969971</td>\n",
              "    </tr>\n",
              "    <tr>\n",
              "      <th>2021-05-14</th>\n",
              "      <td>2321.139893</td>\n",
              "      <td>2283.320068</td>\n",
              "      <td>2291.830078</td>\n",
              "      <td>2316.159912</td>\n",
              "      <td>1330100.0</td>\n",
              "      <td>2316.159912</td>\n",
              "    </tr>\n",
              "  </tbody>\n",
              "</table>\n",
              "<p>2357 rows × 6 columns</p>\n",
              "</div>"
            ],
            "text/plain": [
              "                   High          Low  ...      Volume    Adj Close\n",
              "Date                                  ...                         \n",
              "2012-01-03   332.827484   324.966949  ...   7380561.0   331.462585\n",
              "2012-01-04   333.873566   329.076538  ...   5749470.0   332.892242\n",
              "2012-01-05   330.745270   326.889740  ...   6590410.0   328.274536\n",
              "2012-01-06   328.767700   323.681763  ...   5405987.0   323.796326\n",
              "2012-01-09   322.291962   309.455078  ...  11688849.0   310.067780\n",
              "...                 ...          ...  ...         ...          ...\n",
              "2021-05-10  2378.000000  2334.729980  ...   1300300.0  2341.659912\n",
              "2021-05-11  2322.000000  2283.000000  ...   1605500.0  2308.760010\n",
              "2021-05-12  2285.370117  2230.050049  ...   1746700.0  2239.080078\n",
              "2021-05-13  2276.601074  2242.719971  ...   1333500.0  2261.969971\n",
              "2021-05-14  2321.139893  2283.320068  ...   1330100.0  2316.159912\n",
              "\n",
              "[2357 rows x 6 columns]"
            ]
          },
          "metadata": {
            "tags": []
          },
          "execution_count": 87
        }
      ]
    },
    {
      "cell_type": "markdown",
      "metadata": {
        "id": "qKHfkD56gqgW"
      },
      "source": [
        "**STATISTICAL DESCRIPTION OF DATA**"
      ]
    },
    {
      "cell_type": "code",
      "metadata": {
        "colab": {
          "base_uri": "https://localhost:8080/"
        },
        "id": "_mHPDfETgoif",
        "outputId": "831c1eac-6cb6-4622-f72e-28db26d62b21"
      },
      "source": [
        "data.info()"
      ],
      "execution_count": 88,
      "outputs": [
        {
          "output_type": "stream",
          "text": [
            "<class 'pandas.core.frame.DataFrame'>\n",
            "DatetimeIndex: 2357 entries, 2012-01-03 to 2021-05-14\n",
            "Data columns (total 6 columns):\n",
            " #   Column     Non-Null Count  Dtype  \n",
            "---  ------     --------------  -----  \n",
            " 0   High       2357 non-null   float64\n",
            " 1   Low        2357 non-null   float64\n",
            " 2   Open       2357 non-null   float64\n",
            " 3   Close      2357 non-null   float64\n",
            " 4   Volume     2357 non-null   float64\n",
            " 5   Adj Close  2357 non-null   float64\n",
            "dtypes: float64(6)\n",
            "memory usage: 128.9 KB\n"
          ],
          "name": "stdout"
        }
      ]
    },
    {
      "cell_type": "code",
      "metadata": {
        "colab": {
          "base_uri": "https://localhost:8080/",
          "height": 297
        },
        "id": "PiSCbrAnhAdh",
        "outputId": "478542ff-35de-48c2-af77-260024278647"
      },
      "source": [
        "data.describe()"
      ],
      "execution_count": 89,
      "outputs": [
        {
          "output_type": "execute_result",
          "data": {
            "text/html": [
              "<div>\n",
              "<style scoped>\n",
              "    .dataframe tbody tr th:only-of-type {\n",
              "        vertical-align: middle;\n",
              "    }\n",
              "\n",
              "    .dataframe tbody tr th {\n",
              "        vertical-align: top;\n",
              "    }\n",
              "\n",
              "    .dataframe thead th {\n",
              "        text-align: right;\n",
              "    }\n",
              "</style>\n",
              "<table border=\"1\" class=\"dataframe\">\n",
              "  <thead>\n",
              "    <tr style=\"text-align: right;\">\n",
              "      <th></th>\n",
              "      <th>High</th>\n",
              "      <th>Low</th>\n",
              "      <th>Open</th>\n",
              "      <th>Close</th>\n",
              "      <th>Volume</th>\n",
              "      <th>Adj Close</th>\n",
              "    </tr>\n",
              "  </thead>\n",
              "  <tbody>\n",
              "    <tr>\n",
              "      <th>count</th>\n",
              "      <td>2357.000000</td>\n",
              "      <td>2357.000000</td>\n",
              "      <td>2357.000000</td>\n",
              "      <td>2357.000000</td>\n",
              "      <td>2.357000e+03</td>\n",
              "      <td>2357.000000</td>\n",
              "    </tr>\n",
              "    <tr>\n",
              "      <th>mean</th>\n",
              "      <td>877.050800</td>\n",
              "      <td>860.768572</td>\n",
              "      <td>868.768915</td>\n",
              "      <td>869.205254</td>\n",
              "      <td>2.442871e+06</td>\n",
              "      <td>869.205254</td>\n",
              "    </tr>\n",
              "    <tr>\n",
              "      <th>std</th>\n",
              "      <td>446.540001</td>\n",
              "      <td>436.642737</td>\n",
              "      <td>440.992849</td>\n",
              "      <td>441.753869</td>\n",
              "      <td>1.890226e+06</td>\n",
              "      <td>441.753869</td>\n",
              "    </tr>\n",
              "    <tr>\n",
              "      <th>min</th>\n",
              "      <td>281.205963</td>\n",
              "      <td>277.220917</td>\n",
              "      <td>279.123779</td>\n",
              "      <td>278.481171</td>\n",
              "      <td>7.922000e+03</td>\n",
              "      <td>278.481171</td>\n",
              "    </tr>\n",
              "    <tr>\n",
              "      <th>25%</th>\n",
              "      <td>536.789978</td>\n",
              "      <td>528.159912</td>\n",
              "      <td>532.799988</td>\n",
              "      <td>532.926819</td>\n",
              "      <td>1.313600e+06</td>\n",
              "      <td>532.926819</td>\n",
              "    </tr>\n",
              "    <tr>\n",
              "      <th>50%</th>\n",
              "      <td>774.539978</td>\n",
              "      <td>765.380005</td>\n",
              "      <td>770.070007</td>\n",
              "      <td>769.539978</td>\n",
              "      <td>1.764900e+06</td>\n",
              "      <td>769.539978</td>\n",
              "    </tr>\n",
              "    <tr>\n",
              "      <th>75%</th>\n",
              "      <td>1151.587036</td>\n",
              "      <td>1130.939941</td>\n",
              "      <td>1141.739990</td>\n",
              "      <td>1142.319946</td>\n",
              "      <td>3.088300e+06</td>\n",
              "      <td>1142.319946</td>\n",
              "    </tr>\n",
              "    <tr>\n",
              "      <th>max</th>\n",
              "      <td>2452.377930</td>\n",
              "      <td>2402.280029</td>\n",
              "      <td>2410.330078</td>\n",
              "      <td>2429.889893</td>\n",
              "      <td>2.497807e+07</td>\n",
              "      <td>2429.889893</td>\n",
              "    </tr>\n",
              "  </tbody>\n",
              "</table>\n",
              "</div>"
            ],
            "text/plain": [
              "              High          Low  ...        Volume    Adj Close\n",
              "count  2357.000000  2357.000000  ...  2.357000e+03  2357.000000\n",
              "mean    877.050800   860.768572  ...  2.442871e+06   869.205254\n",
              "std     446.540001   436.642737  ...  1.890226e+06   441.753869\n",
              "min     281.205963   277.220917  ...  7.922000e+03   278.481171\n",
              "25%     536.789978   528.159912  ...  1.313600e+06   532.926819\n",
              "50%     774.539978   765.380005  ...  1.764900e+06   769.539978\n",
              "75%    1151.587036  1130.939941  ...  3.088300e+06  1142.319946\n",
              "max    2452.377930  2402.280029  ...  2.497807e+07  2429.889893\n",
              "\n",
              "[8 rows x 6 columns]"
            ]
          },
          "metadata": {
            "tags": []
          },
          "execution_count": 89
        }
      ]
    },
    {
      "cell_type": "code",
      "metadata": {
        "colab": {
          "base_uri": "https://localhost:8080/"
        },
        "id": "SvkqOyaohEXo",
        "outputId": "c7785ce0-a697-40cd-9091-3ddd757c3215"
      },
      "source": [
        "data.columns"
      ],
      "execution_count": 5,
      "outputs": [
        {
          "output_type": "execute_result",
          "data": {
            "text/plain": [
              "Index(['High', 'Low', 'Open', 'Close', 'Volume', 'Adj Close'], dtype='object')"
            ]
          },
          "metadata": {
            "tags": []
          },
          "execution_count": 5
        }
      ]
    },
    {
      "cell_type": "code",
      "metadata": {
        "colab": {
          "base_uri": "https://localhost:8080/",
          "height": 235
        },
        "id": "49LQc1u00VXO",
        "outputId": "b0b5a9f3-30c7-4fdc-e1c9-14d625d98002"
      },
      "source": [
        "data.corr()"
      ],
      "execution_count": 6,
      "outputs": [
        {
          "output_type": "execute_result",
          "data": {
            "text/html": [
              "<div>\n",
              "<style scoped>\n",
              "    .dataframe tbody tr th:only-of-type {\n",
              "        vertical-align: middle;\n",
              "    }\n",
              "\n",
              "    .dataframe tbody tr th {\n",
              "        vertical-align: top;\n",
              "    }\n",
              "\n",
              "    .dataframe thead th {\n",
              "        text-align: right;\n",
              "    }\n",
              "</style>\n",
              "<table border=\"1\" class=\"dataframe\">\n",
              "  <thead>\n",
              "    <tr style=\"text-align: right;\">\n",
              "      <th></th>\n",
              "      <th>High</th>\n",
              "      <th>Low</th>\n",
              "      <th>Open</th>\n",
              "      <th>Close</th>\n",
              "      <th>Volume</th>\n",
              "      <th>Adj Close</th>\n",
              "    </tr>\n",
              "  </thead>\n",
              "  <tbody>\n",
              "    <tr>\n",
              "      <th>High</th>\n",
              "      <td>1.000000</td>\n",
              "      <td>0.999721</td>\n",
              "      <td>0.999819</td>\n",
              "      <td>0.999790</td>\n",
              "      <td>-0.444048</td>\n",
              "      <td>0.999790</td>\n",
              "    </tr>\n",
              "    <tr>\n",
              "      <th>Low</th>\n",
              "      <td>0.999721</td>\n",
              "      <td>1.000000</td>\n",
              "      <td>0.999775</td>\n",
              "      <td>0.999821</td>\n",
              "      <td>-0.450985</td>\n",
              "      <td>0.999821</td>\n",
              "    </tr>\n",
              "    <tr>\n",
              "      <th>Open</th>\n",
              "      <td>0.999819</td>\n",
              "      <td>0.999775</td>\n",
              "      <td>1.000000</td>\n",
              "      <td>0.999595</td>\n",
              "      <td>-0.446980</td>\n",
              "      <td>0.999595</td>\n",
              "    </tr>\n",
              "    <tr>\n",
              "      <th>Close</th>\n",
              "      <td>0.999790</td>\n",
              "      <td>0.999821</td>\n",
              "      <td>0.999595</td>\n",
              "      <td>1.000000</td>\n",
              "      <td>-0.448028</td>\n",
              "      <td>1.000000</td>\n",
              "    </tr>\n",
              "    <tr>\n",
              "      <th>Volume</th>\n",
              "      <td>-0.444048</td>\n",
              "      <td>-0.450985</td>\n",
              "      <td>-0.446980</td>\n",
              "      <td>-0.448028</td>\n",
              "      <td>1.000000</td>\n",
              "      <td>-0.448028</td>\n",
              "    </tr>\n",
              "    <tr>\n",
              "      <th>Adj Close</th>\n",
              "      <td>0.999790</td>\n",
              "      <td>0.999821</td>\n",
              "      <td>0.999595</td>\n",
              "      <td>1.000000</td>\n",
              "      <td>-0.448028</td>\n",
              "      <td>1.000000</td>\n",
              "    </tr>\n",
              "  </tbody>\n",
              "</table>\n",
              "</div>"
            ],
            "text/plain": [
              "               High       Low      Open     Close    Volume  Adj Close\n",
              "High       1.000000  0.999721  0.999819  0.999790 -0.444048   0.999790\n",
              "Low        0.999721  1.000000  0.999775  0.999821 -0.450985   0.999821\n",
              "Open       0.999819  0.999775  1.000000  0.999595 -0.446980   0.999595\n",
              "Close      0.999790  0.999821  0.999595  1.000000 -0.448028   1.000000\n",
              "Volume    -0.444048 -0.450985 -0.446980 -0.448028  1.000000  -0.448028\n",
              "Adj Close  0.999790  0.999821  0.999595  1.000000 -0.448028   1.000000"
            ]
          },
          "metadata": {
            "tags": []
          },
          "execution_count": 6
        }
      ]
    },
    {
      "cell_type": "markdown",
      "metadata": {
        "id": "gqgwcpX2Qxqi"
      },
      "source": [
        "Overall, the adjusted closing price will give you a better idea of the overall value of the stock and help you make informed decisions about buying and selling, while the closing stock price will tell you the exact cash value of a share of stock at the end of the trading day."
      ]
    },
    {
      "cell_type": "code",
      "metadata": {
        "id": "pUetWTGIhIvx"
      },
      "source": [
        "df = pd.DataFrame(data, columns=['Adj Close'])\n",
        "df = df.reset_index()"
      ],
      "execution_count": 91,
      "outputs": []
    },
    {
      "cell_type": "code",
      "metadata": {
        "colab": {
          "base_uri": "https://localhost:8080/",
          "height": 204
        },
        "id": "j2YskMM0iClG",
        "outputId": "253c1c12-079d-4b94-a266-4fe45236aa6e"
      },
      "source": [
        "df.head()"
      ],
      "execution_count": 8,
      "outputs": [
        {
          "output_type": "execute_result",
          "data": {
            "text/html": [
              "<div>\n",
              "<style scoped>\n",
              "    .dataframe tbody tr th:only-of-type {\n",
              "        vertical-align: middle;\n",
              "    }\n",
              "\n",
              "    .dataframe tbody tr th {\n",
              "        vertical-align: top;\n",
              "    }\n",
              "\n",
              "    .dataframe thead th {\n",
              "        text-align: right;\n",
              "    }\n",
              "</style>\n",
              "<table border=\"1\" class=\"dataframe\">\n",
              "  <thead>\n",
              "    <tr style=\"text-align: right;\">\n",
              "      <th></th>\n",
              "      <th>Date</th>\n",
              "      <th>Adj Close</th>\n",
              "    </tr>\n",
              "  </thead>\n",
              "  <tbody>\n",
              "    <tr>\n",
              "      <th>0</th>\n",
              "      <td>2012-01-03</td>\n",
              "      <td>331.462585</td>\n",
              "    </tr>\n",
              "    <tr>\n",
              "      <th>1</th>\n",
              "      <td>2012-01-04</td>\n",
              "      <td>332.892242</td>\n",
              "    </tr>\n",
              "    <tr>\n",
              "      <th>2</th>\n",
              "      <td>2012-01-05</td>\n",
              "      <td>328.274536</td>\n",
              "    </tr>\n",
              "    <tr>\n",
              "      <th>3</th>\n",
              "      <td>2012-01-06</td>\n",
              "      <td>323.796326</td>\n",
              "    </tr>\n",
              "    <tr>\n",
              "      <th>4</th>\n",
              "      <td>2012-01-09</td>\n",
              "      <td>310.067780</td>\n",
              "    </tr>\n",
              "  </tbody>\n",
              "</table>\n",
              "</div>"
            ],
            "text/plain": [
              "        Date   Adj Close\n",
              "0 2012-01-03  331.462585\n",
              "1 2012-01-04  332.892242\n",
              "2 2012-01-05  328.274536\n",
              "3 2012-01-06  323.796326\n",
              "4 2012-01-09  310.067780"
            ]
          },
          "metadata": {
            "tags": []
          },
          "execution_count": 8
        }
      ]
    },
    {
      "cell_type": "code",
      "metadata": {
        "colab": {
          "base_uri": "https://localhost:8080/"
        },
        "id": "DoLPyygziF8_",
        "outputId": "b70741ad-ccbb-40fe-ad8b-5b6f1e288eee"
      },
      "source": [
        "df.info()"
      ],
      "execution_count": 9,
      "outputs": [
        {
          "output_type": "stream",
          "text": [
            "<class 'pandas.core.frame.DataFrame'>\n",
            "RangeIndex: 2357 entries, 0 to 2356\n",
            "Data columns (total 2 columns):\n",
            " #   Column     Non-Null Count  Dtype         \n",
            "---  ------     --------------  -----         \n",
            " 0   Date       2357 non-null   datetime64[ns]\n",
            " 1   Adj Close  2357 non-null   float64       \n",
            "dtypes: datetime64[ns](1), float64(1)\n",
            "memory usage: 37.0 KB\n"
          ],
          "name": "stdout"
        }
      ]
    },
    {
      "cell_type": "code",
      "metadata": {
        "colab": {
          "base_uri": "https://localhost:8080/"
        },
        "id": "-k8CwYEKiJu6",
        "outputId": "91c12d25-67b3-4dff-aef8-e2f3eb809fbf"
      },
      "source": [
        "df.isna().values.any()"
      ],
      "execution_count": 10,
      "outputs": [
        {
          "output_type": "execute_result",
          "data": {
            "text/plain": [
              "False"
            ]
          },
          "metadata": {
            "tags": []
          },
          "execution_count": 10
        }
      ]
    },
    {
      "cell_type": "markdown",
      "metadata": {
        "id": "0QaArmZHiQZr"
      },
      "source": [
        "**VISUALIZATION OF DATA**"
      ]
    },
    {
      "cell_type": "markdown",
      "metadata": {
        "id": "-aktQX7JiUxi"
      },
      "source": [
        "1. Box Plot"
      ]
    },
    {
      "cell_type": "code",
      "metadata": {
        "colab": {
          "base_uri": "https://localhost:8080/",
          "height": 425
        },
        "id": "2bkZfuQ3iMcD",
        "outputId": "a591c966-105a-4df4-d4c2-04ee8168ec58"
      },
      "source": [
        "import seaborn as sns\n",
        "plt.figure(figsize=(20,7))\n",
        "boxplot = data.boxplot(column=['High', 'Low', 'Open','Close','Adj Close'])"
      ],
      "execution_count": 11,
      "outputs": [
        {
          "output_type": "display_data",
          "data": {
            "image/png": "[encoded data removed]",
            "text/plain": [
              "<Figure size 1440x504 with 1 Axes>"
            ]
          },
          "metadata": {
            "tags": [],
            "needs_background": "light"
          }
        }
      ]
    },
    {
      "cell_type": "code",
      "metadata": {
        "colab": {
          "base_uri": "https://localhost:8080/",
          "height": 293
        },
        "id": "z-A-fGAn_Vo4",
        "outputId": "fce5c0b8-696f-4e56-87e3-c66ed5b42add"
      },
      "source": [
        "d = pd.DataFrame(data)\n",
        "import seaborn as sns\n",
        "sns.boxplot(x=d['Volume'])"
      ],
      "execution_count": 12,
      "outputs": [
        {
          "output_type": "execute_result",
          "data": {
            "text/plain": [
              "<matplotlib.axes._subplots.AxesSubplot at 0x7f4ca6d7de50>"
            ]
          },
          "metadata": {
            "tags": []
          },
          "execution_count": 12
        },
        {
          "output_type": "display_data",
          "data": {
            "image/png": "[encoded data removed]",
            "text/plain": [
              "<Figure size 432x288 with 1 Axes>"
            ]
          },
          "metadata": {
            "tags": [],
            "needs_background": "light"
          }
        }
      ]
    },
    {
      "cell_type": "markdown",
      "metadata": {
        "id": "0PLu3eDE_Z-g"
      },
      "source": [
        "This shows that the volume column contains lot of outlier values which might affect the results of prediction. Hence we remove the volume column itself as part of outlier elimination."
      ]
    },
    {
      "cell_type": "markdown",
      "metadata": {
        "id": "DBez9akgi9jG"
      },
      "source": [
        "2. Visualization of Adjusted Close Price vs Data"
      ]
    },
    {
      "cell_type": "code",
      "metadata": {
        "colab": {
          "base_uri": "https://localhost:8080/",
          "height": 581
        },
        "id": "WUwHqrTIjIbz",
        "outputId": "b6288951-97fa-4d5f-8bf5-65ffc01190f9"
      },
      "source": [
        "import matplotlib.dates as mdates\n",
        "\n",
        "years = mdates.YearLocator() # Get every year\n",
        "yearsFmt = mdates.DateFormatter('%Y') # Set year format\n",
        "\n",
        "# Create subplots to plot graph and control axes\n",
        "fig, ax = plt.subplots()\n",
        "ax.plot(df['Date'], df['Adj Close'])\n",
        "\n",
        "# Format the ticks\n",
        "ax.xaxis.set_major_locator(years)\n",
        "ax.xaxis.set_major_formatter(yearsFmt)\n",
        "\n",
        "# Set figure title\n",
        "plt.title('Adjusted Close Stock Price History [2012 - 2021] For Google Data', fontsize=16)\n",
        "# Set x label\n",
        "plt.xlabel('Date', fontsize=14)\n",
        "# Set y label\n",
        "plt.ylabel('Adjusted Closing Stock Price in $', fontsize=14)\n",
        "\n",
        "# Rotate and align the x labels\n",
        "fig.autofmt_xdate()\n",
        "\n",
        "# Show plot\n",
        "plt.show()"
      ],
      "execution_count": 92,
      "outputs": [
        {
          "output_type": "display_data",
          "data": {
            "image/png": "[encoded data removed]",
            "text/plain": [
              "<Figure size 1152x720 with 1 Axes>"
            ]
          },
          "metadata": {
            "tags": []
          }
        }
      ]
    },
    {
      "cell_type": "markdown",
      "metadata": {
        "id": "CYllwPwZ0gdy"
      },
      "source": [
        "3. CORRELATION BETWEEN VARIABLES"
      ]
    },
    {
      "cell_type": "code",
      "metadata": {
        "colab": {
          "base_uri": "https://localhost:8080/",
          "height": 1000
        },
        "id": "7qwWpY7y0gEA",
        "outputId": "21404214-5c2e-429f-c84e-033f35fdb7a5"
      },
      "source": [
        "correlation=data.corr()\n",
        "\n",
        "plt.figure(figsize=(25, 25))\n",
        "sns.heatmap(correlation, cbar = True,  square = True, annot=True, fmt= '.2f',annot_kws={'size': 15},\n",
        "           cmap= 'coolwarm')\n",
        "plt.title('Correlation between features')"
      ],
      "execution_count": null,
      "outputs": [
        {
          "output_type": "execute_result",
          "data": {
            "text/plain": [
              "Text(0.5, 1.0, 'Correlation between features')"
            ]
          },
          "metadata": {
            "tags": []
          },
          "execution_count": 15
        },
        {
          "output_type": "display_data",
          "data": {
            "image/png": "[encoded data removed]",
            "text/plain": [
              "<Figure size 1800x1800 with 2 Axes>"
            ]
          },
          "metadata": {
            "tags": [],
            "needs_background": "light"
          }
        }
      ]
    },
    {
      "cell_type": "markdown",
      "metadata": {
        "id": "upNIfn8wk6sA"
      },
      "source": [
        "**PREDICTING THE ACCURACY OF PREDICTION OF STOCK PRICES USING ML AND DEEP LEARNING**"
      ]
    },
    {
      "cell_type": "markdown",
      "metadata": {
        "id": "ch94e_aKlIFq"
      },
      "source": [
        "1. PREDICTION USING LINEAR REGRESSION"
      ]
    },
    {
      "cell_type": "code",
      "metadata": {
        "colab": {
          "base_uri": "https://localhost:8080/"
        },
        "id": "PNQDax24kz7A",
        "outputId": "e50d6a01-20c8-41e4-f85e-c2538ef3c26a"
      },
      "source": [
        "from sklearn.model_selection import train_test_split\n",
        "train, test = train_test_split(df, test_size=0.20)\n",
        "from sklearn.linear_model import LinearRegression\n",
        "X_train = np.array(train.index).reshape(-1, 1)\n",
        "y_train = train['Adj Close']\n",
        "model = LinearRegression()\n",
        "# Fit linear model using the train data set\n",
        "model.fit(X_train, y_train)\n"
      ],
      "execution_count": 13,
      "outputs": [
        {
          "output_type": "execute_result",
          "data": {
            "text/plain": [
              "LinearRegression(copy_X=True, fit_intercept=True, n_jobs=None, normalize=False)"
            ]
          },
          "metadata": {
            "tags": []
          },
          "execution_count": 13
        }
      ]
    },
    {
      "cell_type": "code",
      "metadata": {
        "colab": {
          "base_uri": "https://localhost:8080/"
        },
        "id": "HBOT9PPMmAY9",
        "outputId": "de40024b-f14e-4647-80b6-d4f2c0b79d22"
      },
      "source": [
        "print('Slope: ', np.asscalar(np.squeeze(model.coef_)))\n",
        "# The Intercept\n",
        "print('Intercept: ', model.intercept_)"
      ],
      "execution_count": 14,
      "outputs": [
        {
          "output_type": "stream",
          "text": [
            "Slope:  0.609442086031141\n",
            "Intercept:  152.83929880694916\n"
          ],
          "name": "stdout"
        },
        {
          "output_type": "stream",
          "text": [
            "/usr/local/lib/python3.7/dist-packages/ipykernel_launcher.py:1: DeprecationWarning: np.asscalar(a) is deprecated since NumPy v1.16, use a.item() instead\n",
            "  \"\"\"Entry point for launching an IPython kernel.\n"
          ],
          "name": "stderr"
        }
      ]
    },
    {
      "cell_type": "code",
      "metadata": {
        "colab": {
          "base_uri": "https://localhost:8080/",
          "height": 617
        },
        "id": "lt-M7CN1mDkS",
        "outputId": "7495d267-1d6b-43c2-aaab-d564ead7b20f"
      },
      "source": [
        "plt.figure(1, figsize=(16,10))\n",
        "plt.title('Linear Regression | Price vs Time')\n",
        "plt.scatter(X_train, y_train, edgecolor='w', label='Actual Price')\n",
        "plt.plot(X_train, model.predict(X_train), color='r', label='Predicted Price')\n",
        "plt.xlabel('Integer Date')\n",
        "plt.ylabel('Stock Price')\n",
        "plt.legend()\n",
        "plt.show()"
      ],
      "execution_count": 15,
      "outputs": [
        {
          "output_type": "display_data",
          "data": {
            "image/png": "[encoded data removed]",
            "text/plain": [
              "<Figure size 1152x720 with 1 Axes>"
            ]
          },
          "metadata": {
            "tags": [],
            "needs_background": "light"
          }
        }
      ]
    },
    {
      "cell_type": "code",
      "metadata": {
        "colab": {
          "base_uri": "https://localhost:8080/"
        },
        "id": "Pn0a6qF9mJ6M",
        "outputId": "ab6629a3-c0bd-4528-917c-5340bb28aa1a"
      },
      "source": [
        "X_test = np.array(test.index).reshape(-1, 1)\n",
        "y_test = test['Adj Close']\n",
        "y_pred = model.predict(X_test)\n",
        "dfr=pd.DataFrame({'Actual Price':y_test,'Predicted Price':y_pred})\n",
        "print(dfr)"
      ],
      "execution_count": 16,
      "outputs": [
        {
          "output_type": "stream",
          "text": [
            "      Actual Price  Predicted Price\n",
            "1792   1118.560059      1244.959517\n",
            "1521   1137.510010      1079.800712\n",
            "906     660.780029       704.993829\n",
            "731     540.346497       598.341464\n",
            "1903   1239.410034      1312.607589\n",
            "...            ...              ...\n",
            "1718   1036.209961      1199.860803\n",
            "1807   1193.199951      1254.101148\n",
            "1673   1241.819946      1172.435909\n",
            "1484   1040.609985      1057.251354\n",
            "1939   1232.410034      1334.547504\n",
            "\n",
            "[472 rows x 2 columns]\n"
          ],
          "name": "stdout"
        }
      ]
    },
    {
      "cell_type": "markdown",
      "metadata": {
        "id": "q-0ka_QCmZKO"
      },
      "source": [
        "1.1 Calculating the accuracy of the prediction"
      ]
    },
    {
      "cell_type": "code",
      "metadata": {
        "colab": {
          "base_uri": "https://localhost:8080/"
        },
        "id": "71s3aPxhmWqs",
        "outputId": "01cf34c4-d892-43c8-a83b-9c487670ff18"
      },
      "source": [
        "from sklearn import metrics\n",
        "import math\n",
        "rmse_linear=math.sqrt(metrics.mean_squared_error(y_test,y_pred))\n",
        "accuracy_linear=model.score(X_test,y_test)\n",
        "\n",
        "print(\"Root mean square error= \",rmse_linear)\n",
        "print(\"Accuracy Score= \",accuracy_linear*100)"
      ],
      "execution_count": 17,
      "outputs": [
        {
          "output_type": "stream",
          "text": [
            "Root mean square error=  152.45320843141187\n",
            "Accuracy Score=  87.96219669390433\n"
          ],
          "name": "stdout"
        }
      ]
    },
    {
      "cell_type": "markdown",
      "metadata": {
        "id": "I_LI1izjm7pP"
      },
      "source": [
        "1.2 Graphichal prediction "
      ]
    },
    {
      "cell_type": "code",
      "metadata": {
        "colab": {
          "base_uri": "https://localhost:8080/",
          "height": 454
        },
        "id": "wgr_Wuqtm7Af",
        "outputId": "86ed464b-f72f-4867-adbd-6a8a6f62b666"
      },
      "source": [
        "graph=dfr.head(20)\n",
        "graph.plot(kind='bar',figsize=(20,7))"
      ],
      "execution_count": 18,
      "outputs": [
        {
          "output_type": "execute_result",
          "data": {
            "text/plain": [
              "<matplotlib.axes._subplots.AxesSubplot at 0x7f4ca0aa3250>"
            ]
          },
          "metadata": {
            "tags": []
          },
          "execution_count": 18
        },
        {
          "output_type": "display_data",
          "data": {
            "image/png": "[encoded data removed]",
            "text/plain": [
              "<Figure size 1440x504 with 1 Axes>"
            ]
          },
          "metadata": {
            "tags": [],
            "needs_background": "light"
          }
        }
      ]
    },
    {
      "cell_type": "markdown",
      "metadata": {
        "id": "aBVX6UxenbLb"
      },
      "source": [
        "2.PREDICTION USING KNN"
      ]
    },
    {
      "cell_type": "code",
      "metadata": {
        "colab": {
          "base_uri": "https://localhost:8080/"
        },
        "id": "JL4ATZldnf5Z",
        "outputId": "ccce4097-befe-4489-90a6-b37ccd9fd8c1"
      },
      "source": [
        "from sklearn.model_selection import train_test_split\n",
        "from sklearn.neighbors import KNeighborsRegressor\n",
        "train, test = train_test_split(df, test_size=0.20)\n",
        "X_train = np.array(train.index).reshape(-1, 1)\n",
        "y_train = train['Adj Close']\n",
        "model = KNeighborsRegressor()\n",
        "model.fit(X_train, y_train)\n"
      ],
      "execution_count": 19,
      "outputs": [
        {
          "output_type": "execute_result",
          "data": {
            "text/plain": [
              "KNeighborsRegressor(algorithm='auto', leaf_size=30, metric='minkowski',\n",
              "                    metric_params=None, n_jobs=None, n_neighbors=5, p=2,\n",
              "                    weights='uniform')"
            ]
          },
          "metadata": {
            "tags": []
          },
          "execution_count": 19
        }
      ]
    },
    {
      "cell_type": "code",
      "metadata": {
        "colab": {
          "base_uri": "https://localhost:8080/"
        },
        "id": "WCcVshvuoZMn",
        "outputId": "02bd42c0-be7c-4911-e5eb-96e45b177487"
      },
      "source": [
        "X_test = np.array(test.index).reshape(-1, 1)\n",
        "y_test = test['Adj Close']\n",
        "y_pred = model.predict(X_test)\n",
        "dfr=pd.DataFrame({'Actual Price':y_test,'Predicted Price':y_pred})\n",
        "print(dfr)"
      ],
      "execution_count": 20,
      "outputs": [
        {
          "output_type": "stream",
          "text": [
            "      Actual Price  Predicted Price\n",
            "2151   1568.489990      1523.058008\n",
            "1303    838.679993       839.512000\n",
            "460     513.365784       512.213092\n",
            "37      303.517334       306.356696\n",
            "1985   1301.349976      1317.413989\n",
            "...            ...              ...\n",
            "1257    771.820007       786.980005\n",
            "1227    764.479980       761.367993\n",
            "60      322.994324       321.340533\n",
            "1195    772.559998       777.265991\n",
            "1236    758.039978       759.835999\n",
            "\n",
            "[472 rows x 2 columns]\n"
          ],
          "name": "stdout"
        }
      ]
    },
    {
      "cell_type": "markdown",
      "metadata": {
        "id": "rMGv7E7AokfQ"
      },
      "source": [
        "2.1 Calculating the Accuracy"
      ]
    },
    {
      "cell_type": "code",
      "metadata": {
        "colab": {
          "base_uri": "https://localhost:8080/"
        },
        "id": "WRKJ9xCdoiab",
        "outputId": "7cb16b4d-69ba-47f5-93c0-f1651ed42a6c"
      },
      "source": [
        "from sklearn import metrics\n",
        "import math\n",
        "rmse_knn=math.sqrt(metrics.mean_squared_error(y_test,y_pred))\n",
        "accuracy_knn=model.score(X_test,y_test) #Accuracy Score\n",
        "\n",
        "print(\"Root mean square error= \",rmse_knn)\n",
        "print(\"Accurcy Score= \",accuracy_knn*100)"
      ],
      "execution_count": 21,
      "outputs": [
        {
          "output_type": "stream",
          "text": [
            "Root mean square error=  15.823945485615955\n",
            "Accurcy Score=  99.87253597638369\n"
          ],
          "name": "stdout"
        }
      ]
    },
    {
      "cell_type": "markdown",
      "metadata": {
        "id": "_GK4UrZmpG44"
      },
      "source": [
        "2.2 Graphical Representation"
      ]
    },
    {
      "cell_type": "code",
      "metadata": {
        "colab": {
          "base_uri": "https://localhost:8080/",
          "height": 454
        },
        "id": "dJaXm6fopGSh",
        "outputId": "5efeb872-0a17-40be-e0fb-8fac78df3c15"
      },
      "source": [
        "graph=dfr.head(20)\n",
        "graph.plot(kind='bar',figsize=(20,7))"
      ],
      "execution_count": 22,
      "outputs": [
        {
          "output_type": "execute_result",
          "data": {
            "text/plain": [
              "<matplotlib.axes._subplots.AxesSubplot at 0x7f4c9e52b650>"
            ]
          },
          "metadata": {
            "tags": []
          },
          "execution_count": 22
        },
        {
          "output_type": "display_data",
          "data": {
            "image/png": "[encoded data removed]",
            "text/plain": [
              "<Figure size 1440x504 with 1 Axes>"
            ]
          },
          "metadata": {
            "tags": [],
            "needs_background": "light"
          }
        }
      ]
    },
    {
      "cell_type": "markdown",
      "metadata": {
        "id": "bBW-3UXcpvQ2"
      },
      "source": [
        "3.PREDICTION USING DECISION TREE REGRESSOR"
      ]
    },
    {
      "cell_type": "code",
      "metadata": {
        "colab": {
          "base_uri": "https://localhost:8080/"
        },
        "id": "weGIDEeFppmO",
        "outputId": "35ccd639-d804-4189-d4de-1be2ab939f3b"
      },
      "source": [
        "from sklearn.model_selection import train_test_split\n",
        "from sklearn.tree import DecisionTreeRegressor\n",
        "train, test = train_test_split(df, test_size=0.20)\n",
        "X_train = np.array(train.index).reshape(-1, 1)\n",
        "y_train = train['Adj Close']\n",
        "model =DecisionTreeRegressor ()\n",
        "model.fit(X_train, y_train)"
      ],
      "execution_count": 23,
      "outputs": [
        {
          "output_type": "execute_result",
          "data": {
            "text/plain": [
              "DecisionTreeRegressor(ccp_alpha=0.0, criterion='mse', max_depth=None,\n",
              "                      max_features=None, max_leaf_nodes=None,\n",
              "                      min_impurity_decrease=0.0, min_impurity_split=None,\n",
              "                      min_samples_leaf=1, min_samples_split=2,\n",
              "                      min_weight_fraction_leaf=0.0, presort='deprecated',\n",
              "                      random_state=None, splitter='best')"
            ]
          },
          "metadata": {
            "tags": []
          },
          "execution_count": 23
        }
      ]
    },
    {
      "cell_type": "code",
      "metadata": {
        "colab": {
          "base_uri": "https://localhost:8080/"
        },
        "id": "U1-zlzD6r3BC",
        "outputId": "167468aa-1d8b-4f3b-b7ce-9254486854b9"
      },
      "source": [
        "X_test = np.array(test.index).reshape(-1, 1)\n",
        "y_test = test['Adj Close']\n",
        "y_pred = model.predict(X_test)\n",
        "dfr=pd.DataFrame({'Actual Price':y_test,'Predicted Price':y_pred})\n",
        "print(dfr)"
      ],
      "execution_count": 24,
      "outputs": [
        {
          "output_type": "stream",
          "text": [
            "      Actual Price  Predicted Price\n",
            "1153    773.179993       771.070007\n",
            "81      301.295685       306.341766\n",
            "1164    777.500000       779.909973\n",
            "2284   1901.349976      1927.510010\n",
            "1741   1106.430054      1050.819946\n",
            "...            ...              ...\n",
            "14      289.380341       291.666748\n",
            "1187    776.219971       771.409973\n",
            "1282    806.969971       801.340027\n",
            "2017   1419.829956      1404.319946\n",
            "1891   1144.209961      1144.900024\n",
            "\n",
            "[472 rows x 2 columns]\n"
          ],
          "name": "stdout"
        }
      ]
    },
    {
      "cell_type": "markdown",
      "metadata": {
        "id": "IyIRX5k6r-dZ"
      },
      "source": [
        "3.1 Calculating the Accuracy"
      ]
    },
    {
      "cell_type": "code",
      "metadata": {
        "colab": {
          "base_uri": "https://localhost:8080/"
        },
        "id": "IgFlk9FSr72D",
        "outputId": "6971191c-af56-44c9-807f-c48075601519"
      },
      "source": [
        "from sklearn import metrics\n",
        "import math\n",
        "rmse_dt=math.sqrt(metrics.mean_squared_error(y_test,y_pred))\n",
        "accuracy_dt=model.score(X_test,y_test) #Accuracy Score\n",
        "\n",
        "print(\"Root mean square error= \",rmse_dt)\n",
        "print(\"Accurcy Score= \",accuracy_dt*100)"
      ],
      "execution_count": 25,
      "outputs": [
        {
          "output_type": "stream",
          "text": [
            "Root mean square error=  16.79007094237889\n",
            "Accurcy Score=  99.8563034258301\n"
          ],
          "name": "stdout"
        }
      ]
    },
    {
      "cell_type": "markdown",
      "metadata": {
        "id": "bxBoGDMHsJfe"
      },
      "source": [
        "3.2 Graphical Representation"
      ]
    },
    {
      "cell_type": "code",
      "metadata": {
        "colab": {
          "base_uri": "https://localhost:8080/",
          "height": 454
        },
        "id": "EMM_aXUssIuf",
        "outputId": "2814ad5e-06b3-461a-c398-7ff7de8fe8aa"
      },
      "source": [
        "graph=dfr.head(20)\n",
        "graph.plot(kind='bar',figsize=(20,7))"
      ],
      "execution_count": 26,
      "outputs": [
        {
          "output_type": "execute_result",
          "data": {
            "text/plain": [
              "<matplotlib.axes._subplots.AxesSubplot at 0x7f4c9d638a90>"
            ]
          },
          "metadata": {
            "tags": []
          },
          "execution_count": 26
        },
        {
          "output_type": "display_data",
          "data": {
            "image/png": "[encoded data removed]",
            "text/plain": [
              "<Figure size 1440x504 with 1 Axes>"
            ]
          },
          "metadata": {
            "tags": [],
            "needs_background": "light"
          }
        }
      ]
    },
    {
      "cell_type": "markdown",
      "metadata": {
        "id": "ePgP-uv8sXt6"
      },
      "source": [
        "4.PREDICTION USING LASSO"
      ]
    },
    {
      "cell_type": "code",
      "metadata": {
        "colab": {
          "base_uri": "https://localhost:8080/"
        },
        "id": "I5g-gNsJsXMn",
        "outputId": "be43c332-0107-4661-8563-e3889a0a6ff5"
      },
      "source": [
        "from sklearn.model_selection import train_test_split\n",
        "train, test = train_test_split(df, test_size=0.20)\n",
        "from sklearn.linear_model import Lasso\n",
        "X_train = np.array(train.index).reshape(-1, 1)\n",
        "y_train = train['Adj Close']\n",
        "model = Lasso()\n",
        "# Fit linear model using the train data set\n",
        "model.fit(X_train, y_train)"
      ],
      "execution_count": 27,
      "outputs": [
        {
          "output_type": "execute_result",
          "data": {
            "text/plain": [
              "Lasso(alpha=1.0, copy_X=True, fit_intercept=True, max_iter=1000,\n",
              "      normalize=False, positive=False, precompute=False, random_state=None,\n",
              "      selection='cyclic', tol=0.0001, warm_start=False)"
            ]
          },
          "metadata": {
            "tags": []
          },
          "execution_count": 27
        }
      ]
    },
    {
      "cell_type": "code",
      "metadata": {
        "colab": {
          "base_uri": "https://localhost:8080/"
        },
        "id": "27EKOBFatMMK",
        "outputId": "529f7bb2-2c9b-4b70-eb7b-0d920900f8b6"
      },
      "source": [
        "X_test = np.array(test.index).reshape(-1, 1)\n",
        "y_test = test['Adj Close']\n",
        "y_pred = model.predict(X_test)\n",
        "dfr=pd.DataFrame({'Actual Price':y_test,'Predicted Price':y_pred})\n",
        "print(dfr)"
      ],
      "execution_count": 28,
      "outputs": [
        {
          "output_type": "stream",
          "text": [
            "      Actual Price  Predicted Price\n",
            "806     556.462219       641.766264\n",
            "1980   1311.459961      1356.306016\n",
            "301     402.386749       334.404616\n",
            "1465   1019.270020      1042.857999\n",
            "766     516.621643       617.420787\n",
            "...            ...              ...\n",
            "1828   1202.160034      1263.793203\n",
            "2347   2395.169922      1579.675768\n",
            "1592   1024.380005      1120.154889\n",
            "1415    910.979980      1012.426153\n",
            "1613   1119.500000      1132.936264\n",
            "\n",
            "[472 rows x 2 columns]\n"
          ],
          "name": "stdout"
        }
      ]
    },
    {
      "cell_type": "markdown",
      "metadata": {
        "id": "xtyjIqpTtSSk"
      },
      "source": [
        "4.1 Calculating the Accuracy"
      ]
    },
    {
      "cell_type": "code",
      "metadata": {
        "colab": {
          "base_uri": "https://localhost:8080/"
        },
        "id": "9ClH2QzNtRts",
        "outputId": "07b37e69-076f-48ea-a802-f2dbb6be76cf"
      },
      "source": [
        "from sklearn import metrics\n",
        "import math\n",
        "rmse_lasso=math.sqrt(metrics.mean_squared_error(y_test,y_pred))\n",
        "accuracy_lasso=model.score(X_test,y_test) #Accuracy Score\n",
        "\n",
        "print(\"Root mean square error= \",rmse_lasso)\n",
        "print(\"Accurcy Score= \",accuracy_lasso*100)"
      ],
      "execution_count": 29,
      "outputs": [
        {
          "output_type": "stream",
          "text": [
            "Root mean square error=  153.27891707019504\n",
            "Accurcy Score=  88.23475100807417\n"
          ],
          "name": "stdout"
        }
      ]
    },
    {
      "cell_type": "markdown",
      "metadata": {
        "id": "YMY-VUe3txTo"
      },
      "source": [
        "4.2 Graphical Representation"
      ]
    },
    {
      "cell_type": "code",
      "metadata": {
        "colab": {
          "base_uri": "https://localhost:8080/",
          "height": 454
        },
        "id": "M2z5DspatgGN",
        "outputId": "67c7028e-4c1a-4da6-bb50-b26ea893711b"
      },
      "source": [
        "graph=dfr.head(20)\n",
        "graph.plot(kind='bar',figsize=(20,7))"
      ],
      "execution_count": 30,
      "outputs": [
        {
          "output_type": "execute_result",
          "data": {
            "text/plain": [
              "<matplotlib.axes._subplots.AxesSubplot at 0x7f4c9d4dbd90>"
            ]
          },
          "metadata": {
            "tags": []
          },
          "execution_count": 30
        },
        {
          "output_type": "display_data",
          "data": {
            "image/png": "[encoded data removed]",
            "text/plain": [
              "<Figure size 1440x504 with 1 Axes>"
            ]
          },
          "metadata": {
            "tags": [],
            "needs_background": "light"
          }
        }
      ]
    },
    {
      "cell_type": "markdown",
      "metadata": {
        "id": "G3sCGf8pt6VG"
      },
      "source": [
        "5. PREDICTION USING ELASTIC NET"
      ]
    },
    {
      "cell_type": "code",
      "metadata": {
        "colab": {
          "base_uri": "https://localhost:8080/"
        },
        "id": "3abwUc1Mt91j",
        "outputId": "88a9ce5d-bd6e-4286-a39f-89c73a449e9d"
      },
      "source": [
        "from sklearn.model_selection import train_test_split\n",
        "train, test = train_test_split(df, test_size=0.20)\n",
        "from sklearn.linear_model import ElasticNet\n",
        "X_train = np.array(train.index).reshape(-1, 1)\n",
        "y_train = train['Adj Close']\n",
        "model = ElasticNet()\n",
        "# Fit linear model using the train data set\n",
        "model.fit(X_train, y_train)"
      ],
      "execution_count": 31,
      "outputs": [
        {
          "output_type": "execute_result",
          "data": {
            "text/plain": [
              "ElasticNet(alpha=1.0, copy_X=True, fit_intercept=True, l1_ratio=0.5,\n",
              "           max_iter=1000, normalize=False, positive=False, precompute=False,\n",
              "           random_state=None, selection='cyclic', tol=0.0001, warm_start=False)"
            ]
          },
          "metadata": {
            "tags": []
          },
          "execution_count": 31
        }
      ]
    },
    {
      "cell_type": "code",
      "metadata": {
        "colab": {
          "base_uri": "https://localhost:8080/"
        },
        "id": "lauxW9jOuGnU",
        "outputId": "6f7c8851-bc66-47ae-d47f-d4d519e8d0e8"
      },
      "source": [
        "X_test = np.array(test.index).reshape(-1, 1)\n",
        "y_test = test['Adj Close']\n",
        "y_pred = model.predict(X_test)\n",
        "dfr=pd.DataFrame({'Actual Price':y_test,'Predicted Price':y_pred})\n",
        "print(dfr)"
      ],
      "execution_count": 32,
      "outputs": [
        {
          "output_type": "stream",
          "text": [
            "      Actual Price  Predicted Price\n",
            "2330   2265.439941      1575.418262\n",
            "1725   1082.400024      1205.359887\n",
            "661     582.889648       554.546482\n",
            "884     530.130005       690.948164\n",
            "1851   1120.439941      1282.429896\n",
            "...            ...              ...\n",
            "1712   1101.160034      1197.408220\n",
            "846     533.849976       667.704828\n",
            "962     716.919983       738.658169\n",
            "1314    814.429993       953.964859\n",
            "1523   1169.969971      1081.803207\n",
            "\n",
            "[472 rows x 2 columns]\n"
          ],
          "name": "stdout"
        }
      ]
    },
    {
      "cell_type": "markdown",
      "metadata": {
        "id": "yJ5GeHtSuNyY"
      },
      "source": [
        "5.1 Calculating the Accuracy"
      ]
    },
    {
      "cell_type": "code",
      "metadata": {
        "colab": {
          "base_uri": "https://localhost:8080/"
        },
        "id": "l8sqSLX2uLQH",
        "outputId": "fbb48c58-046c-4f04-8329-0b87ac09e33b"
      },
      "source": [
        "from sklearn import metrics\n",
        "import math\n",
        "rmse_el=math.sqrt(metrics.mean_squared_error(y_test,y_pred))\n",
        "accuracy_el=model.score(X_test,y_test) #Accuracy Score\n",
        "\n",
        "print(\"Root mean square error= \",rmse_el)\n",
        "print(\"Accurcy Score= \",accuracy_el*100)"
      ],
      "execution_count": 33,
      "outputs": [
        {
          "output_type": "stream",
          "text": [
            "Root mean square error=  147.0098506717504\n",
            "Accurcy Score=  88.52968764587808\n"
          ],
          "name": "stdout"
        }
      ]
    },
    {
      "cell_type": "markdown",
      "metadata": {
        "id": "dncqo1d-udEe"
      },
      "source": [
        "5.2 Graphical Representation"
      ]
    },
    {
      "cell_type": "code",
      "metadata": {
        "colab": {
          "base_uri": "https://localhost:8080/",
          "height": 454
        },
        "id": "xT74q7R5uZ0j",
        "outputId": "eaee4675-767e-4ace-acd1-4ad0d1a80c35"
      },
      "source": [
        "graph=dfr.head(20)\n",
        "graph.plot(kind='bar',figsize=(20,7))"
      ],
      "execution_count": 34,
      "outputs": [
        {
          "output_type": "execute_result",
          "data": {
            "text/plain": [
              "<matplotlib.axes._subplots.AxesSubplot at 0x7f4c9d40a850>"
            ]
          },
          "metadata": {
            "tags": []
          },
          "execution_count": 34
        },
        {
          "output_type": "display_data",
          "data": {
            "image/png": "[encoded data removed]",
            "text/plain": [
              "<Figure size 1440x504 with 1 Axes>"
            ]
          },
          "metadata": {
            "tags": [],
            "needs_background": "light"
          }
        }
      ]
    },
    {
      "cell_type": "markdown",
      "metadata": {
        "id": "mxVuOTU0u6fN"
      },
      "source": [
        "6. PREDICTION USING LSTM STACKED ESTIMATOR"
      ]
    },
    {
      "cell_type": "code",
      "metadata": {
        "id": "_Sfcr3KTuj1S"
      },
      "source": [
        "df1=data.reset_index()['Adj Close']"
      ],
      "execution_count": 35,
      "outputs": []
    },
    {
      "cell_type": "code",
      "metadata": {
        "id": "Y-kcpxO-vdcq"
      },
      "source": [
        "from sklearn.preprocessing import MinMaxScaler\n",
        "scaler=MinMaxScaler(feature_range=(0,1))\n",
        "df1=scaler.fit_transform(np.array(df1).reshape(-1,1))"
      ],
      "execution_count": 36,
      "outputs": []
    },
    {
      "cell_type": "code",
      "metadata": {
        "id": "uC9s3Unfvivi"
      },
      "source": [
        "training_size=int(len(df1)*0.65)\n",
        "test_size=len(df1)-training_size\n",
        "train_data,test_data=df1[0:training_size:],df1[training_size:len(df1),:1]"
      ],
      "execution_count": 37,
      "outputs": []
    },
    {
      "cell_type": "code",
      "metadata": {
        "id": "rVwCS5nCvl5d"
      },
      "source": [
        "import numpy\n",
        "\n",
        "def create_dataset(dataset,time_step=1):\n",
        "  dataX,dataY=[],[]\n",
        "  for i in range(len(dataset)-time_step-1):\n",
        "    a=dataset[i:(i+time_step),0]\n",
        "    dataX.append(a)\n",
        "    dataY.append(dataset[i+time_step,0])\n",
        "  return numpy.array(dataX),numpy.array(dataY)"
      ],
      "execution_count": 38,
      "outputs": []
    },
    {
      "cell_type": "code",
      "metadata": {
        "id": "woyIMvBNvo8B"
      },
      "source": [
        " time_step=100\n",
        " X_train,y_train=create_dataset(train_data,time_step)\n",
        " X_test,ytest=create_dataset(train_data,time_step)"
      ],
      "execution_count": 39,
      "outputs": []
    },
    {
      "cell_type": "code",
      "metadata": {
        "colab": {
          "base_uri": "https://localhost:8080/"
        },
        "id": "tIeI4YEWvrU-",
        "outputId": "5e2fe77c-10c3-4645-c7cd-66065d4bbf97"
      },
      "source": [
        "print(X_train)"
      ],
      "execution_count": 40,
      "outputs": [
        {
          "output_type": "stream",
          "text": [
            "[[0.02462638 0.0252909  0.02314454 ... 0.00966672 0.01167184 0.01032891]\n",
            " [0.0252909  0.02314454 0.02106302 ... 0.01167184 0.01032891 0.00752037]\n",
            " [0.02314454 0.02106302 0.01468183 ... 0.01032891 0.00752037 0.00817099]\n",
            " ...\n",
            " [0.30181565 0.30559923 0.30120675 ... 0.41456038 0.41710289 0.41698203]\n",
            " [0.30559923 0.30120675 0.30240597 ... 0.41710289 0.41698203 0.41145542]\n",
            " [0.30120675 0.30240597 0.30379575 ... 0.41698203 0.41145542 0.41436049]]\n"
          ],
          "name": "stdout"
        }
      ]
    },
    {
      "cell_type": "code",
      "metadata": {
        "id": "OpCqSHkKvt4H"
      },
      "source": [
        "X_train =X_train.reshape(X_train.shape[0],X_train.shape[1],1)\n",
        "X_test =X_test.reshape(X_test.shape[0],X_test.shape[1],1)"
      ],
      "execution_count": 41,
      "outputs": []
    },
    {
      "cell_type": "code",
      "metadata": {
        "id": "ejlgyQWovwp_"
      },
      "source": [
        "from tensorflow.keras.models import Sequential\n",
        "from tensorflow.keras.layers import Dense\n",
        "from tensorflow.keras.layers import LSTM"
      ],
      "execution_count": 42,
      "outputs": []
    },
    {
      "cell_type": "code",
      "metadata": {
        "id": "rH3mHgLxvzUm"
      },
      "source": [
        "model=Sequential()\n",
        "model.add(LSTM(50,return_sequences=True,input_shape=(100,1)))\n",
        "model.add(LSTM(50,return_sequences=True))\n",
        "model.add(LSTM(50))\n",
        "model.add(Dense(1))\n",
        "model.compile(loss='mean_squared_error',optimizer='adam')"
      ],
      "execution_count": 43,
      "outputs": []
    },
    {
      "cell_type": "code",
      "metadata": {
        "colab": {
          "base_uri": "https://localhost:8080/"
        },
        "id": "eHL_d3bKv2iK",
        "outputId": "42f60cdd-2da9-47aa-cc5d-e4b7f5ffe66b"
      },
      "source": [
        "model.summary()"
      ],
      "execution_count": 44,
      "outputs": [
        {
          "output_type": "stream",
          "text": [
            "Model: \"sequential\"\n",
            "_________________________________________________________________\n",
            "Layer (type)                 Output Shape              Param #   \n",
            "=================================================================\n",
            "lstm (LSTM)                  (None, 100, 50)           10400     \n",
            "_________________________________________________________________\n",
            "lstm_1 (LSTM)                (None, 100, 50)           20200     \n",
            "_________________________________________________________________\n",
            "lstm_2 (LSTM)                (None, 50)                20200     \n",
            "_________________________________________________________________\n",
            "dense (Dense)                (None, 1)                 51        \n",
            "=================================================================\n",
            "Total params: 50,851\n",
            "Trainable params: 50,851\n",
            "Non-trainable params: 0\n",
            "_________________________________________________________________\n"
          ],
          "name": "stdout"
        }
      ]
    },
    {
      "cell_type": "code",
      "metadata": {
        "colab": {
          "base_uri": "https://localhost:8080/"
        },
        "id": "jKXs-XTBv5Ev",
        "outputId": "8fda84c3-dc1a-455e-d953-ca37edc00b43"
      },
      "source": [
        "model.fit(X_train,y_train,validation_data=(X_test,ytest),epochs=100,batch_size=64,verbose=1)"
      ],
      "execution_count": 45,
      "outputs": [
        {
          "output_type": "stream",
          "text": [
            "Epoch 1/100\n",
            "23/23 [==============================] - 12s 277ms/step - loss: 0.0102 - val_loss: 6.2378e-04\n",
            "Epoch 2/100\n",
            "23/23 [==============================] - 5s 214ms/step - loss: 3.4317e-04 - val_loss: 1.2807e-04\n",
            "Epoch 3/100\n",
            "23/23 [==============================] - 5s 212ms/step - loss: 1.2547e-04 - val_loss: 1.1899e-04\n",
            "Epoch 4/100\n",
            "23/23 [==============================] - 5s 213ms/step - loss: 1.1833e-04 - val_loss: 1.2146e-04\n",
            "Epoch 5/100\n",
            "23/23 [==============================] - 5s 214ms/step - loss: 1.1914e-04 - val_loss: 1.1433e-04\n",
            "Epoch 6/100\n",
            "23/23 [==============================] - 5s 217ms/step - loss: 1.1629e-04 - val_loss: 1.1218e-04\n",
            "Epoch 7/100\n",
            "23/23 [==============================] - 5s 216ms/step - loss: 1.1123e-04 - val_loss: 1.1079e-04\n",
            "Epoch 8/100\n",
            "23/23 [==============================] - 5s 216ms/step - loss: 1.0539e-04 - val_loss: 1.1876e-04\n",
            "Epoch 9/100\n",
            "23/23 [==============================] - 5s 217ms/step - loss: 1.1564e-04 - val_loss: 1.0763e-04\n",
            "Epoch 10/100\n",
            "23/23 [==============================] - 5s 215ms/step - loss: 1.0081e-04 - val_loss: 1.0788e-04\n",
            "Epoch 11/100\n",
            "23/23 [==============================] - 5s 217ms/step - loss: 1.0287e-04 - val_loss: 1.0650e-04\n",
            "Epoch 12/100\n",
            "23/23 [==============================] - 5s 225ms/step - loss: 1.1128e-04 - val_loss: 1.0016e-04\n",
            "Epoch 13/100\n",
            "23/23 [==============================] - 5s 223ms/step - loss: 1.0518e-04 - val_loss: 9.8192e-05\n",
            "Epoch 14/100\n",
            "23/23 [==============================] - 5s 222ms/step - loss: 1.0956e-04 - val_loss: 1.0900e-04\n",
            "Epoch 15/100\n",
            "23/23 [==============================] - 5s 223ms/step - loss: 9.8406e-05 - val_loss: 9.7837e-05\n",
            "Epoch 16/100\n",
            "23/23 [==============================] - 5s 224ms/step - loss: 9.7183e-05 - val_loss: 9.3400e-05\n",
            "Epoch 17/100\n",
            "23/23 [==============================] - 5s 223ms/step - loss: 9.8640e-05 - val_loss: 9.6053e-05\n",
            "Epoch 18/100\n",
            "23/23 [==============================] - 5s 221ms/step - loss: 8.9979e-05 - val_loss: 9.2980e-05\n",
            "Epoch 19/100\n",
            "23/23 [==============================] - 5s 223ms/step - loss: 1.0189e-04 - val_loss: 1.0108e-04\n",
            "Epoch 20/100\n",
            "23/23 [==============================] - 5s 221ms/step - loss: 1.0263e-04 - val_loss: 8.7110e-05\n",
            "Epoch 21/100\n",
            "23/23 [==============================] - 5s 223ms/step - loss: 9.2411e-05 - val_loss: 1.0081e-04\n",
            "Epoch 22/100\n",
            "23/23 [==============================] - 5s 223ms/step - loss: 9.4232e-05 - val_loss: 8.2622e-05\n",
            "Epoch 23/100\n",
            "23/23 [==============================] - 5s 223ms/step - loss: 9.7400e-05 - val_loss: 8.3963e-05\n",
            "Epoch 24/100\n",
            "23/23 [==============================] - 5s 222ms/step - loss: 8.8345e-05 - val_loss: 1.1993e-04\n",
            "Epoch 25/100\n",
            "23/23 [==============================] - 5s 223ms/step - loss: 9.6224e-05 - val_loss: 7.9974e-05\n",
            "Epoch 26/100\n",
            "23/23 [==============================] - 5s 222ms/step - loss: 8.6754e-05 - val_loss: 7.6320e-05\n",
            "Epoch 27/100\n",
            "23/23 [==============================] - 5s 224ms/step - loss: 9.0734e-05 - val_loss: 9.9178e-05\n",
            "Epoch 28/100\n",
            "23/23 [==============================] - 5s 223ms/step - loss: 8.3847e-05 - val_loss: 7.8926e-05\n",
            "Epoch 29/100\n",
            "23/23 [==============================] - 5s 226ms/step - loss: 7.1842e-05 - val_loss: 7.2665e-05\n",
            "Epoch 30/100\n",
            "23/23 [==============================] - 5s 222ms/step - loss: 8.9084e-05 - val_loss: 7.3071e-05\n",
            "Epoch 31/100\n",
            "23/23 [==============================] - 5s 223ms/step - loss: 6.9821e-05 - val_loss: 9.6869e-05\n",
            "Epoch 32/100\n",
            "23/23 [==============================] - 5s 222ms/step - loss: 9.8171e-05 - val_loss: 7.1461e-05\n",
            "Epoch 33/100\n",
            "23/23 [==============================] - 5s 226ms/step - loss: 7.6573e-05 - val_loss: 7.9287e-05\n",
            "Epoch 34/100\n",
            "23/23 [==============================] - 5s 223ms/step - loss: 7.3086e-05 - val_loss: 7.7016e-05\n",
            "Epoch 35/100\n",
            "23/23 [==============================] - 5s 223ms/step - loss: 8.2977e-05 - val_loss: 7.4024e-05\n",
            "Epoch 36/100\n",
            "23/23 [==============================] - 5s 223ms/step - loss: 7.6432e-05 - val_loss: 6.9836e-05\n",
            "Epoch 37/100\n",
            "23/23 [==============================] - 5s 224ms/step - loss: 6.7119e-05 - val_loss: 6.8905e-05\n",
            "Epoch 38/100\n",
            "23/23 [==============================] - 5s 224ms/step - loss: 7.0186e-05 - val_loss: 6.7725e-05\n",
            "Epoch 39/100\n",
            "23/23 [==============================] - 5s 222ms/step - loss: 7.9314e-05 - val_loss: 6.5204e-05\n",
            "Epoch 40/100\n",
            "23/23 [==============================] - 5s 224ms/step - loss: 6.7079e-05 - val_loss: 6.8439e-05\n",
            "Epoch 41/100\n",
            "23/23 [==============================] - 5s 228ms/step - loss: 6.2402e-05 - val_loss: 7.1071e-05\n",
            "Epoch 42/100\n",
            "23/23 [==============================] - 5s 227ms/step - loss: 7.3047e-05 - val_loss: 7.5833e-05\n",
            "Epoch 43/100\n",
            "23/23 [==============================] - 5s 226ms/step - loss: 7.7134e-05 - val_loss: 6.9579e-05\n",
            "Epoch 44/100\n",
            "23/23 [==============================] - 5s 224ms/step - loss: 7.2263e-05 - val_loss: 6.5091e-05\n",
            "Epoch 45/100\n",
            "23/23 [==============================] - 5s 227ms/step - loss: 6.6671e-05 - val_loss: 6.2173e-05\n",
            "Epoch 46/100\n",
            "23/23 [==============================] - 5s 222ms/step - loss: 7.3417e-05 - val_loss: 6.2077e-05\n",
            "Epoch 47/100\n",
            "23/23 [==============================] - 5s 224ms/step - loss: 7.1722e-05 - val_loss: 6.4595e-05\n",
            "Epoch 48/100\n",
            "23/23 [==============================] - 5s 223ms/step - loss: 6.2067e-05 - val_loss: 6.0958e-05\n",
            "Epoch 49/100\n",
            "23/23 [==============================] - 5s 224ms/step - loss: 6.5948e-05 - val_loss: 1.0754e-04\n",
            "Epoch 50/100\n",
            "23/23 [==============================] - 5s 222ms/step - loss: 1.0960e-04 - val_loss: 6.9158e-05\n",
            "Epoch 51/100\n",
            "23/23 [==============================] - 5s 224ms/step - loss: 7.4192e-05 - val_loss: 6.9023e-05\n",
            "Epoch 52/100\n",
            "23/23 [==============================] - 5s 225ms/step - loss: 6.4986e-05 - val_loss: 9.3862e-05\n",
            "Epoch 53/100\n",
            "23/23 [==============================] - 5s 222ms/step - loss: 8.8233e-05 - val_loss: 6.4046e-05\n",
            "Epoch 54/100\n",
            "23/23 [==============================] - 5s 223ms/step - loss: 6.6548e-05 - val_loss: 5.8335e-05\n",
            "Epoch 55/100\n",
            "23/23 [==============================] - 5s 223ms/step - loss: 5.9759e-05 - val_loss: 5.7587e-05\n",
            "Epoch 56/100\n",
            "23/23 [==============================] - 5s 222ms/step - loss: 6.6765e-05 - val_loss: 6.9729e-05\n",
            "Epoch 57/100\n",
            "23/23 [==============================] - 5s 222ms/step - loss: 7.5872e-05 - val_loss: 5.4698e-05\n",
            "Epoch 58/100\n",
            "23/23 [==============================] - 5s 223ms/step - loss: 7.1094e-05 - val_loss: 6.4787e-05\n",
            "Epoch 59/100\n",
            "23/23 [==============================] - 5s 222ms/step - loss: 5.6569e-05 - val_loss: 6.2644e-05\n",
            "Epoch 60/100\n",
            "23/23 [==============================] - 5s 224ms/step - loss: 6.3303e-05 - val_loss: 5.4149e-05\n",
            "Epoch 61/100\n",
            "23/23 [==============================] - 5s 224ms/step - loss: 5.6425e-05 - val_loss: 6.2120e-05\n",
            "Epoch 62/100\n",
            "23/23 [==============================] - 5s 223ms/step - loss: 5.2389e-05 - val_loss: 5.8428e-05\n",
            "Epoch 63/100\n",
            "23/23 [==============================] - 5s 225ms/step - loss: 7.0833e-05 - val_loss: 7.8091e-05\n",
            "Epoch 64/100\n",
            "23/23 [==============================] - 5s 224ms/step - loss: 7.0120e-05 - val_loss: 5.5837e-05\n",
            "Epoch 65/100\n",
            "23/23 [==============================] - 5s 223ms/step - loss: 4.8048e-05 - val_loss: 5.2548e-05\n",
            "Epoch 66/100\n",
            "23/23 [==============================] - 5s 224ms/step - loss: 5.6047e-05 - val_loss: 5.3622e-05\n",
            "Epoch 67/100\n",
            "23/23 [==============================] - 5s 224ms/step - loss: 4.7365e-05 - val_loss: 7.2950e-05\n",
            "Epoch 68/100\n",
            "23/23 [==============================] - 5s 221ms/step - loss: 6.4279e-05 - val_loss: 4.9054e-05\n",
            "Epoch 69/100\n",
            "23/23 [==============================] - 5s 225ms/step - loss: 4.7887e-05 - val_loss: 4.6917e-05\n",
            "Epoch 70/100\n",
            "23/23 [==============================] - 5s 221ms/step - loss: 5.1407e-05 - val_loss: 4.8060e-05\n",
            "Epoch 71/100\n",
            "23/23 [==============================] - 5s 223ms/step - loss: 4.8812e-05 - val_loss: 4.8632e-05\n",
            "Epoch 72/100\n",
            "23/23 [==============================] - 5s 222ms/step - loss: 4.9431e-05 - val_loss: 4.8177e-05\n",
            "Epoch 73/100\n",
            "23/23 [==============================] - 5s 223ms/step - loss: 4.3826e-05 - val_loss: 4.8074e-05\n",
            "Epoch 74/100\n",
            "23/23 [==============================] - 5s 223ms/step - loss: 4.5063e-05 - val_loss: 5.7576e-05\n",
            "Epoch 75/100\n",
            "23/23 [==============================] - 5s 222ms/step - loss: 4.6349e-05 - val_loss: 5.3663e-05\n",
            "Epoch 76/100\n",
            "23/23 [==============================] - 5s 224ms/step - loss: 5.6872e-05 - val_loss: 5.4558e-05\n",
            "Epoch 77/100\n",
            "23/23 [==============================] - 5s 222ms/step - loss: 4.6870e-05 - val_loss: 4.0986e-05\n",
            "Epoch 78/100\n",
            "23/23 [==============================] - 5s 223ms/step - loss: 4.3982e-05 - val_loss: 4.0911e-05\n",
            "Epoch 79/100\n",
            "23/23 [==============================] - 5s 222ms/step - loss: 4.3290e-05 - val_loss: 4.4685e-05\n",
            "Epoch 80/100\n",
            "23/23 [==============================] - 5s 226ms/step - loss: 3.8235e-05 - val_loss: 4.6248e-05\n",
            "Epoch 81/100\n",
            "23/23 [==============================] - 5s 234ms/step - loss: 4.2586e-05 - val_loss: 5.8023e-05\n",
            "Epoch 82/100\n",
            "23/23 [==============================] - 5s 226ms/step - loss: 4.0686e-05 - val_loss: 3.7489e-05\n",
            "Epoch 83/100\n",
            "23/23 [==============================] - 5s 226ms/step - loss: 4.4790e-05 - val_loss: 4.4393e-05\n",
            "Epoch 84/100\n",
            "23/23 [==============================] - 5s 225ms/step - loss: 4.4607e-05 - val_loss: 3.6110e-05\n",
            "Epoch 85/100\n",
            "23/23 [==============================] - 5s 227ms/step - loss: 4.1093e-05 - val_loss: 3.6652e-05\n",
            "Epoch 86/100\n",
            "23/23 [==============================] - 5s 225ms/step - loss: 4.4050e-05 - val_loss: 4.8293e-05\n",
            "Epoch 87/100\n",
            "23/23 [==============================] - 5s 230ms/step - loss: 4.4638e-05 - val_loss: 3.5582e-05\n",
            "Epoch 88/100\n",
            "23/23 [==============================] - 5s 227ms/step - loss: 3.6821e-05 - val_loss: 3.9836e-05\n",
            "Epoch 89/100\n",
            "23/23 [==============================] - 5s 228ms/step - loss: 4.2167e-05 - val_loss: 4.5666e-05\n",
            "Epoch 90/100\n",
            "23/23 [==============================] - 5s 228ms/step - loss: 4.3346e-05 - val_loss: 3.9366e-05\n",
            "Epoch 91/100\n",
            "23/23 [==============================] - 5s 228ms/step - loss: 4.0814e-05 - val_loss: 7.1854e-05\n",
            "Epoch 92/100\n",
            "23/23 [==============================] - 5s 227ms/step - loss: 5.1470e-05 - val_loss: 5.1957e-05\n",
            "Epoch 93/100\n",
            "23/23 [==============================] - 5s 228ms/step - loss: 4.4549e-05 - val_loss: 3.3624e-05\n",
            "Epoch 94/100\n",
            "23/23 [==============================] - 5s 227ms/step - loss: 3.4986e-05 - val_loss: 3.4543e-05\n",
            "Epoch 95/100\n",
            "23/23 [==============================] - 5s 227ms/step - loss: 3.0673e-05 - val_loss: 3.1633e-05\n",
            "Epoch 96/100\n",
            "23/23 [==============================] - 5s 227ms/step - loss: 3.1866e-05 - val_loss: 4.2260e-05\n",
            "Epoch 97/100\n",
            "23/23 [==============================] - 5s 233ms/step - loss: 3.5795e-05 - val_loss: 3.4878e-05\n",
            "Epoch 98/100\n",
            "23/23 [==============================] - 5s 230ms/step - loss: 3.5399e-05 - val_loss: 3.3805e-05\n",
            "Epoch 99/100\n",
            "23/23 [==============================] - 5s 227ms/step - loss: 3.4735e-05 - val_loss: 3.0856e-05\n",
            "Epoch 100/100\n",
            "23/23 [==============================] - 5s 226ms/step - loss: 2.8896e-05 - val_loss: 3.2079e-05\n"
          ],
          "name": "stdout"
        },
        {
          "output_type": "execute_result",
          "data": {
            "text/plain": [
              "<tensorflow.python.keras.callbacks.History at 0x7f4c69822b90>"
            ]
          },
          "metadata": {
            "tags": []
          },
          "execution_count": 45
        }
      ]
    },
    {
      "cell_type": "code",
      "metadata": {
        "id": "6Qv0P9CJzexF"
      },
      "source": [
        "train_predict=model.predict(X_train)\n",
        "test_predict=model.predict(X_test)"
      ],
      "execution_count": 46,
      "outputs": []
    },
    {
      "cell_type": "code",
      "metadata": {
        "id": "QbOwK4jPzieo"
      },
      "source": [
        "train_predict=scaler.inverse_transform(train_predict)\n",
        "test_predict=scaler.inverse_transform(test_predict)"
      ],
      "execution_count": 47,
      "outputs": []
    },
    {
      "cell_type": "markdown",
      "metadata": {
        "id": "GQEcRFMV45rh"
      },
      "source": [
        "6.1 Calculating the Accuracy"
      ]
    },
    {
      "cell_type": "code",
      "metadata": {
        "colab": {
          "base_uri": "https://localhost:8080/"
        },
        "id": "Dd4qOiLDzkm6",
        "outputId": "79854b54-4fd0-49ed-ccb7-b65073d13f36"
      },
      "source": [
        "import math\n",
        "from sklearn.metrics import mean_squared_error\n",
        "rmse_lstm=math.sqrt(mean_squared_error(ytest,test_predict))\n",
        "print(\"RMSE score of LSTM =\",rmse_lstm)\n"
      ],
      "execution_count": 48,
      "outputs": [
        {
          "output_type": "stream",
          "text": [
            "RMSE score of LSTM = 662.479418230532\n"
          ],
          "name": "stdout"
        }
      ]
    },
    {
      "cell_type": "markdown",
      "metadata": {
        "id": "FpySVNjW1TOy"
      },
      "source": [
        "7.PREDICTION USING FBPROPHET"
      ]
    },
    {
      "cell_type": "code",
      "metadata": {
        "id": "5PrhzMu61Swu"
      },
      "source": [
        "import datetime as dt\n",
        "import matplotlib.pyplot as plt\n",
        "import warnings\n",
        "warnings.simplefilter(action='ignore',category=FutureWarning)\n",
        "from fbprophet import Prophet"
      ],
      "execution_count": 49,
      "outputs": []
    },
    {
      "cell_type": "code",
      "metadata": {
        "id": "QboFAame2JFe"
      },
      "source": [
        "model=Prophet()"
      ],
      "execution_count": 50,
      "outputs": []
    },
    {
      "cell_type": "code",
      "metadata": {
        "id": "uNwl8BmQ2Nz2"
      },
      "source": [
        "dfb=data.reset_index()"
      ],
      "execution_count": 51,
      "outputs": []
    },
    {
      "cell_type": "code",
      "metadata": {
        "colab": {
          "base_uri": "https://localhost:8080/",
          "height": 419
        },
        "id": "OeAgzo4V2Sul",
        "outputId": "b849dc81-16f6-4534-c0d3-4dd256f0d58a"
      },
      "source": [
        "dfb"
      ],
      "execution_count": 52,
      "outputs": [
        {
          "output_type": "execute_result",
          "data": {
            "text/html": [
              "<div>\n",
              "<style scoped>\n",
              "    .dataframe tbody tr th:only-of-type {\n",
              "        vertical-align: middle;\n",
              "    }\n",
              "\n",
              "    .dataframe tbody tr th {\n",
              "        vertical-align: top;\n",
              "    }\n",
              "\n",
              "    .dataframe thead th {\n",
              "        text-align: right;\n",
              "    }\n",
              "</style>\n",
              "<table border=\"1\" class=\"dataframe\">\n",
              "  <thead>\n",
              "    <tr style=\"text-align: right;\">\n",
              "      <th></th>\n",
              "      <th>Date</th>\n",
              "      <th>High</th>\n",
              "      <th>Low</th>\n",
              "      <th>Open</th>\n",
              "      <th>Close</th>\n",
              "      <th>Volume</th>\n",
              "      <th>Adj Close</th>\n",
              "    </tr>\n",
              "  </thead>\n",
              "  <tbody>\n",
              "    <tr>\n",
              "      <th>0</th>\n",
              "      <td>2012-01-03</td>\n",
              "      <td>332.827484</td>\n",
              "      <td>324.966949</td>\n",
              "      <td>325.250885</td>\n",
              "      <td>331.462585</td>\n",
              "      <td>7380561.0</td>\n",
              "      <td>331.462585</td>\n",
              "    </tr>\n",
              "    <tr>\n",
              "      <th>1</th>\n",
              "      <td>2012-01-04</td>\n",
              "      <td>333.873566</td>\n",
              "      <td>329.076538</td>\n",
              "      <td>331.273315</td>\n",
              "      <td>332.892242</td>\n",
              "      <td>5749470.0</td>\n",
              "      <td>332.892242</td>\n",
              "    </tr>\n",
              "    <tr>\n",
              "      <th>2</th>\n",
              "      <td>2012-01-05</td>\n",
              "      <td>330.745270</td>\n",
              "      <td>326.889740</td>\n",
              "      <td>329.828735</td>\n",
              "      <td>328.274536</td>\n",
              "      <td>6590410.0</td>\n",
              "      <td>328.274536</td>\n",
              "    </tr>\n",
              "    <tr>\n",
              "      <th>3</th>\n",
              "      <td>2012-01-06</td>\n",
              "      <td>328.767700</td>\n",
              "      <td>323.681763</td>\n",
              "      <td>328.344299</td>\n",
              "      <td>323.796326</td>\n",
              "      <td>5405987.0</td>\n",
              "      <td>323.796326</td>\n",
              "    </tr>\n",
              "    <tr>\n",
              "      <th>4</th>\n",
              "      <td>2012-01-09</td>\n",
              "      <td>322.291962</td>\n",
              "      <td>309.455078</td>\n",
              "      <td>322.042908</td>\n",
              "      <td>310.067780</td>\n",
              "      <td>11688849.0</td>\n",
              "      <td>310.067780</td>\n",
              "    </tr>\n",
              "    <tr>\n",
              "      <th>...</th>\n",
              "      <td>...</td>\n",
              "      <td>...</td>\n",
              "      <td>...</td>\n",
              "      <td>...</td>\n",
              "      <td>...</td>\n",
              "      <td>...</td>\n",
              "      <td>...</td>\n",
              "    </tr>\n",
              "    <tr>\n",
              "      <th>2352</th>\n",
              "      <td>2021-05-10</td>\n",
              "      <td>2378.000000</td>\n",
              "      <td>2334.729980</td>\n",
              "      <td>2374.889893</td>\n",
              "      <td>2341.659912</td>\n",
              "      <td>1300300.0</td>\n",
              "      <td>2341.659912</td>\n",
              "    </tr>\n",
              "    <tr>\n",
              "      <th>2353</th>\n",
              "      <td>2021-05-11</td>\n",
              "      <td>2322.000000</td>\n",
              "      <td>2283.000000</td>\n",
              "      <td>2291.860107</td>\n",
              "      <td>2308.760010</td>\n",
              "      <td>1605500.0</td>\n",
              "      <td>2308.760010</td>\n",
              "    </tr>\n",
              "    <tr>\n",
              "      <th>2354</th>\n",
              "      <td>2021-05-12</td>\n",
              "      <td>2285.370117</td>\n",
              "      <td>2230.050049</td>\n",
              "      <td>2261.709961</td>\n",
              "      <td>2239.080078</td>\n",
              "      <td>1746700.0</td>\n",
              "      <td>2239.080078</td>\n",
              "    </tr>\n",
              "    <tr>\n",
              "      <th>2355</th>\n",
              "      <td>2021-05-13</td>\n",
              "      <td>2276.601074</td>\n",
              "      <td>2242.719971</td>\n",
              "      <td>2261.090088</td>\n",
              "      <td>2261.969971</td>\n",
              "      <td>1333500.0</td>\n",
              "      <td>2261.969971</td>\n",
              "    </tr>\n",
              "    <tr>\n",
              "      <th>2356</th>\n",
              "      <td>2021-05-14</td>\n",
              "      <td>2321.139893</td>\n",
              "      <td>2283.320068</td>\n",
              "      <td>2291.830078</td>\n",
              "      <td>2316.159912</td>\n",
              "      <td>1330100.0</td>\n",
              "      <td>2316.159912</td>\n",
              "    </tr>\n",
              "  </tbody>\n",
              "</table>\n",
              "<p>2357 rows × 7 columns</p>\n",
              "</div>"
            ],
            "text/plain": [
              "           Date         High          Low  ...        Close      Volume    Adj Close\n",
              "0    2012-01-03   332.827484   324.966949  ...   331.462585   7380561.0   331.462585\n",
              "1    2012-01-04   333.873566   329.076538  ...   332.892242   5749470.0   332.892242\n",
              "2    2012-01-05   330.745270   326.889740  ...   328.274536   6590410.0   328.274536\n",
              "3    2012-01-06   328.767700   323.681763  ...   323.796326   5405987.0   323.796326\n",
              "4    2012-01-09   322.291962   309.455078  ...   310.067780  11688849.0   310.067780\n",
              "...         ...          ...          ...  ...          ...         ...          ...\n",
              "2352 2021-05-10  2378.000000  2334.729980  ...  2341.659912   1300300.0  2341.659912\n",
              "2353 2021-05-11  2322.000000  2283.000000  ...  2308.760010   1605500.0  2308.760010\n",
              "2354 2021-05-12  2285.370117  2230.050049  ...  2239.080078   1746700.0  2239.080078\n",
              "2355 2021-05-13  2276.601074  2242.719971  ...  2261.969971   1333500.0  2261.969971\n",
              "2356 2021-05-14  2321.139893  2283.320068  ...  2316.159912   1330100.0  2316.159912\n",
              "\n",
              "[2357 rows x 7 columns]"
            ]
          },
          "metadata": {
            "tags": []
          },
          "execution_count": 52
        }
      ]
    },
    {
      "cell_type": "code",
      "metadata": {
        "id": "pQUzNEYT2Uur"
      },
      "source": [
        "dfb[['ds','y']]=dfb[['Date','Adj Close']]"
      ],
      "execution_count": 53,
      "outputs": []
    },
    {
      "cell_type": "code",
      "metadata": {
        "colab": {
          "base_uri": "https://localhost:8080/",
          "height": 419
        },
        "id": "P0x6Ni-Z2Zi2",
        "outputId": "0ccb6eb3-66bd-497b-8d09-c8f86e3ce3f2"
      },
      "source": [
        "dfb"
      ],
      "execution_count": 54,
      "outputs": [
        {
          "output_type": "execute_result",
          "data": {
            "text/html": [
              "<div>\n",
              "<style scoped>\n",
              "    .dataframe tbody tr th:only-of-type {\n",
              "        vertical-align: middle;\n",
              "    }\n",
              "\n",
              "    .dataframe tbody tr th {\n",
              "        vertical-align: top;\n",
              "    }\n",
              "\n",
              "    .dataframe thead th {\n",
              "        text-align: right;\n",
              "    }\n",
              "</style>\n",
              "<table border=\"1\" class=\"dataframe\">\n",
              "  <thead>\n",
              "    <tr style=\"text-align: right;\">\n",
              "      <th></th>\n",
              "      <th>Date</th>\n",
              "      <th>High</th>\n",
              "      <th>Low</th>\n",
              "      <th>Open</th>\n",
              "      <th>Close</th>\n",
              "      <th>Volume</th>\n",
              "      <th>Adj Close</th>\n",
              "      <th>ds</th>\n",
              "      <th>y</th>\n",
              "    </tr>\n",
              "  </thead>\n",
              "  <tbody>\n",
              "    <tr>\n",
              "      <th>0</th>\n",
              "      <td>2012-01-03</td>\n",
              "      <td>332.827484</td>\n",
              "      <td>324.966949</td>\n",
              "      <td>325.250885</td>\n",
              "      <td>331.462585</td>\n",
              "      <td>7380561.0</td>\n",
              "      <td>331.462585</td>\n",
              "      <td>2012-01-03</td>\n",
              "      <td>331.462585</td>\n",
              "    </tr>\n",
              "    <tr>\n",
              "      <th>1</th>\n",
              "      <td>2012-01-04</td>\n",
              "      <td>333.873566</td>\n",
              "      <td>329.076538</td>\n",
              "      <td>331.273315</td>\n",
              "      <td>332.892242</td>\n",
              "      <td>5749470.0</td>\n",
              "      <td>332.892242</td>\n",
              "      <td>2012-01-04</td>\n",
              "      <td>332.892242</td>\n",
              "    </tr>\n",
              "    <tr>\n",
              "      <th>2</th>\n",
              "      <td>2012-01-05</td>\n",
              "      <td>330.745270</td>\n",
              "      <td>326.889740</td>\n",
              "      <td>329.828735</td>\n",
              "      <td>328.274536</td>\n",
              "      <td>6590410.0</td>\n",
              "      <td>328.274536</td>\n",
              "      <td>2012-01-05</td>\n",
              "      <td>328.274536</td>\n",
              "    </tr>\n",
              "    <tr>\n",
              "      <th>3</th>\n",
              "      <td>2012-01-06</td>\n",
              "      <td>328.767700</td>\n",
              "      <td>323.681763</td>\n",
              "      <td>328.344299</td>\n",
              "      <td>323.796326</td>\n",
              "      <td>5405987.0</td>\n",
              "      <td>323.796326</td>\n",
              "      <td>2012-01-06</td>\n",
              "      <td>323.796326</td>\n",
              "    </tr>\n",
              "    <tr>\n",
              "      <th>4</th>\n",
              "      <td>2012-01-09</td>\n",
              "      <td>322.291962</td>\n",
              "      <td>309.455078</td>\n",
              "      <td>322.042908</td>\n",
              "      <td>310.067780</td>\n",
              "      <td>11688849.0</td>\n",
              "      <td>310.067780</td>\n",
              "      <td>2012-01-09</td>\n",
              "      <td>310.067780</td>\n",
              "    </tr>\n",
              "    <tr>\n",
              "      <th>...</th>\n",
              "      <td>...</td>\n",
              "      <td>...</td>\n",
              "      <td>...</td>\n",
              "      <td>...</td>\n",
              "      <td>...</td>\n",
              "      <td>...</td>\n",
              "      <td>...</td>\n",
              "      <td>...</td>\n",
              "      <td>...</td>\n",
              "    </tr>\n",
              "    <tr>\n",
              "      <th>2352</th>\n",
              "      <td>2021-05-10</td>\n",
              "      <td>2378.000000</td>\n",
              "      <td>2334.729980</td>\n",
              "      <td>2374.889893</td>\n",
              "      <td>2341.659912</td>\n",
              "      <td>1300300.0</td>\n",
              "      <td>2341.659912</td>\n",
              "      <td>2021-05-10</td>\n",
              "      <td>2341.659912</td>\n",
              "    </tr>\n",
              "    <tr>\n",
              "      <th>2353</th>\n",
              "      <td>2021-05-11</td>\n",
              "      <td>2322.000000</td>\n",
              "      <td>2283.000000</td>\n",
              "      <td>2291.860107</td>\n",
              "      <td>2308.760010</td>\n",
              "      <td>1605500.0</td>\n",
              "      <td>2308.760010</td>\n",
              "      <td>2021-05-11</td>\n",
              "      <td>2308.760010</td>\n",
              "    </tr>\n",
              "    <tr>\n",
              "      <th>2354</th>\n",
              "      <td>2021-05-12</td>\n",
              "      <td>2285.370117</td>\n",
              "      <td>2230.050049</td>\n",
              "      <td>2261.709961</td>\n",
              "      <td>2239.080078</td>\n",
              "      <td>1746700.0</td>\n",
              "      <td>2239.080078</td>\n",
              "      <td>2021-05-12</td>\n",
              "      <td>2239.080078</td>\n",
              "    </tr>\n",
              "    <tr>\n",
              "      <th>2355</th>\n",
              "      <td>2021-05-13</td>\n",
              "      <td>2276.601074</td>\n",
              "      <td>2242.719971</td>\n",
              "      <td>2261.090088</td>\n",
              "      <td>2261.969971</td>\n",
              "      <td>1333500.0</td>\n",
              "      <td>2261.969971</td>\n",
              "      <td>2021-05-13</td>\n",
              "      <td>2261.969971</td>\n",
              "    </tr>\n",
              "    <tr>\n",
              "      <th>2356</th>\n",
              "      <td>2021-05-14</td>\n",
              "      <td>2321.139893</td>\n",
              "      <td>2283.320068</td>\n",
              "      <td>2291.830078</td>\n",
              "      <td>2316.159912</td>\n",
              "      <td>1330100.0</td>\n",
              "      <td>2316.159912</td>\n",
              "      <td>2021-05-14</td>\n",
              "      <td>2316.159912</td>\n",
              "    </tr>\n",
              "  </tbody>\n",
              "</table>\n",
              "<p>2357 rows × 9 columns</p>\n",
              "</div>"
            ],
            "text/plain": [
              "           Date         High          Low  ...    Adj Close         ds            y\n",
              "0    2012-01-03   332.827484   324.966949  ...   331.462585 2012-01-03   331.462585\n",
              "1    2012-01-04   333.873566   329.076538  ...   332.892242 2012-01-04   332.892242\n",
              "2    2012-01-05   330.745270   326.889740  ...   328.274536 2012-01-05   328.274536\n",
              "3    2012-01-06   328.767700   323.681763  ...   323.796326 2012-01-06   323.796326\n",
              "4    2012-01-09   322.291962   309.455078  ...   310.067780 2012-01-09   310.067780\n",
              "...         ...          ...          ...  ...          ...        ...          ...\n",
              "2352 2021-05-10  2378.000000  2334.729980  ...  2341.659912 2021-05-10  2341.659912\n",
              "2353 2021-05-11  2322.000000  2283.000000  ...  2308.760010 2021-05-11  2308.760010\n",
              "2354 2021-05-12  2285.370117  2230.050049  ...  2239.080078 2021-05-12  2239.080078\n",
              "2355 2021-05-13  2276.601074  2242.719971  ...  2261.969971 2021-05-13  2261.969971\n",
              "2356 2021-05-14  2321.139893  2283.320068  ...  2316.159912 2021-05-14  2316.159912\n",
              "\n",
              "[2357 rows x 9 columns]"
            ]
          },
          "metadata": {
            "tags": []
          },
          "execution_count": 54
        }
      ]
    },
    {
      "cell_type": "code",
      "metadata": {
        "colab": {
          "base_uri": "https://localhost:8080/"
        },
        "id": "7Wjzh-Gw2bfi",
        "outputId": "46edbfd0-3110-4298-f5d1-69d6f00ebf2b"
      },
      "source": [
        "model.fit(dfb)"
      ],
      "execution_count": 55,
      "outputs": [
        {
          "output_type": "stream",
          "text": [
            "INFO:fbprophet:Disabling daily seasonality. Run prophet with daily_seasonality=True to override this.\n"
          ],
          "name": "stderr"
        },
        {
          "output_type": "execute_result",
          "data": {
            "text/plain": [
              "<fbprophet.forecaster.Prophet at 0x7f4c5f113690>"
            ]
          },
          "metadata": {
            "tags": []
          },
          "execution_count": 55
        }
      ]
    },
    {
      "cell_type": "code",
      "metadata": {
        "id": "x_joJtYe2fJQ"
      },
      "source": [
        "prediction=model.make_future_dataframe(periods=200)"
      ],
      "execution_count": 56,
      "outputs": []
    },
    {
      "cell_type": "code",
      "metadata": {
        "colab": {
          "base_uri": "https://localhost:8080/"
        },
        "id": "agfIEWej2i84",
        "outputId": "1d33cd3f-b8f0-45b1-a752-e6f02eb10701"
      },
      "source": [
        "pre=model.predict(prediction)\n",
        "print(pre)"
      ],
      "execution_count": 57,
      "outputs": [
        {
          "output_type": "stream",
          "text": [
            "             ds        trend  ...  multiplicative_terms_upper         yhat\n",
            "0    2012-01-03   277.290694  ...                         0.0   261.393515\n",
            "1    2012-01-04   277.578697  ...                         0.0   263.415030\n",
            "2    2012-01-05   277.866700  ...                         0.0   264.833132\n",
            "3    2012-01-06   278.154703  ...                         0.0   266.639704\n",
            "4    2012-01-09   279.018712  ...                         0.0   269.075514\n",
            "...         ...          ...  ...                         ...          ...\n",
            "2552 2021-11-26  2304.145136  ...                         0.0  2293.170216\n",
            "2553 2021-11-27  2305.542553  ...                         0.0  2330.981769\n",
            "2554 2021-11-28  2306.939971  ...                         0.0  2332.371159\n",
            "2555 2021-11-29  2308.337388  ...                         0.0  2294.919604\n",
            "2556 2021-11-30  2309.734806  ...                         0.0  2297.435115\n",
            "\n",
            "[2557 rows x 19 columns]\n"
          ],
          "name": "stdout"
        }
      ]
    },
    {
      "cell_type": "markdown",
      "metadata": {
        "id": "h9O7exT040S6"
      },
      "source": [
        "7.1 Calclulating the Accuracy"
      ]
    },
    {
      "cell_type": "code",
      "metadata": {
        "colab": {
          "base_uri": "https://localhost:8080/"
        },
        "id": "sPHvTNhZ3xpG",
        "outputId": "f73878f2-ec63-4776-f35b-bc69a88da452"
      },
      "source": [
        "import math\n",
        "from sklearn.metrics import mean_squared_error\n",
        "rmse_fb=math.sqrt(mean_squared_error(pre['trend'],pre['yhat']))\n",
        "print(\"RMSE error of FBProphet =\",rmse_fb)"
      ],
      "execution_count": 58,
      "outputs": [
        {
          "output_type": "stream",
          "text": [
            "RMSE error of FBProphet = 20.23540029739034\n"
          ],
          "name": "stdout"
        }
      ]
    },
    {
      "cell_type": "markdown",
      "metadata": {
        "id": "4wlTQAS04vY2"
      },
      "source": [
        "7.2 Graphical Visualization"
      ]
    },
    {
      "cell_type": "code",
      "metadata": {
        "colab": {
          "base_uri": "https://localhost:8080/",
          "height": 262
        },
        "id": "asEO4s0f4H39",
        "outputId": "62fb10e6-6685-4902-98ef-e16ae370be95"
      },
      "source": [
        "from matplotlib import pyplot\n",
        "pyplot.plot(pre['trend'], label='Actual')\n",
        "pyplot.plot(pre['yhat'], label='Predicted')\n",
        "pyplot.legend()\n",
        "pyplot.show()"
      ],
      "execution_count": 59,
      "outputs": [
        {
          "output_type": "display_data",
          "data": {
            "image/png": "[encoded data removed]",
            "text/plain": [
              "<Figure size 432x288 with 1 Axes>"
            ]
          },
          "metadata": {
            "tags": [],
            "needs_background": "light"
          }
        }
      ]
    },
    {
      "cell_type": "markdown",
      "metadata": {
        "id": "T5ya6xggD1Ys"
      },
      "source": [
        "**Evaluation of the Performance of Algorithms**"
      ]
    },
    {
      "cell_type": "markdown",
      "metadata": {
        "id": "r176V9N3F-Ij"
      },
      "source": [
        "1. BASED ON THE ACCURACY SCORE"
      ]
    },
    {
      "cell_type": "code",
      "metadata": {
        "colab": {
          "base_uri": "https://localhost:8080/"
        },
        "id": "SXXenXpID0ti",
        "outputId": "df64d837-27e3-442a-e3a5-8f4666739c4d"
      },
      "source": [
        "scores = [accuracy_linear*100,accuracy_lasso*100,accuracy_knn*100,accuracy_el*100,accuracy_dt*100]\n",
        "algorithms = [\"Linear Regression\",\"Lasso Regression\",\"KNN\",\"ElasticNet\",\"Decision Tree Regressor\"]\n",
        "for i in range(len(algorithms)):\n",
        "    print(\"The accuracy score achieved using \"+algorithms[i]+\" is: \"+str(scores[i])+\" %\")"
      ],
      "execution_count": 60,
      "outputs": [
        {
          "output_type": "stream",
          "text": [
            "The accuracy score achieved using Linear Regression is: 87.96219669390433 %\n",
            "The accuracy score achieved using Lasso Regression is: 88.23475100807417 %\n",
            "The accuracy score achieved using KNN is: 99.87253597638369 %\n",
            "The accuracy score achieved using ElasticNet is: 88.52968764587808 %\n",
            "The accuracy score achieved using Decision Tree Regressor is: 99.8563034258301 %\n"
          ],
          "name": "stdout"
        }
      ]
    },
    {
      "cell_type": "code",
      "metadata": {
        "colab": {
          "base_uri": "https://localhost:8080/",
          "height": 628
        },
        "id": "5xPP7bKKE8FQ",
        "outputId": "b812d6f4-574d-4139-e46a-60429667b452"
      },
      "source": [
        "sns.set(rc={'figure.figsize':(25,10)})\n",
        "plt.xlabel(\"Algorithms\")\n",
        "plt.ylabel(\"Accuracy score\")\n",
        "\n",
        "sns.barplot(algorithms,scores)"
      ],
      "execution_count": 61,
      "outputs": [
        {
          "output_type": "execute_result",
          "data": {
            "text/plain": [
              "<matplotlib.axes._subplots.AxesSubplot at 0x7f4c54dbc990>"
            ]
          },
          "metadata": {
            "tags": []
          },
          "execution_count": 61
        },
        {
          "output_type": "display_data",
          "data": {
            "image/png": "[encoded data removed]",
            "text/plain": [
              "<Figure size 1800x720 with 1 Axes>"
            ]
          },
          "metadata": {
            "tags": []
          }
        }
      ]
    },
    {
      "cell_type": "markdown",
      "metadata": {
        "id": "SsoCiO-HGCcM"
      },
      "source": [
        "2. BASED ON RMSE VALUES"
      ]
    },
    {
      "cell_type": "code",
      "metadata": {
        "colab": {
          "base_uri": "https://localhost:8080/"
        },
        "id": "mz9R5HmFGE17",
        "outputId": "5b7f65ce-310c-4c6e-bbae-8f856d6c76d6"
      },
      "source": [
        "scores = [rmse_linear,rmse_lasso,rmse_knn,rmse_el,rmse_dt,rmse_lstm,rmse_fb]\n",
        "algorithms = [\"Linear Regression\",\"Lasso Regression\",\"KNN\",\"ElasticNet\",\"Decision Tree Regressor\",\"LSTM\",\"FB PROPHET\"]\n",
        "for i in range(len(algorithms)):\n",
        "    print(\"The accuracy score achieved using \"+algorithms[i]+\" is: \"+str(scores[i])+\" \")"
      ],
      "execution_count": 62,
      "outputs": [
        {
          "output_type": "stream",
          "text": [
            "The accuracy score achieved using Linear Regression is: 152.45320843141187 \n",
            "The accuracy score achieved using Lasso Regression is: 153.27891707019504 \n",
            "The accuracy score achieved using KNN is: 15.823945485615955 \n",
            "The accuracy score achieved using ElasticNet is: 147.0098506717504 \n",
            "The accuracy score achieved using Decision Tree Regressor is: 16.79007094237889 \n",
            "The accuracy score achieved using LSTM is: 662.479418230532 \n",
            "The accuracy score achieved using FB PROPHET is: 20.23540029739034 \n"
          ],
          "name": "stdout"
        }
      ]
    },
    {
      "cell_type": "code",
      "metadata": {
        "colab": {
          "base_uri": "https://localhost:8080/",
          "height": 628
        },
        "id": "w_-TqVSqGcGg",
        "outputId": "3153d437-e0b9-48ef-eb24-544672d9632b"
      },
      "source": [
        "sns.set(rc={'figure.figsize':(25,10)})\n",
        "plt.xlabel(\"Algorithms\")\n",
        "plt.ylabel(\"Accuracy score\")\n",
        "\n",
        "sns.barplot(algorithms,scores)"
      ],
      "execution_count": 63,
      "outputs": [
        {
          "output_type": "execute_result",
          "data": {
            "text/plain": [
              "<matplotlib.axes._subplots.AxesSubplot at 0x7f4c54beb890>"
            ]
          },
          "metadata": {
            "tags": []
          },
          "execution_count": 63
        },
        {
          "output_type": "display_data",
          "data": {
            "image/png": "[encoded data removed]",
            "text/plain": [
              "<Figure size 1800x720 with 1 Axes>"
            ]
          },
          "metadata": {
            "tags": []
          }
        }
      ]
    },
    {
      "cell_type": "markdown",
      "metadata": {
        "id": "xRbrpeCFIHB_"
      },
      "source": [
        "**FORECASTING THE FUTURE STOCK PRICES USING ML AND DEEP LEARNING**"
      ]
    },
    {
      "cell_type": "code",
      "metadata": {
        "colab": {
          "base_uri": "https://localhost:8080/",
          "height": 450
        },
        "id": "G87SmgFEIQNC",
        "outputId": "c10695e7-559e-4d8f-c608-9127515d83a5"
      },
      "source": [
        "df=web.DataReader('AMZN',data_source='yahoo',start='2012-01-01',end='2021-05-15')\n",
        "df"
      ],
      "execution_count": 65,
      "outputs": [
        {
          "output_type": "execute_result",
          "data": {
            "text/html": [
              "<div>\n",
              "<style scoped>\n",
              "    .dataframe tbody tr th:only-of-type {\n",
              "        vertical-align: middle;\n",
              "    }\n",
              "\n",
              "    .dataframe tbody tr th {\n",
              "        vertical-align: top;\n",
              "    }\n",
              "\n",
              "    .dataframe thead th {\n",
              "        text-align: right;\n",
              "    }\n",
              "</style>\n",
              "<table border=\"1\" class=\"dataframe\">\n",
              "  <thead>\n",
              "    <tr style=\"text-align: right;\">\n",
              "      <th></th>\n",
              "      <th>High</th>\n",
              "      <th>Low</th>\n",
              "      <th>Open</th>\n",
              "      <th>Close</th>\n",
              "      <th>Volume</th>\n",
              "      <th>Adj Close</th>\n",
              "    </tr>\n",
              "    <tr>\n",
              "      <th>Date</th>\n",
              "      <th></th>\n",
              "      <th></th>\n",
              "      <th></th>\n",
              "      <th></th>\n",
              "      <th></th>\n",
              "      <th></th>\n",
              "    </tr>\n",
              "  </thead>\n",
              "  <tbody>\n",
              "    <tr>\n",
              "      <th>2012-01-03</th>\n",
              "      <td>179.479996</td>\n",
              "      <td>175.550003</td>\n",
              "      <td>175.889999</td>\n",
              "      <td>179.029999</td>\n",
              "      <td>5110800</td>\n",
              "      <td>179.029999</td>\n",
              "    </tr>\n",
              "    <tr>\n",
              "      <th>2012-01-04</th>\n",
              "      <td>180.500000</td>\n",
              "      <td>176.070007</td>\n",
              "      <td>179.210007</td>\n",
              "      <td>177.509995</td>\n",
              "      <td>4205200</td>\n",
              "      <td>177.509995</td>\n",
              "    </tr>\n",
              "    <tr>\n",
              "      <th>2012-01-05</th>\n",
              "      <td>178.250000</td>\n",
              "      <td>174.050003</td>\n",
              "      <td>175.940002</td>\n",
              "      <td>177.610001</td>\n",
              "      <td>3809100</td>\n",
              "      <td>177.610001</td>\n",
              "    </tr>\n",
              "    <tr>\n",
              "      <th>2012-01-06</th>\n",
              "      <td>184.649994</td>\n",
              "      <td>177.500000</td>\n",
              "      <td>178.070007</td>\n",
              "      <td>182.610001</td>\n",
              "      <td>7008400</td>\n",
              "      <td>182.610001</td>\n",
              "    </tr>\n",
              "    <tr>\n",
              "      <th>2012-01-09</th>\n",
              "      <td>184.369995</td>\n",
              "      <td>177.000000</td>\n",
              "      <td>182.759995</td>\n",
              "      <td>178.559998</td>\n",
              "      <td>5056900</td>\n",
              "      <td>178.559998</td>\n",
              "    </tr>\n",
              "    <tr>\n",
              "      <th>...</th>\n",
              "      <td>...</td>\n",
              "      <td>...</td>\n",
              "      <td>...</td>\n",
              "      <td>...</td>\n",
              "      <td>...</td>\n",
              "      <td>...</td>\n",
              "    </tr>\n",
              "    <tr>\n",
              "      <th>2021-05-10</th>\n",
              "      <td>3283.000000</td>\n",
              "      <td>3190.000000</td>\n",
              "      <td>3282.320068</td>\n",
              "      <td>3190.489990</td>\n",
              "      <td>5838600</td>\n",
              "      <td>3190.489990</td>\n",
              "    </tr>\n",
              "    <tr>\n",
              "      <th>2021-05-11</th>\n",
              "      <td>3238.000000</td>\n",
              "      <td>3127.370117</td>\n",
              "      <td>3136.280029</td>\n",
              "      <td>3223.909912</td>\n",
              "      <td>4619800</td>\n",
              "      <td>3223.909912</td>\n",
              "    </tr>\n",
              "    <tr>\n",
              "      <th>2021-05-12</th>\n",
              "      <td>3207.939941</td>\n",
              "      <td>3133.100098</td>\n",
              "      <td>3185.000000</td>\n",
              "      <td>3151.939941</td>\n",
              "      <td>4936400</td>\n",
              "      <td>3151.939941</td>\n",
              "    </tr>\n",
              "    <tr>\n",
              "      <th>2021-05-13</th>\n",
              "      <td>3203.840088</td>\n",
              "      <td>3133.000000</td>\n",
              "      <td>3185.469971</td>\n",
              "      <td>3161.469971</td>\n",
              "      <td>3350900</td>\n",
              "      <td>3161.469971</td>\n",
              "    </tr>\n",
              "    <tr>\n",
              "      <th>2021-05-14</th>\n",
              "      <td>3228.860107</td>\n",
              "      <td>3183.000000</td>\n",
              "      <td>3185.560059</td>\n",
              "      <td>3222.899902</td>\n",
              "      <td>3321400</td>\n",
              "      <td>3222.899902</td>\n",
              "    </tr>\n",
              "  </tbody>\n",
              "</table>\n",
              "<p>2357 rows × 6 columns</p>\n",
              "</div>"
            ],
            "text/plain": [
              "                   High          Low  ...   Volume    Adj Close\n",
              "Date                                  ...                      \n",
              "2012-01-03   179.479996   175.550003  ...  5110800   179.029999\n",
              "2012-01-04   180.500000   176.070007  ...  4205200   177.509995\n",
              "2012-01-05   178.250000   174.050003  ...  3809100   177.610001\n",
              "2012-01-06   184.649994   177.500000  ...  7008400   182.610001\n",
              "2012-01-09   184.369995   177.000000  ...  5056900   178.559998\n",
              "...                 ...          ...  ...      ...          ...\n",
              "2021-05-10  3283.000000  3190.000000  ...  5838600  3190.489990\n",
              "2021-05-11  3238.000000  3127.370117  ...  4619800  3223.909912\n",
              "2021-05-12  3207.939941  3133.100098  ...  4936400  3151.939941\n",
              "2021-05-13  3203.840088  3133.000000  ...  3350900  3161.469971\n",
              "2021-05-14  3228.860107  3183.000000  ...  3321400  3222.899902\n",
              "\n",
              "[2357 rows x 6 columns]"
            ]
          },
          "metadata": {
            "tags": []
          },
          "execution_count": 65
        }
      ]
    },
    {
      "cell_type": "markdown",
      "metadata": {
        "id": "vp7U9TkQI6oi"
      },
      "source": [
        "1.FORECASTING USING LINEAR REGRESSION"
      ]
    },
    {
      "cell_type": "code",
      "metadata": {
        "id": "SY_Zp-PhI2wZ"
      },
      "source": [
        "from sklearn import preprocessing\n",
        "forecast = 30\n",
        "df['Prediction'] = df[['Adj Close']].shift(-forecast)\n",
        "\n",
        "X = np.array(df.drop(['Prediction'], 1))\n",
        "X = preprocessing.scale(X)\n",
        "\n",
        "X_forecast = X[-forecast:]\n",
        "X = X[:-forecast]\n",
        "\n",
        "y = np.array(df['Prediction'])\n",
        "y = y[:-forecast]"
      ],
      "execution_count": 66,
      "outputs": []
    },
    {
      "cell_type": "code",
      "metadata": {
        "colab": {
          "base_uri": "https://localhost:8080/"
        },
        "id": "vrRvsuDBJIIU",
        "outputId": "e9a35e67-ee45-4cc7-da9d-0e269f0622e2"
      },
      "source": [
        "X_train, X_test, y_train, y_test = train_test_split(X, y, test_size=0.2)\n",
        "\n",
        "clf = LinearRegression()\n",
        "clf.fit(X_train, y_train)\n",
        "\n",
        "confidence_linear = clf.score(X_test, y_test)\n",
        "\n",
        "forecast_predicted_linear = clf.predict(X_forecast)\n",
        "print(forecast_predicted_linear)"
      ],
      "execution_count": 67,
      "outputs": [
        {
          "output_type": "stream",
          "text": [
            "[3319.59252078 3274.22168103 3376.3752668  3352.66208726 3471.37445351\n",
            " 3440.83893957 3453.31443953 3436.00967228 3443.76498335 3471.65557837\n",
            " 3467.67393498 3426.71641281 3443.58950253 3406.52563819 3424.73720775\n",
            " 3519.57103973 3499.35536344 3536.27537227 3561.61535138 3568.4277315\n",
            " 3519.29183972 3426.59931648 3382.5550734  3389.98087486 3348.97061333\n",
            " 3300.46359642 3347.24774151 3243.12775114 3254.51638829 3286.40381302]\n"
          ],
          "name": "stdout"
        }
      ]
    },
    {
      "cell_type": "code",
      "metadata": {
        "colab": {
          "base_uri": "https://localhost:8080/"
        },
        "id": "iJHv8NoDJPD5",
        "outputId": "ab7cad29-68c4-4b71-cc79-8a1ec9536814"
      },
      "source": [
        "print(confidence_linear*100)"
      ],
      "execution_count": 68,
      "outputs": [
        {
          "output_type": "stream",
          "text": [
            "98.25559175418526\n"
          ],
          "name": "stdout"
        }
      ]
    },
    {
      "cell_type": "code",
      "metadata": {
        "colab": {
          "base_uri": "https://localhost:8080/",
          "height": 400
        },
        "id": "FyXGO2EJJdlr",
        "outputId": "605afb15-0982-4991-bb9e-1aeec181a78e"
      },
      "source": [
        "dates = pd.date_range(start=\"2021-04-30\", end=\"2021-05-29\")\n",
        "plt.plot(dates, forecast_predicted_linear,color='r')\n",
        "df['Adj Close'].plot(figsize=(15,6),color='g')\n",
        "plt.xlim(xmin=datetime.date(2020,1,26))"
      ],
      "execution_count": 69,
      "outputs": [
        {
          "output_type": "execute_result",
          "data": {
            "text/plain": [
              "(737450.0, 738110.7)"
            ]
          },
          "metadata": {
            "tags": []
          },
          "execution_count": 69
        },
        {
          "output_type": "display_data",
          "data": {
            "image/png": "[encoded data removed]",
            "text/plain": [
              "<Figure size 1080x432 with 1 Axes>"
            ]
          },
          "metadata": {
            "tags": []
          }
        }
      ]
    },
    {
      "cell_type": "markdown",
      "metadata": {
        "id": "RQQZqmwfJXB1"
      },
      "source": [
        "2. FORECASTING USING LASSO REGRESSION"
      ]
    },
    {
      "cell_type": "code",
      "metadata": {
        "colab": {
          "base_uri": "https://localhost:8080/"
        },
        "id": "Ov5kPY6JJWNz",
        "outputId": "671dede3-bb0a-4691-e5ef-d03376f0629c"
      },
      "source": [
        "X_train, X_test, y_train, y_test = train_test_split(X, y, test_size=0.2)\n",
        "\n",
        "clf = Lasso()\n",
        "clf.fit(X_train, y_train)\n",
        "\n",
        "confidence_lasso = clf.score(X_test, y_test)\n",
        "\n",
        "forecast_predicted_lasso= clf.predict(X_forecast)\n",
        "print(forecast_predicted_lasso)"
      ],
      "execution_count": 70,
      "outputs": [
        {
          "output_type": "stream",
          "text": [
            "[3298.96903614 3309.49766928 3366.58325025 3387.7154011  3437.87343511\n",
            " 3459.96620562 3496.33999362 3465.33919625 3461.7983863  3472.4764516\n",
            " 3498.11215003 3445.47034794 3428.3365398  3434.12193936 3438.34617055\n",
            " 3493.60854449 3524.02201829 3555.12262599 3579.24115825 3616.36266843\n",
            " 3547.06938763 3429.69517057 3414.27042356 3378.65738162 3393.22266403\n",
            " 3340.92577229 3300.70194696 3267.28566797 3264.07121892 3291.99074281]\n"
          ],
          "name": "stdout"
        }
      ]
    },
    {
      "cell_type": "code",
      "metadata": {
        "colab": {
          "base_uri": "https://localhost:8080/"
        },
        "id": "R13YSqiqKEdm",
        "outputId": "926ba2bd-2af3-41e0-a232-f1a8a5c5093f"
      },
      "source": [
        "print(confidence_lasso*100)"
      ],
      "execution_count": 71,
      "outputs": [
        {
          "output_type": "stream",
          "text": [
            "98.32876134580675\n"
          ],
          "name": "stdout"
        }
      ]
    },
    {
      "cell_type": "code",
      "metadata": {
        "colab": {
          "base_uri": "https://localhost:8080/",
          "height": 400
        },
        "id": "vQFSVKN_KILG",
        "outputId": "906d1d98-6d64-460a-8a28-3f86d8ed4933"
      },
      "source": [
        "dates = pd.date_range(start=\"2021-04-30\", end=\"2021-05-29\")\n",
        "plt.plot(dates, forecast_predicted_lasso,color='r')\n",
        "df['Adj Close'].plot(figsize=(15,6),color='g')\n",
        "plt.xlim(xmin=datetime.date(2020,1,26))"
      ],
      "execution_count": 72,
      "outputs": [
        {
          "output_type": "execute_result",
          "data": {
            "text/plain": [
              "(737450.0, 738110.7)"
            ]
          },
          "metadata": {
            "tags": []
          },
          "execution_count": 72
        },
        {
          "output_type": "display_data",
          "data": {
            "image/png": "[encoded data removed]",
            "text/plain": [
              "<Figure size 1080x432 with 1 Axes>"
            ]
          },
          "metadata": {
            "tags": []
          }
        }
      ]
    },
    {
      "cell_type": "markdown",
      "metadata": {
        "id": "AAECcVDRKUF2"
      },
      "source": [
        "3. FORECASTING USING ELASTIC NET"
      ]
    },
    {
      "cell_type": "code",
      "metadata": {
        "colab": {
          "base_uri": "https://localhost:8080/"
        },
        "id": "iTLkyUi0KdDi",
        "outputId": "d2879c4c-c8a4-4b21-b15d-aec3da7b04c3"
      },
      "source": [
        "X_train, X_test, y_train, y_test = train_test_split(X, y, test_size=0.2)\n",
        "\n",
        "clf = ElasticNet()\n",
        "clf.fit(X_train, y_train)\n",
        "\n",
        "confidence_elastic = clf.score(X_test, y_test)\n",
        "\n",
        "forecast_predicted_elastic= clf.predict(X_forecast)\n",
        "print(forecast_predicted_elastic)"
      ],
      "execution_count": 73,
      "outputs": [
        {
          "output_type": "stream",
          "text": [
            "[3091.29550809 3109.3613759  3146.29426116 3182.75407008 3222.23263099\n",
            " 3246.42655679 3277.78875409 3234.69471519 3249.58910737 3261.1147953\n",
            " 3257.42268796 3222.09124412 3214.15075595 3207.46502424 3213.43038845\n",
            " 3264.06345562 3299.54530484 3326.58579794 3361.49166163 3373.77497263\n",
            " 3303.03815011 3209.312779   3180.7623246  3173.30442636 3188.70543868\n",
            " 3120.91489124 3081.98790837 3060.93483444 3058.21148122 3094.93148521]\n"
          ],
          "name": "stdout"
        }
      ]
    },
    {
      "cell_type": "code",
      "metadata": {
        "colab": {
          "base_uri": "https://localhost:8080/"
        },
        "id": "JhPyLHagKo2f",
        "outputId": "ba9f9331-ccd5-4e29-97dd-1c767b3d97f7"
      },
      "source": [
        "print(confidence_elastic*100)"
      ],
      "execution_count": 74,
      "outputs": [
        {
          "output_type": "stream",
          "text": [
            "97.3831062985231\n"
          ],
          "name": "stdout"
        }
      ]
    },
    {
      "cell_type": "code",
      "metadata": {
        "colab": {
          "base_uri": "https://localhost:8080/",
          "height": 400
        },
        "id": "s3eTWBX8Kskv",
        "outputId": "39cc4ea9-803f-418c-c487-ec24052411cf"
      },
      "source": [
        "dates = pd.date_range(start=\"2021-04-30\", end=\"2021-05-29\")\n",
        "plt.plot(dates, forecast_predicted_elastic,color='r')\n",
        "df['Adj Close'].plot(figsize=(15,6),color='g')\n",
        "plt.xlim(xmin=datetime.date(2020,1,26))"
      ],
      "execution_count": 75,
      "outputs": [
        {
          "output_type": "execute_result",
          "data": {
            "text/plain": [
              "(737450.0, 738110.7)"
            ]
          },
          "metadata": {
            "tags": []
          },
          "execution_count": 75
        },
        {
          "output_type": "display_data",
          "data": {
            "image/png": "[encoded data removed]",
            "text/plain": [
              "<Figure size 1080x432 with 1 Axes>"
            ]
          },
          "metadata": {
            "tags": []
          }
        }
      ]
    },
    {
      "cell_type": "markdown",
      "metadata": {
        "id": "KEb-gZvOK4cp"
      },
      "source": [
        "4.FORECASTING USING KNN"
      ]
    },
    {
      "cell_type": "code",
      "metadata": {
        "colab": {
          "base_uri": "https://localhost:8080/"
        },
        "id": "s-A-ifb6Ky7D",
        "outputId": "6d74e4c8-cb66-4187-f7f9-a49f89068ffb"
      },
      "source": [
        "from sklearn.neighbors import KNeighborsRegressor\n",
        "\n",
        "X_train, X_test, y_train, y_test = train_test_split(X, y, test_size=0.2)\n",
        "\n",
        "clf = KNeighborsRegressor()\n",
        "clf.fit(X_train, y_train)\n",
        "\n",
        "confidence_knn = clf.score(X_test, y_test)\n",
        "\n",
        "forecast_predicted_knn= clf.predict(X_forecast)\n",
        "print(forecast_predicted_knn)"
      ],
      "execution_count": 76,
      "outputs": [
        {
          "output_type": "stream",
          "text": [
            "[3188.70400391 3204.36396484 3214.27998047 3102.85795898 3143.68798828\n",
            " 3205.32998047 3266.54399414 3173.54594727 3205.32998047 3205.32998047\n",
            " 3173.54594727 3123.06396484 3104.90795898 3123.06396484 3141.74399414\n",
            " 3139.2        3308.70195312 3233.86992187 3145.07397461 3149.00800781\n",
            " 3178.1340332  3146.22397461 3128.71401367 3145.25600586 3128.85400391\n",
            " 3232.52202148 3227.99995117 3148.16396484 3170.47998047 3223.46401367]\n"
          ],
          "name": "stdout"
        }
      ]
    },
    {
      "cell_type": "code",
      "metadata": {
        "colab": {
          "base_uri": "https://localhost:8080/"
        },
        "id": "W1NFFxplLDpa",
        "outputId": "5b1279bd-53f4-48c4-93ae-4f1940b1181c"
      },
      "source": [
        "print(confidence_knn*100)"
      ],
      "execution_count": 77,
      "outputs": [
        {
          "output_type": "stream",
          "text": [
            "98.53161611057811\n"
          ],
          "name": "stdout"
        }
      ]
    },
    {
      "cell_type": "code",
      "metadata": {
        "colab": {
          "base_uri": "https://localhost:8080/",
          "height": 400
        },
        "id": "m_3bsE8SLHdJ",
        "outputId": "a468871c-fdd7-49a3-b497-b6b32484e982"
      },
      "source": [
        "dates = pd.date_range(start=\"2021-04-30\", end=\"2021-05-29\")\n",
        "plt.plot(dates, forecast_predicted_knn,color='r')\n",
        "df['Adj Close'].plot(figsize=(15,6),color='g')\n",
        "plt.xlim(xmin=datetime.date(2020,1,26))"
      ],
      "execution_count": 78,
      "outputs": [
        {
          "output_type": "execute_result",
          "data": {
            "text/plain": [
              "(737450.0, 738110.7)"
            ]
          },
          "metadata": {
            "tags": []
          },
          "execution_count": 78
        },
        {
          "output_type": "display_data",
          "data": {
            "image/png": "[encoded data removed]",
            "text/plain": [
              "<Figure size 1080x432 with 1 Axes>"
            ]
          },
          "metadata": {
            "tags": []
          }
        }
      ]
    },
    {
      "cell_type": "markdown",
      "metadata": {
        "id": "UTYtuoVnLUSd"
      },
      "source": [
        "5.FORECASTING USING DECISION TREE"
      ]
    },
    {
      "cell_type": "code",
      "metadata": {
        "colab": {
          "base_uri": "https://localhost:8080/"
        },
        "id": "AFkI9qaTLRf8",
        "outputId": "3c82c884-3b76-4f03-d2f6-6880b2cba91e"
      },
      "source": [
        "from sklearn.tree import DecisionTreeRegressor\n",
        "X_train, X_test, y_train, y_test = train_test_split(X, y, test_size=0.2)\n",
        "\n",
        "clf = DecisionTreeRegressor()\n",
        "clf.fit(X_train, y_train)\n",
        "\n",
        "confidence_dt = clf.score(X_test, y_test)\n",
        "\n",
        "forecast_predicted_dt = clf.predict(X_forecast)\n",
        "print(forecast_predicted_dt)"
      ],
      "execution_count": 79,
      "outputs": [
        {
          "output_type": "stream",
          "text": [
            "[3008.72998047 3203.5300293  3089.48999023 2951.94995117 3099.95996094\n",
            " 3137.5        3442.92993164 3137.5        3137.5        3137.5\n",
            " 3137.5        3137.5        3137.5        3099.95996094 3137.5\n",
            " 3190.55004883 3286.64990234 3363.70996094 3363.70996094 3338.64990234\n",
            " 3286.64990234 3201.64990234 3226.72998047 3125.         2951.94995117\n",
            " 3312.5300293  3110.2800293  3256.92993164 3256.92993164 3008.72998047]\n"
          ],
          "name": "stdout"
        }
      ]
    },
    {
      "cell_type": "code",
      "metadata": {
        "colab": {
          "base_uri": "https://localhost:8080/"
        },
        "id": "hRJZEv_nLm96",
        "outputId": "e62d2ea7-41b9-402d-9748-981a3443df88"
      },
      "source": [
        "print(confidence_dt*100)"
      ],
      "execution_count": 80,
      "outputs": [
        {
          "output_type": "stream",
          "text": [
            "97.65346615737917\n"
          ],
          "name": "stdout"
        }
      ]
    },
    {
      "cell_type": "code",
      "metadata": {
        "colab": {
          "base_uri": "https://localhost:8080/",
          "height": 400
        },
        "id": "EWznZnR3LqaT",
        "outputId": "291f3ced-2f00-4a70-d66a-292b8f81a97d"
      },
      "source": [
        "dates = pd.date_range(start=\"2021-04-30\", end=\"2021-05-29\")\n",
        "plt.plot(dates, forecast_predicted_knn,color='r')\n",
        "df['Adj Close'].plot(figsize=(15,6),color='g')\n",
        "plt.xlim(xmin=datetime.date(2020,1,26))"
      ],
      "execution_count": 81,
      "outputs": [
        {
          "output_type": "execute_result",
          "data": {
            "text/plain": [
              "(737450.0, 738110.7)"
            ]
          },
          "metadata": {
            "tags": []
          },
          "execution_count": 81
        },
        {
          "output_type": "display_data",
          "data": {
            "image/png": "[encoded data removed]",
            "text/plain": [
              "<Figure size 1080x432 with 1 Axes>"
            ]
          },
          "metadata": {
            "tags": []
          }
        }
      ]
    },
    {
      "cell_type": "code",
      "metadata": {
        "id": "XullDXy0MW-m"
      },
      "source": [
        "compare=pd.DataFrame({'Linear Regression':forecast_predicted_linear,'Lasso':forecast_predicted_lasso,'Decision tree Regressor':forecast_predicted_dt,'Elastic Net':forecast_predicted_elastic,'K Neighbhors Regressor':forecast_predicted_knn})"
      ],
      "execution_count": 82,
      "outputs": []
    },
    {
      "cell_type": "code",
      "metadata": {
        "colab": {
          "base_uri": "https://localhost:8080/",
          "height": 669
        },
        "id": "Bc4kWj6yMnww",
        "outputId": "7eae99a5-d57c-4f06-f4fe-a969ef670ace"
      },
      "source": [
        "compare.head(20)"
      ],
      "execution_count": 83,
      "outputs": [
        {
          "output_type": "execute_result",
          "data": {
            "text/html": [
              "<div>\n",
              "<style scoped>\n",
              "    .dataframe tbody tr th:only-of-type {\n",
              "        vertical-align: middle;\n",
              "    }\n",
              "\n",
              "    .dataframe tbody tr th {\n",
              "        vertical-align: top;\n",
              "    }\n",
              "\n",
              "    .dataframe thead th {\n",
              "        text-align: right;\n",
              "    }\n",
              "</style>\n",
              "<table border=\"1\" class=\"dataframe\">\n",
              "  <thead>\n",
              "    <tr style=\"text-align: right;\">\n",
              "      <th></th>\n",
              "      <th>Linear Regression</th>\n",
              "      <th>Lasso</th>\n",
              "      <th>Decision tree Regressor</th>\n",
              "      <th>Elastic Net</th>\n",
              "      <th>K Neighbhors Regressor</th>\n",
              "    </tr>\n",
              "  </thead>\n",
              "  <tbody>\n",
              "    <tr>\n",
              "      <th>0</th>\n",
              "      <td>3319.592521</td>\n",
              "      <td>3298.969036</td>\n",
              "      <td>3008.729980</td>\n",
              "      <td>3091.295508</td>\n",
              "      <td>3188.704004</td>\n",
              "    </tr>\n",
              "    <tr>\n",
              "      <th>1</th>\n",
              "      <td>3274.221681</td>\n",
              "      <td>3309.497669</td>\n",
              "      <td>3203.530029</td>\n",
              "      <td>3109.361376</td>\n",
              "      <td>3204.363965</td>\n",
              "    </tr>\n",
              "    <tr>\n",
              "      <th>2</th>\n",
              "      <td>3376.375267</td>\n",
              "      <td>3366.583250</td>\n",
              "      <td>3089.489990</td>\n",
              "      <td>3146.294261</td>\n",
              "      <td>3214.279980</td>\n",
              "    </tr>\n",
              "    <tr>\n",
              "      <th>3</th>\n",
              "      <td>3352.662087</td>\n",
              "      <td>3387.715401</td>\n",
              "      <td>2951.949951</td>\n",
              "      <td>3182.754070</td>\n",
              "      <td>3102.857959</td>\n",
              "    </tr>\n",
              "    <tr>\n",
              "      <th>4</th>\n",
              "      <td>3471.374454</td>\n",
              "      <td>3437.873435</td>\n",
              "      <td>3099.959961</td>\n",
              "      <td>3222.232631</td>\n",
              "      <td>3143.687988</td>\n",
              "    </tr>\n",
              "    <tr>\n",
              "      <th>5</th>\n",
              "      <td>3440.838940</td>\n",
              "      <td>3459.966206</td>\n",
              "      <td>3137.500000</td>\n",
              "      <td>3246.426557</td>\n",
              "      <td>3205.329980</td>\n",
              "    </tr>\n",
              "    <tr>\n",
              "      <th>6</th>\n",
              "      <td>3453.314440</td>\n",
              "      <td>3496.339994</td>\n",
              "      <td>3442.929932</td>\n",
              "      <td>3277.788754</td>\n",
              "      <td>3266.543994</td>\n",
              "    </tr>\n",
              "    <tr>\n",
              "      <th>7</th>\n",
              "      <td>3436.009672</td>\n",
              "      <td>3465.339196</td>\n",
              "      <td>3137.500000</td>\n",
              "      <td>3234.694715</td>\n",
              "      <td>3173.545947</td>\n",
              "    </tr>\n",
              "    <tr>\n",
              "      <th>8</th>\n",
              "      <td>3443.764983</td>\n",
              "      <td>3461.798386</td>\n",
              "      <td>3137.500000</td>\n",
              "      <td>3249.589107</td>\n",
              "      <td>3205.329980</td>\n",
              "    </tr>\n",
              "    <tr>\n",
              "      <th>9</th>\n",
              "      <td>3471.655578</td>\n",
              "      <td>3472.476452</td>\n",
              "      <td>3137.500000</td>\n",
              "      <td>3261.114795</td>\n",
              "      <td>3205.329980</td>\n",
              "    </tr>\n",
              "    <tr>\n",
              "      <th>10</th>\n",
              "      <td>3467.673935</td>\n",
              "      <td>3498.112150</td>\n",
              "      <td>3137.500000</td>\n",
              "      <td>3257.422688</td>\n",
              "      <td>3173.545947</td>\n",
              "    </tr>\n",
              "    <tr>\n",
              "      <th>11</th>\n",
              "      <td>3426.716413</td>\n",
              "      <td>3445.470348</td>\n",
              "      <td>3137.500000</td>\n",
              "      <td>3222.091244</td>\n",
              "      <td>3123.063965</td>\n",
              "    </tr>\n",
              "    <tr>\n",
              "      <th>12</th>\n",
              "      <td>3443.589503</td>\n",
              "      <td>3428.336540</td>\n",
              "      <td>3137.500000</td>\n",
              "      <td>3214.150756</td>\n",
              "      <td>3104.907959</td>\n",
              "    </tr>\n",
              "    <tr>\n",
              "      <th>13</th>\n",
              "      <td>3406.525638</td>\n",
              "      <td>3434.121939</td>\n",
              "      <td>3099.959961</td>\n",
              "      <td>3207.465024</td>\n",
              "      <td>3123.063965</td>\n",
              "    </tr>\n",
              "    <tr>\n",
              "      <th>14</th>\n",
              "      <td>3424.737208</td>\n",
              "      <td>3438.346171</td>\n",
              "      <td>3137.500000</td>\n",
              "      <td>3213.430388</td>\n",
              "      <td>3141.743994</td>\n",
              "    </tr>\n",
              "    <tr>\n",
              "      <th>15</th>\n",
              "      <td>3519.571040</td>\n",
              "      <td>3493.608544</td>\n",
              "      <td>3190.550049</td>\n",
              "      <td>3264.063456</td>\n",
              "      <td>3139.200000</td>\n",
              "    </tr>\n",
              "    <tr>\n",
              "      <th>16</th>\n",
              "      <td>3499.355363</td>\n",
              "      <td>3524.022018</td>\n",
              "      <td>3286.649902</td>\n",
              "      <td>3299.545305</td>\n",
              "      <td>3308.701953</td>\n",
              "    </tr>\n",
              "    <tr>\n",
              "      <th>17</th>\n",
              "      <td>3536.275372</td>\n",
              "      <td>3555.122626</td>\n",
              "      <td>3363.709961</td>\n",
              "      <td>3326.585798</td>\n",
              "      <td>3233.869922</td>\n",
              "    </tr>\n",
              "    <tr>\n",
              "      <th>18</th>\n",
              "      <td>3561.615351</td>\n",
              "      <td>3579.241158</td>\n",
              "      <td>3363.709961</td>\n",
              "      <td>3361.491662</td>\n",
              "      <td>3145.073975</td>\n",
              "    </tr>\n",
              "    <tr>\n",
              "      <th>19</th>\n",
              "      <td>3568.427731</td>\n",
              "      <td>3616.362668</td>\n",
              "      <td>3338.649902</td>\n",
              "      <td>3373.774973</td>\n",
              "      <td>3149.008008</td>\n",
              "    </tr>\n",
              "  </tbody>\n",
              "</table>\n",
              "</div>"
            ],
            "text/plain": [
              "    Linear Regression        Lasso  ...  Elastic Net  K Neighbhors Regressor\n",
              "0         3319.592521  3298.969036  ...  3091.295508             3188.704004\n",
              "1         3274.221681  3309.497669  ...  3109.361376             3204.363965\n",
              "2         3376.375267  3366.583250  ...  3146.294261             3214.279980\n",
              "3         3352.662087  3387.715401  ...  3182.754070             3102.857959\n",
              "4         3471.374454  3437.873435  ...  3222.232631             3143.687988\n",
              "5         3440.838940  3459.966206  ...  3246.426557             3205.329980\n",
              "6         3453.314440  3496.339994  ...  3277.788754             3266.543994\n",
              "7         3436.009672  3465.339196  ...  3234.694715             3173.545947\n",
              "8         3443.764983  3461.798386  ...  3249.589107             3205.329980\n",
              "9         3471.655578  3472.476452  ...  3261.114795             3205.329980\n",
              "10        3467.673935  3498.112150  ...  3257.422688             3173.545947\n",
              "11        3426.716413  3445.470348  ...  3222.091244             3123.063965\n",
              "12        3443.589503  3428.336540  ...  3214.150756             3104.907959\n",
              "13        3406.525638  3434.121939  ...  3207.465024             3123.063965\n",
              "14        3424.737208  3438.346171  ...  3213.430388             3141.743994\n",
              "15        3519.571040  3493.608544  ...  3264.063456             3139.200000\n",
              "16        3499.355363  3524.022018  ...  3299.545305             3308.701953\n",
              "17        3536.275372  3555.122626  ...  3326.585798             3233.869922\n",
              "18        3561.615351  3579.241158  ...  3361.491662             3145.073975\n",
              "19        3568.427731  3616.362668  ...  3373.774973             3149.008008\n",
              "\n",
              "[20 rows x 5 columns]"
            ]
          },
          "metadata": {
            "tags": []
          },
          "execution_count": 83
        }
      ]
    },
    {
      "cell_type": "markdown",
      "metadata": {
        "id": "lnllKGiLMwyg"
      },
      "source": [
        "**EVALUATION OF PERFORMANCE IN FORECASTING**"
      ]
    },
    {
      "cell_type": "code",
      "metadata": {
        "colab": {
          "base_uri": "https://localhost:8080/"
        },
        "id": "ZGOMIIqXMwbC",
        "outputId": "74d44a48-c459-47f3-d959-31d958128683"
      },
      "source": [
        "scores = [confidence_linear,confidence_lasso,confidence_knn,confidence_elastic,confidence_dt]\n",
        "algorithms = [\"Linear Regression\",\"Lasso Regression\",\"KNN\",\"ElasticNet\",\"Decision Tree Regressor\"]\n",
        "for i in range(len(algorithms)):\n",
        "    print(\"The confidence scores achieved using \"+algorithms[i]+\" is: \"+str(scores[i]*100)+\"%\")"
      ],
      "execution_count": 84,
      "outputs": [
        {
          "output_type": "stream",
          "text": [
            "The confidence scores achieved using Linear Regression is: 98.25559175418526%\n",
            "The confidence scores achieved using Lasso Regression is: 98.32876134580675%\n",
            "The confidence scores achieved using KNN is: 98.53161611057811%\n",
            "The confidence scores achieved using ElasticNet is: 97.3831062985231%\n",
            "The confidence scores achieved using Decision Tree Regressor is: 97.65346615737917%\n"
          ],
          "name": "stdout"
        }
      ]
    },
    {
      "cell_type": "code",
      "metadata": {
        "colab": {
          "base_uri": "https://localhost:8080/",
          "height": 612
        },
        "id": "z7FOg7HONSvG",
        "outputId": "1b9874bb-5a3c-4d06-db45-36a00d11b338"
      },
      "source": [
        "sns.set(rc={'figure.figsize':(25,10)})\n",
        "plt.xlabel(\"Algorithms\")\n",
        "plt.ylabel(\"Confidence Score\")\n",
        "\n",
        "sns.barplot(algorithms,scores)"
      ],
      "execution_count": null,
      "outputs": [
        {
          "output_type": "execute_result",
          "data": {
            "text/plain": [
              "<matplotlib.axes._subplots.AxesSubplot at 0x7f16ea7dd110>"
            ]
          },
          "metadata": {
            "tags": []
          },
          "execution_count": 90
        },
        {
          "output_type": "display_data",
          "data": {
            "image/png": "[encoded data removed]",
            "text/plain": [
              "<Figure size 1800x720 with 1 Axes>"
            ]
          },
          "metadata": {
            "tags": []
          }
        }
      ]
    }
  ]
}