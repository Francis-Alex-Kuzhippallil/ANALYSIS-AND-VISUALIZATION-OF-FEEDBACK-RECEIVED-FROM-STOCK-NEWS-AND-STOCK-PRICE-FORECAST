{
  "nbformat": 4,
  "nbformat_minor": 0,
  "metadata": {
    "colab": {
      "name": "SIN PREDICTION AND FORECAST FINAL INTC.ipynb",
      "provenance": [],
      "collapsed_sections": []
    },
    "kernelspec": {
      "name": "python3",
      "display_name": "Python 3"
    },
    "language_info": {
      "name": "python"
    }
  },
  "cells": [
    {
      "cell_type": "markdown",
      "metadata": {
        "id": "6gc2-uucf-9J"
      },
      "source": [
        "**IMPORTING LIBRARIES**"
      ]
    },
    {
      "cell_type": "code",
      "metadata": {
        "id": "y-W0UUeRf5lI"
      },
      "source": [
        "import numpy as np\n",
        "import pandas as pd\n",
        "import datetime\n",
        "\n",
        "%matplotlib inline\n",
        "import matplotlib.pyplot as plt\n",
        "import seaborn as sns\n",
        "plt.style.use('seaborn-darkgrid')\n",
        "plt.rc('figure', figsize=(16,10))\n",
        "plt.rc('lines', markersize=4)\n",
        "import pandas_datareader as web"
      ],
      "execution_count": 1,
      "outputs": []
    },
    {
      "cell_type": "markdown",
      "metadata": {
        "id": "80qDjskhgUX_"
      },
      "source": [
        "**READING DATA FROM YAHOO FINANCE SOURCE**"
      ]
    },
    {
      "cell_type": "code",
      "metadata": {
        "colab": {
          "base_uri": "https://localhost:8080/",
          "height": 450
        },
        "id": "v7WrYMIGgPmb",
        "outputId": "4d235b91-c796-4439-b493-76d90e528a26"
      },
      "source": [
        "data=web.DataReader('INTC',data_source='yahoo',start='2012-01-01',end='2021-05-15')\n",
        "data\n"
      ],
      "execution_count": 2,
      "outputs": [
        {
          "output_type": "execute_result",
          "data": {
            "text/html": [
              "<div>\n",
              "<style scoped>\n",
              "    .dataframe tbody tr th:only-of-type {\n",
              "        vertical-align: middle;\n",
              "    }\n",
              "\n",
              "    .dataframe tbody tr th {\n",
              "        vertical-align: top;\n",
              "    }\n",
              "\n",
              "    .dataframe thead th {\n",
              "        text-align: right;\n",
              "    }\n",
              "</style>\n",
              "<table border=\"1\" class=\"dataframe\">\n",
              "  <thead>\n",
              "    <tr style=\"text-align: right;\">\n",
              "      <th></th>\n",
              "      <th>High</th>\n",
              "      <th>Low</th>\n",
              "      <th>Open</th>\n",
              "      <th>Close</th>\n",
              "      <th>Volume</th>\n",
              "      <th>Adj Close</th>\n",
              "    </tr>\n",
              "    <tr>\n",
              "      <th>Date</th>\n",
              "      <th></th>\n",
              "      <th></th>\n",
              "      <th></th>\n",
              "      <th></th>\n",
              "      <th></th>\n",
              "      <th></th>\n",
              "    </tr>\n",
              "  </thead>\n",
              "  <tbody>\n",
              "    <tr>\n",
              "      <th>2012-01-03</th>\n",
              "      <td>24.889999</td>\n",
              "      <td>24.389999</td>\n",
              "      <td>24.620001</td>\n",
              "      <td>24.540001</td>\n",
              "      <td>44845600.0</td>\n",
              "      <td>18.532988</td>\n",
              "    </tr>\n",
              "    <tr>\n",
              "      <th>2012-01-04</th>\n",
              "      <td>25.129999</td>\n",
              "      <td>24.530001</td>\n",
              "      <td>24.570000</td>\n",
              "      <td>25.110001</td>\n",
              "      <td>47504000.0</td>\n",
              "      <td>18.963461</td>\n",
              "    </tr>\n",
              "    <tr>\n",
              "      <th>2012-01-05</th>\n",
              "      <td>25.450001</td>\n",
              "      <td>24.980000</td>\n",
              "      <td>25.059999</td>\n",
              "      <td>25.400000</td>\n",
              "      <td>49490600.0</td>\n",
              "      <td>19.182468</td>\n",
              "    </tr>\n",
              "    <tr>\n",
              "      <th>2012-01-06</th>\n",
              "      <td>25.400000</td>\n",
              "      <td>25.010000</td>\n",
              "      <td>25.209999</td>\n",
              "      <td>25.250000</td>\n",
              "      <td>36343500.0</td>\n",
              "      <td>19.069187</td>\n",
              "    </tr>\n",
              "    <tr>\n",
              "      <th>2012-01-09</th>\n",
              "      <td>25.559999</td>\n",
              "      <td>25.219999</td>\n",
              "      <td>25.400000</td>\n",
              "      <td>25.469999</td>\n",
              "      <td>47478600.0</td>\n",
              "      <td>19.235336</td>\n",
              "    </tr>\n",
              "    <tr>\n",
              "      <th>...</th>\n",
              "      <td>...</td>\n",
              "      <td>...</td>\n",
              "      <td>...</td>\n",
              "      <td>...</td>\n",
              "      <td>...</td>\n",
              "      <td>...</td>\n",
              "    </tr>\n",
              "    <tr>\n",
              "      <th>2021-05-10</th>\n",
              "      <td>57.230000</td>\n",
              "      <td>55.880001</td>\n",
              "      <td>57.150002</td>\n",
              "      <td>55.970001</td>\n",
              "      <td>35046500.0</td>\n",
              "      <td>55.970001</td>\n",
              "    </tr>\n",
              "    <tr>\n",
              "      <th>2021-05-11</th>\n",
              "      <td>55.630001</td>\n",
              "      <td>54.299999</td>\n",
              "      <td>55.049999</td>\n",
              "      <td>55.040001</td>\n",
              "      <td>35968100.0</td>\n",
              "      <td>55.040001</td>\n",
              "    </tr>\n",
              "    <tr>\n",
              "      <th>2021-05-12</th>\n",
              "      <td>54.650002</td>\n",
              "      <td>53.419998</td>\n",
              "      <td>54.389999</td>\n",
              "      <td>53.619999</td>\n",
              "      <td>30232300.0</td>\n",
              "      <td>53.619999</td>\n",
              "    </tr>\n",
              "    <tr>\n",
              "      <th>2021-05-13</th>\n",
              "      <td>54.389999</td>\n",
              "      <td>53.459999</td>\n",
              "      <td>54.040001</td>\n",
              "      <td>54.009998</td>\n",
              "      <td>29182400.0</td>\n",
              "      <td>54.009998</td>\n",
              "    </tr>\n",
              "    <tr>\n",
              "      <th>2021-05-14</th>\n",
              "      <td>55.259998</td>\n",
              "      <td>54.255001</td>\n",
              "      <td>54.604599</td>\n",
              "      <td>55.226700</td>\n",
              "      <td>9321347.0</td>\n",
              "      <td>55.226700</td>\n",
              "    </tr>\n",
              "  </tbody>\n",
              "</table>\n",
              "<p>2357 rows × 6 columns</p>\n",
              "</div>"
            ],
            "text/plain": [
              "                 High        Low       Open      Close      Volume  Adj Close\n",
              "Date                                                                         \n",
              "2012-01-03  24.889999  24.389999  24.620001  24.540001  44845600.0  18.532988\n",
              "2012-01-04  25.129999  24.530001  24.570000  25.110001  47504000.0  18.963461\n",
              "2012-01-05  25.450001  24.980000  25.059999  25.400000  49490600.0  19.182468\n",
              "2012-01-06  25.400000  25.010000  25.209999  25.250000  36343500.0  19.069187\n",
              "2012-01-09  25.559999  25.219999  25.400000  25.469999  47478600.0  19.235336\n",
              "...               ...        ...        ...        ...         ...        ...\n",
              "2021-05-10  57.230000  55.880001  57.150002  55.970001  35046500.0  55.970001\n",
              "2021-05-11  55.630001  54.299999  55.049999  55.040001  35968100.0  55.040001\n",
              "2021-05-12  54.650002  53.419998  54.389999  53.619999  30232300.0  53.619999\n",
              "2021-05-13  54.389999  53.459999  54.040001  54.009998  29182400.0  54.009998\n",
              "2021-05-14  55.259998  54.255001  54.604599  55.226700   9321347.0  55.226700\n",
              "\n",
              "[2357 rows x 6 columns]"
            ]
          },
          "metadata": {
            "tags": []
          },
          "execution_count": 2
        }
      ]
    },
    {
      "cell_type": "markdown",
      "metadata": {
        "id": "qKHfkD56gqgW"
      },
      "source": [
        "**STATISTICAL DESCRIPTION OF DATA**"
      ]
    },
    {
      "cell_type": "code",
      "metadata": {
        "colab": {
          "base_uri": "https://localhost:8080/"
        },
        "id": "_mHPDfETgoif",
        "outputId": "515abf39-32a4-46f6-9f03-257befa5536b"
      },
      "source": [
        "data.info()"
      ],
      "execution_count": 3,
      "outputs": [
        {
          "output_type": "stream",
          "text": [
            "<class 'pandas.core.frame.DataFrame'>\n",
            "DatetimeIndex: 2357 entries, 2012-01-03 to 2021-05-14\n",
            "Data columns (total 6 columns):\n",
            " #   Column     Non-Null Count  Dtype  \n",
            "---  ------     --------------  -----  \n",
            " 0   High       2357 non-null   float64\n",
            " 1   Low        2357 non-null   float64\n",
            " 2   Open       2357 non-null   float64\n",
            " 3   Close      2357 non-null   float64\n",
            " 4   Volume     2357 non-null   float64\n",
            " 5   Adj Close  2357 non-null   float64\n",
            "dtypes: float64(6)\n",
            "memory usage: 128.9 KB\n"
          ],
          "name": "stdout"
        }
      ]
    },
    {
      "cell_type": "code",
      "metadata": {
        "colab": {
          "base_uri": "https://localhost:8080/",
          "height": 297
        },
        "id": "PiSCbrAnhAdh",
        "outputId": "aeb0eb7d-499c-4a4e-b89f-79e1f6117d72"
      },
      "source": [
        "data.describe()"
      ],
      "execution_count": 4,
      "outputs": [
        {
          "output_type": "execute_result",
          "data": {
            "text/html": [
              "<div>\n",
              "<style scoped>\n",
              "    .dataframe tbody tr th:only-of-type {\n",
              "        vertical-align: middle;\n",
              "    }\n",
              "\n",
              "    .dataframe tbody tr th {\n",
              "        vertical-align: top;\n",
              "    }\n",
              "\n",
              "    .dataframe thead th {\n",
              "        text-align: right;\n",
              "    }\n",
              "</style>\n",
              "<table border=\"1\" class=\"dataframe\">\n",
              "  <thead>\n",
              "    <tr style=\"text-align: right;\">\n",
              "      <th></th>\n",
              "      <th>High</th>\n",
              "      <th>Low</th>\n",
              "      <th>Open</th>\n",
              "      <th>Close</th>\n",
              "      <th>Volume</th>\n",
              "      <th>Adj Close</th>\n",
              "    </tr>\n",
              "  </thead>\n",
              "  <tbody>\n",
              "    <tr>\n",
              "      <th>count</th>\n",
              "      <td>2357.000000</td>\n",
              "      <td>2357.000000</td>\n",
              "      <td>2357.000000</td>\n",
              "      <td>2357.000000</td>\n",
              "      <td>2.357000e+03</td>\n",
              "      <td>2357.000000</td>\n",
              "    </tr>\n",
              "    <tr>\n",
              "      <th>mean</th>\n",
              "      <td>38.728451</td>\n",
              "      <td>37.924228</td>\n",
              "      <td>38.313413</td>\n",
              "      <td>38.336367</td>\n",
              "      <td>3.048144e+07</td>\n",
              "      <td>34.566732</td>\n",
              "    </tr>\n",
              "    <tr>\n",
              "      <th>std</th>\n",
              "      <td>12.437864</td>\n",
              "      <td>12.049606</td>\n",
              "      <td>12.239936</td>\n",
              "      <td>12.242774</td>\n",
              "      <td>1.560575e+07</td>\n",
              "      <td>13.465392</td>\n",
              "    </tr>\n",
              "    <tr>\n",
              "      <th>min</th>\n",
              "      <td>19.549999</td>\n",
              "      <td>19.230000</td>\n",
              "      <td>19.520000</td>\n",
              "      <td>19.360001</td>\n",
              "      <td>5.893800e+06</td>\n",
              "      <td>15.128983</td>\n",
              "    </tr>\n",
              "    <tr>\n",
              "      <th>25%</th>\n",
              "      <td>27.980000</td>\n",
              "      <td>27.590000</td>\n",
              "      <td>27.730000</td>\n",
              "      <td>27.780001</td>\n",
              "      <td>2.071290e+07</td>\n",
              "      <td>21.898905</td>\n",
              "    </tr>\n",
              "    <tr>\n",
              "      <th>50%</th>\n",
              "      <td>35.330002</td>\n",
              "      <td>34.880001</td>\n",
              "      <td>35.130001</td>\n",
              "      <td>35.099998</td>\n",
              "      <td>2.692660e+07</td>\n",
              "      <td>31.000992</td>\n",
              "    </tr>\n",
              "    <tr>\n",
              "      <th>75%</th>\n",
              "      <td>49.240002</td>\n",
              "      <td>48.009998</td>\n",
              "      <td>48.580002</td>\n",
              "      <td>48.720001</td>\n",
              "      <td>3.537150e+07</td>\n",
              "      <td>45.953732</td>\n",
              "    </tr>\n",
              "    <tr>\n",
              "      <th>max</th>\n",
              "      <td>69.290001</td>\n",
              "      <td>67.309998</td>\n",
              "      <td>68.199997</td>\n",
              "      <td>68.470001</td>\n",
              "      <td>1.822699e+08</td>\n",
              "      <td>67.842155</td>\n",
              "    </tr>\n",
              "  </tbody>\n",
              "</table>\n",
              "</div>"
            ],
            "text/plain": [
              "              High          Low  ...        Volume    Adj Close\n",
              "count  2357.000000  2357.000000  ...  2.357000e+03  2357.000000\n",
              "mean     38.728451    37.924228  ...  3.048144e+07    34.566732\n",
              "std      12.437864    12.049606  ...  1.560575e+07    13.465392\n",
              "min      19.549999    19.230000  ...  5.893800e+06    15.128983\n",
              "25%      27.980000    27.590000  ...  2.071290e+07    21.898905\n",
              "50%      35.330002    34.880001  ...  2.692660e+07    31.000992\n",
              "75%      49.240002    48.009998  ...  3.537150e+07    45.953732\n",
              "max      69.290001    67.309998  ...  1.822699e+08    67.842155\n",
              "\n",
              "[8 rows x 6 columns]"
            ]
          },
          "metadata": {
            "tags": []
          },
          "execution_count": 4
        }
      ]
    },
    {
      "cell_type": "code",
      "metadata": {
        "colab": {
          "base_uri": "https://localhost:8080/"
        },
        "id": "SvkqOyaohEXo",
        "outputId": "a5ae9201-294e-4f36-bc67-d79e274b342d"
      },
      "source": [
        "data.columns"
      ],
      "execution_count": 5,
      "outputs": [
        {
          "output_type": "execute_result",
          "data": {
            "text/plain": [
              "Index(['High', 'Low', 'Open', 'Close', 'Volume', 'Adj Close'], dtype='object')"
            ]
          },
          "metadata": {
            "tags": []
          },
          "execution_count": 5
        }
      ]
    },
    {
      "cell_type": "code",
      "metadata": {
        "colab": {
          "base_uri": "https://localhost:8080/",
          "height": 235
        },
        "id": "49LQc1u00VXO",
        "outputId": "74de2b22-f6a3-45e1-e5a4-01ace1061564"
      },
      "source": [
        "data.corr()"
      ],
      "execution_count": 6,
      "outputs": [
        {
          "output_type": "execute_result",
          "data": {
            "text/html": [
              "<div>\n",
              "<style scoped>\n",
              "    .dataframe tbody tr th:only-of-type {\n",
              "        vertical-align: middle;\n",
              "    }\n",
              "\n",
              "    .dataframe tbody tr th {\n",
              "        vertical-align: top;\n",
              "    }\n",
              "\n",
              "    .dataframe thead th {\n",
              "        text-align: right;\n",
              "    }\n",
              "</style>\n",
              "<table border=\"1\" class=\"dataframe\">\n",
              "  <thead>\n",
              "    <tr style=\"text-align: right;\">\n",
              "      <th></th>\n",
              "      <th>High</th>\n",
              "      <th>Low</th>\n",
              "      <th>Open</th>\n",
              "      <th>Close</th>\n",
              "      <th>Volume</th>\n",
              "      <th>Adj Close</th>\n",
              "    </tr>\n",
              "  </thead>\n",
              "  <tbody>\n",
              "    <tr>\n",
              "      <th>High</th>\n",
              "      <td>1.000000</td>\n",
              "      <td>0.999048</td>\n",
              "      <td>0.999322</td>\n",
              "      <td>0.999321</td>\n",
              "      <td>-0.221588</td>\n",
              "      <td>0.997128</td>\n",
              "    </tr>\n",
              "    <tr>\n",
              "      <th>Low</th>\n",
              "      <td>0.999048</td>\n",
              "      <td>1.000000</td>\n",
              "      <td>0.999434</td>\n",
              "      <td>0.999382</td>\n",
              "      <td>-0.242221</td>\n",
              "      <td>0.996867</td>\n",
              "    </tr>\n",
              "    <tr>\n",
              "      <th>Open</th>\n",
              "      <td>0.999322</td>\n",
              "      <td>0.999434</td>\n",
              "      <td>1.000000</td>\n",
              "      <td>0.998729</td>\n",
              "      <td>-0.231400</td>\n",
              "      <td>0.996404</td>\n",
              "    </tr>\n",
              "    <tr>\n",
              "      <th>Close</th>\n",
              "      <td>0.999321</td>\n",
              "      <td>0.999382</td>\n",
              "      <td>0.998729</td>\n",
              "      <td>1.000000</td>\n",
              "      <td>-0.233291</td>\n",
              "      <td>0.997477</td>\n",
              "    </tr>\n",
              "    <tr>\n",
              "      <th>Volume</th>\n",
              "      <td>-0.221588</td>\n",
              "      <td>-0.242221</td>\n",
              "      <td>-0.231400</td>\n",
              "      <td>-0.233291</td>\n",
              "      <td>1.000000</td>\n",
              "      <td>-0.229623</td>\n",
              "    </tr>\n",
              "    <tr>\n",
              "      <th>Adj Close</th>\n",
              "      <td>0.997128</td>\n",
              "      <td>0.996867</td>\n",
              "      <td>0.996404</td>\n",
              "      <td>0.997477</td>\n",
              "      <td>-0.229623</td>\n",
              "      <td>1.000000</td>\n",
              "    </tr>\n",
              "  </tbody>\n",
              "</table>\n",
              "</div>"
            ],
            "text/plain": [
              "               High       Low      Open     Close    Volume  Adj Close\n",
              "High       1.000000  0.999048  0.999322  0.999321 -0.221588   0.997128\n",
              "Low        0.999048  1.000000  0.999434  0.999382 -0.242221   0.996867\n",
              "Open       0.999322  0.999434  1.000000  0.998729 -0.231400   0.996404\n",
              "Close      0.999321  0.999382  0.998729  1.000000 -0.233291   0.997477\n",
              "Volume    -0.221588 -0.242221 -0.231400 -0.233291  1.000000  -0.229623\n",
              "Adj Close  0.997128  0.996867  0.996404  0.997477 -0.229623   1.000000"
            ]
          },
          "metadata": {
            "tags": []
          },
          "execution_count": 6
        }
      ]
    },
    {
      "cell_type": "markdown",
      "metadata": {
        "id": "gqgwcpX2Qxqi"
      },
      "source": [
        "Overall, the adjusted closing price will give you a better idea of the overall value of the stock and help you make informed decisions about buying and selling, while the closing stock price will tell you the exact cash value of a share of stock at the end of the trading day."
      ]
    },
    {
      "cell_type": "code",
      "metadata": {
        "id": "pUetWTGIhIvx"
      },
      "source": [
        "df = pd.DataFrame(data, columns=['Adj Close'])\n",
        "df = df.reset_index()"
      ],
      "execution_count": 7,
      "outputs": []
    },
    {
      "cell_type": "code",
      "metadata": {
        "colab": {
          "base_uri": "https://localhost:8080/",
          "height": 204
        },
        "id": "j2YskMM0iClG",
        "outputId": "bbe9c982-97d9-4b08-f35c-362541513153"
      },
      "source": [
        "df.head()"
      ],
      "execution_count": 8,
      "outputs": [
        {
          "output_type": "execute_result",
          "data": {
            "text/html": [
              "<div>\n",
              "<style scoped>\n",
              "    .dataframe tbody tr th:only-of-type {\n",
              "        vertical-align: middle;\n",
              "    }\n",
              "\n",
              "    .dataframe tbody tr th {\n",
              "        vertical-align: top;\n",
              "    }\n",
              "\n",
              "    .dataframe thead th {\n",
              "        text-align: right;\n",
              "    }\n",
              "</style>\n",
              "<table border=\"1\" class=\"dataframe\">\n",
              "  <thead>\n",
              "    <tr style=\"text-align: right;\">\n",
              "      <th></th>\n",
              "      <th>Date</th>\n",
              "      <th>Adj Close</th>\n",
              "    </tr>\n",
              "  </thead>\n",
              "  <tbody>\n",
              "    <tr>\n",
              "      <th>0</th>\n",
              "      <td>2012-01-03</td>\n",
              "      <td>18.532988</td>\n",
              "    </tr>\n",
              "    <tr>\n",
              "      <th>1</th>\n",
              "      <td>2012-01-04</td>\n",
              "      <td>18.963461</td>\n",
              "    </tr>\n",
              "    <tr>\n",
              "      <th>2</th>\n",
              "      <td>2012-01-05</td>\n",
              "      <td>19.182468</td>\n",
              "    </tr>\n",
              "    <tr>\n",
              "      <th>3</th>\n",
              "      <td>2012-01-06</td>\n",
              "      <td>19.069187</td>\n",
              "    </tr>\n",
              "    <tr>\n",
              "      <th>4</th>\n",
              "      <td>2012-01-09</td>\n",
              "      <td>19.235336</td>\n",
              "    </tr>\n",
              "  </tbody>\n",
              "</table>\n",
              "</div>"
            ],
            "text/plain": [
              "        Date  Adj Close\n",
              "0 2012-01-03  18.532988\n",
              "1 2012-01-04  18.963461\n",
              "2 2012-01-05  19.182468\n",
              "3 2012-01-06  19.069187\n",
              "4 2012-01-09  19.235336"
            ]
          },
          "metadata": {
            "tags": []
          },
          "execution_count": 8
        }
      ]
    },
    {
      "cell_type": "code",
      "metadata": {
        "colab": {
          "base_uri": "https://localhost:8080/"
        },
        "id": "DoLPyygziF8_",
        "outputId": "dc0a6b88-f214-45cc-ea16-fabfb32a064f"
      },
      "source": [
        "df.info()"
      ],
      "execution_count": 9,
      "outputs": [
        {
          "output_type": "stream",
          "text": [
            "<class 'pandas.core.frame.DataFrame'>\n",
            "RangeIndex: 2357 entries, 0 to 2356\n",
            "Data columns (total 2 columns):\n",
            " #   Column     Non-Null Count  Dtype         \n",
            "---  ------     --------------  -----         \n",
            " 0   Date       2357 non-null   datetime64[ns]\n",
            " 1   Adj Close  2357 non-null   float64       \n",
            "dtypes: datetime64[ns](1), float64(1)\n",
            "memory usage: 37.0 KB\n"
          ],
          "name": "stdout"
        }
      ]
    },
    {
      "cell_type": "code",
      "metadata": {
        "colab": {
          "base_uri": "https://localhost:8080/"
        },
        "id": "-k8CwYEKiJu6",
        "outputId": "f02bfb6e-33df-4695-99ce-47300768d96e"
      },
      "source": [
        "df.isna().values.any()"
      ],
      "execution_count": 10,
      "outputs": [
        {
          "output_type": "execute_result",
          "data": {
            "text/plain": [
              "False"
            ]
          },
          "metadata": {
            "tags": []
          },
          "execution_count": 10
        }
      ]
    },
    {
      "cell_type": "markdown",
      "metadata": {
        "id": "0QaArmZHiQZr"
      },
      "source": [
        "**VISUALIZATION OF DATA**"
      ]
    },
    {
      "cell_type": "markdown",
      "metadata": {
        "id": "-aktQX7JiUxi"
      },
      "source": [
        "1. Box Plot"
      ]
    },
    {
      "cell_type": "code",
      "metadata": {
        "colab": {
          "base_uri": "https://localhost:8080/",
          "height": 425
        },
        "id": "2bkZfuQ3iMcD",
        "outputId": "ab8aa8f7-0acc-4e66-8b44-22abb5dea072"
      },
      "source": [
        "import seaborn as sns\n",
        "plt.figure(figsize=(20,7))\n",
        "boxplot = data.boxplot(column=['High', 'Low', 'Open','Close','Adj Close'])"
      ],
      "execution_count": 11,
      "outputs": [
        {
          "output_type": "display_data",
          "data": {
            "image/png": "[encoded data removed]",
            "text/plain": [
              "<Figure size 1440x504 with 1 Axes>"
            ]
          },
          "metadata": {
            "tags": [],
            "needs_background": "light"
          }
        }
      ]
    },
    {
      "cell_type": "code",
      "metadata": {
        "colab": {
          "base_uri": "https://localhost:8080/",
          "height": 293
        },
        "id": "z-A-fGAn_Vo4",
        "outputId": "99350f0c-163d-4d47-8066-3cea8f24842c"
      },
      "source": [
        "d = pd.DataFrame(data)\n",
        "import seaborn as sns\n",
        "sns.boxplot(x=d['Volume'])"
      ],
      "execution_count": 12,
      "outputs": [
        {
          "output_type": "execute_result",
          "data": {
            "text/plain": [
              "<matplotlib.axes._subplots.AxesSubplot at 0x7ff9d2615e50>"
            ]
          },
          "metadata": {
            "tags": []
          },
          "execution_count": 12
        },
        {
          "output_type": "display_data",
          "data": {
            "image/png": "[encoded data removed]",
            "text/plain": [
              "<Figure size 432x288 with 1 Axes>"
            ]
          },
          "metadata": {
            "tags": [],
            "needs_background": "light"
          }
        }
      ]
    },
    {
      "cell_type": "markdown",
      "metadata": {
        "id": "0PLu3eDE_Z-g"
      },
      "source": [
        "This shows that the volume column contains lot of outlier values which might affect the results of prediction. Hence we remove the volume column itself as part of outlier elimination."
      ]
    },
    {
      "cell_type": "markdown",
      "metadata": {
        "id": "DBez9akgi9jG"
      },
      "source": [
        "2. Visualization of Adjusted Close Price vs Data"
      ]
    },
    {
      "cell_type": "code",
      "metadata": {
        "colab": {
          "base_uri": "https://localhost:8080/",
          "height": 286
        },
        "id": "WUwHqrTIjIbz",
        "outputId": "b43e9dd0-d609-4158-aa4e-6acdebef16df"
      },
      "source": [
        "import matplotlib.dates as mdates\n",
        "\n",
        "years = mdates.YearLocator() # Get every year\n",
        "yearsFmt = mdates.DateFormatter('%Y') # Set year format\n",
        "\n",
        "# Create subplots to plot graph and control axes\n",
        "fig, ax = plt.subplots()\n",
        "ax.plot(df['Date'], df['Adj Close'])\n",
        "\n",
        "# Format the ticks\n",
        "ax.xaxis.set_major_locator(years)\n",
        "ax.xaxis.set_major_formatter(yearsFmt)\n",
        "\n",
        "# Set figure title\n",
        "plt.title('Adjusted Close Stock Price History [2012 - 2021] For Intel Data', fontsize=16)\n",
        "# Set x label\n",
        "plt.xlabel('Date', fontsize=14)\n",
        "# Set y label\n",
        "plt.ylabel('Adjusted Closing Stock Price in $', fontsize=14)\n",
        "\n",
        "# Rotate and align the x labels\n",
        "fig.autofmt_xdate()\n",
        "\n",
        "# Show plot\n",
        "plt.show()"
      ],
      "execution_count": 13,
      "outputs": [
        {
          "output_type": "display_data",
          "data": {
            "image/png": "[encoded data removed]",
            "text/plain": [
              "<Figure size 432x288 with 1 Axes>"
            ]
          },
          "metadata": {
            "tags": [],
            "needs_background": "light"
          }
        }
      ]
    },
    {
      "cell_type": "markdown",
      "metadata": {
        "id": "CYllwPwZ0gdy"
      },
      "source": [
        "3. CORRELATION BETWEEN VARIABLES"
      ]
    },
    {
      "cell_type": "code",
      "metadata": {
        "colab": {
          "base_uri": "https://localhost:8080/",
          "height": 1000
        },
        "id": "7qwWpY7y0gEA",
        "outputId": "850f5d01-c806-4fdf-91c8-b8ead7a37b3d"
      },
      "source": [
        "correlation=data.corr()\n",
        "\n",
        "plt.figure(figsize=(25, 25))\n",
        "sns.heatmap(correlation, cbar = True,  square = True, annot=True, fmt= '.2f',annot_kws={'size': 15},\n",
        "           cmap= 'coolwarm')\n",
        "plt.title('Correlation between features')"
      ],
      "execution_count": 14,
      "outputs": [
        {
          "output_type": "execute_result",
          "data": {
            "text/plain": [
              "Text(0.5, 1.0, 'Correlation between features')"
            ]
          },
          "metadata": {
            "tags": []
          },
          "execution_count": 14
        },
        {
          "output_type": "display_data",
          "data": {
            "image/png": "[encoded data removed]",
            "text/plain": [
              "<Figure size 1800x1800 with 2 Axes>"
            ]
          },
          "metadata": {
            "tags": [],
            "needs_background": "light"
          }
        }
      ]
    },
    {
      "cell_type": "markdown",
      "metadata": {
        "id": "upNIfn8wk6sA"
      },
      "source": [
        "**PREDICTING THE ACCURACY OF PREDICTION OF STOCK PRICES USING ML AND DEEP LEARNING**"
      ]
    },
    {
      "cell_type": "markdown",
      "metadata": {
        "id": "ch94e_aKlIFq"
      },
      "source": [
        "1. PREDICTION USING LINEAR REGRESSION"
      ]
    },
    {
      "cell_type": "code",
      "metadata": {
        "colab": {
          "base_uri": "https://localhost:8080/"
        },
        "id": "PNQDax24kz7A",
        "outputId": "705d7b8a-0081-4b79-8ad7-f3ba3f7fd918"
      },
      "source": [
        "from sklearn.model_selection import train_test_split\n",
        "train, test = train_test_split(df, test_size=0.20)\n",
        "from sklearn.linear_model import LinearRegression\n",
        "X_train = np.array(train.index).reshape(-1, 1)\n",
        "y_train = train['Adj Close']\n",
        "model = LinearRegression()\n",
        "# Fit linear model using the train data set\n",
        "model.fit(X_train, y_train)\n"
      ],
      "execution_count": 15,
      "outputs": [
        {
          "output_type": "execute_result",
          "data": {
            "text/plain": [
              "LinearRegression(copy_X=True, fit_intercept=True, n_jobs=None, normalize=False)"
            ]
          },
          "metadata": {
            "tags": []
          },
          "execution_count": 15
        }
      ]
    },
    {
      "cell_type": "code",
      "metadata": {
        "colab": {
          "base_uri": "https://localhost:8080/"
        },
        "id": "HBOT9PPMmAY9",
        "outputId": "f62d6944-35cd-4621-cc55-3b78a1f655f1"
      },
      "source": [
        "print('Slope: ', np.asscalar(np.squeeze(model.coef_)))\n",
        "# The Intercept\n",
        "print('Intercept: ', model.intercept_)"
      ],
      "execution_count": 16,
      "outputs": [
        {
          "output_type": "stream",
          "text": [
            "Slope:  0.01866351244414111\n",
            "Intercept:  12.668808899812621\n"
          ],
          "name": "stdout"
        },
        {
          "output_type": "stream",
          "text": [
            "/usr/local/lib/python3.7/dist-packages/ipykernel_launcher.py:1: DeprecationWarning: np.asscalar(a) is deprecated since NumPy v1.16, use a.item() instead\n",
            "  \"\"\"Entry point for launching an IPython kernel.\n"
          ],
          "name": "stderr"
        }
      ]
    },
    {
      "cell_type": "code",
      "metadata": {
        "colab": {
          "base_uri": "https://localhost:8080/",
          "height": 617
        },
        "id": "lt-M7CN1mDkS",
        "outputId": "8a1f0265-e4c1-4161-cacc-5a7ab60c341e"
      },
      "source": [
        "plt.figure(1, figsize=(16,10))\n",
        "plt.title('Linear Regression | Price vs Time')\n",
        "plt.scatter(X_train, y_train, edgecolor='w', label='Actual Price')\n",
        "plt.plot(X_train, model.predict(X_train), color='r', label='Predicted Price')\n",
        "plt.xlabel('Integer Date')\n",
        "plt.ylabel('Stock Price')\n",
        "plt.legend()\n",
        "plt.show()"
      ],
      "execution_count": 17,
      "outputs": [
        {
          "output_type": "display_data",
          "data": {
            "image/png": "[encoded data removed]",
            "text/plain": [
              "<Figure size 1152x720 with 1 Axes>"
            ]
          },
          "metadata": {
            "tags": [],
            "needs_background": "light"
          }
        }
      ]
    },
    {
      "cell_type": "code",
      "metadata": {
        "colab": {
          "base_uri": "https://localhost:8080/"
        },
        "id": "Pn0a6qF9mJ6M",
        "outputId": "56b25674-a0c3-4f3f-ad42-8ab7c18ab881"
      },
      "source": [
        "X_test = np.array(test.index).reshape(-1, 1)\n",
        "y_test = test['Adj Close']\n",
        "y_pred = model.predict(X_test)\n",
        "dfr=pd.DataFrame({'Actual Price':y_test,'Predicted Price':y_pred})\n",
        "print(dfr)"
      ],
      "execution_count": 18,
      "outputs": [
        {
          "output_type": "stream",
          "text": [
            "      Actual Price  Predicted Price\n",
            "413      17.929497        20.376840\n",
            "2134     56.012646        52.496744\n",
            "2167     47.625160        53.112640\n",
            "2284     56.003040        55.296271\n",
            "1390     30.992947        38.611091\n",
            "...            ...              ...\n",
            "1515     38.988106        40.944030\n",
            "2088     58.216534        51.638223\n",
            "84       21.898905        14.236544\n",
            "1184     33.353439        34.766408\n",
            "1361     32.694656        38.069849\n",
            "\n",
            "[472 rows x 2 columns]\n"
          ],
          "name": "stdout"
        }
      ]
    },
    {
      "cell_type": "markdown",
      "metadata": {
        "id": "q-0ka_QCmZKO"
      },
      "source": [
        "1.1 Calculating the accuracy of the prediction"
      ]
    },
    {
      "cell_type": "code",
      "metadata": {
        "colab": {
          "base_uri": "https://localhost:8080/"
        },
        "id": "71s3aPxhmWqs",
        "outputId": "46b3a453-c39a-42b9-e9ff-741528de3217"
      },
      "source": [
        "from sklearn import metrics\n",
        "import math\n",
        "rmse_linear=math.sqrt(metrics.mean_squared_error(y_test,y_pred))\n",
        "accuracy_linear=model.score(X_test,y_test)\n",
        "\n",
        "print(\"Root mean square error= \",rmse_linear)\n",
        "print(\"Accuracy Score= \",accuracy_linear*100)"
      ],
      "execution_count": 19,
      "outputs": [
        {
          "output_type": "stream",
          "text": [
            "Root mean square error=  4.341334993116015\n",
            "Accuracy Score=  88.97476501898579\n"
          ],
          "name": "stdout"
        }
      ]
    },
    {
      "cell_type": "markdown",
      "metadata": {
        "id": "I_LI1izjm7pP"
      },
      "source": [
        "1.2 Graphichal prediction "
      ]
    },
    {
      "cell_type": "code",
      "metadata": {
        "colab": {
          "base_uri": "https://localhost:8080/",
          "height": 454
        },
        "id": "wgr_Wuqtm7Af",
        "outputId": "efda8183-a4e3-4d9f-9c68-5bc317990a22"
      },
      "source": [
        "graph=dfr.head(20)\n",
        "graph.plot(kind='bar',figsize=(20,7))"
      ],
      "execution_count": 20,
      "outputs": [
        {
          "output_type": "execute_result",
          "data": {
            "text/plain": [
              "<matplotlib.axes._subplots.AxesSubplot at 0x7ff9c3ab89d0>"
            ]
          },
          "metadata": {
            "tags": []
          },
          "execution_count": 20
        },
        {
          "output_type": "display_data",
          "data": {
            "image/png": "[encoded data removed]",
            "text/plain": [
              "<Figure size 1440x504 with 1 Axes>"
            ]
          },
          "metadata": {
            "tags": [],
            "needs_background": "light"
          }
        }
      ]
    },
    {
      "cell_type": "markdown",
      "metadata": {
        "id": "aBVX6UxenbLb"
      },
      "source": [
        "2.PREDICTION USING KNN"
      ]
    },
    {
      "cell_type": "code",
      "metadata": {
        "colab": {
          "base_uri": "https://localhost:8080/"
        },
        "id": "JL4ATZldnf5Z",
        "outputId": "9fd7dc3b-1f2a-42ed-888c-7dee6fbc1248"
      },
      "source": [
        "from sklearn.model_selection import train_test_split\n",
        "from sklearn.neighbors import KNeighborsRegressor\n",
        "train, test = train_test_split(df, test_size=0.20)\n",
        "X_train = np.array(train.index).reshape(-1, 1)\n",
        "y_train = train['Adj Close']\n",
        "model = KNeighborsRegressor()\n",
        "model.fit(X_train, y_train)\n"
      ],
      "execution_count": 21,
      "outputs": [
        {
          "output_type": "execute_result",
          "data": {
            "text/plain": [
              "KNeighborsRegressor(algorithm='auto', leaf_size=30, metric='minkowski',\n",
              "                    metric_params=None, n_jobs=None, n_neighbors=5, p=2,\n",
              "                    weights='uniform')"
            ]
          },
          "metadata": {
            "tags": []
          },
          "execution_count": 21
        }
      ]
    },
    {
      "cell_type": "code",
      "metadata": {
        "colab": {
          "base_uri": "https://localhost:8080/"
        },
        "id": "WCcVshvuoZMn",
        "outputId": "2364711b-c863-4ff1-db7d-a77a495527c6"
      },
      "source": [
        "X_test = np.array(test.index).reshape(-1, 1)\n",
        "y_test = test['Adj Close']\n",
        "y_pred = model.predict(X_test)\n",
        "dfr=pd.DataFrame({'Actual Price':y_test,'Predicted Price':y_pred})\n",
        "print(dfr)"
      ],
      "execution_count": 22,
      "outputs": [
        {
          "output_type": "stream",
          "text": [
            "      Actual Price  Predicted Price\n",
            "1047     26.642046        26.385912\n",
            "2331     67.842155        64.926115\n",
            "887      25.251844        25.098749\n",
            "2286     56.981049        56.950610\n",
            "938      24.706947        25.000239\n",
            "...            ...              ...\n",
            "1921     44.845100        44.360027\n",
            "2106     58.370041        58.153787\n",
            "2301     60.030270        61.358089\n",
            "603      22.307554        22.408502\n",
            "715      28.304293        28.342846\n",
            "\n",
            "[472 rows x 2 columns]\n"
          ],
          "name": "stdout"
        }
      ]
    },
    {
      "cell_type": "markdown",
      "metadata": {
        "id": "rMGv7E7AokfQ"
      },
      "source": [
        "2.1 Calculating the Accuracy"
      ]
    },
    {
      "cell_type": "code",
      "metadata": {
        "colab": {
          "base_uri": "https://localhost:8080/"
        },
        "id": "WRKJ9xCdoiab",
        "outputId": "67546575-36ed-4b6c-9fba-e6b62739aad6"
      },
      "source": [
        "from sklearn import metrics\n",
        "import math\n",
        "rmse_knn=math.sqrt(metrics.mean_squared_error(y_test,y_pred))\n",
        "accuracy_knn=model.score(X_test,y_test) #Accuracy Score\n",
        "\n",
        "print(\"Root mean square error= \",rmse_knn)\n",
        "print(\"Accurcy Score= \",accuracy_knn*100)"
      ],
      "execution_count": 23,
      "outputs": [
        {
          "output_type": "stream",
          "text": [
            "Root mean square error=  0.7566734337334788\n",
            "Accurcy Score=  99.68165675578045\n"
          ],
          "name": "stdout"
        }
      ]
    },
    {
      "cell_type": "markdown",
      "metadata": {
        "id": "_GK4UrZmpG44"
      },
      "source": [
        "2.2 Graphical Representation"
      ]
    },
    {
      "cell_type": "code",
      "metadata": {
        "colab": {
          "base_uri": "https://localhost:8080/",
          "height": 454
        },
        "id": "dJaXm6fopGSh",
        "outputId": "5313e287-383a-43bf-f592-cd2c58e77634"
      },
      "source": [
        "graph=dfr.head(20)\n",
        "graph.plot(kind='bar',figsize=(20,7))"
      ],
      "execution_count": 24,
      "outputs": [
        {
          "output_type": "execute_result",
          "data": {
            "text/plain": [
              "<matplotlib.axes._subplots.AxesSubplot at 0x7ff9c132b150>"
            ]
          },
          "metadata": {
            "tags": []
          },
          "execution_count": 24
        },
        {
          "output_type": "display_data",
          "data": {
            "image/png": "[encoded data removed]",
            "text/plain": [
              "<Figure size 1440x504 with 1 Axes>"
            ]
          },
          "metadata": {
            "tags": [],
            "needs_background": "light"
          }
        }
      ]
    },
    {
      "cell_type": "markdown",
      "metadata": {
        "id": "bBW-3UXcpvQ2"
      },
      "source": [
        "3.PREDICTION USING DECISION TREE REGRESSOR"
      ]
    },
    {
      "cell_type": "code",
      "metadata": {
        "colab": {
          "base_uri": "https://localhost:8080/"
        },
        "id": "weGIDEeFppmO",
        "outputId": "5e8025c2-96ca-4bea-e526-6544de100fa1"
      },
      "source": [
        "from sklearn.model_selection import train_test_split\n",
        "from sklearn.tree import DecisionTreeRegressor\n",
        "train, test = train_test_split(df, test_size=0.20)\n",
        "X_train = np.array(train.index).reshape(-1, 1)\n",
        "y_train = train['Adj Close']\n",
        "model =DecisionTreeRegressor ()\n",
        "model.fit(X_train, y_train)"
      ],
      "execution_count": 25,
      "outputs": [
        {
          "output_type": "execute_result",
          "data": {
            "text/plain": [
              "DecisionTreeRegressor(ccp_alpha=0.0, criterion='mse', max_depth=None,\n",
              "                      max_features=None, max_leaf_nodes=None,\n",
              "                      min_impurity_decrease=0.0, min_impurity_split=None,\n",
              "                      min_samples_leaf=1, min_samples_split=2,\n",
              "                      min_weight_fraction_leaf=0.0, presort='deprecated',\n",
              "                      random_state=None, splitter='best')"
            ]
          },
          "metadata": {
            "tags": []
          },
          "execution_count": 25
        }
      ]
    },
    {
      "cell_type": "code",
      "metadata": {
        "colab": {
          "base_uri": "https://localhost:8080/"
        },
        "id": "U1-zlzD6r3BC",
        "outputId": "94f0bc82-b338-4a8f-f25b-87e22ed08c68"
      },
      "source": [
        "X_test = np.array(test.index).reshape(-1, 1)\n",
        "y_test = test['Adj Close']\n",
        "y_pred = model.predict(X_test)\n",
        "dfr=pd.DataFrame({'Actual Price':y_test,'Predicted Price':y_pred})\n",
        "print(dfr)"
      ],
      "execution_count": 26,
      "outputs": [
        {
          "output_type": "stream",
          "text": [
            "      Actual Price  Predicted Price\n",
            "2150     59.129871        59.568230\n",
            "2231     44.405308        45.788342\n",
            "599      21.637337        21.753180\n",
            "836      28.220203        27.485571\n",
            "856      28.841028        29.308805\n",
            "...            ...              ...\n",
            "212      16.981037        17.066999\n",
            "164      19.213377        19.267523\n",
            "2238     45.501858        44.839973\n",
            "511      21.672930        21.542904\n",
            "1057     27.861763        27.609112\n",
            "\n",
            "[472 rows x 2 columns]\n"
          ],
          "name": "stdout"
        }
      ]
    },
    {
      "cell_type": "markdown",
      "metadata": {
        "id": "IyIRX5k6r-dZ"
      },
      "source": [
        "3.1 Calculating the Accuracy"
      ]
    },
    {
      "cell_type": "code",
      "metadata": {
        "colab": {
          "base_uri": "https://localhost:8080/"
        },
        "id": "IgFlk9FSr72D",
        "outputId": "613e7e16-6e1a-43c3-ece6-3231f718c4ae"
      },
      "source": [
        "from sklearn import metrics\n",
        "import math\n",
        "rmse_dt=math.sqrt(metrics.mean_squared_error(y_test,y_pred))\n",
        "accuracy_dt=model.score(X_test,y_test) #Accuracy Score\n",
        "\n",
        "print(\"Root mean square error= \",rmse_dt)\n",
        "print(\"Accurcy Score= \",accuracy_dt*100)"
      ],
      "execution_count": 27,
      "outputs": [
        {
          "output_type": "stream",
          "text": [
            "Root mean square error=  0.857974474605539\n",
            "Accurcy Score=  99.58412969250043\n"
          ],
          "name": "stdout"
        }
      ]
    },
    {
      "cell_type": "markdown",
      "metadata": {
        "id": "bxBoGDMHsJfe"
      },
      "source": [
        "3.2 Graphical Representation"
      ]
    },
    {
      "cell_type": "code",
      "metadata": {
        "colab": {
          "base_uri": "https://localhost:8080/",
          "height": 454
        },
        "id": "EMM_aXUssIuf",
        "outputId": "4bbc294f-f5f4-4c8a-f7b0-4c81af211e8a"
      },
      "source": [
        "graph=dfr.head(20)\n",
        "graph.plot(kind='bar',figsize=(20,7))"
      ],
      "execution_count": 28,
      "outputs": [
        {
          "output_type": "execute_result",
          "data": {
            "text/plain": [
              "<matplotlib.axes._subplots.AxesSubplot at 0x7ff9c1324590>"
            ]
          },
          "metadata": {
            "tags": []
          },
          "execution_count": 28
        },
        {
          "output_type": "display_data",
          "data": {
            "image/png": "[encoded data removed]",
            "text/plain": [
              "<Figure size 1440x504 with 1 Axes>"
            ]
          },
          "metadata": {
            "tags": [],
            "needs_background": "light"
          }
        }
      ]
    },
    {
      "cell_type": "markdown",
      "metadata": {
        "id": "ePgP-uv8sXt6"
      },
      "source": [
        "4.PREDICTION USING LASSO"
      ]
    },
    {
      "cell_type": "code",
      "metadata": {
        "colab": {
          "base_uri": "https://localhost:8080/"
        },
        "id": "I5g-gNsJsXMn",
        "outputId": "0e72e376-e011-4834-ef7f-72c797690d5c"
      },
      "source": [
        "from sklearn.model_selection import train_test_split\n",
        "train, test = train_test_split(df, test_size=0.20)\n",
        "from sklearn.linear_model import Lasso\n",
        "X_train = np.array(train.index).reshape(-1, 1)\n",
        "y_train = train['Adj Close']\n",
        "model = Lasso()\n",
        "# Fit linear model using the train data set\n",
        "model.fit(X_train, y_train)"
      ],
      "execution_count": 29,
      "outputs": [
        {
          "output_type": "execute_result",
          "data": {
            "text/plain": [
              "Lasso(alpha=1.0, copy_X=True, fit_intercept=True, max_iter=1000,\n",
              "      normalize=False, positive=False, precompute=False, random_state=None,\n",
              "      selection='cyclic', tol=0.0001, warm_start=False)"
            ]
          },
          "metadata": {
            "tags": []
          },
          "execution_count": 29
        }
      ]
    },
    {
      "cell_type": "code",
      "metadata": {
        "colab": {
          "base_uri": "https://localhost:8080/"
        },
        "id": "27EKOBFatMMK",
        "outputId": "4d58482d-8a78-4b8c-dbbb-31b390af930f"
      },
      "source": [
        "X_test = np.array(test.index).reshape(-1, 1)\n",
        "y_test = test['Adj Close']\n",
        "y_pred = model.predict(X_test)\n",
        "dfr=pd.DataFrame({'Actual Price':y_test,'Predicted Price':y_pred})\n",
        "print(dfr)"
      ],
      "execution_count": 30,
      "outputs": [
        {
          "output_type": "stream",
          "text": [
            "      Actual Price  Predicted Price\n",
            "1415     32.073727        38.977320\n",
            "2148     58.447975        52.676157\n",
            "1770     45.263954        45.611818\n",
            "870      27.276070        28.791963\n",
            "1888     45.534645        47.817088\n",
            "...            ...              ...\n",
            "1567     47.278614        41.818006\n",
            "397      18.513184        19.952195\n",
            "1479     41.877811        40.173398\n",
            "236      16.137064        16.943310\n",
            "626      25.633829        24.231913\n",
            "\n",
            "[472 rows x 2 columns]\n"
          ],
          "name": "stdout"
        }
      ]
    },
    {
      "cell_type": "markdown",
      "metadata": {
        "id": "xtyjIqpTtSSk"
      },
      "source": [
        "4.1 Calculating the Accuracy"
      ]
    },
    {
      "cell_type": "code",
      "metadata": {
        "colab": {
          "base_uri": "https://localhost:8080/"
        },
        "id": "9ClH2QzNtRts",
        "outputId": "4035eee6-7cc7-4b92-9699-a9bf6d22af14"
      },
      "source": [
        "from sklearn import metrics\n",
        "import math\n",
        "rmse_lasso=math.sqrt(metrics.mean_squared_error(y_test,y_pred))\n",
        "accuracy_lasso=model.score(X_test,y_test) #Accuracy Score\n",
        "\n",
        "print(\"Root mean square error= \",rmse_lasso)\n",
        "print(\"Accurcy Score= \",accuracy_lasso*100)"
      ],
      "execution_count": 31,
      "outputs": [
        {
          "output_type": "stream",
          "text": [
            "Root mean square error=  4.618082743473548\n",
            "Accurcy Score=  88.1601442254079\n"
          ],
          "name": "stdout"
        }
      ]
    },
    {
      "cell_type": "markdown",
      "metadata": {
        "id": "YMY-VUe3txTo"
      },
      "source": [
        "4.2 Graphical Representation"
      ]
    },
    {
      "cell_type": "code",
      "metadata": {
        "colab": {
          "base_uri": "https://localhost:8080/",
          "height": 454
        },
        "id": "M2z5DspatgGN",
        "outputId": "b10f0725-6b7c-45f3-cffd-3907d4d03103"
      },
      "source": [
        "graph=dfr.head(20)\n",
        "graph.plot(kind='bar',figsize=(20,7))"
      ],
      "execution_count": 32,
      "outputs": [
        {
          "output_type": "execute_result",
          "data": {
            "text/plain": [
              "<matplotlib.axes._subplots.AxesSubplot at 0x7ff9c05f4a10>"
            ]
          },
          "metadata": {
            "tags": []
          },
          "execution_count": 32
        },
        {
          "output_type": "display_data",
          "data": {
            "image/png": "[encoded data removed]",
            "text/plain": [
              "<Figure size 1440x504 with 1 Axes>"
            ]
          },
          "metadata": {
            "tags": [],
            "needs_background": "light"
          }
        }
      ]
    },
    {
      "cell_type": "markdown",
      "metadata": {
        "id": "G3sCGf8pt6VG"
      },
      "source": [
        "5. PREDICTION USING ELASTIC NET"
      ]
    },
    {
      "cell_type": "code",
      "metadata": {
        "colab": {
          "base_uri": "https://localhost:8080/"
        },
        "id": "3abwUc1Mt91j",
        "outputId": "1a4eddc3-9221-44b1-93c9-daa68e3650da"
      },
      "source": [
        "from sklearn.model_selection import train_test_split\n",
        "train, test = train_test_split(df, test_size=0.20)\n",
        "from sklearn.linear_model import ElasticNet\n",
        "X_train = np.array(train.index).reshape(-1, 1)\n",
        "y_train = train['Adj Close']\n",
        "model = ElasticNet()\n",
        "# Fit linear model using the train data set\n",
        "model.fit(X_train, y_train)"
      ],
      "execution_count": 33,
      "outputs": [
        {
          "output_type": "execute_result",
          "data": {
            "text/plain": [
              "ElasticNet(alpha=1.0, copy_X=True, fit_intercept=True, l1_ratio=0.5,\n",
              "           max_iter=1000, normalize=False, positive=False, precompute=False,\n",
              "           random_state=None, selection='cyclic', tol=0.0001, warm_start=False)"
            ]
          },
          "metadata": {
            "tags": []
          },
          "execution_count": 33
        }
      ]
    },
    {
      "cell_type": "code",
      "metadata": {
        "colab": {
          "base_uri": "https://localhost:8080/"
        },
        "id": "lauxW9jOuGnU",
        "outputId": "6ea9d284-98e7-4102-adf5-2496da18bb72"
      },
      "source": [
        "X_test = np.array(test.index).reshape(-1, 1)\n",
        "y_test = test['Adj Close']\n",
        "y_pred = model.predict(X_test)\n",
        "dfr=pd.DataFrame({'Actual Price':y_test,'Predicted Price':y_pred})\n",
        "print(dfr)"
      ],
      "execution_count": 34,
      "outputs": [
        {
          "output_type": "stream",
          "text": [
            "      Actual Price  Predicted Price\n",
            "609      23.308752        24.023077\n",
            "1819     50.264000        46.596875\n",
            "371      19.143057        19.582941\n",
            "1924     43.896049        48.555759\n",
            "1940     49.436977        48.854255\n",
            "...            ...              ...\n",
            "485      20.169552        21.709729\n",
            "1442     34.171246        39.563551\n",
            "1420     31.654222        39.153119\n",
            "2309     62.286369        55.738331\n",
            "1484     41.052181        40.347105\n",
            "\n",
            "[472 rows x 2 columns]\n"
          ],
          "name": "stdout"
        }
      ]
    },
    {
      "cell_type": "markdown",
      "metadata": {
        "id": "yJ5GeHtSuNyY"
      },
      "source": [
        "5.1 Calculating the Accuracy"
      ]
    },
    {
      "cell_type": "code",
      "metadata": {
        "colab": {
          "base_uri": "https://localhost:8080/"
        },
        "id": "l8sqSLX2uLQH",
        "outputId": "af0da83f-4c06-47ae-ff15-de8f7d5051b5"
      },
      "source": [
        "from sklearn import metrics\n",
        "import math\n",
        "rmse_el=math.sqrt(metrics.mean_squared_error(y_test,y_pred))\n",
        "accuracy_el=model.score(X_test,y_test) #Accuracy Score\n",
        "\n",
        "print(\"Root mean square error= \",rmse_el)\n",
        "print(\"Accurcy Score= \",accuracy_el*100)"
      ],
      "execution_count": 35,
      "outputs": [
        {
          "output_type": "stream",
          "text": [
            "Root mean square error=  4.542805115032778\n",
            "Accurcy Score=  88.94523735677427\n"
          ],
          "name": "stdout"
        }
      ]
    },
    {
      "cell_type": "markdown",
      "metadata": {
        "id": "dncqo1d-udEe"
      },
      "source": [
        "5.2 Graphical Representation"
      ]
    },
    {
      "cell_type": "code",
      "metadata": {
        "colab": {
          "base_uri": "https://localhost:8080/",
          "height": 454
        },
        "id": "xT74q7R5uZ0j",
        "outputId": "b7d3b54b-839c-4068-f722-aa199ba9d733"
      },
      "source": [
        "graph=dfr.head(20)\n",
        "graph.plot(kind='bar',figsize=(20,7))"
      ],
      "execution_count": 36,
      "outputs": [
        {
          "output_type": "execute_result",
          "data": {
            "text/plain": [
              "<matplotlib.axes._subplots.AxesSubplot at 0x7ff9c04d8290>"
            ]
          },
          "metadata": {
            "tags": []
          },
          "execution_count": 36
        },
        {
          "output_type": "display_data",
          "data": {
            "image/png": "[encoded data removed]",
            "text/plain": [
              "<Figure size 1440x504 with 1 Axes>"
            ]
          },
          "metadata": {
            "tags": [],
            "needs_background": "light"
          }
        }
      ]
    },
    {
      "cell_type": "markdown",
      "metadata": {
        "id": "mxVuOTU0u6fN"
      },
      "source": [
        "6. PREDICTION USING LSTM STACKED ESTIMATOR"
      ]
    },
    {
      "cell_type": "code",
      "metadata": {
        "id": "_Sfcr3KTuj1S"
      },
      "source": [
        "df1=data.reset_index()['Adj Close']"
      ],
      "execution_count": 37,
      "outputs": []
    },
    {
      "cell_type": "code",
      "metadata": {
        "id": "Y-kcpxO-vdcq"
      },
      "source": [
        "from sklearn.preprocessing import MinMaxScaler\n",
        "scaler=MinMaxScaler(feature_range=(0,1))\n",
        "df1=scaler.fit_transform(np.array(df1).reshape(-1,1))"
      ],
      "execution_count": 38,
      "outputs": []
    },
    {
      "cell_type": "code",
      "metadata": {
        "id": "uC9s3Unfvivi"
      },
      "source": [
        "training_size=int(len(df1)*0.65)\n",
        "test_size=len(df1)-training_size\n",
        "train_data,test_data=df1[0:training_size:],df1[training_size:len(df1),:1]"
      ],
      "execution_count": 39,
      "outputs": []
    },
    {
      "cell_type": "code",
      "metadata": {
        "id": "rVwCS5nCvl5d"
      },
      "source": [
        "import numpy\n",
        "\n",
        "def create_dataset(dataset,time_step=1):\n",
        "  dataX,dataY=[],[]\n",
        "  for i in range(len(dataset)-time_step-1):\n",
        "    a=dataset[i:(i+time_step),0]\n",
        "    dataX.append(a)\n",
        "    dataY.append(dataset[i+time_step,0])\n",
        "  return numpy.array(dataX),numpy.array(dataY)"
      ],
      "execution_count": 40,
      "outputs": []
    },
    {
      "cell_type": "code",
      "metadata": {
        "id": "woyIMvBNvo8B"
      },
      "source": [
        " time_step=100\n",
        " X_train,y_train=create_dataset(train_data,time_step)\n",
        " X_test,ytest=create_dataset(train_data,time_step)"
      ],
      "execution_count": 41,
      "outputs": []
    },
    {
      "cell_type": "code",
      "metadata": {
        "colab": {
          "base_uri": "https://localhost:8080/"
        },
        "id": "tIeI4YEWvrU-",
        "outputId": "2cd02974-5a2a-4915-f3c7-920a2797dc5b"
      },
      "source": [
        "print(X_train)"
      ],
      "execution_count": 42,
      "outputs": [
        {
          "output_type": "stream",
          "text": [
            "[[0.06457597 0.0727423  0.076897   ... 0.0916279  0.08304574 0.08610046]\n",
            " [0.0727423  0.076897   0.07474799 ... 0.08304574 0.08610046 0.08740962]\n",
            " [0.076897   0.07474799 0.07789994 ... 0.08610046 0.08740962 0.09250068]\n",
            " ...\n",
            " [0.33165909 0.32785294 0.32179777 ... 0.50134993 0.5845363  0.58279594]\n",
            " [0.32785294 0.32179777 0.33183211 ... 0.5845363  0.58279594 0.56208659]\n",
            " [0.32179777 0.33183211 0.33736819 ... 0.58279594 0.56208659 0.5507746 ]]\n"
          ],
          "name": "stdout"
        }
      ]
    },
    {
      "cell_type": "code",
      "metadata": {
        "id": "OpCqSHkKvt4H"
      },
      "source": [
        "X_train =X_train.reshape(X_train.shape[0],X_train.shape[1],1)\n",
        "X_test =X_test.reshape(X_test.shape[0],X_test.shape[1],1)"
      ],
      "execution_count": 43,
      "outputs": []
    },
    {
      "cell_type": "code",
      "metadata": {
        "id": "ejlgyQWovwp_"
      },
      "source": [
        "from tensorflow.keras.models import Sequential\n",
        "from tensorflow.keras.layers import Dense\n",
        "from tensorflow.keras.layers import LSTM"
      ],
      "execution_count": 44,
      "outputs": []
    },
    {
      "cell_type": "code",
      "metadata": {
        "id": "rH3mHgLxvzUm"
      },
      "source": [
        "model=Sequential()\n",
        "model.add(LSTM(50,return_sequences=True,input_shape=(100,1)))\n",
        "model.add(LSTM(50,return_sequences=True))\n",
        "model.add(LSTM(50))\n",
        "model.add(Dense(1))\n",
        "model.compile(loss='mean_squared_error',optimizer='adam')"
      ],
      "execution_count": 45,
      "outputs": []
    },
    {
      "cell_type": "code",
      "metadata": {
        "colab": {
          "base_uri": "https://localhost:8080/"
        },
        "id": "eHL_d3bKv2iK",
        "outputId": "44203a6e-9588-4455-8466-21fabf703e66"
      },
      "source": [
        "model.summary()"
      ],
      "execution_count": 46,
      "outputs": [
        {
          "output_type": "stream",
          "text": [
            "Model: \"sequential\"\n",
            "_________________________________________________________________\n",
            "Layer (type)                 Output Shape              Param #   \n",
            "=================================================================\n",
            "lstm (LSTM)                  (None, 100, 50)           10400     \n",
            "_________________________________________________________________\n",
            "lstm_1 (LSTM)                (None, 100, 50)           20200     \n",
            "_________________________________________________________________\n",
            "lstm_2 (LSTM)                (None, 50)                20200     \n",
            "_________________________________________________________________\n",
            "dense (Dense)                (None, 1)                 51        \n",
            "=================================================================\n",
            "Total params: 50,851\n",
            "Trainable params: 50,851\n",
            "Non-trainable params: 0\n",
            "_________________________________________________________________\n"
          ],
          "name": "stdout"
        }
      ]
    },
    {
      "cell_type": "code",
      "metadata": {
        "colab": {
          "base_uri": "https://localhost:8080/"
        },
        "id": "jKXs-XTBv5Ev",
        "outputId": "cb8f7556-8300-4120-e4b4-7c33b4784a48"
      },
      "source": [
        "model.fit(X_train,y_train,validation_data=(X_test,ytest),epochs=100,batch_size=64,verbose=1)"
      ],
      "execution_count": 47,
      "outputs": [
        {
          "output_type": "stream",
          "text": [
            "Epoch 1/100\n",
            "23/23 [==============================] - 10s 247ms/step - loss: 0.0232 - val_loss: 0.0030\n",
            "Epoch 2/100\n",
            "23/23 [==============================] - 4s 191ms/step - loss: 0.0018 - val_loss: 8.4862e-04\n",
            "Epoch 3/100\n",
            "23/23 [==============================] - 4s 190ms/step - loss: 6.5063e-04 - val_loss: 4.9667e-04\n",
            "Epoch 4/100\n",
            "23/23 [==============================] - 4s 189ms/step - loss: 4.9214e-04 - val_loss: 4.8422e-04\n",
            "Epoch 5/100\n",
            "23/23 [==============================] - 4s 191ms/step - loss: 4.9796e-04 - val_loss: 4.7001e-04\n",
            "Epoch 6/100\n",
            "23/23 [==============================] - 4s 190ms/step - loss: 4.7687e-04 - val_loss: 5.8965e-04\n",
            "Epoch 7/100\n",
            "23/23 [==============================] - 4s 191ms/step - loss: 5.2512e-04 - val_loss: 4.8777e-04\n",
            "Epoch 8/100\n",
            "23/23 [==============================] - 4s 190ms/step - loss: 4.6013e-04 - val_loss: 5.0416e-04\n",
            "Epoch 9/100\n",
            "23/23 [==============================] - 4s 192ms/step - loss: 4.8398e-04 - val_loss: 4.1459e-04\n",
            "Epoch 10/100\n",
            "23/23 [==============================] - 4s 190ms/step - loss: 4.3044e-04 - val_loss: 4.1466e-04\n",
            "Epoch 11/100\n",
            "23/23 [==============================] - 4s 191ms/step - loss: 3.8079e-04 - val_loss: 4.0749e-04\n",
            "Epoch 12/100\n",
            "23/23 [==============================] - 4s 193ms/step - loss: 3.9142e-04 - val_loss: 3.9181e-04\n",
            "Epoch 13/100\n",
            "23/23 [==============================] - 4s 196ms/step - loss: 4.0540e-04 - val_loss: 4.5879e-04\n",
            "Epoch 14/100\n",
            "23/23 [==============================] - 4s 196ms/step - loss: 4.2074e-04 - val_loss: 4.0214e-04\n",
            "Epoch 15/100\n",
            "23/23 [==============================] - 4s 197ms/step - loss: 3.7983e-04 - val_loss: 3.4903e-04\n",
            "Epoch 16/100\n",
            "23/23 [==============================] - 4s 195ms/step - loss: 3.8486e-04 - val_loss: 4.0613e-04\n",
            "Epoch 17/100\n",
            "23/23 [==============================] - 5s 198ms/step - loss: 4.0227e-04 - val_loss: 3.3933e-04\n",
            "Epoch 18/100\n",
            "23/23 [==============================] - 4s 196ms/step - loss: 3.4196e-04 - val_loss: 3.3029e-04\n",
            "Epoch 19/100\n",
            "23/23 [==============================] - 4s 195ms/step - loss: 3.5778e-04 - val_loss: 3.3502e-04\n",
            "Epoch 20/100\n",
            "23/23 [==============================] - 4s 195ms/step - loss: 3.3545e-04 - val_loss: 3.1525e-04\n",
            "Epoch 21/100\n",
            "23/23 [==============================] - 4s 194ms/step - loss: 3.1629e-04 - val_loss: 3.0563e-04\n",
            "Epoch 22/100\n",
            "23/23 [==============================] - 4s 195ms/step - loss: 2.7511e-04 - val_loss: 3.0017e-04\n",
            "Epoch 23/100\n",
            "23/23 [==============================] - 4s 193ms/step - loss: 3.6742e-04 - val_loss: 3.5264e-04\n",
            "Epoch 24/100\n",
            "23/23 [==============================] - 4s 196ms/step - loss: 3.2397e-04 - val_loss: 2.8170e-04\n",
            "Epoch 25/100\n",
            "23/23 [==============================] - 4s 195ms/step - loss: 3.1848e-04 - val_loss: 2.8715e-04\n",
            "Epoch 26/100\n",
            "23/23 [==============================] - 4s 195ms/step - loss: 3.0494e-04 - val_loss: 2.9708e-04\n",
            "Epoch 27/100\n",
            "23/23 [==============================] - 4s 197ms/step - loss: 2.7379e-04 - val_loss: 3.0764e-04\n",
            "Epoch 28/100\n",
            "23/23 [==============================] - 4s 197ms/step - loss: 3.4793e-04 - val_loss: 2.9885e-04\n",
            "Epoch 29/100\n",
            "23/23 [==============================] - 5s 198ms/step - loss: 2.7436e-04 - val_loss: 2.4794e-04\n",
            "Epoch 30/100\n",
            "23/23 [==============================] - 4s 195ms/step - loss: 2.4074e-04 - val_loss: 2.4530e-04\n",
            "Epoch 31/100\n",
            "23/23 [==============================] - 5s 203ms/step - loss: 2.4045e-04 - val_loss: 3.4838e-04\n",
            "Epoch 32/100\n",
            "23/23 [==============================] - 5s 200ms/step - loss: 3.5810e-04 - val_loss: 2.6486e-04\n",
            "Epoch 33/100\n",
            "23/23 [==============================] - 5s 199ms/step - loss: 3.0899e-04 - val_loss: 2.4462e-04\n",
            "Epoch 34/100\n",
            "23/23 [==============================] - 5s 200ms/step - loss: 2.3815e-04 - val_loss: 2.1399e-04\n",
            "Epoch 35/100\n",
            "23/23 [==============================] - 5s 199ms/step - loss: 2.2314e-04 - val_loss: 2.0984e-04\n",
            "Epoch 36/100\n",
            "23/23 [==============================] - 5s 200ms/step - loss: 2.2159e-04 - val_loss: 2.1324e-04\n",
            "Epoch 37/100\n",
            "23/23 [==============================] - 5s 199ms/step - loss: 2.3641e-04 - val_loss: 1.9250e-04\n",
            "Epoch 38/100\n",
            "23/23 [==============================] - 5s 200ms/step - loss: 1.9858e-04 - val_loss: 2.1051e-04\n",
            "Epoch 39/100\n",
            "23/23 [==============================] - 5s 201ms/step - loss: 1.9679e-04 - val_loss: 1.8507e-04\n",
            "Epoch 40/100\n",
            "23/23 [==============================] - 5s 199ms/step - loss: 1.8842e-04 - val_loss: 1.7744e-04\n",
            "Epoch 41/100\n",
            "23/23 [==============================] - 5s 200ms/step - loss: 1.7191e-04 - val_loss: 1.7211e-04\n",
            "Epoch 42/100\n",
            "23/23 [==============================] - 5s 201ms/step - loss: 1.8112e-04 - val_loss: 1.6156e-04\n",
            "Epoch 43/100\n",
            "23/23 [==============================] - 5s 200ms/step - loss: 1.8194e-04 - val_loss: 2.0028e-04\n",
            "Epoch 44/100\n",
            "23/23 [==============================] - 5s 202ms/step - loss: 2.1293e-04 - val_loss: 1.5147e-04\n",
            "Epoch 45/100\n",
            "23/23 [==============================] - 5s 200ms/step - loss: 1.6179e-04 - val_loss: 1.7697e-04\n",
            "Epoch 46/100\n",
            "23/23 [==============================] - 5s 199ms/step - loss: 1.4660e-04 - val_loss: 1.6312e-04\n",
            "Epoch 47/100\n",
            "23/23 [==============================] - 5s 199ms/step - loss: 1.6414e-04 - val_loss: 1.5068e-04\n",
            "Epoch 48/100\n",
            "23/23 [==============================] - 5s 199ms/step - loss: 1.5086e-04 - val_loss: 1.3764e-04\n",
            "Epoch 49/100\n",
            "23/23 [==============================] - 5s 200ms/step - loss: 1.3662e-04 - val_loss: 1.7118e-04\n",
            "Epoch 50/100\n",
            "23/23 [==============================] - 5s 200ms/step - loss: 1.4893e-04 - val_loss: 1.3211e-04\n",
            "Epoch 51/100\n",
            "23/23 [==============================] - 5s 200ms/step - loss: 1.5149e-04 - val_loss: 1.2937e-04\n",
            "Epoch 52/100\n",
            "23/23 [==============================] - 5s 201ms/step - loss: 1.4577e-04 - val_loss: 1.4571e-04\n",
            "Epoch 53/100\n",
            "23/23 [==============================] - 5s 200ms/step - loss: 1.3789e-04 - val_loss: 1.3462e-04\n",
            "Epoch 54/100\n",
            "23/23 [==============================] - 5s 201ms/step - loss: 1.4272e-04 - val_loss: 1.4767e-04\n",
            "Epoch 55/100\n",
            "23/23 [==============================] - 5s 201ms/step - loss: 1.5803e-04 - val_loss: 1.3469e-04\n",
            "Epoch 56/100\n",
            "23/23 [==============================] - 5s 200ms/step - loss: 1.2400e-04 - val_loss: 1.2111e-04\n",
            "Epoch 57/100\n",
            "23/23 [==============================] - 5s 201ms/step - loss: 1.2461e-04 - val_loss: 1.2691e-04\n",
            "Epoch 58/100\n",
            "23/23 [==============================] - 5s 201ms/step - loss: 1.2625e-04 - val_loss: 1.3141e-04\n",
            "Epoch 59/100\n",
            "23/23 [==============================] - 5s 200ms/step - loss: 1.3071e-04 - val_loss: 1.3026e-04\n",
            "Epoch 60/100\n",
            "23/23 [==============================] - 5s 201ms/step - loss: 1.4004e-04 - val_loss: 1.1724e-04\n",
            "Epoch 61/100\n",
            "23/23 [==============================] - 5s 202ms/step - loss: 1.2136e-04 - val_loss: 1.1566e-04\n",
            "Epoch 62/100\n",
            "23/23 [==============================] - 5s 200ms/step - loss: 1.0943e-04 - val_loss: 1.1867e-04\n",
            "Epoch 63/100\n",
            "23/23 [==============================] - 5s 199ms/step - loss: 1.2192e-04 - val_loss: 1.5833e-04\n",
            "Epoch 64/100\n",
            "23/23 [==============================] - 5s 201ms/step - loss: 1.4061e-04 - val_loss: 1.3847e-04\n",
            "Epoch 65/100\n",
            "23/23 [==============================] - 5s 204ms/step - loss: 1.1884e-04 - val_loss: 1.1992e-04\n",
            "Epoch 66/100\n",
            "23/23 [==============================] - 5s 202ms/step - loss: 1.3603e-04 - val_loss: 1.9061e-04\n",
            "Epoch 67/100\n",
            "23/23 [==============================] - 5s 204ms/step - loss: 1.5134e-04 - val_loss: 1.4532e-04\n",
            "Epoch 68/100\n",
            "23/23 [==============================] - 5s 204ms/step - loss: 1.2172e-04 - val_loss: 1.6362e-04\n",
            "Epoch 69/100\n",
            "23/23 [==============================] - 5s 204ms/step - loss: 1.3522e-04 - val_loss: 2.5940e-04\n",
            "Epoch 70/100\n",
            "23/23 [==============================] - 5s 203ms/step - loss: 1.7541e-04 - val_loss: 1.3462e-04\n",
            "Epoch 71/100\n",
            "23/23 [==============================] - 5s 203ms/step - loss: 1.1501e-04 - val_loss: 1.1365e-04\n",
            "Epoch 72/100\n",
            "23/23 [==============================] - 5s 203ms/step - loss: 1.1220e-04 - val_loss: 1.2515e-04\n",
            "Epoch 73/100\n",
            "23/23 [==============================] - 5s 203ms/step - loss: 1.1638e-04 - val_loss: 1.3375e-04\n",
            "Epoch 74/100\n",
            "23/23 [==============================] - 5s 204ms/step - loss: 1.5364e-04 - val_loss: 1.1610e-04\n",
            "Epoch 75/100\n",
            "23/23 [==============================] - 5s 203ms/step - loss: 1.3369e-04 - val_loss: 1.0382e-04\n",
            "Epoch 76/100\n",
            "23/23 [==============================] - 5s 204ms/step - loss: 1.0798e-04 - val_loss: 1.0514e-04\n",
            "Epoch 77/100\n",
            "23/23 [==============================] - 5s 224ms/step - loss: 1.0495e-04 - val_loss: 1.0108e-04\n",
            "Epoch 78/100\n",
            "23/23 [==============================] - 6s 256ms/step - loss: 9.8599e-05 - val_loss: 1.2531e-04\n",
            "Epoch 79/100\n",
            "23/23 [==============================] - 5s 206ms/step - loss: 1.1658e-04 - val_loss: 9.8724e-05\n",
            "Epoch 80/100\n",
            "23/23 [==============================] - 5s 205ms/step - loss: 1.0006e-04 - val_loss: 1.1145e-04\n",
            "Epoch 81/100\n",
            "23/23 [==============================] - 5s 207ms/step - loss: 1.1042e-04 - val_loss: 9.7675e-05\n",
            "Epoch 82/100\n",
            "23/23 [==============================] - 5s 204ms/step - loss: 1.1072e-04 - val_loss: 9.6214e-05\n",
            "Epoch 83/100\n",
            "23/23 [==============================] - 5s 205ms/step - loss: 1.2218e-04 - val_loss: 9.8346e-05\n",
            "Epoch 84/100\n",
            "23/23 [==============================] - 5s 206ms/step - loss: 1.0131e-04 - val_loss: 1.1070e-04\n",
            "Epoch 85/100\n",
            "23/23 [==============================] - 5s 205ms/step - loss: 1.1820e-04 - val_loss: 1.2763e-04\n",
            "Epoch 86/100\n",
            "23/23 [==============================] - 5s 208ms/step - loss: 1.0376e-04 - val_loss: 1.2691e-04\n",
            "Epoch 87/100\n",
            "23/23 [==============================] - 5s 207ms/step - loss: 1.0977e-04 - val_loss: 9.8638e-05\n",
            "Epoch 88/100\n",
            "23/23 [==============================] - 5s 205ms/step - loss: 1.1400e-04 - val_loss: 1.0304e-04\n",
            "Epoch 89/100\n",
            "23/23 [==============================] - 5s 206ms/step - loss: 1.0117e-04 - val_loss: 9.5533e-05\n",
            "Epoch 90/100\n",
            "23/23 [==============================] - 5s 207ms/step - loss: 9.7362e-05 - val_loss: 1.1781e-04\n",
            "Epoch 91/100\n",
            "23/23 [==============================] - 5s 206ms/step - loss: 1.0546e-04 - val_loss: 1.0262e-04\n",
            "Epoch 92/100\n",
            "23/23 [==============================] - 5s 205ms/step - loss: 1.2477e-04 - val_loss: 9.0169e-05\n",
            "Epoch 93/100\n",
            "23/23 [==============================] - 5s 204ms/step - loss: 1.3843e-04 - val_loss: 9.3405e-05\n",
            "Epoch 94/100\n",
            "23/23 [==============================] - 5s 207ms/step - loss: 9.3086e-05 - val_loss: 1.2495e-04\n",
            "Epoch 95/100\n",
            "23/23 [==============================] - 5s 206ms/step - loss: 1.1030e-04 - val_loss: 9.8112e-05\n",
            "Epoch 96/100\n",
            "23/23 [==============================] - 5s 206ms/step - loss: 1.1976e-04 - val_loss: 1.9752e-04\n",
            "Epoch 97/100\n",
            "23/23 [==============================] - 5s 206ms/step - loss: 1.3267e-04 - val_loss: 8.6197e-05\n",
            "Epoch 98/100\n",
            "23/23 [==============================] - 5s 208ms/step - loss: 1.0793e-04 - val_loss: 9.2979e-05\n",
            "Epoch 99/100\n",
            "23/23 [==============================] - 5s 207ms/step - loss: 8.2053e-05 - val_loss: 1.1167e-04\n",
            "Epoch 100/100\n",
            "23/23 [==============================] - 5s 207ms/step - loss: 1.0709e-04 - val_loss: 1.3534e-04\n"
          ],
          "name": "stdout"
        },
        {
          "output_type": "execute_result",
          "data": {
            "text/plain": [
              "<tensorflow.python.keras.callbacks.History at 0x7ff987edf610>"
            ]
          },
          "metadata": {
            "tags": []
          },
          "execution_count": 47
        }
      ]
    },
    {
      "cell_type": "code",
      "metadata": {
        "id": "6Qv0P9CJzexF"
      },
      "source": [
        "train_predict=model.predict(X_train)\n",
        "test_predict=model.predict(X_test)"
      ],
      "execution_count": 48,
      "outputs": []
    },
    {
      "cell_type": "code",
      "metadata": {
        "id": "QbOwK4jPzieo"
      },
      "source": [
        "train_predict=scaler.inverse_transform(train_predict)\n",
        "test_predict=scaler.inverse_transform(test_predict)"
      ],
      "execution_count": 49,
      "outputs": []
    },
    {
      "cell_type": "markdown",
      "metadata": {
        "id": "GQEcRFMV45rh"
      },
      "source": [
        "6.1 Calculating the Accuracy"
      ]
    },
    {
      "cell_type": "code",
      "metadata": {
        "colab": {
          "base_uri": "https://localhost:8080/"
        },
        "id": "Dd4qOiLDzkm6",
        "outputId": "6dd28603-c86a-4f39-8965-5e1da9f593bb"
      },
      "source": [
        "import math\n",
        "from sklearn.metrics import mean_squared_error\n",
        "rmse_lstm=math.sqrt(mean_squared_error(ytest,test_predict))\n",
        "print(\"RMSE score of LSTM =\",rmse_lstm)\n"
      ],
      "execution_count": 50,
      "outputs": [
        {
          "output_type": "stream",
          "text": [
            "RMSE score of LSTM = 26.409240870573992\n"
          ],
          "name": "stdout"
        }
      ]
    },
    {
      "cell_type": "markdown",
      "metadata": {
        "id": "FpySVNjW1TOy"
      },
      "source": [
        "7.PREDICTION USING FBPROPHET"
      ]
    },
    {
      "cell_type": "code",
      "metadata": {
        "id": "5PrhzMu61Swu"
      },
      "source": [
        "import datetime as dt\n",
        "import matplotlib.pyplot as plt\n",
        "import warnings\n",
        "warnings.simplefilter(action='ignore',category=FutureWarning)\n",
        "from fbprophet import Prophet"
      ],
      "execution_count": 51,
      "outputs": []
    },
    {
      "cell_type": "code",
      "metadata": {
        "id": "QboFAame2JFe"
      },
      "source": [
        "model=Prophet()"
      ],
      "execution_count": 52,
      "outputs": []
    },
    {
      "cell_type": "code",
      "metadata": {
        "id": "uNwl8BmQ2Nz2"
      },
      "source": [
        "dfb=data.reset_index()"
      ],
      "execution_count": 53,
      "outputs": []
    },
    {
      "cell_type": "code",
      "metadata": {
        "colab": {
          "base_uri": "https://localhost:8080/",
          "height": 419
        },
        "id": "OeAgzo4V2Sul",
        "outputId": "6784bca8-bb8f-40b9-fcfc-c572ab43ccae"
      },
      "source": [
        "dfb"
      ],
      "execution_count": 54,
      "outputs": [
        {
          "output_type": "execute_result",
          "data": {
            "text/html": [
              "<div>\n",
              "<style scoped>\n",
              "    .dataframe tbody tr th:only-of-type {\n",
              "        vertical-align: middle;\n",
              "    }\n",
              "\n",
              "    .dataframe tbody tr th {\n",
              "        vertical-align: top;\n",
              "    }\n",
              "\n",
              "    .dataframe thead th {\n",
              "        text-align: right;\n",
              "    }\n",
              "</style>\n",
              "<table border=\"1\" class=\"dataframe\">\n",
              "  <thead>\n",
              "    <tr style=\"text-align: right;\">\n",
              "      <th></th>\n",
              "      <th>Date</th>\n",
              "      <th>High</th>\n",
              "      <th>Low</th>\n",
              "      <th>Open</th>\n",
              "      <th>Close</th>\n",
              "      <th>Volume</th>\n",
              "      <th>Adj Close</th>\n",
              "    </tr>\n",
              "  </thead>\n",
              "  <tbody>\n",
              "    <tr>\n",
              "      <th>0</th>\n",
              "      <td>2012-01-03</td>\n",
              "      <td>24.889999</td>\n",
              "      <td>24.389999</td>\n",
              "      <td>24.620001</td>\n",
              "      <td>24.540001</td>\n",
              "      <td>44845600.0</td>\n",
              "      <td>18.532988</td>\n",
              "    </tr>\n",
              "    <tr>\n",
              "      <th>1</th>\n",
              "      <td>2012-01-04</td>\n",
              "      <td>25.129999</td>\n",
              "      <td>24.530001</td>\n",
              "      <td>24.570000</td>\n",
              "      <td>25.110001</td>\n",
              "      <td>47504000.0</td>\n",
              "      <td>18.963461</td>\n",
              "    </tr>\n",
              "    <tr>\n",
              "      <th>2</th>\n",
              "      <td>2012-01-05</td>\n",
              "      <td>25.450001</td>\n",
              "      <td>24.980000</td>\n",
              "      <td>25.059999</td>\n",
              "      <td>25.400000</td>\n",
              "      <td>49490600.0</td>\n",
              "      <td>19.182468</td>\n",
              "    </tr>\n",
              "    <tr>\n",
              "      <th>3</th>\n",
              "      <td>2012-01-06</td>\n",
              "      <td>25.400000</td>\n",
              "      <td>25.010000</td>\n",
              "      <td>25.209999</td>\n",
              "      <td>25.250000</td>\n",
              "      <td>36343500.0</td>\n",
              "      <td>19.069187</td>\n",
              "    </tr>\n",
              "    <tr>\n",
              "      <th>4</th>\n",
              "      <td>2012-01-09</td>\n",
              "      <td>25.559999</td>\n",
              "      <td>25.219999</td>\n",
              "      <td>25.400000</td>\n",
              "      <td>25.469999</td>\n",
              "      <td>47478600.0</td>\n",
              "      <td>19.235336</td>\n",
              "    </tr>\n",
              "    <tr>\n",
              "      <th>...</th>\n",
              "      <td>...</td>\n",
              "      <td>...</td>\n",
              "      <td>...</td>\n",
              "      <td>...</td>\n",
              "      <td>...</td>\n",
              "      <td>...</td>\n",
              "      <td>...</td>\n",
              "    </tr>\n",
              "    <tr>\n",
              "      <th>2352</th>\n",
              "      <td>2021-05-10</td>\n",
              "      <td>57.230000</td>\n",
              "      <td>55.880001</td>\n",
              "      <td>57.150002</td>\n",
              "      <td>55.970001</td>\n",
              "      <td>35046500.0</td>\n",
              "      <td>55.970001</td>\n",
              "    </tr>\n",
              "    <tr>\n",
              "      <th>2353</th>\n",
              "      <td>2021-05-11</td>\n",
              "      <td>55.630001</td>\n",
              "      <td>54.299999</td>\n",
              "      <td>55.049999</td>\n",
              "      <td>55.040001</td>\n",
              "      <td>35968100.0</td>\n",
              "      <td>55.040001</td>\n",
              "    </tr>\n",
              "    <tr>\n",
              "      <th>2354</th>\n",
              "      <td>2021-05-12</td>\n",
              "      <td>54.650002</td>\n",
              "      <td>53.419998</td>\n",
              "      <td>54.389999</td>\n",
              "      <td>53.619999</td>\n",
              "      <td>30232300.0</td>\n",
              "      <td>53.619999</td>\n",
              "    </tr>\n",
              "    <tr>\n",
              "      <th>2355</th>\n",
              "      <td>2021-05-13</td>\n",
              "      <td>54.389999</td>\n",
              "      <td>53.459999</td>\n",
              "      <td>54.040001</td>\n",
              "      <td>54.009998</td>\n",
              "      <td>29182400.0</td>\n",
              "      <td>54.009998</td>\n",
              "    </tr>\n",
              "    <tr>\n",
              "      <th>2356</th>\n",
              "      <td>2021-05-14</td>\n",
              "      <td>55.259998</td>\n",
              "      <td>54.255001</td>\n",
              "      <td>54.604599</td>\n",
              "      <td>55.226700</td>\n",
              "      <td>9321347.0</td>\n",
              "      <td>55.226700</td>\n",
              "    </tr>\n",
              "  </tbody>\n",
              "</table>\n",
              "<p>2357 rows × 7 columns</p>\n",
              "</div>"
            ],
            "text/plain": [
              "           Date       High        Low  ...      Close      Volume  Adj Close\n",
              "0    2012-01-03  24.889999  24.389999  ...  24.540001  44845600.0  18.532988\n",
              "1    2012-01-04  25.129999  24.530001  ...  25.110001  47504000.0  18.963461\n",
              "2    2012-01-05  25.450001  24.980000  ...  25.400000  49490600.0  19.182468\n",
              "3    2012-01-06  25.400000  25.010000  ...  25.250000  36343500.0  19.069187\n",
              "4    2012-01-09  25.559999  25.219999  ...  25.469999  47478600.0  19.235336\n",
              "...         ...        ...        ...  ...        ...         ...        ...\n",
              "2352 2021-05-10  57.230000  55.880001  ...  55.970001  35046500.0  55.970001\n",
              "2353 2021-05-11  55.630001  54.299999  ...  55.040001  35968100.0  55.040001\n",
              "2354 2021-05-12  54.650002  53.419998  ...  53.619999  30232300.0  53.619999\n",
              "2355 2021-05-13  54.389999  53.459999  ...  54.009998  29182400.0  54.009998\n",
              "2356 2021-05-14  55.259998  54.255001  ...  55.226700   9321347.0  55.226700\n",
              "\n",
              "[2357 rows x 7 columns]"
            ]
          },
          "metadata": {
            "tags": []
          },
          "execution_count": 54
        }
      ]
    },
    {
      "cell_type": "code",
      "metadata": {
        "id": "pQUzNEYT2Uur"
      },
      "source": [
        "dfb[['ds','y']]=dfb[['Date','Adj Close']]"
      ],
      "execution_count": 57,
      "outputs": []
    },
    {
      "cell_type": "code",
      "metadata": {
        "colab": {
          "base_uri": "https://localhost:8080/",
          "height": 419
        },
        "id": "P0x6Ni-Z2Zi2",
        "outputId": "be818336-97cf-41e0-e587-9149fea43ae5"
      },
      "source": [
        "dfb"
      ],
      "execution_count": 58,
      "outputs": [
        {
          "output_type": "execute_result",
          "data": {
            "text/html": [
              "<div>\n",
              "<style scoped>\n",
              "    .dataframe tbody tr th:only-of-type {\n",
              "        vertical-align: middle;\n",
              "    }\n",
              "\n",
              "    .dataframe tbody tr th {\n",
              "        vertical-align: top;\n",
              "    }\n",
              "\n",
              "    .dataframe thead th {\n",
              "        text-align: right;\n",
              "    }\n",
              "</style>\n",
              "<table border=\"1\" class=\"dataframe\">\n",
              "  <thead>\n",
              "    <tr style=\"text-align: right;\">\n",
              "      <th></th>\n",
              "      <th>Date</th>\n",
              "      <th>High</th>\n",
              "      <th>Low</th>\n",
              "      <th>Open</th>\n",
              "      <th>Close</th>\n",
              "      <th>Volume</th>\n",
              "      <th>Adj Close</th>\n",
              "      <th>ds</th>\n",
              "      <th>y</th>\n",
              "    </tr>\n",
              "  </thead>\n",
              "  <tbody>\n",
              "    <tr>\n",
              "      <th>0</th>\n",
              "      <td>2012-01-03</td>\n",
              "      <td>24.889999</td>\n",
              "      <td>24.389999</td>\n",
              "      <td>24.620001</td>\n",
              "      <td>24.540001</td>\n",
              "      <td>44845600.0</td>\n",
              "      <td>18.532988</td>\n",
              "      <td>2012-01-03</td>\n",
              "      <td>18.532988</td>\n",
              "    </tr>\n",
              "    <tr>\n",
              "      <th>1</th>\n",
              "      <td>2012-01-04</td>\n",
              "      <td>25.129999</td>\n",
              "      <td>24.530001</td>\n",
              "      <td>24.570000</td>\n",
              "      <td>25.110001</td>\n",
              "      <td>47504000.0</td>\n",
              "      <td>18.963461</td>\n",
              "      <td>2012-01-04</td>\n",
              "      <td>18.963461</td>\n",
              "    </tr>\n",
              "    <tr>\n",
              "      <th>2</th>\n",
              "      <td>2012-01-05</td>\n",
              "      <td>25.450001</td>\n",
              "      <td>24.980000</td>\n",
              "      <td>25.059999</td>\n",
              "      <td>25.400000</td>\n",
              "      <td>49490600.0</td>\n",
              "      <td>19.182468</td>\n",
              "      <td>2012-01-05</td>\n",
              "      <td>19.182468</td>\n",
              "    </tr>\n",
              "    <tr>\n",
              "      <th>3</th>\n",
              "      <td>2012-01-06</td>\n",
              "      <td>25.400000</td>\n",
              "      <td>25.010000</td>\n",
              "      <td>25.209999</td>\n",
              "      <td>25.250000</td>\n",
              "      <td>36343500.0</td>\n",
              "      <td>19.069187</td>\n",
              "      <td>2012-01-06</td>\n",
              "      <td>19.069187</td>\n",
              "    </tr>\n",
              "    <tr>\n",
              "      <th>4</th>\n",
              "      <td>2012-01-09</td>\n",
              "      <td>25.559999</td>\n",
              "      <td>25.219999</td>\n",
              "      <td>25.400000</td>\n",
              "      <td>25.469999</td>\n",
              "      <td>47478600.0</td>\n",
              "      <td>19.235336</td>\n",
              "      <td>2012-01-09</td>\n",
              "      <td>19.235336</td>\n",
              "    </tr>\n",
              "    <tr>\n",
              "      <th>...</th>\n",
              "      <td>...</td>\n",
              "      <td>...</td>\n",
              "      <td>...</td>\n",
              "      <td>...</td>\n",
              "      <td>...</td>\n",
              "      <td>...</td>\n",
              "      <td>...</td>\n",
              "      <td>...</td>\n",
              "      <td>...</td>\n",
              "    </tr>\n",
              "    <tr>\n",
              "      <th>2352</th>\n",
              "      <td>2021-05-10</td>\n",
              "      <td>57.230000</td>\n",
              "      <td>55.880001</td>\n",
              "      <td>57.150002</td>\n",
              "      <td>55.970001</td>\n",
              "      <td>35046500.0</td>\n",
              "      <td>55.970001</td>\n",
              "      <td>2021-05-10</td>\n",
              "      <td>55.970001</td>\n",
              "    </tr>\n",
              "    <tr>\n",
              "      <th>2353</th>\n",
              "      <td>2021-05-11</td>\n",
              "      <td>55.630001</td>\n",
              "      <td>54.299999</td>\n",
              "      <td>55.049999</td>\n",
              "      <td>55.040001</td>\n",
              "      <td>35968100.0</td>\n",
              "      <td>55.040001</td>\n",
              "      <td>2021-05-11</td>\n",
              "      <td>55.040001</td>\n",
              "    </tr>\n",
              "    <tr>\n",
              "      <th>2354</th>\n",
              "      <td>2021-05-12</td>\n",
              "      <td>54.650002</td>\n",
              "      <td>53.419998</td>\n",
              "      <td>54.389999</td>\n",
              "      <td>53.619999</td>\n",
              "      <td>30232300.0</td>\n",
              "      <td>53.619999</td>\n",
              "      <td>2021-05-12</td>\n",
              "      <td>53.619999</td>\n",
              "    </tr>\n",
              "    <tr>\n",
              "      <th>2355</th>\n",
              "      <td>2021-05-13</td>\n",
              "      <td>54.389999</td>\n",
              "      <td>53.459999</td>\n",
              "      <td>54.040001</td>\n",
              "      <td>54.009998</td>\n",
              "      <td>29182400.0</td>\n",
              "      <td>54.009998</td>\n",
              "      <td>2021-05-13</td>\n",
              "      <td>54.009998</td>\n",
              "    </tr>\n",
              "    <tr>\n",
              "      <th>2356</th>\n",
              "      <td>2021-05-14</td>\n",
              "      <td>55.259998</td>\n",
              "      <td>54.255001</td>\n",
              "      <td>54.604599</td>\n",
              "      <td>55.226700</td>\n",
              "      <td>9321347.0</td>\n",
              "      <td>55.226700</td>\n",
              "      <td>2021-05-14</td>\n",
              "      <td>55.226700</td>\n",
              "    </tr>\n",
              "  </tbody>\n",
              "</table>\n",
              "<p>2357 rows × 9 columns</p>\n",
              "</div>"
            ],
            "text/plain": [
              "           Date       High        Low  ...  Adj Close         ds          y\n",
              "0    2012-01-03  24.889999  24.389999  ...  18.532988 2012-01-03  18.532988\n",
              "1    2012-01-04  25.129999  24.530001  ...  18.963461 2012-01-04  18.963461\n",
              "2    2012-01-05  25.450001  24.980000  ...  19.182468 2012-01-05  19.182468\n",
              "3    2012-01-06  25.400000  25.010000  ...  19.069187 2012-01-06  19.069187\n",
              "4    2012-01-09  25.559999  25.219999  ...  19.235336 2012-01-09  19.235336\n",
              "...         ...        ...        ...  ...        ...        ...        ...\n",
              "2352 2021-05-10  57.230000  55.880001  ...  55.970001 2021-05-10  55.970001\n",
              "2353 2021-05-11  55.630001  54.299999  ...  55.040001 2021-05-11  55.040001\n",
              "2354 2021-05-12  54.650002  53.419998  ...  53.619999 2021-05-12  53.619999\n",
              "2355 2021-05-13  54.389999  53.459999  ...  54.009998 2021-05-13  54.009998\n",
              "2356 2021-05-14  55.259998  54.255001  ...  55.226700 2021-05-14  55.226700\n",
              "\n",
              "[2357 rows x 9 columns]"
            ]
          },
          "metadata": {
            "tags": []
          },
          "execution_count": 58
        }
      ]
    },
    {
      "cell_type": "code",
      "metadata": {
        "colab": {
          "base_uri": "https://localhost:8080/"
        },
        "id": "7Wjzh-Gw2bfi",
        "outputId": "f9c54e89-e7ce-44bb-aac8-9207b0b1dcf6"
      },
      "source": [
        "model.fit(dfb)"
      ],
      "execution_count": 59,
      "outputs": [
        {
          "output_type": "stream",
          "text": [
            "INFO:fbprophet:Disabling daily seasonality. Run prophet with daily_seasonality=True to override this.\n"
          ],
          "name": "stderr"
        },
        {
          "output_type": "execute_result",
          "data": {
            "text/plain": [
              "<fbprophet.forecaster.Prophet at 0x7ff98213ed10>"
            ]
          },
          "metadata": {
            "tags": []
          },
          "execution_count": 59
        }
      ]
    },
    {
      "cell_type": "code",
      "metadata": {
        "id": "x_joJtYe2fJQ"
      },
      "source": [
        "prediction=model.make_future_dataframe(periods=200)"
      ],
      "execution_count": 60,
      "outputs": []
    },
    {
      "cell_type": "code",
      "metadata": {
        "colab": {
          "base_uri": "https://localhost:8080/"
        },
        "id": "agfIEWej2i84",
        "outputId": "50852dee-9038-4ada-eac8-17ba73e1ce9f"
      },
      "source": [
        "pre=model.predict(prediction)\n",
        "print(pre)"
      ],
      "execution_count": 61,
      "outputs": [
        {
          "output_type": "stream",
          "text": [
            "             ds      trend  ...  multiplicative_terms_upper       yhat\n",
            "0    2012-01-03  20.090688  ...                         0.0  20.443843\n",
            "1    2012-01-04  20.082865  ...                         0.0  20.427379\n",
            "2    2012-01-05  20.075041  ...                         0.0  20.445466\n",
            "3    2012-01-06  20.067217  ...                         0.0  20.442819\n",
            "4    2012-01-09  20.043746  ...                         0.0  20.491717\n",
            "...         ...        ...  ...                         ...        ...\n",
            "2552 2021-11-26  59.444411  ...                         0.0  59.474080\n",
            "2553 2021-11-27  59.456203  ...                         0.0  58.358232\n",
            "2554 2021-11-28  59.467995  ...                         0.0  58.389384\n",
            "2555 2021-11-29  59.479788  ...                         0.0  59.531141\n",
            "2556 2021-11-30  59.491580  ...                         0.0  59.652439\n",
            "\n",
            "[2557 rows x 19 columns]\n"
          ],
          "name": "stdout"
        }
      ]
    },
    {
      "cell_type": "markdown",
      "metadata": {
        "id": "h9O7exT040S6"
      },
      "source": [
        "7.1 Calclulating the Accuracy"
      ]
    },
    {
      "cell_type": "code",
      "metadata": {
        "colab": {
          "base_uri": "https://localhost:8080/"
        },
        "id": "sPHvTNhZ3xpG",
        "outputId": "acaea20e-5ac3-4314-93cd-4935fffa9b19"
      },
      "source": [
        "import math\n",
        "from sklearn.metrics import mean_squared_error\n",
        "rmse_fb=math.sqrt(mean_squared_error(pre['trend'],pre['yhat']))\n",
        "print(\"RMSE error of FBProphet =\",rmse_fb)"
      ],
      "execution_count": 62,
      "outputs": [
        {
          "output_type": "stream",
          "text": [
            "RMSE error of FBProphet = 1.0731247370351156\n"
          ],
          "name": "stdout"
        }
      ]
    },
    {
      "cell_type": "markdown",
      "metadata": {
        "id": "4wlTQAS04vY2"
      },
      "source": [
        "7.2 Graphical Visualization"
      ]
    },
    {
      "cell_type": "code",
      "metadata": {
        "colab": {
          "base_uri": "https://localhost:8080/",
          "height": 262
        },
        "id": "asEO4s0f4H39",
        "outputId": "6c49d43f-d80c-4ad3-887d-3dc03debe755"
      },
      "source": [
        "from matplotlib import pyplot\n",
        "pyplot.plot(pre['trend'], label='Actual')\n",
        "pyplot.plot(pre['yhat'], label='Predicted')\n",
        "pyplot.legend()\n",
        "pyplot.show()"
      ],
      "execution_count": 63,
      "outputs": [
        {
          "output_type": "display_data",
          "data": {
            "image/png": "[encoded data removed]",
            "text/plain": [
              "<Figure size 432x288 with 1 Axes>"
            ]
          },
          "metadata": {
            "tags": [],
            "needs_background": "light"
          }
        }
      ]
    },
    {
      "cell_type": "markdown",
      "metadata": {
        "id": "T5ya6xggD1Ys"
      },
      "source": [
        "**Evaluation of the Performance of Algorithms**"
      ]
    },
    {
      "cell_type": "markdown",
      "metadata": {
        "id": "r176V9N3F-Ij"
      },
      "source": [
        "1. BASED ON THE ACCURACY SCORE"
      ]
    },
    {
      "cell_type": "code",
      "metadata": {
        "colab": {
          "base_uri": "https://localhost:8080/"
        },
        "id": "SXXenXpID0ti",
        "outputId": "ce4571c3-08a7-4bc6-e914-65ee23cdc292"
      },
      "source": [
        "scores = [accuracy_linear*100,accuracy_lasso*100,accuracy_knn*100,accuracy_el*100,accuracy_dt*100]\n",
        "algorithms = [\"Linear Regression\",\"Lasso Regression\",\"KNN\",\"ElasticNet\",\"Decision Tree Regressor\"]\n",
        "for i in range(len(algorithms)):\n",
        "    print(\"The accuracy score achieved using \"+algorithms[i]+\" is: \"+str(scores[i])+\" %\")"
      ],
      "execution_count": 64,
      "outputs": [
        {
          "output_type": "stream",
          "text": [
            "The accuracy score achieved using Linear Regression is: 88.97476501898579 %\n",
            "The accuracy score achieved using Lasso Regression is: 88.1601442254079 %\n",
            "The accuracy score achieved using KNN is: 99.68165675578045 %\n",
            "The accuracy score achieved using ElasticNet is: 88.94523735677427 %\n",
            "The accuracy score achieved using Decision Tree Regressor is: 99.58412969250043 %\n"
          ],
          "name": "stdout"
        }
      ]
    },
    {
      "cell_type": "code",
      "metadata": {
        "colab": {
          "base_uri": "https://localhost:8080/",
          "height": 376
        },
        "id": "5xPP7bKKE8FQ",
        "outputId": "39f1a4e5-5b17-49f9-a712-6b1f49fe9637"
      },
      "source": [
        "sns.set(rc={'figure.figsize':(25,10)})\n",
        "plt.xlabel(\"Algorithms\")\n",
        "plt.ylabel(\"Accuracy score\")\n",
        "\n",
        "sns.barplot(algorithms,scores)"
      ],
      "execution_count": 65,
      "outputs": [
        {
          "output_type": "execute_result",
          "data": {
            "text/plain": [
              "<matplotlib.axes._subplots.AxesSubplot at 0x7ff97fdb7910>"
            ]
          },
          "metadata": {
            "tags": []
          },
          "execution_count": 65
        },
        {
          "output_type": "display_data",
          "data": {
            "image/png": "[encoded data removed]",
            "text/plain": [
              "<Figure size 1800x720 with 1 Axes>"
            ]
          },
          "metadata": {
            "tags": []
          }
        }
      ]
    },
    {
      "cell_type": "markdown",
      "metadata": {
        "id": "SsoCiO-HGCcM"
      },
      "source": [
        "2. BASED ON RMSE VALUES"
      ]
    },
    {
      "cell_type": "code",
      "metadata": {
        "colab": {
          "base_uri": "https://localhost:8080/"
        },
        "id": "mz9R5HmFGE17",
        "outputId": "5ce94e50-bd28-40a9-c5b7-987ac1444424"
      },
      "source": [
        "scores = [rmse_linear,rmse_lasso,rmse_knn,rmse_el,rmse_dt,rmse_lstm,rmse_fb]\n",
        "algorithms = [\"Linear Regression\",\"Lasso Regression\",\"KNN\",\"ElasticNet\",\"Decision Tree Regressor\",\"LSTM\",\"FB PROPHET\"]\n",
        "for i in range(len(algorithms)):\n",
        "    print(\"The RMSE score achieved using \"+algorithms[i]+\" is: \"+str(scores[i])+\" \")"
      ],
      "execution_count": 96,
      "outputs": [
        {
          "output_type": "stream",
          "text": [
            "The RMSE score achieved using Linear Regression is: 4.341334993116015 \n",
            "The RMSE score achieved using Lasso Regression is: 4.618082743473548 \n",
            "The RMSE score achieved using KNN is: 0.7566734337334788 \n",
            "The RMSE score achieved using ElasticNet is: 4.542805115032778 \n",
            "The RMSE score achieved using Decision Tree Regressor is: 0.857974474605539 \n",
            "The RMSE score achieved using LSTM is: 26.409240870573992 \n",
            "The RMSE score achieved using FB PROPHET is: 1.0731247370351156 \n"
          ],
          "name": "stdout"
        }
      ]
    },
    {
      "cell_type": "code",
      "metadata": {
        "colab": {
          "base_uri": "https://localhost:8080/",
          "height": 378
        },
        "id": "w_-TqVSqGcGg",
        "outputId": "3f0a2ad1-17c8-4916-ee49-914a452de32e"
      },
      "source": [
        "sns.set(rc={'figure.figsize':(25,10)})\n",
        "plt.xlabel(\"Algorithms\")\n",
        "plt.ylabel(\"RMSE Value\")\n",
        "\n",
        "sns.barplot(algorithms,scores)"
      ],
      "execution_count": 97,
      "outputs": [
        {
          "output_type": "execute_result",
          "data": {
            "text/plain": [
              "<matplotlib.axes._subplots.AxesSubplot at 0x7ff97f7cd990>"
            ]
          },
          "metadata": {
            "tags": []
          },
          "execution_count": 97
        },
        {
          "output_type": "display_data",
          "data": {
            "image/png": "[encoded data removed]",
            "text/plain": [
              "<Figure size 1800x720 with 1 Axes>"
            ]
          },
          "metadata": {
            "tags": []
          }
        }
      ]
    },
    {
      "cell_type": "markdown",
      "metadata": {
        "id": "xRbrpeCFIHB_"
      },
      "source": [
        "**FORECASTING THE FUTURE STOCK PRICES USING ML AND DEEP LEARNING**"
      ]
    },
    {
      "cell_type": "code",
      "metadata": {
        "colab": {
          "base_uri": "https://localhost:8080/",
          "height": 450
        },
        "id": "G87SmgFEIQNC",
        "outputId": "b2a0ca11-be8e-4106-ac3e-efb992041951"
      },
      "source": [
        "df=web.DataReader('INTC',data_source='yahoo',start='2012-01-01',end='2021-05-15')\n",
        "df"
      ],
      "execution_count": 68,
      "outputs": [
        {
          "output_type": "execute_result",
          "data": {
            "text/html": [
              "<div>\n",
              "<style scoped>\n",
              "    .dataframe tbody tr th:only-of-type {\n",
              "        vertical-align: middle;\n",
              "    }\n",
              "\n",
              "    .dataframe tbody tr th {\n",
              "        vertical-align: top;\n",
              "    }\n",
              "\n",
              "    .dataframe thead th {\n",
              "        text-align: right;\n",
              "    }\n",
              "</style>\n",
              "<table border=\"1\" class=\"dataframe\">\n",
              "  <thead>\n",
              "    <tr style=\"text-align: right;\">\n",
              "      <th></th>\n",
              "      <th>High</th>\n",
              "      <th>Low</th>\n",
              "      <th>Open</th>\n",
              "      <th>Close</th>\n",
              "      <th>Volume</th>\n",
              "      <th>Adj Close</th>\n",
              "    </tr>\n",
              "    <tr>\n",
              "      <th>Date</th>\n",
              "      <th></th>\n",
              "      <th></th>\n",
              "      <th></th>\n",
              "      <th></th>\n",
              "      <th></th>\n",
              "      <th></th>\n",
              "    </tr>\n",
              "  </thead>\n",
              "  <tbody>\n",
              "    <tr>\n",
              "      <th>2012-01-03</th>\n",
              "      <td>24.889999</td>\n",
              "      <td>24.389999</td>\n",
              "      <td>24.620001</td>\n",
              "      <td>24.540001</td>\n",
              "      <td>44845600.0</td>\n",
              "      <td>18.532988</td>\n",
              "    </tr>\n",
              "    <tr>\n",
              "      <th>2012-01-04</th>\n",
              "      <td>25.129999</td>\n",
              "      <td>24.530001</td>\n",
              "      <td>24.570000</td>\n",
              "      <td>25.110001</td>\n",
              "      <td>47504000.0</td>\n",
              "      <td>18.963461</td>\n",
              "    </tr>\n",
              "    <tr>\n",
              "      <th>2012-01-05</th>\n",
              "      <td>25.450001</td>\n",
              "      <td>24.980000</td>\n",
              "      <td>25.059999</td>\n",
              "      <td>25.400000</td>\n",
              "      <td>49490600.0</td>\n",
              "      <td>19.182468</td>\n",
              "    </tr>\n",
              "    <tr>\n",
              "      <th>2012-01-06</th>\n",
              "      <td>25.400000</td>\n",
              "      <td>25.010000</td>\n",
              "      <td>25.209999</td>\n",
              "      <td>25.250000</td>\n",
              "      <td>36343500.0</td>\n",
              "      <td>19.069187</td>\n",
              "    </tr>\n",
              "    <tr>\n",
              "      <th>2012-01-09</th>\n",
              "      <td>25.559999</td>\n",
              "      <td>25.219999</td>\n",
              "      <td>25.400000</td>\n",
              "      <td>25.469999</td>\n",
              "      <td>47478600.0</td>\n",
              "      <td>19.235336</td>\n",
              "    </tr>\n",
              "    <tr>\n",
              "      <th>...</th>\n",
              "      <td>...</td>\n",
              "      <td>...</td>\n",
              "      <td>...</td>\n",
              "      <td>...</td>\n",
              "      <td>...</td>\n",
              "      <td>...</td>\n",
              "    </tr>\n",
              "    <tr>\n",
              "      <th>2021-05-10</th>\n",
              "      <td>57.230000</td>\n",
              "      <td>55.880001</td>\n",
              "      <td>57.150002</td>\n",
              "      <td>55.970001</td>\n",
              "      <td>35046500.0</td>\n",
              "      <td>55.970001</td>\n",
              "    </tr>\n",
              "    <tr>\n",
              "      <th>2021-05-11</th>\n",
              "      <td>55.630001</td>\n",
              "      <td>54.299999</td>\n",
              "      <td>55.049999</td>\n",
              "      <td>55.040001</td>\n",
              "      <td>35968100.0</td>\n",
              "      <td>55.040001</td>\n",
              "    </tr>\n",
              "    <tr>\n",
              "      <th>2021-05-12</th>\n",
              "      <td>54.650002</td>\n",
              "      <td>53.419998</td>\n",
              "      <td>54.389999</td>\n",
              "      <td>53.619999</td>\n",
              "      <td>30232300.0</td>\n",
              "      <td>53.619999</td>\n",
              "    </tr>\n",
              "    <tr>\n",
              "      <th>2021-05-13</th>\n",
              "      <td>54.389999</td>\n",
              "      <td>53.459999</td>\n",
              "      <td>54.040001</td>\n",
              "      <td>54.009998</td>\n",
              "      <td>29182400.0</td>\n",
              "      <td>54.009998</td>\n",
              "    </tr>\n",
              "    <tr>\n",
              "      <th>2021-05-14</th>\n",
              "      <td>55.314999</td>\n",
              "      <td>54.255001</td>\n",
              "      <td>54.604599</td>\n",
              "      <td>55.226799</td>\n",
              "      <td>10170742.0</td>\n",
              "      <td>55.226799</td>\n",
              "    </tr>\n",
              "  </tbody>\n",
              "</table>\n",
              "<p>2357 rows × 6 columns</p>\n",
              "</div>"
            ],
            "text/plain": [
              "                 High        Low       Open      Close      Volume  Adj Close\n",
              "Date                                                                         \n",
              "2012-01-03  24.889999  24.389999  24.620001  24.540001  44845600.0  18.532988\n",
              "2012-01-04  25.129999  24.530001  24.570000  25.110001  47504000.0  18.963461\n",
              "2012-01-05  25.450001  24.980000  25.059999  25.400000  49490600.0  19.182468\n",
              "2012-01-06  25.400000  25.010000  25.209999  25.250000  36343500.0  19.069187\n",
              "2012-01-09  25.559999  25.219999  25.400000  25.469999  47478600.0  19.235336\n",
              "...               ...        ...        ...        ...         ...        ...\n",
              "2021-05-10  57.230000  55.880001  57.150002  55.970001  35046500.0  55.970001\n",
              "2021-05-11  55.630001  54.299999  55.049999  55.040001  35968100.0  55.040001\n",
              "2021-05-12  54.650002  53.419998  54.389999  53.619999  30232300.0  53.619999\n",
              "2021-05-13  54.389999  53.459999  54.040001  54.009998  29182400.0  54.009998\n",
              "2021-05-14  55.314999  54.255001  54.604599  55.226799  10170742.0  55.226799\n",
              "\n",
              "[2357 rows x 6 columns]"
            ]
          },
          "metadata": {
            "tags": []
          },
          "execution_count": 68
        }
      ]
    },
    {
      "cell_type": "markdown",
      "metadata": {
        "id": "vp7U9TkQI6oi"
      },
      "source": [
        "1.FORECASTING USING LINEAR REGRESSION"
      ]
    },
    {
      "cell_type": "code",
      "metadata": {
        "id": "SY_Zp-PhI2wZ"
      },
      "source": [
        "from sklearn import preprocessing\n",
        "forecast = 30\n",
        "df['Prediction'] = df[['Adj Close']].shift(-forecast)\n",
        "\n",
        "X = np.array(df.drop(['Prediction'], 1))\n",
        "X = preprocessing.scale(X)\n",
        "\n",
        "X_forecast = X[-forecast:]\n",
        "X = X[:-forecast]\n",
        "\n",
        "y = np.array(df['Prediction'])\n",
        "y = y[:-forecast]"
      ],
      "execution_count": 69,
      "outputs": []
    },
    {
      "cell_type": "code",
      "metadata": {
        "colab": {
          "base_uri": "https://localhost:8080/"
        },
        "id": "vrRvsuDBJIIU",
        "outputId": "15e489be-6f21-41ef-baf6-da8a8d53b279"
      },
      "source": [
        "X_train, X_test, y_train, y_test = train_test_split(X, y, test_size=0.2)\n",
        "\n",
        "clf = LinearRegression()\n",
        "clf.fit(X_train, y_train)\n",
        "\n",
        "confidence_linear = clf.score(X_test, y_test)\n",
        "\n",
        "forecast_predicted_linear = clf.predict(X_forecast)\n",
        "print(forecast_predicted_linear)"
      ],
      "execution_count": 70,
      "outputs": [
        {
          "output_type": "stream",
          "text": [
            "[67.04832812 65.45528931 65.9486716  65.95142977 68.13315396 67.13280963\n",
            " 64.52354876 64.23734362 65.25260831 64.31472608 63.78860712 62.98790493\n",
            " 63.91838604 63.35863411 60.50960736 59.66824419 58.64831105 58.85555547\n",
            " 58.89824779 59.25956944 58.20808318 57.6383684  57.96379289 59.07123236\n",
            " 59.31987204 58.40671598 57.64904614 56.50524873 56.41405878 57.69658084]\n"
          ],
          "name": "stdout"
        }
      ]
    },
    {
      "cell_type": "code",
      "metadata": {
        "colab": {
          "base_uri": "https://localhost:8080/"
        },
        "id": "iJHv8NoDJPD5",
        "outputId": "10eff7d0-4a59-4e6d-c92e-85141ce18a20"
      },
      "source": [
        "print(confidence_linear*100)"
      ],
      "execution_count": 71,
      "outputs": [
        {
          "output_type": "stream",
          "text": [
            "93.88529907156517\n"
          ],
          "name": "stdout"
        }
      ]
    },
    {
      "cell_type": "code",
      "metadata": {
        "colab": {
          "base_uri": "https://localhost:8080/",
          "height": 385
        },
        "id": "FyXGO2EJJdlr",
        "outputId": "7025448c-23b1-4172-bc79-a7da5703c4c0"
      },
      "source": [
        "dates = pd.date_range(start=\"2021-05-14\", end=\"2021-06-12\")\n",
        "plt.plot(dates, forecast_predicted_linear,color='r')\n",
        "df['Adj Close'].plot(figsize=(15,6),color='g')\n",
        "plt.xlim(xmin=datetime.date(2020,1,26))"
      ],
      "execution_count": 77,
      "outputs": [
        {
          "output_type": "execute_result",
          "data": {
            "text/plain": [
              "(737450.0, 738125.4)"
            ]
          },
          "metadata": {
            "tags": []
          },
          "execution_count": 77
        },
        {
          "output_type": "display_data",
          "data": {
            "image/png": "[encoded data removed]",
            "text/plain": [
              "<Figure size 1080x432 with 1 Axes>"
            ]
          },
          "metadata": {
            "tags": []
          }
        }
      ]
    },
    {
      "cell_type": "markdown",
      "metadata": {
        "id": "RQQZqmwfJXB1"
      },
      "source": [
        "2. FORECASTING USING LASSO REGRESSION"
      ]
    },
    {
      "cell_type": "code",
      "metadata": {
        "colab": {
          "base_uri": "https://localhost:8080/"
        },
        "id": "Ov5kPY6JJWNz",
        "outputId": "87ed93fc-c564-4877-ee45-78f044ae0bd6"
      },
      "source": [
        "X_train, X_test, y_train, y_test = train_test_split(X, y, test_size=0.2)\n",
        "\n",
        "clf = Lasso()\n",
        "clf.fit(X_train, y_train)\n",
        "\n",
        "confidence_lasso = clf.score(X_test, y_test)\n",
        "\n",
        "forecast_predicted_lasso= clf.predict(X_forecast)\n",
        "print(forecast_predicted_lasso)"
      ],
      "execution_count": 78,
      "outputs": [
        {
          "output_type": "stream",
          "text": [
            "[63.58905439 62.70855684 63.32850188 64.04727314 65.13440985 62.57379757\n",
            " 62.40308457 61.4776707  62.22339175 61.98080576 60.9745322  60.1389613\n",
            " 61.03742193 60.02216166 57.03028386 56.59902179 55.88923724 55.57477481\n",
            " 56.16775973 55.49391167 55.25132912 54.92788344 54.88296023 55.50490883\n",
            " 55.93882622 54.40203676 53.56132074 52.27764545 52.63020311 53.73018537]\n"
          ],
          "name": "stdout"
        }
      ]
    },
    {
      "cell_type": "code",
      "metadata": {
        "colab": {
          "base_uri": "https://localhost:8080/"
        },
        "id": "R13YSqiqKEdm",
        "outputId": "963f2c4c-7ffa-4de7-c80e-c34071e69c4e"
      },
      "source": [
        "print(confidence_lasso*100)"
      ],
      "execution_count": 79,
      "outputs": [
        {
          "output_type": "stream",
          "text": [
            "92.24971419304799\n"
          ],
          "name": "stdout"
        }
      ]
    },
    {
      "cell_type": "code",
      "metadata": {
        "colab": {
          "base_uri": "https://localhost:8080/",
          "height": 386
        },
        "id": "vQFSVKN_KILG",
        "outputId": "7e3d57d0-4ab6-4e13-b01c-b880f1e5640c"
      },
      "source": [
        "dates = pd.date_range(start=\"2021-05-14\", end=\"2021-06-12\")\n",
        "plt.plot(dates, forecast_predicted_lasso,color='r')\n",
        "df['Adj Close'].plot(figsize=(15,6),color='g')\n",
        "plt.xlim(xmin=datetime.date(2020,1,26))"
      ],
      "execution_count": 81,
      "outputs": [
        {
          "output_type": "execute_result",
          "data": {
            "text/plain": [
              "(737450.0, 738125.4)"
            ]
          },
          "metadata": {
            "tags": []
          },
          "execution_count": 81
        },
        {
          "output_type": "display_data",
          "data": {
            "image/png": "[encoded data removed]",
            "text/plain": [
              "<Figure size 1080x432 with 1 Axes>"
            ]
          },
          "metadata": {
            "tags": []
          }
        }
      ]
    },
    {
      "cell_type": "markdown",
      "metadata": {
        "id": "AAECcVDRKUF2"
      },
      "source": [
        "3. FORECASTING USING ELASTIC NET"
      ]
    },
    {
      "cell_type": "code",
      "metadata": {
        "colab": {
          "base_uri": "https://localhost:8080/"
        },
        "id": "iTLkyUi0KdDi",
        "outputId": "3a84598e-ea5d-4492-f59f-b3ddce51fc10"
      },
      "source": [
        "X_train, X_test, y_train, y_test = train_test_split(X, y, test_size=0.2)\n",
        "\n",
        "clf = ElasticNet()\n",
        "clf.fit(X_train, y_train)\n",
        "\n",
        "confidence_elastic = clf.score(X_test, y_test)\n",
        "\n",
        "forecast_predicted_elastic= clf.predict(X_forecast)\n",
        "print(forecast_predicted_elastic)"
      ],
      "execution_count": 82,
      "outputs": [
        {
          "output_type": "stream",
          "text": [
            "[60.80046821 60.71956665 60.91333825 61.75471874 62.41924421 61.29235841\n",
            " 60.14385548 59.59885912 59.60340567 59.96651774 59.0264965  58.19538877\n",
            " 58.3925694  58.09897167 54.61122617 54.43903825 53.76400578 53.2494171\n",
            " 53.64034258 53.26717386 53.07118094 52.4107447  52.58357243 52.664586\n",
            " 53.35486774 52.24005878 50.93973343 49.95925996 49.99964942 50.86261847]\n"
          ],
          "name": "stdout"
        }
      ]
    },
    {
      "cell_type": "code",
      "metadata": {
        "colab": {
          "base_uri": "https://localhost:8080/"
        },
        "id": "JhPyLHagKo2f",
        "outputId": "e1da27f3-24cd-4856-9195-c36257c63116"
      },
      "source": [
        "print(confidence_elastic*100)"
      ],
      "execution_count": 83,
      "outputs": [
        {
          "output_type": "stream",
          "text": [
            "89.52577200798471\n"
          ],
          "name": "stdout"
        }
      ]
    },
    {
      "cell_type": "code",
      "metadata": {
        "colab": {
          "base_uri": "https://localhost:8080/",
          "height": 386
        },
        "id": "s3eTWBX8Kskv",
        "outputId": "c9a29b1b-a279-490b-811e-4e771661dd4c"
      },
      "source": [
        "dates = pd.date_range(start=\"2021-05-14\", end=\"2021-06-12\")\n",
        "plt.plot(dates, forecast_predicted_elastic,color='r')\n",
        "df['Adj Close'].plot(figsize=(15,6),color='g')\n",
        "plt.xlim(xmin=datetime.date(2020,1,26))"
      ],
      "execution_count": 84,
      "outputs": [
        {
          "output_type": "execute_result",
          "data": {
            "text/plain": [
              "(737450.0, 738125.4)"
            ]
          },
          "metadata": {
            "tags": []
          },
          "execution_count": 84
        },
        {
          "output_type": "display_data",
          "data": {
            "image/png": "[encoded data removed]",
            "text/plain": [
              "<Figure size 1080x432 with 1 Axes>"
            ]
          },
          "metadata": {
            "tags": []
          }
        }
      ]
    },
    {
      "cell_type": "markdown",
      "metadata": {
        "id": "KEb-gZvOK4cp"
      },
      "source": [
        "4.FORECASTING USING KNN"
      ]
    },
    {
      "cell_type": "code",
      "metadata": {
        "colab": {
          "base_uri": "https://localhost:8080/"
        },
        "id": "s-A-ifb6Ky7D",
        "outputId": "aec1ea86-7faa-426d-a0ed-07ca89bfc0fa"
      },
      "source": [
        "from sklearn.neighbors import KNeighborsRegressor\n",
        "\n",
        "X_train, X_test, y_train, y_test = train_test_split(X, y, test_size=0.2)\n",
        "\n",
        "clf = KNeighborsRegressor()\n",
        "clf.fit(X_train, y_train)\n",
        "\n",
        "confidence_knn = clf.score(X_test, y_test)\n",
        "\n",
        "forecast_predicted_knn= clf.predict(X_forecast)\n",
        "print(forecast_predicted_knn)"
      ],
      "execution_count": 85,
      "outputs": [
        {
          "output_type": "stream",
          "text": [
            "[54.51197815 54.93954468 46.46086578 47.4663353  51.10214996 54.68106842\n",
            " 54.45306473 54.45306473 53.23863983 50.93920364 54.89356079 57.52059021\n",
            " 59.77429123 59.98183212 60.36465454 55.85393524 55.35408478 57.16692657\n",
            " 57.66262131 57.16692657 59.33573227 58.7073204  60.03043137 63.30400467\n",
            " 58.05229568 58.7073204  56.28839874 54.28337936 53.47303009 42.23809814]\n"
          ],
          "name": "stdout"
        }
      ]
    },
    {
      "cell_type": "code",
      "metadata": {
        "colab": {
          "base_uri": "https://localhost:8080/"
        },
        "id": "W1NFFxplLDpa",
        "outputId": "ff4d12f7-a46f-4c97-a6d0-0112ffaaaae8"
      },
      "source": [
        "print(confidence_knn*100)"
      ],
      "execution_count": 86,
      "outputs": [
        {
          "output_type": "stream",
          "text": [
            "94.15253427528\n"
          ],
          "name": "stdout"
        }
      ]
    },
    {
      "cell_type": "code",
      "metadata": {
        "colab": {
          "base_uri": "https://localhost:8080/",
          "height": 386
        },
        "id": "m_3bsE8SLHdJ",
        "outputId": "b12df578-69df-4fa5-c9e7-cb94faeebc2c"
      },
      "source": [
        "dates = pd.date_range(start=\"2021-05-14\", end=\"2021-06-12\")\n",
        "plt.plot(dates, forecast_predicted_knn,color='r')\n",
        "df['Adj Close'].plot(figsize=(15,6),color='g')\n",
        "plt.xlim(xmin=datetime.date(2020,1,26))"
      ],
      "execution_count": 87,
      "outputs": [
        {
          "output_type": "execute_result",
          "data": {
            "text/plain": [
              "(737450.0, 738125.4)"
            ]
          },
          "metadata": {
            "tags": []
          },
          "execution_count": 87
        },
        {
          "output_type": "display_data",
          "data": {
            "image/png": "[encoded data removed]",
            "text/plain": [
              "<Figure size 1080x432 with 1 Axes>"
            ]
          },
          "metadata": {
            "tags": []
          }
        }
      ]
    },
    {
      "cell_type": "markdown",
      "metadata": {
        "id": "UTYtuoVnLUSd"
      },
      "source": [
        "5.FORECASTING USING DECISION TREE"
      ]
    },
    {
      "cell_type": "code",
      "metadata": {
        "colab": {
          "base_uri": "https://localhost:8080/"
        },
        "id": "AFkI9qaTLRf8",
        "outputId": "cdbc87c1-c32f-4e70-fcc6-c292c27136be"
      },
      "source": [
        "from sklearn.tree import DecisionTreeRegressor\n",
        "X_train, X_test, y_train, y_test = train_test_split(X, y, test_size=0.2)\n",
        "\n",
        "clf = DecisionTreeRegressor()\n",
        "clf.fit(X_train, y_train)\n",
        "\n",
        "confidence_dt = clf.score(X_test, y_test)\n",
        "\n",
        "forecast_predicted_dt = clf.predict(X_forecast)\n",
        "print(forecast_predicted_dt)"
      ],
      "execution_count": 88,
      "outputs": [
        {
          "output_type": "stream",
          "text": [
            "[56.55169296 52.28832626 50.75785065 48.02621841 52.28832626 56.55169296\n",
            " 56.55169296 55.04000092 55.22679901 55.22679901 55.04000092 62.18698502\n",
            " 56.90948868 62.18698502 62.49508667 47.96630859 48.27245712 58.88491058\n",
            " 60.72744751 58.46839142 61.62303925 63.39951706 55.23228455 57.50712585\n",
            " 56.81310654 63.39951706 61.86894226 42.59231949 43.83018875 55.0105896 ]\n"
          ],
          "name": "stdout"
        }
      ]
    },
    {
      "cell_type": "code",
      "metadata": {
        "colab": {
          "base_uri": "https://localhost:8080/"
        },
        "id": "hRJZEv_nLm96",
        "outputId": "bd3e8542-4a3c-4363-fa45-25ad4bf2b903"
      },
      "source": [
        "print(confidence_dt*100)"
      ],
      "execution_count": 89,
      "outputs": [
        {
          "output_type": "stream",
          "text": [
            "93.88593616609826\n"
          ],
          "name": "stdout"
        }
      ]
    },
    {
      "cell_type": "code",
      "metadata": {
        "colab": {
          "base_uri": "https://localhost:8080/",
          "height": 386
        },
        "id": "EWznZnR3LqaT",
        "outputId": "bf7fcdf7-8722-4829-9bfe-3b0ed7ed4329"
      },
      "source": [
        "dates = pd.date_range(start=\"2021-05-14\", end=\"2021-06-12\")\n",
        "plt.plot(dates, forecast_predicted_knn,color='r')\n",
        "df['Adj Close'].plot(figsize=(15,6),color='g')\n",
        "plt.xlim(xmin=datetime.date(2020,1,26))"
      ],
      "execution_count": 90,
      "outputs": [
        {
          "output_type": "execute_result",
          "data": {
            "text/plain": [
              "(737450.0, 738125.4)"
            ]
          },
          "metadata": {
            "tags": []
          },
          "execution_count": 90
        },
        {
          "output_type": "display_data",
          "data": {
            "image/png": "[encoded data removed]",
            "text/plain": [
              "<Figure size 1080x432 with 1 Axes>"
            ]
          },
          "metadata": {
            "tags": []
          }
        }
      ]
    },
    {
      "cell_type": "code",
      "metadata": {
        "id": "XullDXy0MW-m"
      },
      "source": [
        "compare=pd.DataFrame({'Linear Regression':forecast_predicted_linear,'Lasso':forecast_predicted_lasso,'Decision tree Regressor':forecast_predicted_dt,'Elastic Net':forecast_predicted_elastic,'K Neighbhors Regressor':forecast_predicted_knn})"
      ],
      "execution_count": 91,
      "outputs": []
    },
    {
      "cell_type": "code",
      "metadata": {
        "colab": {
          "base_uri": "https://localhost:8080/",
          "height": 669
        },
        "id": "Bc4kWj6yMnww",
        "outputId": "aac9c58c-3217-4931-8835-411c5732cd7b"
      },
      "source": [
        "compare.head(20)"
      ],
      "execution_count": 92,
      "outputs": [
        {
          "output_type": "execute_result",
          "data": {
            "text/html": [
              "<div>\n",
              "<style scoped>\n",
              "    .dataframe tbody tr th:only-of-type {\n",
              "        vertical-align: middle;\n",
              "    }\n",
              "\n",
              "    .dataframe tbody tr th {\n",
              "        vertical-align: top;\n",
              "    }\n",
              "\n",
              "    .dataframe thead th {\n",
              "        text-align: right;\n",
              "    }\n",
              "</style>\n",
              "<table border=\"1\" class=\"dataframe\">\n",
              "  <thead>\n",
              "    <tr style=\"text-align: right;\">\n",
              "      <th></th>\n",
              "      <th>Linear Regression</th>\n",
              "      <th>Lasso</th>\n",
              "      <th>Decision tree Regressor</th>\n",
              "      <th>Elastic Net</th>\n",
              "      <th>K Neighbhors Regressor</th>\n",
              "    </tr>\n",
              "  </thead>\n",
              "  <tbody>\n",
              "    <tr>\n",
              "      <th>0</th>\n",
              "      <td>67.048328</td>\n",
              "      <td>63.589054</td>\n",
              "      <td>56.551693</td>\n",
              "      <td>60.800468</td>\n",
              "      <td>54.511978</td>\n",
              "    </tr>\n",
              "    <tr>\n",
              "      <th>1</th>\n",
              "      <td>65.455289</td>\n",
              "      <td>62.708557</td>\n",
              "      <td>52.288326</td>\n",
              "      <td>60.719567</td>\n",
              "      <td>54.939545</td>\n",
              "    </tr>\n",
              "    <tr>\n",
              "      <th>2</th>\n",
              "      <td>65.948672</td>\n",
              "      <td>63.328502</td>\n",
              "      <td>50.757851</td>\n",
              "      <td>60.913338</td>\n",
              "      <td>46.460866</td>\n",
              "    </tr>\n",
              "    <tr>\n",
              "      <th>3</th>\n",
              "      <td>65.951430</td>\n",
              "      <td>64.047273</td>\n",
              "      <td>48.026218</td>\n",
              "      <td>61.754719</td>\n",
              "      <td>47.466335</td>\n",
              "    </tr>\n",
              "    <tr>\n",
              "      <th>4</th>\n",
              "      <td>68.133154</td>\n",
              "      <td>65.134410</td>\n",
              "      <td>52.288326</td>\n",
              "      <td>62.419244</td>\n",
              "      <td>51.102150</td>\n",
              "    </tr>\n",
              "    <tr>\n",
              "      <th>5</th>\n",
              "      <td>67.132810</td>\n",
              "      <td>62.573798</td>\n",
              "      <td>56.551693</td>\n",
              "      <td>61.292358</td>\n",
              "      <td>54.681068</td>\n",
              "    </tr>\n",
              "    <tr>\n",
              "      <th>6</th>\n",
              "      <td>64.523549</td>\n",
              "      <td>62.403085</td>\n",
              "      <td>56.551693</td>\n",
              "      <td>60.143855</td>\n",
              "      <td>54.453065</td>\n",
              "    </tr>\n",
              "    <tr>\n",
              "      <th>7</th>\n",
              "      <td>64.237344</td>\n",
              "      <td>61.477671</td>\n",
              "      <td>55.040001</td>\n",
              "      <td>59.598859</td>\n",
              "      <td>54.453065</td>\n",
              "    </tr>\n",
              "    <tr>\n",
              "      <th>8</th>\n",
              "      <td>65.252608</td>\n",
              "      <td>62.223392</td>\n",
              "      <td>55.226799</td>\n",
              "      <td>59.603406</td>\n",
              "      <td>53.238640</td>\n",
              "    </tr>\n",
              "    <tr>\n",
              "      <th>9</th>\n",
              "      <td>64.314726</td>\n",
              "      <td>61.980806</td>\n",
              "      <td>55.226799</td>\n",
              "      <td>59.966518</td>\n",
              "      <td>50.939204</td>\n",
              "    </tr>\n",
              "    <tr>\n",
              "      <th>10</th>\n",
              "      <td>63.788607</td>\n",
              "      <td>60.974532</td>\n",
              "      <td>55.040001</td>\n",
              "      <td>59.026497</td>\n",
              "      <td>54.893561</td>\n",
              "    </tr>\n",
              "    <tr>\n",
              "      <th>11</th>\n",
              "      <td>62.987905</td>\n",
              "      <td>60.138961</td>\n",
              "      <td>62.186985</td>\n",
              "      <td>58.195389</td>\n",
              "      <td>57.520590</td>\n",
              "    </tr>\n",
              "    <tr>\n",
              "      <th>12</th>\n",
              "      <td>63.918386</td>\n",
              "      <td>61.037422</td>\n",
              "      <td>56.909489</td>\n",
              "      <td>58.392569</td>\n",
              "      <td>59.774291</td>\n",
              "    </tr>\n",
              "    <tr>\n",
              "      <th>13</th>\n",
              "      <td>63.358634</td>\n",
              "      <td>60.022162</td>\n",
              "      <td>62.186985</td>\n",
              "      <td>58.098972</td>\n",
              "      <td>59.981832</td>\n",
              "    </tr>\n",
              "    <tr>\n",
              "      <th>14</th>\n",
              "      <td>60.509607</td>\n",
              "      <td>57.030284</td>\n",
              "      <td>62.495087</td>\n",
              "      <td>54.611226</td>\n",
              "      <td>60.364655</td>\n",
              "    </tr>\n",
              "    <tr>\n",
              "      <th>15</th>\n",
              "      <td>59.668244</td>\n",
              "      <td>56.599022</td>\n",
              "      <td>47.966309</td>\n",
              "      <td>54.439038</td>\n",
              "      <td>55.853935</td>\n",
              "    </tr>\n",
              "    <tr>\n",
              "      <th>16</th>\n",
              "      <td>58.648311</td>\n",
              "      <td>55.889237</td>\n",
              "      <td>48.272457</td>\n",
              "      <td>53.764006</td>\n",
              "      <td>55.354085</td>\n",
              "    </tr>\n",
              "    <tr>\n",
              "      <th>17</th>\n",
              "      <td>58.855555</td>\n",
              "      <td>55.574775</td>\n",
              "      <td>58.884911</td>\n",
              "      <td>53.249417</td>\n",
              "      <td>57.166927</td>\n",
              "    </tr>\n",
              "    <tr>\n",
              "      <th>18</th>\n",
              "      <td>58.898248</td>\n",
              "      <td>56.167760</td>\n",
              "      <td>60.727448</td>\n",
              "      <td>53.640343</td>\n",
              "      <td>57.662621</td>\n",
              "    </tr>\n",
              "    <tr>\n",
              "      <th>19</th>\n",
              "      <td>59.259569</td>\n",
              "      <td>55.493912</td>\n",
              "      <td>58.468391</td>\n",
              "      <td>53.267174</td>\n",
              "      <td>57.166927</td>\n",
              "    </tr>\n",
              "  </tbody>\n",
              "</table>\n",
              "</div>"
            ],
            "text/plain": [
              "    Linear Regression      Lasso  ...  Elastic Net  K Neighbhors Regressor\n",
              "0           67.048328  63.589054  ...    60.800468               54.511978\n",
              "1           65.455289  62.708557  ...    60.719567               54.939545\n",
              "2           65.948672  63.328502  ...    60.913338               46.460866\n",
              "3           65.951430  64.047273  ...    61.754719               47.466335\n",
              "4           68.133154  65.134410  ...    62.419244               51.102150\n",
              "5           67.132810  62.573798  ...    61.292358               54.681068\n",
              "6           64.523549  62.403085  ...    60.143855               54.453065\n",
              "7           64.237344  61.477671  ...    59.598859               54.453065\n",
              "8           65.252608  62.223392  ...    59.603406               53.238640\n",
              "9           64.314726  61.980806  ...    59.966518               50.939204\n",
              "10          63.788607  60.974532  ...    59.026497               54.893561\n",
              "11          62.987905  60.138961  ...    58.195389               57.520590\n",
              "12          63.918386  61.037422  ...    58.392569               59.774291\n",
              "13          63.358634  60.022162  ...    58.098972               59.981832\n",
              "14          60.509607  57.030284  ...    54.611226               60.364655\n",
              "15          59.668244  56.599022  ...    54.439038               55.853935\n",
              "16          58.648311  55.889237  ...    53.764006               55.354085\n",
              "17          58.855555  55.574775  ...    53.249417               57.166927\n",
              "18          58.898248  56.167760  ...    53.640343               57.662621\n",
              "19          59.259569  55.493912  ...    53.267174               57.166927\n",
              "\n",
              "[20 rows x 5 columns]"
            ]
          },
          "metadata": {
            "tags": []
          },
          "execution_count": 92
        }
      ]
    },
    {
      "cell_type": "markdown",
      "metadata": {
        "id": "lnllKGiLMwyg"
      },
      "source": [
        "**EVALUATION OF PERFORMANCE IN FORECASTING**"
      ]
    },
    {
      "cell_type": "code",
      "metadata": {
        "colab": {
          "base_uri": "https://localhost:8080/"
        },
        "id": "ZGOMIIqXMwbC",
        "outputId": "e50357be-628b-4ef5-978c-48720a4388f8"
      },
      "source": [
        "scores = [confidence_linear,confidence_lasso,confidence_knn,confidence_elastic,confidence_dt]\n",
        "algorithms = [\"Linear Regression\",\"Lasso Regression\",\"KNN\",\"ElasticNet\",\"Decision Tree Regressor\"]\n",
        "for i in range(len(algorithms)):\n",
        "    print(\"The confidence scores achieved using \"+algorithms[i]+\" is: \"+str(scores[i]*100)+\"%\")"
      ],
      "execution_count": 93,
      "outputs": [
        {
          "output_type": "stream",
          "text": [
            "The confidence scores achieved using Linear Regression is: 93.88529907156517%\n",
            "The confidence scores achieved using Lasso Regression is: 92.24971419304799%\n",
            "The confidence scores achieved using KNN is: 94.15253427528%\n",
            "The confidence scores achieved using ElasticNet is: 89.52577200798471%\n",
            "The confidence scores achieved using Decision Tree Regressor is: 93.88593616609826%\n"
          ],
          "name": "stdout"
        }
      ]
    },
    {
      "cell_type": "code",
      "metadata": {
        "colab": {
          "base_uri": "https://localhost:8080/",
          "height": 628
        },
        "id": "z7FOg7HONSvG",
        "outputId": "7e95fef6-9443-4ea0-c703-f0a8803f8bbe"
      },
      "source": [
        "sns.set(rc={'figure.figsize':(25,10)})\n",
        "plt.xlabel(\"Algorithms\")\n",
        "plt.ylabel(\"Accuracy score\")\n",
        "\n",
        "sns.barplot(algorithms,scores)"
      ],
      "execution_count": 94,
      "outputs": [
        {
          "output_type": "execute_result",
          "data": {
            "text/plain": [
              "<matplotlib.axes._subplots.AxesSubplot at 0x7ff97f851750>"
            ]
          },
          "metadata": {
            "tags": []
          },
          "execution_count": 94
        },
        {
          "output_type": "display_data",
          "data": {
            "image/png": "[encoded data removed]",
            "text/plain": [
              "<Figure size 1800x720 with 1 Axes>"
            ]
          },
          "metadata": {
            "tags": []
          }
        }
      ]
    }
  ]
}